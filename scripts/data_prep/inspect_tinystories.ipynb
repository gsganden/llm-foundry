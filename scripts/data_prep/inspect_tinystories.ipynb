{
 "cells": [
  {
   "cell_type": "code",
   "execution_count": 1,
   "metadata": {},
   "outputs": [],
   "source": [
    "from pathlib import Path\n",
    "\n",
    "from llmfoundry.data.text_data import StreamingTextDataset\n",
    "from transformers import AutoTokenizer"
   ]
  },
  {
   "cell_type": "code",
   "execution_count": 2,
   "metadata": {},
   "outputs": [],
   "source": [
    "# Set paths\n",
    "THIS_NB_DIR = Path(\"/workspaces/llm-foundry/scripts/data_prep\")\n",
    "DATA_DIR = THIS_NB_DIR / \"data/tinystories-mds-mpt-mini/\"\n",
    "assert DATA_DIR.exists()"
   ]
  },
  {
   "cell_type": "code",
   "execution_count": 3,
   "metadata": {},
   "outputs": [
    {
     "data": {
      "text/plain": [
       "'EleutherAI/gpt-neox-20b'"
      ]
     },
     "execution_count": 3,
     "metadata": {},
     "output_type": "execute_result"
    }
   ],
   "source": [
    "TOKENIZER_NAME = \"EleutherAI/gpt-neox-20b\"\n",
    "TOKENIZER_NAME"
   ]
  },
  {
   "cell_type": "code",
   "execution_count": 4,
   "metadata": {},
   "outputs": [
    {
     "data": {
      "text/plain": [
       "GPTNeoXTokenizerFast(name_or_path='EleutherAI/gpt-neox-20b', vocab_size=50254, model_max_length=1000000000000000019884624838656, is_fast=True, padding_side='right', truncation_side='right', special_tokens={'bos_token': '<|endoftext|>', 'eos_token': '<|endoftext|>', 'unk_token': '<|endoftext|>'}, clean_up_tokenization_spaces=False, added_tokens_decoder={\n",
       "\t0: AddedToken(\"<|endoftext|>\", rstrip=False, lstrip=False, single_word=False, normalized=False, special=True),\n",
       "\t1: AddedToken(\"<|padding|>\", rstrip=False, lstrip=False, single_word=False, normalized=False, special=True),\n",
       "\t50254: AddedToken(\"                        \", rstrip=False, lstrip=False, single_word=False, normalized=True, special=False),\n",
       "\t50255: AddedToken(\"                       \", rstrip=False, lstrip=False, single_word=False, normalized=True, special=False),\n",
       "\t50256: AddedToken(\"                      \", rstrip=False, lstrip=False, single_word=False, normalized=True, special=False),\n",
       "\t50257: AddedToken(\"                     \", rstrip=False, lstrip=False, single_word=False, normalized=True, special=False),\n",
       "\t50258: AddedToken(\"                    \", rstrip=False, lstrip=False, single_word=False, normalized=True, special=False),\n",
       "\t50259: AddedToken(\"                   \", rstrip=False, lstrip=False, single_word=False, normalized=True, special=False),\n",
       "\t50260: AddedToken(\"                  \", rstrip=False, lstrip=False, single_word=False, normalized=True, special=False),\n",
       "\t50261: AddedToken(\"                 \", rstrip=False, lstrip=False, single_word=False, normalized=True, special=False),\n",
       "\t50262: AddedToken(\"                \", rstrip=False, lstrip=False, single_word=False, normalized=True, special=False),\n",
       "\t50263: AddedToken(\"               \", rstrip=False, lstrip=False, single_word=False, normalized=True, special=False),\n",
       "\t50264: AddedToken(\"              \", rstrip=False, lstrip=False, single_word=False, normalized=True, special=False),\n",
       "\t50265: AddedToken(\"             \", rstrip=False, lstrip=False, single_word=False, normalized=True, special=False),\n",
       "\t50266: AddedToken(\"            \", rstrip=False, lstrip=False, single_word=False, normalized=True, special=False),\n",
       "\t50267: AddedToken(\"           \", rstrip=False, lstrip=False, single_word=False, normalized=True, special=False),\n",
       "\t50268: AddedToken(\"          \", rstrip=False, lstrip=False, single_word=False, normalized=True, special=False),\n",
       "\t50269: AddedToken(\"         \", rstrip=False, lstrip=False, single_word=False, normalized=True, special=False),\n",
       "\t50270: AddedToken(\"        \", rstrip=False, lstrip=False, single_word=False, normalized=True, special=False),\n",
       "\t50271: AddedToken(\"       \", rstrip=False, lstrip=False, single_word=False, normalized=True, special=False),\n",
       "\t50272: AddedToken(\"      \", rstrip=False, lstrip=False, single_word=False, normalized=True, special=False),\n",
       "\t50273: AddedToken(\"     \", rstrip=False, lstrip=False, single_word=False, normalized=True, special=False),\n",
       "\t50274: AddedToken(\"    \", rstrip=False, lstrip=False, single_word=False, normalized=True, special=False),\n",
       "\t50275: AddedToken(\"   \", rstrip=False, lstrip=False, single_word=False, normalized=True, special=False),\n",
       "\t50276: AddedToken(\"  \", rstrip=False, lstrip=False, single_word=False, normalized=True, special=False),\n",
       "}\n",
       ")"
      ]
     },
     "execution_count": 4,
     "metadata": {},
     "output_type": "execute_result"
    }
   ],
   "source": [
    "tokenizer = AutoTokenizer.from_pretrained(TOKENIZER_NAME)\n",
    "tokenizer"
   ]
  },
  {
   "cell_type": "code",
   "execution_count": 5,
   "metadata": {},
   "outputs": [],
   "source": [
    "dataset = StreamingTextDataset(\n",
    "    tokenizer=tokenizer,\n",
    "    max_seq_len=2048,  # Maximum sequence length\n",
    "    local=DATA_DIR,\n",
    "    split='train',  # Dataset split\n",
    "    shuffle=True,  # Whether to shuffle data\n",
    "    batch_size=32  # Batch size for partitioning\n",
    ")"
   ]
  },
  {
   "cell_type": "code",
   "execution_count": 6,
   "metadata": {},
   "outputs": [
    {
     "name": "stdout",
     "output_type": "stream",
     "text": [
      "\n",
      "\n",
      "Lily and Ben are friends. They like to play in the park. One day, they see a big tree with a swing. Lily wants to try the swing. She runs to the tree and climbs on the swing.\n",
      "\"Push me, Ben!\" she says. Ben pushes her gently. Lily feels happy. She swings higher and higher. She laughs and shouts.\n",
      "Ben watches Lily. He thinks she is cute. He wants to swing too. He waits for Lily to stop. But Lily does not stop. She swings faster and faster. She is having too much fun.\n",
      "\"Can I swing too, Lily?\" Ben asks. Lily does not hear him. She is too busy swinging. Ben feels sad. He walks away.\n",
      "Lily swings so high that she loses her grip. She falls off the swing. She lands on the ground. She hurts her foot. She cries.\n",
      "\"Ow, ow, ow!\" she says. She looks for Ben. She wants him to help her. But Ben is not there. He is gone.\n",
      "Lily feels sorry. She wishes she had shared the swing with Ben. She wishes he was there to hug her. She limps to the tree. She sees something hanging from a branch. It is Ben's hat. He left it for her.\n",
      "Lily smiles. She thinks Ben is nice. She puts on his hat. She hopes he will come back. She wants to say sorry. She wants to be friends again.<|endoftext|>Once upon a time, there was a little girl named Lily. She had a teddy bear that she loved so much. One day, she lost it while playing in the park. She looked everywhere, but she couldn't find it. She felt sad and scared without her teddy bear. \n",
      "Lily's mommy saw her crying and asked what was wrong. Lily told her that she lost her teddy bear. Mommy hugged her and said, \"Don't worry, we'll search for it together.\" They went back to the park and looked everywhere. After a while, they found the teddy bear under a tree. Lily was so happy! \n",
      "She hugged her teddy bear and felt comfortable again. She said, \"I hope I never lose you again, teddy bear.\" Mommy smiled and said, \"Me too, Lily. You and teddy bear are the best of friends.\" And they all went home, happy and content. The end.<|endoftext|>Once upon a time, there was a little girl named Lily. She had an idea to make a big tower of blocks. She pulled all the blocks together and started building. She was very happy as the tower grew taller and taller.\n",
      "Suddenly, her little brother came and pulled one block from the tower. The tower fell down and Lily was very sad. She cried and cried because she worked so hard on her tower and now it was gone.\n",
      "Lily learned that sometimes things don't go as planned and it can make you feel sad. But she also learned that she could always try again and build an even bigger tower next time.<|endoftext|>Once upon a time, there was a cute puppy named Max. Max was very adorable with his big, brown eyes and wagging tail. One day, Max's owner, Emily, told him that they needed to go to the post office to mail a letter. Max didn't know what that meant, but he was excited to go for a car ride.\n",
      "At the post office, Emily gave the letter to the nice lady behind the desk. The lady asked Emily for a number and Emily gave her one. Max didn't know what a number was, but he saw the lady type something on the computer.\n",
      "After they mailed the letter, Emily and Max went back to the car. Max was happy that they went on an adventure and he couldn't wait for the next one.<|endoftext|>One day, a kind and honest cat named Tom found a pretty velvet ribbon. He wanted to hang it on his door. But when he tried to hang it, he saw his friend, a small bird named Sue, was sad.\n",
      "Sue wanted the velvet ribbon too. Tom did not want to make Sue sad. So, he thought of a way to share the ribbon. He knew that they both liked to play games.\n",
      "Tom said, \"Let's play a game. We can take turns to have the ribbon. Today, I will hang it on my door. Tomorrow, you can hang it on your tree.\"\n",
      "Sue liked this idea. They played and shared the velvet ribbon every day. Tom and Sue were both happy. They learned that sharing is a good way to solve problems and stay friends.<|endoftext|>\n",
      "Once upon a time there was a little girl called Clara. Clara was very shy, so she didn't like to talk to anyone. One day she was walking in the woods and saw lots of herbs. She wanted to try them, so she picked some and took them home.\n",
      "When she got home, she said “What are these herbs?” Her mom said, “Those herbs can help you feel better!” Clara was still shy, so she didn't want to try them. But her mom said, “Just try it and see how it tastes.”\n",
      "Clara was still a bit scared, but she tried the herbs. She was surprised to find that they were delicious. She laughed and said, “These herbs are really yummy!”\n",
      "From then on, Clara wasn't so shy anymore. She started talking to people and trying new things. She thanked the herbs for helping her come out of her shell.<|endoftext|>One day, a little boy found a cheap toy whistle. He was so happy with his new toy. He went outside to play and show it to his friends.\n",
      "As he walked, he saw a small igloo made of snow. He thought it was a fun place to play. He went inside the igloo with his whistle and started to blow it. The sound was so loud and fun.\n",
      "His friends heard the whistle and came to see. They all wanted to play in the igloo too. They took turns blowing the cheap whistle and had a great time. The little boy was happy to share his new toy with his friends.<|endoftext|>Once upon a time, there was a little boy named Timmy. Timmy loved to dream about flying in the sky like a bird. He would close his eyes and imagine himself soaring through the clouds, feeling the wind in his hair.\n",
      "One day, Timmy's mommy gave him a blue kite. Timmy was so happy! He ran outside and tried to fly the kite, but it wouldn't go very high. Timmy wanted to improve his kite-flying skills, so he asked his daddy for help.\n",
      "Together, Timmy and his daddy practiced flying the kite. They ran and ran until the kite flew higher and higher. Timmy was so proud of himself! He knew that with practice, he could improve even more and fly his kite as high as the birds in his dreams.<|endoftext|>Once upon a time, there was a blue bird who lived in a tree. One day, a little girl came to the tree and said, \"Hello, little birdie! Can I be your friend?\" The bird replied, \"Yes, you can be my friend!\"\n",
      "The little girl was very happy and she rushed to her house to get some bread for the bird. When she came back, she saw a big animal. It was a cat! The cat saw the bird and rushed to catch it. The little girl shouted, \"No, no, don't catch my friend!\" But the cat was too fast and caught the bird.\n",
      "The little girl was very sad and cried a lot. She went back to her house and told her mom what happened. Her mom hugged her and said, \"Don't worry, my dear. The bird is in a better place now.\" The little girl felt a little bit better but she still missed her friend.<|endoftext|>Once upon a time, in a small village, there was a little boy named Tim. Tim had a whistle that he loved to play with. One day, he went to the park to play with his whistle. In the park, he saw a big dog with a fierce look. Tim was scared but he wanted to play with his whistle, so he stayed.\n",
      "The big dog came closer to Tim and started to display a funny dance. Tim thought it was funny and started to laugh. He blew his whistle to make the dog dance more. The dog liked the sound of the whistle and danced even more. Tim was not scared of the big dog anymore.\n",
      "The big dog and Tim became good friends. They played in the park every day. The big dog would always dance when Tim blew his whistle. The villagers would come to watch them play and laugh together. Tim and the big dog were very happy, and they lived happily ever after.<|endoftext|>Once upon a time, there was a big lion. He liked to roar very loudly. One day, he met a little mouse. The mouse was scared of the lion's big roar. But the lion was thoughtful and said, \"Don't be scared, little mouse. I won't hurt you.\"\n",
      "The mouse felt better and said, \"Thank you, Mr. Lion. Can we be friends?\" The lion smiled and said, \"Of course, we can be friends.\"\n",
      "But one day, the lion got very hungry. He saw the little mouse and thought, \"Maybe I can eat my friend.\" So, he chased the mouse and caught him. The mouse cried, \"Why did you do that, Mr. Lion? I thought we were friends!\"\n",
      "The lion felt bad and said, \"I'm sorry, little mouse. I was hungry and made a mistake.\" But the mouse was already gone, zipping away to safety. The lion was sad and realized that being friends is more important than being\n"
     ]
    }
   ],
   "source": [
    "print(tokenizer.decode(dataset[0]))"
   ]
  },
  {
   "cell_type": "code",
   "execution_count": null,
   "metadata": {},
   "outputs": [],
   "source": []
  },
  {
   "cell_type": "code",
   "execution_count": null,
   "metadata": {},
   "outputs": [],
   "source": []
  }
 ],
 "metadata": {
  "kernelspec": {
   "display_name": ".venv",
   "language": "python",
   "name": "python3"
  },
  "language_info": {
   "codemirror_mode": {
    "name": "ipython",
    "version": 3
   },
   "file_extension": ".py",
   "mimetype": "text/x-python",
   "name": "python",
   "nbconvert_exporter": "python",
   "pygments_lexer": "ipython3",
   "version": "3.11.4"
  }
 },
 "nbformat": 4,
 "nbformat_minor": 2
}
