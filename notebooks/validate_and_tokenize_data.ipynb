{
 "cells": [
  {
   "cell_type": "markdown",
   "metadata": {
    "application/vnd.databricks.v1+cell": {
     "cellMetadata": {
      "byteLimit": 2048000,
      "rowLimit": 10000
     },
     "inputWidgets": {},
     "nuid": "f275a21b-47d4-472c-972b-e2a84a597db2",
     "showTitle": false,
     "title": ""
    }
   },
   "source": [
    "# FM FT API: Data Validation and \\$Token Estimation\n",
    "\n",
    "#### Usage Scenario:\n",
    "This notebook goes hand-in-hand with Databricks-Mosaicml's FT API. Our customers may find it useful in scenarios where there is a risk of data being malformed. It acts as a preventive measure to ensure data integrity and helps in cost assessment for the fine-tuning process.\n",
    "\n",
    "#### Script Purpose:\n",
    "- **Not for Training**: This script is not utilized during the training process.\n",
    "- **Ad-Hoc Validation**: It serves as an ad-hoc utility for users to run independently prior to starting fine-tuning.\n",
    "- **Data Verification**: Its primary function is to validate the user's data before they invoke the Fine-Tuning (FT) API.\n",
    "- **Cost Estimation**: Users can estimate the cost implications with this script.\n",
    "\n",
    "#### Note on Long-Term Solution:\n",
    "- **Future Development**: We are in the process of developing a long-term data preparation service, which will eventually replace this script.\n",
    "\n",
    "#### User Defines:\n",
    "- The inputs to this validation script is assumed to be the same or a subset of the FT API arguments, i.e., a configuration like below. \n",
    "- For the reference, FT API expects following\n",
    "```\n",
    "cfg = {\n",
    "    model: str,\n",
    "    train_data_path: str,\n",
    "    save_folder: str,\n",
    "    *,\n",
    "    task_type: Optional[str] = \"INSTRUCTION_FINETUNE\",\n",
    "    eval_data_path: Optional[str] = None,\n",
    "    eval_prompts: Optional[List[str]] = None,\n",
    "    custom_weights_path: Optional[str] = None,\n",
    "    training_duration: Optional[str] = None,\n",
    "    learning_rate: Optional[float] = None,\n",
    "    context_length: Optional[int] = None,\n",
    "    experiment_trackers: Optional[List[Dict]] = None,\n",
    "    disable_credentials_check: Optional[bool] = None,\n",
    "    timeout: Optional[float] = 10,\n",
    "    future: Literal[False] = False,\n",
    "}\n",
    "``` "
   ]
  },
  {
   "cell_type": "markdown",
   "metadata": {
    "application/vnd.databricks.v1+cell": {
     "cellMetadata": {
      "byteLimit": 2048000,
      "rowLimit": 10000
     },
     "inputWidgets": {},
     "nuid": "3d08a21c-9f5a-4ad2-af85-e016335cc53d",
     "showTitle": false,
     "title": ""
    }
   },
   "source": [
    "# Installation"
   ]
  },
  {
   "cell_type": "code",
   "execution_count": 0,
   "metadata": {
    "application/vnd.databricks.v1+cell": {
     "cellMetadata": {
      "byteLimit": 2048000,
      "rowLimit": 10000
     },
     "inputWidgets": {},
     "nuid": "6f330be7-ff76-4fa2-928f-396367b359ea",
     "showTitle": false,
     "title": ""
    }
   },
   "outputs": [
    {
     "output_type": "stream",
     "name": "stdout",
     "output_type": "stream",
     "text": [
      "\u001B[43mNote: you may need to restart the kernel using %restart_python or dbutils.library.restartPython() to use updated packages.\u001B[0m\n\u001B[33mWARNING: Skipping llm-foundry as it is not installed.\u001B[0m\u001B[33m\n\u001B[0m\u001B[43mNote: you may need to restart the kernel using %restart_python or dbutils.library.restartPython() to use updated packages.\u001B[0m\n"
     ]
    }
   ],
   "source": [
    "%pip uninstall -y llm-foundry"
   ]
  },
  {
   "cell_type": "code",
   "execution_count": 0,
   "metadata": {
    "application/vnd.databricks.v1+cell": {
     "cellMetadata": {
      "byteLimit": 2048000,
      "rowLimit": 10000
     },
     "inputWidgets": {},
     "nuid": "6122e872-44b8-48a3-af61-4b907fc0a71f",
     "showTitle": false,
     "title": ""
    }
   },
   "outputs": [],
   "source": [
    "dbutils.library.restartPython()"
   ]
  },
  {
   "cell_type": "code",
   "execution_count": 0,
   "metadata": {
    "application/vnd.databricks.v1+cell": {
     "cellMetadata": {
      "byteLimit": 2048000,
      "rowLimit": 10000
     },
     "inputWidgets": {},
     "nuid": "34e0a248-1d33-4379-841b-6d7d123bbc8a",
     "showTitle": false,
     "title": ""
    }
   },
   "outputs": [
    {
     "output_type": "stream",
     "name": "stdout",
     "output_type": "stream",
     "text": [
      "\u001B[43mNote: you may need to restart the kernel using %restart_python or dbutils.library.restartPython() to use updated packages.\u001B[0m\nCollecting git+https://github.com/mosaicml/llm-foundry.git@byod/data_validation\n  Cloning https://github.com/mosaicml/llm-foundry.git (to revision byod/data_validation) to /tmp/pip-req-build-g0hhn4uw\n  Running command git clone --filter=blob:none --quiet https://github.com/mosaicml/llm-foundry.git /tmp/pip-req-build-g0hhn4uw\n  Running command git checkout -b byod/data_validation --track origin/byod/data_validation\n  Switched to a new branch 'byod/data_validation'\n  branch 'byod/data_validation' set up to track 'origin/byod/data_validation'.\n  Resolved https://github.com/mosaicml/llm-foundry.git to commit 93c150602d4eede5af9acc0c1f266190e5807a2d\n  Installing build dependencies: started\n  Installing build dependencies: finished with status 'done'\n  Getting requirements to build wheel: started\n  Getting requirements to build wheel: finished with status 'done'\n  Installing backend dependencies: started\n  Installing backend dependencies: finished with status 'done'\n  Preparing metadata (pyproject.toml): started\n  Preparing metadata (pyproject.toml): finished with status 'done'\nBuilding wheels for collected packages: llm-foundry\n  Building wheel for llm-foundry (pyproject.toml): started\n  Building wheel for llm-foundry (pyproject.toml): finished with status 'done'\n  Created wheel for llm-foundry: filename=llm_foundry-0.12.0.dev0-py3-none-any.whl size=298087 sha256=8c3278a3aa83a4c5ad7e9b7401607cd6d6967821736963f005925bf6a5d4f7ae\n  Stored in directory: /tmp/pip-ephem-wheel-cache-osystre5/wheels/fe/93/f9/38723bcaddb6d73dee4d28bbf5d4bf5ffee7f8e9b6db084ac1\nSuccessfully built llm-foundry\nInstalling collected packages: llm-foundry\nSuccessfully installed llm-foundry-0.12.0.dev0\n\u001B[43mNote: you may need to restart the kernel using %restart_python or dbutils.library.restartPython() to use updated packages.\u001B[0m\n\u001B[43mNote: you may need to restart the kernel using %restart_python or dbutils.library.restartPython() to use updated packages.\u001B[0m\nCollecting mosaicml[gcs,libcloud,oci,wandb]<0.24,>=0.23.4\n  Obtaining dependency information for mosaicml[gcs,libcloud,oci,wandb]<0.24,>=0.23.4 from https://files.pythonhosted.org/packages/d1/ec/c29dd06c57df31f131cdb528498d60ce9cb641d7fec7eb1825ddcfa5caff/mosaicml-0.23.5-py3-none-any.whl.metadata\n  Using cached mosaicml-0.23.5-py3-none-any.whl.metadata (28 kB)\nRequirement already satisfied: pyyaml<7,>=6.0 in /databricks/python3/lib/python3.11/site-packages (from mosaicml[gcs,libcloud,oci,wandb]<0.24,>=0.23.4) (6.0)\nRequirement already satisfied: tqdm<5,>=4.62.3 in /databricks/python3/lib/python3.11/site-packages (from mosaicml[gcs,libcloud,oci,wandb]<0.24,>=0.23.4) (4.65.0)\nCollecting torchmetrics<1.3.3,>=0.10.0 (from mosaicml[gcs,libcloud,oci,wandb]<0.24,>=0.23.4)\n  Obtaining dependency information for torchmetrics<1.3.3,>=0.10.0 from https://files.pythonhosted.org/packages/f3/0e/cedcb9c8aeb2d1f655f8d05f841b14d84b0a68d9f31afae4af55c7c6d0a9/torchmetrics-1.3.2-py3-none-any.whl.metadata\n  Using cached torchmetrics-1.3.2-py3-none-any.whl.metadata (19 kB)\nCollecting torch-optimizer<0.4,>=0.3.0 (from mosaicml[gcs,libcloud,oci,wandb]<0.24,>=0.23.4)\n  Obtaining dependency information for torch-optimizer<0.4,>=0.3.0 from https://files.pythonhosted.org/packages/f6/54/bbb1b4c15afc2dac525c8359c340ade685542113394fd4c6564ee3c71da3/torch_optimizer-0.3.0-py3-none-any.whl.metadata\n  Using cached torch_optimizer-0.3.0-py3-none-any.whl.metadata (55 kB)\nRequirement already satisfied: torchvision<0.18.2,>=0.13.1 in /databricks/python3/lib/python3.11/site-packages (from mosaicml[gcs,libcloud,oci,wandb]<0.24,>=0.23.4) (0.18.0+cpu)\nRequirement already satisfied: torch<2.3.2,>=2.1.2 in /databricks/python3/lib/python3.11/site-packages (from mosaicml[gcs,libcloud,oci,wandb]<0.24,>=0.23.4) (2.3.0+cpu)\nRequirement already satisfied: requests<3,>=2.26.0 in /databricks/python3/lib/python3.11/site-packages (from mosaicml[gcs,libcloud,oci,wandb]<0.24,>=0.23.4) (2.31.0)\nRequirement already satisfied: numpy<2.1.0,>=1.21.5 in /databricks/python3/lib/python3.11/site-packages (from mosaicml[gcs,libcloud,oci,wandb]<0.24,>=0.23.4) (1.23.5)\nRequirement already satisfied: psutil<7,>=5.8.0 in /databricks/python3/lib/python3.11/site-packages (from mosaicml[gcs,libcloud,oci,wandb]<0.24,>=0.23.4) (5.9.0)\nCollecting coolname<3,>=1.1.0 (from mosaicml[gcs,libcloud,oci,wandb]<0.24,>=0.23.4)\n  Obtaining dependency information for coolname<3,>=1.1.0 from https://files.pythonhosted.org/packages/1b/b1/5745d7523d8ce53b87779f46ef6cf5c5c342997939c2fe967e607b944e43/coolname-2.2.0-py2.py3-none-any.whl.metadata\n  Using cached coolname-2.2.0-py2.py3-none-any.whl.metadata (6.2 kB)\nCollecting tabulate==0.9.0 (from mosaicml[gcs,libcloud,oci,wandb]<0.24,>=0.23.4)\n  Obtaining dependency information for tabulate==0.9.0 from https://files.pythonhosted.org/packages/40/44/4a5f08c96eb108af5cb50b41f76142f0afa346dfa99d5296fe7202a11854/tabulate-0.9.0-py3-none-any.whl.metadata\n  Using cached tabulate-0.9.0-py3-none-any.whl.metadata (34 kB)\nRequirement already satisfied: py-cpuinfo<10,>=8.0.0 in /databricks/python3/lib/python3.11/site-packages (from mosaicml[gcs,libcloud,oci,wandb]<0.24,>=0.23.4) (8.0.0)\nRequirement already satisfied: packaging<24.2,>=21.3.0 in /databricks/python3/lib/python3.11/site-packages (from mosaicml[gcs,libcloud,oci,wandb]<0.24,>=0.23.4) (23.2)\nRequirement already satisfied: importlib-metadata<7,>=5.0.0 in /databricks/python3/lib/python3.11/site-packages (from mosaicml[gcs,libcloud,oci,wandb]<0.24,>=0.23.4) (6.0.0)\nCollecting mosaicml-cli<0.7,>=0.5.25 (from mosaicml[gcs,libcloud,oci,wandb]<0.24,>=0.23.4)\n  Obtaining dependency information for mosaicml-cli<0.7,>=0.5.25 from https://files.pythonhosted.org/packages/30/35/2a05ad548b370fffe45422c9e69f8139dacfc7b94ad0f1b80d85e75e91ec/mosaicml_cli-0.6.41-py3-none-any.whl.metadata\n  Using cached mosaicml_cli-0.6.41-py3-none-any.whl.metadata (4.9 kB)\nCollecting pillow<11,>=10.3.0 (from mosaicml[gcs,libcloud,oci,wandb]<0.24,>=0.23.4)\n  Obtaining dependency information for pillow<11,>=10.3.0 from https://files.pythonhosted.org/packages/ba/e5/8c68ff608a4203085158cff5cc2a3c534ec384536d9438c405ed6370d080/pillow-10.4.0-cp311-cp311-manylinux_2_28_x86_64.whl.metadata\n  Using cached pillow-10.4.0-cp311-cp311-manylinux_2_28_x86_64.whl.metadata (9.2 kB)\nRequirement already satisfied: oci<3.0.0,>=2.88.2 in /databricks/python3/lib/python3.11/site-packages (from mosaicml[gcs,libcloud,oci,wandb]<0.24,>=0.23.4) (2.126.4)\nRequirement already satisfied: google-cloud-storage<3.0,>=2.0.0 in /databricks/python3/lib/python3.11/site-packages (from mosaicml[gcs,libcloud,oci,wandb]<0.24,>=0.23.4) (2.10.0)\nCollecting wandb<0.18,>=0.13.2 (from mosaicml[gcs,libcloud,oci,wandb]<0.24,>=0.23.4)\n  Obtaining dependency information for wandb<0.18,>=0.13.2 from https://files.pythonhosted.org/packages/53/99/e014a103a702a0c8745e05ea878edf03907cdb9b12b217c2584fb24090ac/wandb-0.17.7-py3-none-manylinux_2_17_x86_64.manylinux2014_x86_64.whl.metadata\n  Using cached wandb-0.17.7-py3-none-manylinux_2_17_x86_64.manylinux2014_x86_64.whl.metadata (10 kB)\nCollecting apache-libcloud<4,>=3.3.1 (from mosaicml[gcs,libcloud,oci,wandb]<0.24,>=0.23.4)\n  Obtaining dependency information for apache-libcloud<4,>=3.3.1 from https://files.pythonhosted.org/packages/45/fe/f450315f92d9f089fa25d8acbdd056bb780c83ffa0e275b519a04954bff1/apache_libcloud-3.8.0-py2.py3-none-any.whl.metadata\n  Using cached apache_libcloud-3.8.0-py2.py3-none-any.whl.metadata (8.1 kB)\nRequirement already satisfied: google-auth<3.0dev,>=1.25.0 in /databricks/python3/lib/python3.11/site-packages (from google-cloud-storage<3.0,>=2.0.0->mosaicml[gcs,libcloud,oci,wandb]<0.24,>=0.23.4) (2.21.0)\nRequirement already satisfied: google-api-core!=2.0.*,!=2.1.*,!=2.2.*,!=2.3.0,<3.0.0dev,>=1.31.5 in /databricks/python3/lib/python3.11/site-packages (from google-cloud-storage<3.0,>=2.0.0->mosaicml[gcs,libcloud,oci,wandb]<0.24,>=0.23.4) (2.18.0)\nRequirement already satisfied: google-cloud-core<3.0dev,>=2.3.0 in /databricks/python3/lib/python3.11/site-packages (from google-cloud-storage<3.0,>=2.0.0->mosaicml[gcs,libcloud,oci,wandb]<0.24,>=0.23.4) (2.4.1)\nRequirement already satisfied: google-resumable-media>=2.3.2 in /databricks/python3/lib/python3.11/site-packages (from google-cloud-storage<3.0,>=2.0.0->mosaicml[gcs,libcloud,oci,wandb]<0.24,>=0.23.4) (2.7.0)\nRequirement already satisfied: zipp>=0.5 in /databricks/python3/lib/python3.11/site-packages (from importlib-metadata<7,>=5.0.0->mosaicml[gcs,libcloud,oci,wandb]<0.24,>=0.23.4) (3.11.0)\nCollecting argcomplete>=2.0.0 (from mosaicml-cli<0.7,>=0.5.25->mosaicml[gcs,libcloud,oci,wandb]<0.24,>=0.23.4)\n  Obtaining dependency information for argcomplete>=2.0.0 from https://files.pythonhosted.org/packages/41/e8/ba56bcc0d48170c0fc5a7f389488eddce47f98ed976a24ae62db402f33ae/argcomplete-3.5.0-py3-none-any.whl.metadata\n  Using cached argcomplete-3.5.0-py3-none-any.whl.metadata (16 kB)\nCollecting arrow>=1.2.2 (from mosaicml-cli<0.7,>=0.5.25->mosaicml[gcs,libcloud,oci,wandb]<0.24,>=0.23.4)\n  Obtaining dependency information for arrow>=1.2.2 from https://files.pythonhosted.org/packages/f8/ed/e97229a566617f2ae958a6b13e7cc0f585470eac730a73e9e82c32a3cdd2/arrow-1.3.0-py3-none-any.whl.metadata\n  Using cached arrow-1.3.0-py3-none-any.whl.metadata (7.5 kB)\nCollecting backoff>=2.2.1 (from mosaicml-cli<0.7,>=0.5.25->mosaicml[gcs,libcloud,oci,wandb]<0.24,>=0.23.4)\n  Obtaining dependency information for backoff>=2.2.1 from https://files.pythonhosted.org/packages/df/73/b6e24bd22e6720ca8ee9a85a0c4a2971af8497d8f3193fa05390cbd46e09/backoff-2.2.1-py3-none-any.whl.metadata\n  Using cached backoff-2.2.1-py3-none-any.whl.metadata (14 kB)\nCollecting gql[websockets]>=3.4.0 (from mosaicml-cli<0.7,>=0.5.25->mosaicml[gcs,libcloud,oci,wandb]<0.24,>=0.23.4)\n  Obtaining dependency information for gql[websockets]>=3.4.0 from https://files.pythonhosted.org/packages/74/fb/01a200e1c31b79690427c8e983014e4220d2652b4372a46fe4598e1d7a8e/gql-3.5.0-py2.py3-none-any.whl.metadata\n  Using cached gql-3.5.0-py2.py3-none-any.whl.metadata (9.2 kB)\nRequirement already satisfied: prompt-toolkit>=3.0.29 in /databricks/python3/lib/python3.11/site-packages (from mosaicml-cli<0.7,>=0.5.25->mosaicml[gcs,libcloud,oci,wandb]<0.24,>=0.23.4) (3.0.36)\nRequirement already satisfied: protobuf>=3.20.0 in /databricks/python3/lib/python3.11/site-packages (from mosaicml-cli<0.7,>=0.5.25->mosaicml[gcs,libcloud,oci,wandb]<0.24,>=0.23.4) (4.24.1)\nCollecting questionary>=1.10.0 (from mosaicml-cli<0.7,>=0.5.25->mosaicml[gcs,libcloud,oci,wandb]<0.24,>=0.23.4)\n  Obtaining dependency information for questionary>=1.10.0 from https://files.pythonhosted.org/packages/0b/e7/2dd8f59d1d328773505f78b85405ddb1cfe74126425d076ce72e65540b8b/questionary-2.0.1-py3-none-any.whl.metadata\n  Using cached questionary-2.0.1-py3-none-any.whl.metadata (5.4 kB)\nRequirement already satisfied: rich>=12.6.0 in /databricks/python3/lib/python3.11/site-packages (from mosaicml-cli<0.7,>=0.5.25->mosaicml[gcs,libcloud,oci,wandb]<0.24,>=0.23.4) (13.7.1)\nCollecting ruamel.yaml>=0.17.21 (from mosaicml-cli<0.7,>=0.5.25->mosaicml[gcs,libcloud,oci,wandb]<0.24,>=0.23.4)\n  Obtaining dependency information for ruamel.yaml>=0.17.21 from https://files.pythonhosted.org/packages/73/67/8ece580cc363331d9a53055130f86b096bf16e38156e33b1d3014fffda6b/ruamel.yaml-0.18.6-py3-none-any.whl.metadata\n  Using cached ruamel.yaml-0.18.6-py3-none-any.whl.metadata (23 kB)\nRequirement already satisfied: typing-extensions>=4.0.1 in /databricks/python3/lib/python3.11/site-packages (from mosaicml-cli<0.7,>=0.5.25->mosaicml[gcs,libcloud,oci,wandb]<0.24,>=0.23.4) (4.10.0)\nCollecting validators>=0.20.0 (from mosaicml-cli<0.7,>=0.5.25->mosaicml[gcs,libcloud,oci,wandb]<0.24,>=0.23.4)\n  Obtaining dependency information for validators>=0.20.0 from https://files.pythonhosted.org/packages/04/22/91b4bd36df27e651daedd93d03d5d3bb6029fdb0b55494e45ee46c36c570/validators-0.33.0-py3-none-any.whl.metadata\n  Using cached validators-0.33.0-py3-none-any.whl.metadata (3.8 kB)\nRequirement already satisfied: urllib3>=1.23 in /databricks/python3/lib/python3.11/site-packages (from mosaicml-cli<0.7,>=0.5.25->mosaicml[gcs,libcloud,oci,wandb]<0.24,>=0.23.4) (1.26.16)\nRequirement already satisfied: termcolor>=1.1.0 in /databricks/python3/lib/python3.11/site-packages (from mosaicml-cli<0.7,>=0.5.25->mosaicml[gcs,libcloud,oci,wandb]<0.24,>=0.23.4) (2.4.0)\nRequirement already satisfied: certifi in /databricks/python3/lib/python3.11/site-packages (from oci<3.0.0,>=2.88.2->mosaicml[gcs,libcloud,oci,wandb]<0.24,>=0.23.4) (2023.7.22)\nRequirement already satisfied: cryptography<43.0.0,>=3.2.1 in /databricks/python3/lib/python3.11/site-packages (from oci<3.0.0,>=2.88.2->mosaicml[gcs,libcloud,oci,wandb]<0.24,>=0.23.4) (41.0.3)\nRequirement already satisfied: pyOpenSSL<25.0.0,>=17.5.0 in /databricks/python3/lib/python3.11/site-packages (from oci<3.0.0,>=2.88.2->mosaicml[gcs,libcloud,oci,wandb]<0.24,>=0.23.4) (23.2.0)\nRequirement already satisfied: python-dateutil<3.0.0,>=2.5.3 in /databricks/python3/lib/python3.11/site-packages (from oci<3.0.0,>=2.88.2->mosaicml[gcs,libcloud,oci,wandb]<0.24,>=0.23.4) (2.8.2)\nRequirement already satisfied: pytz>=2016.10 in /databricks/python3/lib/python3.11/site-packages (from oci<3.0.0,>=2.88.2->mosaicml[gcs,libcloud,oci,wandb]<0.24,>=0.23.4) (2022.7)\nRequirement already satisfied: circuitbreaker<2.0.0,>=1.3.1 in /databricks/python3/lib/python3.11/site-packages (from oci<3.0.0,>=2.88.2->mosaicml[gcs,libcloud,oci,wandb]<0.24,>=0.23.4) (1.4.0)\nRequirement already satisfied: charset-normalizer<4,>=2 in /databricks/python3/lib/python3.11/site-packages (from requests<3,>=2.26.0->mosaicml[gcs,libcloud,oci,wandb]<0.24,>=0.23.4) (2.0.4)\nRequirement already satisfied: idna<4,>=2.5 in /databricks/python3/lib/python3.11/site-packages (from requests<3,>=2.26.0->mosaicml[gcs,libcloud,oci,wandb]<0.24,>=0.23.4) (3.4)\nRequirement already satisfied: filelock in /databricks/python3/lib/python3.11/site-packages (from torch<2.3.2,>=2.1.2->mosaicml[gcs,libcloud,oci,wandb]<0.24,>=0.23.4) (3.13.4)\nRequirement already satisfied: sympy in /databricks/python3/lib/python3.11/site-packages (from torch<2.3.2,>=2.1.2->mosaicml[gcs,libcloud,oci,wandb]<0.24,>=0.23.4) (1.11.1)\nRequirement already satisfied: networkx in /databricks/python3/lib/python3.11/site-packages (from torch<2.3.2,>=2.1.2->mosaicml[gcs,libcloud,oci,wandb]<0.24,>=0.23.4) (3.1)\nRequirement already satisfied: jinja2 in /databricks/python3/lib/python3.11/site-packages (from torch<2.3.2,>=2.1.2->mosaicml[gcs,libcloud,oci,wandb]<0.24,>=0.23.4) (3.1.2)\nRequirement already satisfied: fsspec in /databricks/python3/lib/python3.11/site-packages (from torch<2.3.2,>=2.1.2->mosaicml[gcs,libcloud,oci,wandb]<0.24,>=0.23.4) (2023.5.0)\nCollecting pytorch-ranger>=0.1.1 (from torch-optimizer<0.4,>=0.3.0->mosaicml[gcs,libcloud,oci,wandb]<0.24,>=0.23.4)\n  Obtaining dependency information for pytorch-ranger>=0.1.1 from https://files.pythonhosted.org/packages/0d/70/12256257d861bbc3e176130d25be1de085ce7a9e60594064888a950f2154/pytorch_ranger-0.1.1-py3-none-any.whl.metadata\n  Using cached pytorch_ranger-0.1.1-py3-none-any.whl.metadata (509 bytes)\nCollecting lightning-utilities>=0.8.0 (from torchmetrics<1.3.3,>=0.10.0->mosaicml[gcs,libcloud,oci,wandb]<0.24,>=0.23.4)\n  Obtaining dependency information for lightning-utilities>=0.8.0 from https://files.pythonhosted.org/packages/ea/d5/ed204bc738672c17455019b5e0c7c8d1effb0ea17707150ca50336298ca0/lightning_utilities-0.11.6-py3-none-any.whl.metadata\n  Using cached lightning_utilities-0.11.6-py3-none-any.whl.metadata (5.2 kB)\nRequirement already satisfied: click!=8.0.0,>=7.1 in /databricks/python3/lib/python3.11/site-packages (from wandb<0.18,>=0.13.2->mosaicml[gcs,libcloud,oci,wandb]<0.24,>=0.23.4) (8.0.4)\nCollecting docker-pycreds>=0.4.0 (from wandb<0.18,>=0.13.2->mosaicml[gcs,libcloud,oci,wandb]<0.24,>=0.23.4)\n  Obtaining dependency information for docker-pycreds>=0.4.0 from https://files.pythonhosted.org/packages/f5/e8/f6bd1eee09314e7e6dee49cbe2c5e22314ccdb38db16c9fc72d2fa80d054/docker_pycreds-0.4.0-py2.py3-none-any.whl.metadata\n  Using cached docker_pycreds-0.4.0-py2.py3-none-any.whl.metadata (1.8 kB)\nRequirement already satisfied: gitpython!=3.1.29,>=1.0.0 in /databricks/python3/lib/python3.11/site-packages (from wandb<0.18,>=0.13.2->mosaicml[gcs,libcloud,oci,wandb]<0.24,>=0.23.4) (3.1.27)\nRequirement already satisfied: platformdirs in /databricks/python3/lib/python3.11/site-packages (from wandb<0.18,>=0.13.2->mosaicml[gcs,libcloud,oci,wandb]<0.24,>=0.23.4) (3.10.0)\nCollecting sentry-sdk>=1.0.0 (from wandb<0.18,>=0.13.2->mosaicml[gcs,libcloud,oci,wandb]<0.24,>=0.23.4)\n  Obtaining dependency information for sentry-sdk>=1.0.0 from https://files.pythonhosted.org/packages/ad/7e/e9ca09f24a6c334286631a2d32c267cdc5edad5ac03fd9d20a01a82f1c35/sentry_sdk-2.13.0-py2.py3-none-any.whl.metadata\n  Using cached sentry_sdk-2.13.0-py2.py3-none-any.whl.metadata (9.7 kB)\nCollecting setproctitle (from wandb<0.18,>=0.13.2->mosaicml[gcs,libcloud,oci,wandb]<0.24,>=0.23.4)\n  Obtaining dependency information for setproctitle from https://files.pythonhosted.org/packages/fd/df/44b267cb8f073a4ae77e120f0705ab3a07165ad90cecd4881b34c7e1e37b/setproctitle-1.3.3-cp311-cp311-manylinux_2_5_x86_64.manylinux1_x86_64.manylinux_2_17_x86_64.manylinux2014_x86_64.whl.metadata\n  Using cached setproctitle-1.3.3-cp311-cp311-manylinux_2_5_x86_64.manylinux1_x86_64.manylinux_2_17_x86_64.manylinux2014_x86_64.whl.metadata (9.9 kB)\nRequirement already satisfied: setuptools in /databricks/python3/lib/python3.11/site-packages (from wandb<0.18,>=0.13.2->mosaicml[gcs,libcloud,oci,wandb]<0.24,>=0.23.4) (68.0.0)\nCollecting types-python-dateutil>=2.8.10 (from arrow>=1.2.2->mosaicml-cli<0.7,>=0.5.25->mosaicml[gcs,libcloud,oci,wandb]<0.24,>=0.23.4)\n  Obtaining dependency information for types-python-dateutil>=2.8.10 from https://files.pythonhosted.org/packages/45/ba/2a4750156272f180f8209f87656ae92e0aeb14f9864976aa90cbd9f21eda/types_python_dateutil-2.9.0.20240821-py3-none-any.whl.metadata\n  Using cached types_python_dateutil-2.9.0.20240821-py3-none-any.whl.metadata (1.9 kB)\nRequirement already satisfied: cffi>=1.12 in /databricks/python3/lib/python3.11/site-packages (from cryptography<43.0.0,>=3.2.1->oci<3.0.0,>=2.88.2->mosaicml[gcs,libcloud,oci,wandb]<0.24,>=0.23.4) (1.15.1)\nRequirement already satisfied: six>=1.4.0 in /usr/lib/python3/dist-packages (from docker-pycreds>=0.4.0->wandb<0.18,>=0.13.2->mosaicml[gcs,libcloud,oci,wandb]<0.24,>=0.23.4) (1.16.0)\nRequirement already satisfied: gitdb<5,>=4.0.1 in /databricks/python3/lib/python3.11/site-packages (from gitpython!=3.1.29,>=1.0.0->wandb<0.18,>=0.13.2->mosaicml[gcs,libcloud,oci,wandb]<0.24,>=0.23.4) (4.0.11)\nRequirement already satisfied: googleapis-common-protos<2.0.dev0,>=1.56.2 in /databricks/python3/lib/python3.11/site-packages (from google-api-core!=2.0.*,!=2.1.*,!=2.2.*,!=2.3.0,<3.0.0dev,>=1.31.5->google-cloud-storage<3.0,>=2.0.0->mosaicml[gcs,libcloud,oci,wandb]<0.24,>=0.23.4) (1.63.0)\nRequirement already satisfied: proto-plus<2.0.0dev,>=1.22.3 in /databricks/python3/lib/python3.11/site-packages (from google-api-core!=2.0.*,!=2.1.*,!=2.2.*,!=2.3.0,<3.0.0dev,>=1.31.5->google-cloud-storage<3.0,>=2.0.0->mosaicml[gcs,libcloud,oci,wandb]<0.24,>=0.23.4) (1.23.0)\nRequirement already satisfied: cachetools<6.0,>=2.0.0 in /databricks/python3/lib/python3.11/site-packages (from google-auth<3.0dev,>=1.25.0->google-cloud-storage<3.0,>=2.0.0->mosaicml[gcs,libcloud,oci,wandb]<0.24,>=0.23.4) (5.3.3)\nRequirement already satisfied: pyasn1-modules>=0.2.1 in /databricks/python3/lib/python3.11/site-packages (from google-auth<3.0dev,>=1.25.0->google-cloud-storage<3.0,>=2.0.0->mosaicml[gcs,libcloud,oci,wandb]<0.24,>=0.23.4) (0.2.8)\nRequirement already satisfied: rsa<5,>=3.1.4 in /databricks/python3/lib/python3.11/site-packages (from google-auth<3.0dev,>=1.25.0->google-cloud-storage<3.0,>=2.0.0->mosaicml[gcs,libcloud,oci,wandb]<0.24,>=0.23.4) (4.9)\nRequirement already satisfied: google-crc32c<2.0dev,>=1.0 in /databricks/python3/lib/python3.11/site-packages (from google-resumable-media>=2.3.2->google-cloud-storage<3.0,>=2.0.0->mosaicml[gcs,libcloud,oci,wandb]<0.24,>=0.23.4) (1.5.0)\nCollecting graphql-core<3.3,>=3.2 (from gql[websockets]>=3.4.0->mosaicml-cli<0.7,>=0.5.25->mosaicml[gcs,libcloud,oci,wandb]<0.24,>=0.23.4)\n  Obtaining dependency information for graphql-core<3.3,>=3.2 from https://files.pythonhosted.org/packages/f8/39/e5143e7ec70939d2076c1165ae9d4a3815597019c4d797b7f959cf778600/graphql_core-3.2.3-py3-none-any.whl.metadata\n  Using cached graphql_core-3.2.3-py3-none-any.whl.metadata (10 kB)\nRequirement already satisfied: yarl<2.0,>=1.6 in /databricks/python3/lib/python3.11/site-packages (from gql[websockets]>=3.4.0->mosaicml-cli<0.7,>=0.5.25->mosaicml[gcs,libcloud,oci,wandb]<0.24,>=0.23.4) (1.8.1)\nRequirement already satisfied: anyio<5,>=3.0 in /databricks/python3/lib/python3.11/site-packages (from gql[websockets]>=3.4.0->mosaicml-cli<0.7,>=0.5.25->mosaicml[gcs,libcloud,oci,wandb]<0.24,>=0.23.4) (3.5.0)\nCollecting websockets<12,>=10 (from gql[websockets]>=3.4.0->mosaicml-cli<0.7,>=0.5.25->mosaicml[gcs,libcloud,oci,wandb]<0.24,>=0.23.4)\n  Obtaining dependency information for websockets<12,>=10 from https://files.pythonhosted.org/packages/a9/5e/b25c60067d700e811dccb4e3c318eeadd3a19d8b3620de9f97434af777a7/websockets-11.0.3-cp311-cp311-manylinux_2_5_x86_64.manylinux1_x86_64.manylinux_2_17_x86_64.manylinux2014_x86_64.whl.metadata\n  Using cached websockets-11.0.3-cp311-cp311-manylinux_2_5_x86_64.manylinux1_x86_64.manylinux_2_17_x86_64.manylinux2014_x86_64.whl.metadata (6.6 kB)\nRequirement already satisfied: wcwidth in /databricks/python3/lib/python3.11/site-packages (from prompt-toolkit>=3.0.29->mosaicml-cli<0.7,>=0.5.25->mosaicml[gcs,libcloud,oci,wandb]<0.24,>=0.23.4) (0.2.5)\nRequirement already satisfied: markdown-it-py>=2.2.0 in /databricks/python3/lib/python3.11/site-packages (from rich>=12.6.0->mosaicml-cli<0.7,>=0.5.25->mosaicml[gcs,libcloud,oci,wandb]<0.24,>=0.23.4) (2.2.0)\nRequirement already satisfied: pygments<3.0.0,>=2.13.0 in /databricks/python3/lib/python3.11/site-packages (from rich>=12.6.0->mosaicml-cli<0.7,>=0.5.25->mosaicml[gcs,libcloud,oci,wandb]<0.24,>=0.23.4) (2.15.1)\nCollecting ruamel.yaml.clib>=0.2.7 (from ruamel.yaml>=0.17.21->mosaicml-cli<0.7,>=0.5.25->mosaicml[gcs,libcloud,oci,wandb]<0.24,>=0.23.4)\n  Obtaining dependency information for ruamel.yaml.clib>=0.2.7 from https://files.pythonhosted.org/packages/a4/f7/22d6b620ed895a05d40802d8281eff924dc6190f682d933d4efff60db3b5/ruamel.yaml.clib-0.2.8-cp311-cp311-manylinux_2_17_x86_64.manylinux2014_x86_64.manylinux_2_24_x86_64.whl.metadata\n  Using cached ruamel.yaml.clib-0.2.8-cp311-cp311-manylinux_2_17_x86_64.manylinux2014_x86_64.manylinux_2_24_x86_64.whl.metadata (2.2 kB)\nRequirement already satisfied: MarkupSafe>=2.0 in /databricks/python3/lib/python3.11/site-packages (from jinja2->torch<2.3.2,>=2.1.2->mosaicml[gcs,libcloud,oci,wandb]<0.24,>=0.23.4) (2.1.1)\nRequirement already satisfied: mpmath>=0.19 in /databricks/python3/lib/python3.11/site-packages (from sympy->torch<2.3.2,>=2.1.2->mosaicml[gcs,libcloud,oci,wandb]<0.24,>=0.23.4) (1.3.0)\nRequirement already satisfied: sniffio>=1.1 in /databricks/python3/lib/python3.11/site-packages (from anyio<5,>=3.0->gql[websockets]>=3.4.0->mosaicml-cli<0.7,>=0.5.25->mosaicml[gcs,libcloud,oci,wandb]<0.24,>=0.23.4) (1.2.0)\nRequirement already satisfied: pycparser in /databricks/python3/lib/python3.11/site-packages (from cffi>=1.12->cryptography<43.0.0,>=3.2.1->oci<3.0.0,>=2.88.2->mosaicml[gcs,libcloud,oci,wandb]<0.24,>=0.23.4) (2.21)\nRequirement already satisfied: smmap<6,>=3.0.1 in /databricks/python3/lib/python3.11/site-packages (from gitdb<5,>=4.0.1->gitpython!=3.1.29,>=1.0.0->wandb<0.18,>=0.13.2->mosaicml[gcs,libcloud,oci,wandb]<0.24,>=0.23.4) (5.0.0)\nRequirement already satisfied: mdurl~=0.1 in /databricks/python3/lib/python3.11/site-packages (from markdown-it-py>=2.2.0->rich>=12.6.0->mosaicml-cli<0.7,>=0.5.25->mosaicml[gcs,libcloud,oci,wandb]<0.24,>=0.23.4) (0.1.0)\nRequirement already satisfied: pyasn1<0.5.0,>=0.4.6 in /databricks/python3/lib/python3.11/site-packages (from pyasn1-modules>=0.2.1->google-auth<3.0dev,>=1.25.0->google-cloud-storage<3.0,>=2.0.0->mosaicml[gcs,libcloud,oci,wandb]<0.24,>=0.23.4) (0.4.8)\nRequirement already satisfied: multidict>=4.0 in /databricks/python3/lib/python3.11/site-packages (from yarl<2.0,>=1.6->gql[websockets]>=3.4.0->mosaicml-cli<0.7,>=0.5.25->mosaicml[gcs,libcloud,oci,wandb]<0.24,>=0.23.4) (6.0.2)\nUsing cached tabulate-0.9.0-py3-none-any.whl (35 kB)\nUsing cached apache_libcloud-3.8.0-py2.py3-none-any.whl (3.7 MB)\nUsing cached coolname-2.2.0-py2.py3-none-any.whl (37 kB)\nUsing cached mosaicml_cli-0.6.41-py3-none-any.whl (272 kB)\nUsing cached pillow-10.4.0-cp311-cp311-manylinux_2_28_x86_64.whl (4.5 MB)\nU\n\n*** WARNING: max output size exceeded, skipping output. ***\n\nython3.11/site-packages (from mosaicml-streaming<0.9,>=0.8.0) (4.65.0)\nRequirement already satisfied: transformers<5,>=4.21.3 in /local_disk0/.ephemeral_nfs/envs/pythonEnv-e5c0e8cd-af43-4421-8e74-d6648cb9e313/lib/python3.11/site-packages (from mosaicml-streaming<0.9,>=0.8.0) (4.43.4)\nRequirement already satisfied: xxhash<4,>=3.0.0 in /databricks/python3/lib/python3.11/site-packages (from mosaicml-streaming<0.9,>=0.8.0) (3.4.1)\nRequirement already satisfied: zstd<2,>=1.5.2.5 in /databricks/python3/lib/python3.11/site-packages (from mosaicml-streaming<0.9,>=0.8.0) (1.5.5.1)\nRequirement already satisfied: oci<3,>=2.88 in /databricks/python3/lib/python3.11/site-packages (from mosaicml-streaming<0.9,>=0.8.0) (2.126.4)\nRequirement already satisfied: azure-storage-blob<13,>=12.0.0 in /databricks/python3/lib/python3.11/site-packages (from mosaicml-streaming<0.9,>=0.8.0) (12.19.1)\nRequirement already satisfied: azure-storage-file-datalake<13,>=12.11.0 in /databricks/python3/lib/python3.11/site-packages (from mosaicml-streaming<0.9,>=0.8.0) (12.14.0)\nRequirement already satisfied: azure-identity>=1.13.0 in /databricks/python3/lib/python3.11/site-packages (from mosaicml-streaming<0.9,>=0.8.0) (1.16.0)\nRequirement already satisfied: azure-core>=1.23.0 in /databricks/python3/lib/python3.11/site-packages (from azure-identity>=1.13.0->mosaicml-streaming<0.9,>=0.8.0) (1.30.1)\nRequirement already satisfied: cryptography>=2.5 in /databricks/python3/lib/python3.11/site-packages (from azure-identity>=1.13.0->mosaicml-streaming<0.9,>=0.8.0) (41.0.3)\nRequirement already satisfied: msal>=1.24.0 in /databricks/python3/lib/python3.11/site-packages (from azure-identity>=1.13.0->mosaicml-streaming<0.9,>=0.8.0) (1.28.0)\nRequirement already satisfied: msal-extensions>=0.3.0 in /databricks/python3/lib/python3.11/site-packages (from azure-identity>=1.13.0->mosaicml-streaming<0.9,>=0.8.0) (1.1.0)\nRequirement already satisfied: typing-extensions>=4.3.0 in /databricks/python3/lib/python3.11/site-packages (from azure-storage-blob<13,>=12.0.0->mosaicml-streaming<0.9,>=0.8.0) (4.10.0)\nRequirement already satisfied: isodate>=0.6.1 in /databricks/python3/lib/python3.11/site-packages (from azure-storage-blob<13,>=12.0.0->mosaicml-streaming<0.9,>=0.8.0) (0.6.1)\nRequirement already satisfied: botocore<1.35.0,>=1.34.39 in /databricks/python3/lib/python3.11/site-packages (from boto3<2,>=1.21.45->mosaicml-streaming<0.9,>=0.8.0) (1.34.39)\nRequirement already satisfied: jmespath<2.0.0,>=0.7.1 in /databricks/python3/lib/python3.11/site-packages (from boto3<2,>=1.21.45->mosaicml-streaming<0.9,>=0.8.0) (0.10.0)\nRequirement already satisfied: s3transfer<0.11.0,>=0.10.0 in /databricks/python3/lib/python3.11/site-packages (from boto3<2,>=1.21.45->mosaicml-streaming<0.9,>=0.8.0) (0.10.1)\nRequirement already satisfied: google-auth<3.0dev,>=1.25.0 in /databricks/python3/lib/python3.11/site-packages (from google-cloud-storage<2.11.0,>=2.9.0->mosaicml-streaming<0.9,>=0.8.0) (2.21.0)\nRequirement already satisfied: google-api-core!=2.0.*,!=2.1.*,!=2.2.*,!=2.3.0,<3.0.0dev,>=1.31.5 in /databricks/python3/lib/python3.11/site-packages (from google-cloud-storage<2.11.0,>=2.9.0->mosaicml-streaming<0.9,>=0.8.0) (2.18.0)\nRequirement already satisfied: google-cloud-core<3.0dev,>=2.3.0 in /databricks/python3/lib/python3.11/site-packages (from google-cloud-storage<2.11.0,>=2.9.0->mosaicml-streaming<0.9,>=0.8.0) (2.4.1)\nRequirement already satisfied: google-resumable-media>=2.3.2 in /databricks/python3/lib/python3.11/site-packages (from google-cloud-storage<2.11.0,>=2.9.0->mosaicml-streaming<0.9,>=0.8.0) (2.7.0)\nRequirement already satisfied: requests<3.0.0dev,>=2.18.0 in /databricks/python3/lib/python3.11/site-packages (from google-cloud-storage<2.11.0,>=2.9.0->mosaicml-streaming<0.9,>=0.8.0) (2.31.0)\nRequirement already satisfied: contourpy>=1.0.1 in /databricks/python3/lib/python3.11/site-packages (from matplotlib<4,>=3.5.2->mosaicml-streaming<0.9,>=0.8.0) (1.0.5)\nRequirement already satisfied: cycler>=0.10 in /databricks/python3/lib/python3.11/site-packages (from matplotlib<4,>=3.5.2->mosaicml-streaming<0.9,>=0.8.0) (0.11.0)\nRequirement already satisfied: fonttools>=4.22.0 in /databricks/python3/lib/python3.11/site-packages (from matplotlib<4,>=3.5.2->mosaicml-streaming<0.9,>=0.8.0) (4.25.0)\nRequirement already satisfied: kiwisolver>=1.0.1 in /databricks/python3/lib/python3.11/site-packages (from matplotlib<4,>=3.5.2->mosaicml-streaming<0.9,>=0.8.0) (1.4.4)\nRequirement already satisfied: numpy>=1.20 in /databricks/python3/lib/python3.11/site-packages (from matplotlib<4,>=3.5.2->mosaicml-streaming<0.9,>=0.8.0) (1.23.5)\nRequirement already satisfied: packaging>=20.0 in /databricks/python3/lib/python3.11/site-packages (from matplotlib<4,>=3.5.2->mosaicml-streaming<0.9,>=0.8.0) (23.2)\nRequirement already satisfied: pillow>=6.2.0 in /local_disk0/.ephemeral_nfs/envs/pythonEnv-e5c0e8cd-af43-4421-8e74-d6648cb9e313/lib/python3.11/site-packages (from matplotlib<4,>=3.5.2->mosaicml-streaming<0.9,>=0.8.0) (10.4.0)\nRequirement already satisfied: pyparsing<3.1,>=2.3.1 in /databricks/python3/lib/python3.11/site-packages (from matplotlib<4,>=3.5.2->mosaicml-streaming<0.9,>=0.8.0) (3.0.9)\nRequirement already satisfied: python-dateutil>=2.7 in /databricks/python3/lib/python3.11/site-packages (from matplotlib<4,>=3.5.2->mosaicml-streaming<0.9,>=0.8.0) (2.8.2)\nRequirement already satisfied: certifi in /databricks/python3/lib/python3.11/site-packages (from oci<3,>=2.88->mosaicml-streaming<0.9,>=0.8.0) (2023.7.22)\nRequirement already satisfied: pyOpenSSL<25.0.0,>=17.5.0 in /databricks/python3/lib/python3.11/site-packages (from oci<3,>=2.88->mosaicml-streaming<0.9,>=0.8.0) (23.2.0)\nRequirement already satisfied: pytz>=2016.10 in /databricks/python3/lib/python3.11/site-packages (from oci<3,>=2.88->mosaicml-streaming<0.9,>=0.8.0) (2022.7)\nRequirement already satisfied: circuitbreaker<2.0.0,>=1.3.1 in /databricks/python3/lib/python3.11/site-packages (from oci<3,>=2.88->mosaicml-streaming<0.9,>=0.8.0) (1.4.0)\nRequirement already satisfied: bcrypt>=3.2 in /databricks/python3/lib/python3.11/site-packages (from paramiko<4,>=2.11.0->mosaicml-streaming<0.9,>=0.8.0) (3.2.0)\nRequirement already satisfied: pynacl>=1.5 in /databricks/python3/lib/python3.11/site-packages (from paramiko<4,>=2.11.0->mosaicml-streaming<0.9,>=0.8.0) (1.5.0)\nRequirement already satisfied: filelock in /databricks/python3/lib/python3.11/site-packages (from torch<3,>=1.10->mosaicml-streaming<0.9,>=0.8.0) (3.13.4)\nRequirement already satisfied: sympy in /databricks/python3/lib/python3.11/site-packages (from torch<3,>=1.10->mosaicml-streaming<0.9,>=0.8.0) (1.11.1)\nRequirement already satisfied: networkx in /databricks/python3/lib/python3.11/site-packages (from torch<3,>=1.10->mosaicml-streaming<0.9,>=0.8.0) (3.1)\nRequirement already satisfied: jinja2 in /databricks/python3/lib/python3.11/site-packages (from torch<3,>=1.10->mosaicml-streaming<0.9,>=0.8.0) (3.1.2)\nRequirement already satisfied: fsspec in /databricks/python3/lib/python3.11/site-packages (from torch<3,>=1.10->mosaicml-streaming<0.9,>=0.8.0) (2023.5.0)\nRequirement already satisfied: huggingface-hub<1.0,>=0.23.2 in /local_disk0/.ephemeral_nfs/envs/pythonEnv-e5c0e8cd-af43-4421-8e74-d6648cb9e313/lib/python3.11/site-packages (from transformers<5,>=4.21.3->mosaicml-streaming<0.9,>=0.8.0) (0.24.6)\nRequirement already satisfied: pyyaml>=5.1 in /databricks/python3/lib/python3.11/site-packages (from transformers<5,>=4.21.3->mosaicml-streaming<0.9,>=0.8.0) (6.0)\nRequirement already satisfied: regex!=2019.12.17 in /databricks/python3/lib/python3.11/site-packages (from transformers<5,>=4.21.3->mosaicml-streaming<0.9,>=0.8.0) (2022.7.9)\nRequirement already satisfied: safetensors>=0.4.1 in /databricks/python3/lib/python3.11/site-packages (from transformers<5,>=4.21.3->mosaicml-streaming<0.9,>=0.8.0) (0.4.2)\nRequirement already satisfied: tokenizers<0.20,>=0.19 in /databricks/python3/lib/python3.11/site-packages (from transformers<5,>=4.21.3->mosaicml-streaming<0.9,>=0.8.0) (0.19.0)\nRequirement already satisfied: six>=1.11.0 in /usr/lib/python3/dist-packages (from azure-core>=1.23.0->azure-identity>=1.13.0->mosaicml-streaming<0.9,>=0.8.0) (1.16.0)\nRequirement already satisfied: cffi>=1.1 in /databricks/python3/lib/python3.11/site-packages (from bcrypt>=3.2->paramiko<4,>=2.11.0->mosaicml-streaming<0.9,>=0.8.0) (1.15.1)\nRequirement already satisfied: urllib3<2.1,>=1.25.4 in /databricks/python3/lib/python3.11/site-packages (from botocore<1.35.0,>=1.34.39->boto3<2,>=1.21.45->mosaicml-streaming<0.9,>=0.8.0) (1.26.16)\nRequirement already satisfied: googleapis-common-protos<2.0.dev0,>=1.56.2 in /databricks/python3/lib/python3.11/site-packages (from google-api-core!=2.0.*,!=2.1.*,!=2.2.*,!=2.3.0,<3.0.0dev,>=1.31.5->google-cloud-storage<2.11.0,>=2.9.0->mosaicml-streaming<0.9,>=0.8.0) (1.63.0)\nRequirement already satisfied: protobuf!=3.20.0,!=3.20.1,!=4.21.0,!=4.21.1,!=4.21.2,!=4.21.3,!=4.21.4,!=4.21.5,<5.0.0.dev0,>=3.19.5 in /databricks/python3/lib/python3.11/site-packages (from google-api-core!=2.0.*,!=2.1.*,!=2.2.*,!=2.3.0,<3.0.0dev,>=1.31.5->google-cloud-storage<2.11.0,>=2.9.0->mosaicml-streaming<0.9,>=0.8.0) (4.24.1)\nRequirement already satisfied: proto-plus<2.0.0dev,>=1.22.3 in /databricks/python3/lib/python3.11/site-packages (from google-api-core!=2.0.*,!=2.1.*,!=2.2.*,!=2.3.0,<3.0.0dev,>=1.31.5->google-cloud-storage<2.11.0,>=2.9.0->mosaicml-streaming<0.9,>=0.8.0) (1.23.0)\nRequirement already satisfied: cachetools<6.0,>=2.0.0 in /databricks/python3/lib/python3.11/site-packages (from google-auth<3.0dev,>=1.25.0->google-cloud-storage<2.11.0,>=2.9.0->mosaicml-streaming<0.9,>=0.8.0) (5.3.3)\nRequirement already satisfied: pyasn1-modules>=0.2.1 in /databricks/python3/lib/python3.11/site-packages (from google-auth<3.0dev,>=1.25.0->google-cloud-storage<2.11.0,>=2.9.0->mosaicml-streaming<0.9,>=0.8.0) (0.2.8)\nRequirement already satisfied: rsa<5,>=3.1.4 in /databricks/python3/lib/python3.11/site-packages (from google-auth<3.0dev,>=1.25.0->google-cloud-storage<2.11.0,>=2.9.0->mosaicml-streaming<0.9,>=0.8.0) (4.9)\nRequirement already satisfied: google-crc32c<2.0dev,>=1.0 in /databricks/python3/lib/python3.11/site-packages (from google-resumable-media>=2.3.2->google-cloud-storage<2.11.0,>=2.9.0->mosaicml-streaming<0.9,>=0.8.0) (1.5.0)\nRequirement already satisfied: PyJWT[crypto]<3,>=1.0.0 in /usr/lib/python3/dist-packages (from msal>=1.24.0->azure-identity>=1.13.0->mosaicml-streaming<0.9,>=0.8.0) (2.3.0)\nRequirement already satisfied: portalocker<3,>=1.0 in /databricks/python3/lib/python3.11/site-packages (from msal-extensions>=0.3.0->azure-identity>=1.13.0->mosaicml-streaming<0.9,>=0.8.0) (2.8.2)\nRequirement already satisfied: charset-normalizer<4,>=2 in /databricks/python3/lib/python3.11/site-packages (from requests<3.0.0dev,>=2.18.0->google-cloud-storage<2.11.0,>=2.9.0->mosaicml-streaming<0.9,>=0.8.0) (2.0.4)\nRequirement already satisfied: idna<4,>=2.5 in /databricks/python3/lib/python3.11/site-packages (from requests<3.0.0dev,>=2.18.0->google-cloud-storage<2.11.0,>=2.9.0->mosaicml-streaming<0.9,>=0.8.0) (3.4)\nRequirement already satisfied: MarkupSafe>=2.0 in /databricks/python3/lib/python3.11/site-packages (from jinja2->torch<3,>=1.10->mosaicml-streaming<0.9,>=0.8.0) (2.1.1)\nRequirement already satisfied: mpmath>=0.19 in /databricks/python3/lib/python3.11/site-packages (from sympy->torch<3,>=1.10->mosaicml-streaming<0.9,>=0.8.0) (1.3.0)\nRequirement already satisfied: pycparser in /databricks/python3/lib/python3.11/site-packages (from cffi>=1.1->bcrypt>=3.2->paramiko<4,>=2.11.0->mosaicml-streaming<0.9,>=0.8.0) (2.21)\nRequirement already satisfied: pyasn1<0.5.0,>=0.4.6 in /databricks/python3/lib/python3.11/site-packages (from pyasn1-modules>=0.2.1->google-auth<3.0dev,>=1.25.0->google-cloud-storage<2.11.0,>=2.9.0->mosaicml-streaming<0.9,>=0.8.0) (0.4.8)\nUsing cached mosaicml_streaming-0.8.1-py3-none-any.whl (261 kB)\nInstalling collected packages: mosaicml-streaming\n  Attempting uninstall: mosaicml-streaming\n    Found existing installation: mosaicml-streaming 0.7.4\n    Not uninstalling mosaicml-streaming at /databricks/python3/lib/python3.11/site-packages, outside environment /local_disk0/.ephemeral_nfs/envs/pythonEnv-e5c0e8cd-af43-4421-8e74-d6648cb9e313\n    Can't uninstall 'mosaicml-streaming'. No files were found to uninstall.\n\u001B[31mERROR: pip's dependency resolver does not currently take into account all the packages that are installed. This behaviour is the source of the following dependency conflicts.\nllm-foundry 0.12.0.dev0 requires einops==0.8.0, which is not installed.\nllm-foundry 0.12.0.dev0 requires omegaconf<3,>=2.2.3, which is not installed.\nllm-foundry 0.12.0.dev0 requires onnx==1.16.2, which is not installed.\nllm-foundry 0.12.0.dev0 requires onnxruntime==1.18.1, which is not installed.\nllm-foundry 0.12.0.dev0 requires slack-sdk<4, which is not installed.\nllm-foundry 0.12.0.dev0 requires fsspec==2023.6.0, but you have fsspec 2023.5.0 which is incompatible.\nllm-foundry 0.12.0.dev0 requires sentencepiece==0.2.0, but you have sentencepiece 0.1.99 which is incompatible.\nllm-foundry 0.12.0.dev0 requires tenacity<9,>=8.2.3, but you have tenacity 8.2.2 which is incompatible.\u001B[0m\u001B[31m\n\u001B[0mSuccessfully installed mosaicml-streaming-0.8.1\n\u001B[43mNote: you may need to restart the kernel using %restart_python or dbutils.library.restartPython() to use updated packages.\u001B[0m\n\u001B[43mNote: you may need to restart the kernel using %restart_python or dbutils.library.restartPython() to use updated packages.\u001B[0m\nRequirement already satisfied: datasets in /databricks/python3/lib/python3.11/site-packages (2.19.1)\nCollecting datasets\n  Obtaining dependency information for datasets from https://files.pythonhosted.org/packages/72/b3/33c4ad44fa020e3757e9b2fad8a5de53d9079b501e6bbc45bdd18f82f893/datasets-2.21.0-py3-none-any.whl.metadata\n  Using cached datasets-2.21.0-py3-none-any.whl.metadata (21 kB)\nRequirement already satisfied: filelock in /databricks/python3/lib/python3.11/site-packages (from datasets) (3.13.4)\nRequirement already satisfied: numpy>=1.17 in /databricks/python3/lib/python3.11/site-packages (from datasets) (1.23.5)\nCollecting pyarrow>=15.0.0 (from datasets)\n  Obtaining dependency information for pyarrow>=15.0.0 from https://files.pythonhosted.org/packages/4c/21/9ca93b84b92ef927814cb7ba37f0774a484c849d58f0b692b16af8eebcfb/pyarrow-17.0.0-cp311-cp311-manylinux_2_28_x86_64.whl.metadata\n  Using cached pyarrow-17.0.0-cp311-cp311-manylinux_2_28_x86_64.whl.metadata (3.3 kB)\nRequirement already satisfied: dill<0.3.9,>=0.3.0 in /databricks/python3/lib/python3.11/site-packages (from datasets) (0.3.6)\nRequirement already satisfied: pandas in /databricks/python3/lib/python3.11/site-packages (from datasets) (1.5.3)\nCollecting requests>=2.32.2 (from datasets)\n  Obtaining dependency information for requests>=2.32.2 from https://files.pythonhosted.org/packages/f9/9b/335f9764261e915ed497fcdeb11df5dfd6f7bf257d4a6a2a686d80da4d54/requests-2.32.3-py3-none-any.whl.metadata\n  Using cached requests-2.32.3-py3-none-any.whl.metadata (4.6 kB)\nCollecting tqdm>=4.66.3 (from datasets)\n  Obtaining dependency information for tqdm>=4.66.3 from https://files.pythonhosted.org/packages/48/5d/acf5905c36149bbaec41ccf7f2b68814647347b72075ac0b1fe3022fdc73/tqdm-4.66.5-py3-none-any.whl.metadata\n  Using cached tqdm-4.66.5-py3-none-any.whl.metadata (57 kB)\nRequirement already satisfied: xxhash in /databricks/python3/lib/python3.11/site-packages (from datasets) (3.4.1)\nRequirement already satisfied: multiprocess in /databricks/python3/lib/python3.11/site-packages (from datasets) (0.70.14)\nRequirement already satisfied: fsspec[http]<=2024.6.1,>=2023.1.0 in /databricks/python3/lib/python3.11/site-packages (from datasets) (2023.5.0)\nRequirement already satisfied: aiohttp in /databricks/python3/lib/python3.11/site-packages (from datasets) (3.8.5)\nRequirement already satisfied: huggingface-hub>=0.21.2 in /local_disk0/.ephemeral_nfs/envs/pythonEnv-e5c0e8cd-af43-4421-8e74-d6648cb9e313/lib/python3.11/site-packages (from datasets) (0.24.6)\nRequirement already satisfied: packaging in /databricks/python3/lib/python3.11/site-packages (from datasets) (23.2)\nRequirement already satisfied: pyyaml>=5.1 in /databricks/python3/lib/python3.11/site-packages (from datasets) (6.0)\nRequirement already satisfied: attrs>=17.3.0 in /databricks/python3/lib/python3.11/site-packages (from aiohttp->datasets) (22.1.0)\nRequirement already satisfied: charset-normalizer<4.0,>=2.0 in /databricks/python3/lib/python3.11/site-packages (from aiohttp->datasets) (2.0.4)\nRequirement already satisfied: multidict<7.0,>=4.5 in /databricks/python3/lib/python3.11/site-packages (from aiohttp->datasets) (6.0.2)\nRequirement already satisfied: async-timeout<5.0,>=4.0.0a3 in /databricks/python3/lib/python3.11/site-packages (from aiohttp->datasets) (4.0.2)\nRequirement already satisfied: yarl<2.0,>=1.0 in /databricks/python3/lib/python3.11/site-packages (from aiohttp->datasets) (1.8.1)\nRequirement already satisfied: frozenlist>=1.1.1 in /databricks/python3/lib/python3.11/site-packages (from aiohttp->datasets) (1.3.3)\nRequirement already satisfied: aiosignal>=1.1.2 in /databricks/python3/lib/python3.11/site-packages (from aiohttp->datasets) (1.2.0)\nRequirement already satisfied: typing-extensions>=3.7.4.3 in /databricks/python3/lib/python3.11/site-packages (from huggingface-hub>=0.21.2->datasets) (4.10.0)\nRequirement already satisfied: idna<4,>=2.5 in /databricks/python3/lib/python3.11/site-packages (from requests>=2.32.2->datasets) (3.4)\nRequirement already satisfied: urllib3<3,>=1.21.1 in /databricks/python3/lib/python3.11/site-packages (from requests>=2.32.2->datasets) (1.26.16)\nRequirement already satisfied: certifi>=2017.4.17 in /databricks/python3/lib/python3.11/site-packages (from requests>=2.32.2->datasets) (2023.7.22)\nRequirement already satisfied: python-dateutil>=2.8.1 in /databricks/python3/lib/python3.11/site-packages (from pandas->datasets) (2.8.2)\nRequirement already satisfied: pytz>=2020.1 in /databricks/python3/lib/python3.11/site-packages (from pandas->datasets) (2022.7)\nRequirement already satisfied: six>=1.5 in /usr/lib/python3/dist-packages (from python-dateutil>=2.8.1->pandas->datasets) (1.16.0)\nUsing cached datasets-2.21.0-py3-none-any.whl (527 kB)\nUsing cached pyarrow-17.0.0-cp311-cp311-manylinux_2_28_x86_64.whl (39.9 MB)\nUsing cached requests-2.32.3-py3-none-any.whl (64 kB)\nUsing cached tqdm-4.66.5-py3-none-any.whl (78 kB)\nInstalling collected packages: tqdm, requests, pyarrow, datasets\n  Attempting uninstall: tqdm\n    Found existing installation: tqdm 4.65.0\n    Not uninstalling tqdm at /databricks/python3/lib/python3.11/site-packages, outside environment /local_disk0/.ephemeral_nfs/envs/pythonEnv-e5c0e8cd-af43-4421-8e74-d6648cb9e313\n    Can't uninstall 'tqdm'. No files were found to uninstall.\n  Attempting uninstall: requests\n    Found existing installation: requests 2.31.0\n    Not uninstalling requests at /databricks/python3/lib/python3.11/site-packages, outside environment /local_disk0/.ephemeral_nfs/envs/pythonEnv-e5c0e8cd-af43-4421-8e74-d6648cb9e313\n    Can't uninstall 'requests'. No files were found to uninstall.\n  Attempting uninstall: pyarrow\n    Found existing installation: pyarrow 14.0.1\n    Not uninstalling pyarrow at /databricks/python3/lib/python3.11/site-packages, outside environment /local_disk0/.ephemeral_nfs/envs/pythonEnv-e5c0e8cd-af43-4421-8e74-d6648cb9e313\n    Can't uninstall 'pyarrow'. No files were found to uninstall.\n  Attempting uninstall: datasets\n    Found existing installation: datasets 2.19.1\n    Not uninstalling datasets at /databricks/python3/lib/python3.11/site-packages, outside environment /local_disk0/.ephemeral_nfs/envs/pythonEnv-e5c0e8cd-af43-4421-8e74-d6648cb9e313\n    Can't uninstall 'datasets'. No files were found to uninstall.\n\u001B[31mERROR: pip's dependency resolver does not currently take into account all the packages that are installed. This behaviour is the source of the following dependency conflicts.\nllm-foundry 0.12.0.dev0 requires einops==0.8.0, which is not installed.\nllm-foundry 0.12.0.dev0 requires omegaconf<3,>=2.2.3, which is not installed.\nllm-foundry 0.12.0.dev0 requires onnx==1.16.2, which is not installed.\nllm-foundry 0.12.0.dev0 requires onnxruntime==1.18.1, which is not installed.\nllm-foundry 0.12.0.dev0 requires slack-sdk<4, which is not installed.\npetastorm 0.12.1 requires pyspark>=2.1.0, which is not installed.\nllm-foundry 0.12.0.dev0 requires datasets<2.20,>=2.19, but you have datasets 2.21.0 which is incompatible.\nllm-foundry 0.12.0.dev0 requires fsspec==2023.6.0, but you have fsspec 2023.5.0 which is incompatible.\nllm-foundry 0.12.0.dev0 requires sentencepiece==0.2.0, but you have sentencepiece 0.1.99 which is incompatible.\nllm-foundry 0.12.0.dev0 requires tenacity<9,>=8.2.3, but you have tenacity 8.2.2 which is incompatible.\nmlflow 2.15.1 requires pyarrow<16,>=4.0.0, but you have pyarrow 17.0.0 which is incompatible.\u001B[0m\u001B[31m\n\u001B[0mSuccessfully installed datasets-2.21.0 pyarrow-17.0.0 requests-2.32.3 tqdm-4.66.5\n\u001B[43mNote: you may need to restart the kernel using %restart_python or dbutils.library.restartPython() to use updated packages.\u001B[0m\n\u001B[43mNote: you may need to restart the kernel using %restart_python or dbutils.library.restartPython() to use updated packages.\u001B[0m\nCollecting omegaconf\n  Obtaining dependency information for omegaconf from https://files.pythonhosted.org/packages/e3/94/1843518e420fa3ed6919835845df698c7e27e183cb997394e4a670973a65/omegaconf-2.3.0-py3-none-any.whl.metadata\n  Using cached omegaconf-2.3.0-py3-none-any.whl.metadata (3.9 kB)\nCollecting antlr4-python3-runtime==4.9.* (from omegaconf)\n  Using cached antlr4_python3_runtime-4.9.3-py3-none-any.whl\nRequirement already satisfied: PyYAML>=5.1.0 in /databricks/python3/lib/python3.11/site-packages (from omegaconf) (6.0)\nUsing cached omegaconf-2.3.0-py3-none-any.whl (79 kB)\nInstalling collected packages: antlr4-python3-runtime, omegaconf\n\u001B[31mERROR: pip's dependency resolver does not currently take into account all the packages that are installed. This behaviour is the source of the following dependency conflicts.\nllm-foundry 0.12.0.dev0 requires einops==0.8.0, which is not installed.\nllm-foundry 0.12.0.dev0 requires onnx==1.16.2, which is not installed.\nllm-foundry 0.12.0.dev0 requires onnxruntime==1.18.1, which is not installed.\nllm-foundry 0.12.0.dev0 requires slack-sdk<4, which is not installed.\nllm-foundry 0.12.0.dev0 requires datasets<2.20,>=2.19, but you have datasets 2.21.0 which is incompatible.\nllm-foundry 0.12.0.dev0 requires fsspec==2023.6.0, but you have fsspec 2023.5.0 which is incompatible.\nllm-foundry 0.12.0.dev0 requires sentencepiece==0.2.0, but you have sentencepiece 0.1.99 which is incompatible.\nllm-foundry 0.12.0.dev0 requires tenacity<9,>=8.2.3, but you have tenacity 8.2.2 which is incompatible.\u001B[0m\u001B[31m\n\u001B[0mSuccessfully installed antlr4-python3-runtime-4.9.3 omegaconf-2.3.0\n\u001B[43mNote: you may need to restart the kernel using %restart_python or dbutils.library.restartPython() to use updated packages.\u001B[0m\n\u001B[43mNote: you may need to restart the kernel using %restart_python or dbutils.library.restartPython() to use updated packages.\u001B[0m\nCollecting einops\n  Obtaining dependency information for einops from https://files.pythonhosted.org/packages/44/5a/f0b9ad6c0a9017e62d4735daaeb11ba3b6c009d69a26141b258cd37b5588/einops-0.8.0-py3-none-any.whl.metadata\n  Using cached einops-0.8.0-py3-none-any.whl.metadata (12 kB)\nUsing cached einops-0.8.0-py3-none-any.whl (43 kB)\nInstalling collected packages: einops\n\u001B[31mERROR: pip's dependency resolver does not currently take into account all the packages that are installed. This behaviour is the source of the following dependency conflicts.\nllm-foundry 0.12.0.dev0 requires onnx==1.16.2, which is not installed.\nllm-foundry 0.12.0.dev0 requires onnxruntime==1.18.1, which is not installed.\nllm-foundry 0.12.0.dev0 requires slack-sdk<4, which is not installed.\nllm-foundry 0.12.0.dev0 requires datasets<2.20,>=2.19, but you have datasets 2.21.0 which is incompatible.\nllm-foundry 0.12.0.dev0 requires fsspec==2023.6.0, but you have fsspec 2023.5.0 which is incompatible.\nllm-foundry 0.12.0.dev0 requires sentencepiece==0.2.0, but you have sentencepiece 0.1.99 which is incompatible.\nllm-foundry 0.12.0.dev0 requires tenacity<9,>=8.2.3, but you have tenacity 8.2.2 which is incompatible.\u001B[0m\u001B[31m\n\u001B[0mSuccessfully installed einops-0.8.0\n\u001B[43mNote: you may need to restart the kernel using %restart_python or dbutils.library.restartPython() to use updated packages.\u001B[0m\n\u001B[43mNote: you may need to restart the kernel using %restart_python or dbutils.library.restartPython() to use updated packages.\u001B[0m\nRequirement already satisfied: sentencepiece in /databricks/python3/lib/python3.11/site-packages (0.1.99)\n\u001B[43mNote: you may need to restart the kernel using %restart_python or dbutils.library.restartPython() to use updated packages.\u001B[0m\n"
     ]
    }
   ],
   "source": [
    "%pip install --upgrade --no-deps git+https://github.com/mosaicml/llm-foundry.git@byod/data_validation\n",
    "%pip install 'mosaicml[libcloud,wandb,oci,gcs]>=0.23.4,<0.24'\n",
    "%pip install 'mlflow>=2.14.1,<2.16'\n",
    "%pip install 'transformers>=4.43.2,<4.44'\n",
    "%pip install \"mosaicml-streaming>=0.8.0,<0.9\"\n",
    "%pip install -U datasets\n",
    "%pip install omegaconf\n",
    "%pip install einops\n",
    "%pip install sentencepiece"
   ]
  },
  {
   "cell_type": "code",
   "execution_count": 0,
   "metadata": {
    "application/vnd.databricks.v1+cell": {
     "cellMetadata": {
      "byteLimit": 2048000,
      "rowLimit": 10000
     },
     "inputWidgets": {},
     "nuid": "d9a3d8a4-c89a-40a6-8093-6c2afc2ae08d",
     "showTitle": false,
     "title": ""
    }
   },
   "outputs": [],
   "source": [
    "dbutils.library.restartPython()"
   ]
  },
  {
   "cell_type": "code",
   "execution_count": 0,
   "metadata": {
    "application/vnd.databricks.v1+cell": {
     "cellMetadata": {
      "byteLimit": 2048000,
      "rowLimit": 10000
     },
     "inputWidgets": {},
     "nuid": "0dcd849e-a35f-4999-acbe-6370c7a29294",
     "showTitle": false,
     "title": ""
    }
   },
   "outputs": [
    {
     "output_type": "stream",
     "name": "stderr",
     "output_type": "stream",
     "text": [
      "Unexpected internal error when monkey patching `PreTrainedModel.from_pretrained`: Failed to import transformers.modeling_utils because of the following error (look up to see its traceback):\nFailed to import transformers.generation.utils because of the following error (look up to see its traceback):\ncannot import name 'DefaultLoadPlanner' from partially initialized module 'torch.distributed.checkpoint.default_planner' (most likely due to a circular import) (/databricks/python/lib/python3.11/site-packages/torch/distributed/checkpoint/default_planner.py)\nUnexpected internal error when monkey patching `Trainer.train`: Failed to import transformers.trainer because of the following error (look up to see its traceback):\nFailed to import transformers.integrations.integration_utils because of the following error (look up to see its traceback):\nFailed to import transformers.modeling_utils because of the following error (look up to see its traceback):\nFailed to import transformers.integrations.peft because of the following error (look up to see its traceback):\ncannot import name 'DefaultLoadPlanner' from partially initialized module 'torch.distributed.checkpoint.default_planner' (most likely due to a circular import) (/databricks/python/lib/python3.11/site-packages/torch/distributed/checkpoint/default_planner.py)\n2024-08-25 00:01:08.343422: I external/local_tsl/tsl/cuda/cudart_stub.cc:32] Could not find cuda drivers on your machine, GPU will not be used.\n2024-08-25 00:01:08.347982: I external/local_tsl/tsl/cuda/cudart_stub.cc:32] Could not find cuda drivers on your machine, GPU will not be used.\n2024-08-25 00:01:08.410458: I tensorflow/core/platform/cpu_feature_guard.cc:210] This TensorFlow binary is optimized to use available CPU instructions in performance-critical operations.\nTo enable the following instructions: AVX2 FMA, in other operations, rebuild TensorFlow with the appropriate compiler flags.\n2024-08-25 00:01:09.790476: W tensorflow/compiler/tf2tensorrt/utils/py_utils.cc:38] TF-TRT Warning: Could not find TensorRT\n"
     ]
    }
   ],
   "source": [
    "import os\n",
    "import re\n",
    "import json\n",
    "import tempfile\n",
    "import random\n",
    "import numpy as np\n",
    "import pandas as pd \n",
    "from collections import defaultdict\n",
    "from argparse import ArgumentParser, Namespace\n",
    "from typing import cast \n",
    "\n",
    "import datasets \n",
    "\n",
    "from llmfoundry.utils import (create_om_cfg, token_counts_with_collate, \n",
    "        check_HF_datasets, is_hf_dataset_path, is_uc_delta_table,\n",
    "        integrity_check, convert_text_to_mds, parse_args, plot_hist,\n",
    ")\n",
    "\n",
    "from llmfoundry.data.finetuning.tasks import (_validate_chat_formatted_example,\n",
    "                                              _tokenize_prompt_response_formatted_example,\n",
    "                                              _get_example_type, ChatFormattedDict, PromptResponseDict )\n",
    "import transformers\n",
    "transformers.logging.set_verbosity_error()"
   ]
  },
  {
   "cell_type": "markdown",
   "metadata": {
    "application/vnd.databricks.v1+cell": {
     "cellMetadata": {
      "byteLimit": 2048000,
      "rowLimit": 10000
     },
     "inputWidgets": {},
     "nuid": "3a513cdd-967d-4a87-b56f-340053fa79cd",
     "showTitle": false,
     "title": ""
    }
   },
   "source": [
    "# Instruction Fine Tuning"
   ]
  },
  {
   "cell_type": "markdown",
   "metadata": {
    "application/vnd.databricks.v1+cell": {
     "cellMetadata": {
      "byteLimit": 2048000,
      "rowLimit": 10000
     },
     "inputWidgets": {},
     "nuid": "cfebdfdf-b87c-4a77-b97c-4697566a55fa",
     "showTitle": false,
     "title": ""
    }
   },
   "source": [
    "### Fine-Tuning API Arguments Configuration\n",
    "\n",
    "This section of the notebook is dedicated to setting up the parameters for the validation notebook. These parameters should be identical to what you specify in Finetuning API. \n",
    "\n",
    "**Fine-Tuning API Arguments (FT_API_args):**\n",
    "\n",
    "- model: Specifies the model to be used for fine-tuning. E.g., 'EleutherAI/gpt-neox-20b'\n",
    "- train_data_path: The path to the training data. It can be either a huggingface dataset, a path to a jsonl file or a delta table.\n",
    "- task_type: Defines the type of task for which the training strategy will be applied. It is either 'INSTRUCTION_FINETUNE' or 'CHAT_COMPLETION' or 'CONTINUED_PRETRAIN'.\n",
    "- training_duration: The duration of the training process, expressed in numerical terms (e.g., 3) with units of training epochs.\n",
    "- context_length: Specifies the context length of the model, set to 2048. This determines how many tokens the model considers for each training example.\n",
    "\n",
    "**Temporary Data Path Configuration:**\n",
    "\n",
    "- temporary_jsonl_data_path: Defines a filesystem path where temporary data related to the training process will be stored. You need to make sure the path should not be shared by other users on the cluster, as it costs contention.\n",
    "- Environment variables for Hugging Face caches (HF_DATASETS_CACHE) are set to '/tmp/', directing dataset caching to a temporary directory.\n",
    "\n",
    "**[Supported Models by FT API](https://docs.mosaicml.com/projects/mcli/en/latest/finetuning/finetuning.html#supported-models):**. \n",
    "\n",
    "You need to specify context length based on the model mapping below.\n",
    "```\n",
    "ft_models = {\n",
    "  'mosaicml/mpt-7b-8k': 8192, \n",
    "  'mosaicml/mpt-7b': 2048,\n",
    "  'mosaicml/mpt-30b': 8192,\n",
    "  'meta-llama/Llama-2-13b-hf': 4096,\n",
    "  'meta-llama/Llama-2-7b-hf': 4096,\n",
    "  'meta-llama/Llama-2-70b-hf': 4096,\n",
    "  'codellama/CodeLlama-7b-hf': 16384,\n",
    "  'codellama/CodeLlama-13b-hf': 16384,\n",
    "  'codellama/CodeLlama-34b-hf': 16384,\n",
    "  'mistralai/Mistral-7B-v0.1': 32768,\n",
    "}\n",
    "```"
   ]
  },
  {
   "cell_type": "code",
   "execution_count": 0,
   "metadata": {
    "application/vnd.databricks.v1+cell": {
     "cellMetadata": {
      "byteLimit": 2048000,
      "rowLimit": 10000
     },
     "inputWidgets": {},
     "nuid": "0d1f2e9e-db40-41fd-a6b9-bb4757db08b0",
     "showTitle": false,
     "title": ""
    }
   },
   "outputs": [],
   "source": [
    "# Make sure you have write access to the ``home`` directory\n",
    "home = os.path.join('/local_disk0', 'ift')\n",
    "os.makedirs(home, exist_ok=True)\n",
    "os.chdir(home)"
   ]
  },
  {
   "cell_type": "code",
   "execution_count": 0,
   "metadata": {
    "application/vnd.databricks.v1+cell": {
     "cellMetadata": {
      "byteLimit": 2048000,
      "rowLimit": 10000
     },
     "inputWidgets": {},
     "nuid": "a30e53a6-d3cb-454b-82c0-2b48ca3dbf55",
     "showTitle": false,
     "title": ""
    }
   },
   "outputs": [],
   "source": [
    "FT_API_args = Namespace(\n",
    "    model= 'mosaicml/mpt-7b', # Other examples: 'EleutherAI/gpt-neox-20b',\n",
    "    train_data_path= 'mosaicml/dolly_hhrlhf/train',  # Other examples: '/path/to/train.jsonl', 'catalog.schema.table', 'iamroot/chat_formatted_examples/train', \n",
    "    task_type='INSTRUCTION_FINETUNE', # 'CHAT_COMPLETION'\n",
    "    training_duration=3,\n",
    "    context_length=2048,\n",
    ")\n",
    "\n",
    "temporary_jsonl_data_path = os.path.join(home, 'ft_data_11Jan24_3/train')\n",
    "os.environ['HF_DATASETS_CACHE'] = os.path.join(home, 'hf_cache')\n",
    "os.makedirs(temporary_jsonl_data_path, exist_ok=True)\n",
    "os.makedirs(os.environ['HF_DATASETS_CACHE'], exist_ok=True)"
   ]
  },
  {
   "cell_type": "markdown",
   "metadata": {
    "application/vnd.databricks.v1+cell": {
     "cellMetadata": {
      "byteLimit": 2048000,
      "rowLimit": 10000
     },
     "inputWidgets": {},
     "nuid": "39c45005-1a77-4162-b9e4-bd8df6f5ec69",
     "showTitle": false,
     "title": ""
    }
   },
   "source": [
    "#### Data Loading\n",
    "\n",
    "The IFT data needs to stay with a format \n",
    "```\n",
    "prompt: xxx\n",
    "response or completion: yyy\n",
    "```\n",
    "\n",
    "Based on FT_API_args.train_data_path, we will select an ingestion method from one of the three options below:\n",
    "\n",
    "- Option-1. data is a JSONL file which stores in an object store supported by Composer.\n",
    "- Option-2. data is a Huggingface dataset ID. Note you need to provide a split as well. \n",
    "- Option-3. data is a delta table. "
   ]
  },
  {
   "cell_type": "code",
   "execution_count": 0,
   "metadata": {
    "application/vnd.databricks.v1+cell": {
     "cellMetadata": {
      "byteLimit": 2048000,
      "rowLimit": 10000
     },
     "inputWidgets": {},
     "nuid": "751d8e3a-156c-432c-8e6e-a1530a5a9dc5",
     "showTitle": false,
     "title": ""
    }
   },
   "outputs": [
    {
     "output_type": "stream",
     "name": "stderr",
     "output_type": "stream",
     "text": [
      "/databricks/python_shell/dbruntime/huggingface_patches/datasets.py:45: UserWarning: The cache_dir for this dataset is /local_disk0/ift/hf_cache, which is not a persistent path.Therefore, if/when the cluster restarts, the downloaded dataset will be lost.The persistent storage options for this workspace/cluster config are: [DBFS, UC Volumes].Please update either `cache_dir` or the environment variable `HF_DATASETS_CACHE`to be under one of the following root directories: ['/dbfs/', '/Volumes/']\n  warnings.warn(warning_message)\n/databricks/python_shell/dbruntime/huggingface_patches/datasets.py:14: UserWarning: During large dataset downloads, there could be multiple progress bar widgets that can cause performance issues for your notebook or browser. To avoid these issues, use `datasets.utils.logging.disable_progress_bar()` to turn off the progress bars.\n  warnings.warn(\n"
     ]
    }
   ],
   "source": [
    "raw_dataset = None\n",
    "\n",
    "if is_hf_dataset_path(FT_API_args.train_data_path):\n",
    "    check_HF_datasets(FT_API_args.train_data_path)\n",
    "    dataset_id, split = '/'.join(FT_API_args.train_data_path.split('/')[:2]), FT_API_args.train_data_path.split('/')[-1]    \n",
    "    raw_dataset = datasets.load_dataset(dataset_id, split=split)       \n",
    "else:\n",
    "    if is_uc_delta_table(FT_API_args.train_data_path):    \n",
    "        df = spark.read.table(FT_API_args.train_data_path).toPandas()\n",
    "        df.to_json(os.path.join(temporary_jsonl_data_path, 'data.jsonl'), orient='records', lines=True)\n",
    "        raw_dataset = datasets.Dataset.from_pandas(df) \n",
    "        FT_API_args.train_data_path = temporary_jsonl_data_path\n",
    "    else: \n",
    "        # train_data_path is a jonsl file (local/remote)\n",
    "        from composer.utils import dist, get_file, parse_uri \n",
    "        data_path = FT_API_args.train_data_path \n",
    "        backend, _, _ = parse_uri(data_path)\n",
    "        if backend not in ['', None]: # It's a remote path, download before loading it\n",
    "            with tempfile.TemporaryDirectory() as tmp_dir:\n",
    "                destination = os.path.join(tmp_dir, 'data.jsonl')\n",
    "                get_file(data_path, destination)\n",
    "                df = pd.read_json(destination, orient='records', lines=True)    \n",
    "        else: \n",
    "            df = pd.read_json(data_path, orient='records', lines=True)    \n",
    "\n",
    "        raw_dataset = datasets.Dataset.from_pandas(df)\n",
    "        FT_API_args.train_data_path = os.path.dirname(data_path)\n",
    "\n",
    "if raw_dataset is None: \n",
    "    raise RuntimeError(\"Can't find a proper ingestion method\")"
   ]
  },
  {
   "cell_type": "markdown",
   "metadata": {
    "application/vnd.databricks.v1+cell": {
     "cellMetadata": {
      "byteLimit": 2048000,
      "rowLimit": 10000
     },
     "inputWidgets": {},
     "nuid": "06d46367-bd32-473a-9f16-1b34a8dd9356",
     "showTitle": false,
     "title": ""
    }
   },
   "source": [
    "#### Data Quality Checks on the Dataset"
   ]
  },
  {
   "cell_type": "markdown",
   "metadata": {
    "application/vnd.databricks.v1+cell": {
     "cellMetadata": {
      "byteLimit": 2048000,
      "rowLimit": 10000
     },
     "inputWidgets": {},
     "nuid": "1a28320a-a2a1-4f3c-a0cd-ad6045a24f64",
     "showTitle": false,
     "title": ""
    }
   },
   "source": [
    "\n",
    "This section of the notebook performs a series of checks on the initial dataset to ensure its quality and expected format. This process ensures that the dataset adheres to the expected structure and contains the necessary keys for further processing. The checks are outlined below.\n",
    "\n",
    "1. The total number of examples in the dataset is printed.\n",
    "2. The first example from the dataset is displayed. This provides a quick glimpse into the data structure and format.\n",
    "3. Data Format Validation:\n",
    "- The dataset is expected to consist of dictionary-like objects (key-value pairs). A check is performed to validate this structure.\n",
    "Each example in the dataset is examined for its compliance with the expected format.\n",
    "4. Key Presence Validation:\n",
    "- Allowed prompt and response keys, chat roles are defined in [llmfoundry](https://github.com/mosaicml/llm-foundry/blob/main/llmfoundry/data/finetuning/tasks.py): _ALLOWED_RESPONSE_KEYS and _ALLOWED_PROMPT_KEYS and _ALLOWED_ROLES.\n",
    "- For prompt response dataset, the script checks for the presence of at least one prompt key and one response key in each example.\n",
    "  - Prompt Validation: Each example is checked for the presence of keys defined in _ALLOWED_PROMPT_KEYS. If no valid prompt key is found, it is counted as a format error. \n",
    "  - Response Validation: Similarly, each example is checked for the presence of keys defined in _ALLOWED_RESPONSE_KEYS. An absence of a valid response key is also counted as a format error.\n",
    "- For chat formatted dataset, the script checks if the message content is formatted valid by calling [_validate_chat_formatted_example](https://github.com/mosaicml/llm-foundry/blob/cffd75e94e5c53b1b14c67cd17e0916fecfd0e16/llmfoundry/data/finetuning/tasks.py#L130) helper function.\n",
    "Error Reporting:\n",
    "\n",
    "If any format errors are found during the checks, they are reported.\n",
    "A summary of errors is printed, categorizing them into types like data_type (non-dictionary data), missing_prompt, and missing_response.\n",
    "If no errors are found, a congratulatory message is displayed, indicating that all checks have passed successfully."
   ]
  },
  {
   "cell_type": "code",
   "execution_count": 0,
   "metadata": {
    "application/vnd.databricks.v1+cell": {
     "cellMetadata": {
      "byteLimit": 2048000,
      "rowLimit": 10000
     },
     "inputWidgets": {},
     "nuid": "9b89b5c6-bf3a-4425-8645-4840dfeb0848",
     "showTitle": false,
     "title": ""
    }
   },
   "outputs": [
    {
     "output_type": "stream",
     "name": "stdout",
     "output_type": "stream",
     "text": [
      "Num examples: 59310\nFirst example:\n{'prompt': 'Below is an instruction that describes a task. Write a response that appropriately completes the request.\\n\\n### Instruction:\\nwhat is kangen water?\\n\\n### Response:\\n', 'response': 'Kangen water is alkaline ionized water produced through a process called electrolysis.  Kangen water is also referred to electrolyzed reduced water.  This water is characterized by an large negative oxidation reduction potential and a potential hydrogen level > 7.0 making the water alkaline.  It is also infused with molecular hydrogen in the amount of 1 - 1.5 parts per million per gallon of water produced.  This infused hydrogen has been shown to be a very good anti-inflammatory for the body.'}\n\nCongratulations! No errors found\n"
     ]
    }
   ],
   "source": [
    "# Initial dataset stats\n",
    "print(\"Num examples:\", len(raw_dataset))\n",
    "print(\"First example:\")\n",
    "for ex in raw_dataset: \n",
    "    print(ex)\n",
    "    print() \n",
    "    break \n",
    "\n",
    "format_errors = defaultdict(int)\n",
    "\n",
    "for example in raw_dataset:\n",
    "    try: \n",
    "        example_format = _get_example_type(ex)\n",
    "    except ValueError:\n",
    "        format_errors[\"unknown example type\"] += 1 \n",
    "        continue \n",
    "\n",
    "    if example_format == 'chat':\n",
    "        try: \n",
    "            chat_example = cast(ChatFormattedDict, example)\n",
    "            _validate_chat_formatted_example(chat_example)\n",
    "        except Exception as e:             \n",
    "            format_errors['chat_format_error'] += 1  \n",
    "            print(e)\n",
    "            break \n",
    "\n",
    "    elif example_format == 'prompt_response':\n",
    "        try:\n",
    "            prompt_response_example: PromptResponseDict = cast(\n",
    "                PromptResponseDict, example)\n",
    "        except Exception as e: \n",
    "            format_errors['prompt_response_format_error'] += 1  \n",
    "            print(e)\n",
    "            break \n",
    "        \n",
    "if format_errors:\n",
    "    print(\"Oops! Found errors:\")\n",
    "    for k, v in format_errors.items():\n",
    "        print(f\"{k}: {v}\")\n",
    "else:\n",
    "    print(\"Congratulations! No errors found\")    "
   ]
  },
  {
   "cell_type": "markdown",
   "metadata": {
    "application/vnd.databricks.v1+cell": {
     "cellMetadata": {
      "byteLimit": 2048000,
      "rowLimit": 10000
     },
     "inputWidgets": {},
     "nuid": "9713a0ce-80f4-4187-b10b-4223b17fe4c1",
     "showTitle": false,
     "title": ""
    }
   },
   "source": [
    "#### Token Estimation\n",
    "\n",
    "Tokenize the raw dataset and let's some statistics of the tokens and estimate the overall cost based on default trainining duration\n",
    "We will iterate over the dataloader and sum the number of tokens from each batch. "
   ]
  },
  {
   "cell_type": "code",
   "execution_count": 0,
   "metadata": {
    "application/vnd.databricks.v1+cell": {
     "cellMetadata": {
      "byteLimit": 2048000,
      "rowLimit": 10000
     },
     "inputWidgets": {},
     "nuid": "439d3bd1-0569-456f-8872-3dbafd50cbd7",
     "showTitle": false,
     "title": ""
    }
   },
   "outputs": [
    {
     "output_type": "stream",
     "name": "stderr",
     "output_type": "stream",
     "text": [
      "/databricks/python_shell/dbruntime/huggingface_patches/datasets.py:45: UserWarning: The cache_dir for this dataset is /local_disk0/ift/hf_cache, which is not a persistent path.Therefore, if/when the cluster restarts, the downloaded dataset will be lost.The persistent storage options for this workspace/cluster config are: [DBFS, UC Volumes].Please update either `cache_dir` or the environment variable `HF_DATASETS_CACHE`to be under one of the following root directories: ['/dbfs/', '/Volumes/']\n  warnings.warn(warning_message)\n/databricks/python_shell/dbruntime/huggingface_patches/datasets.py:14: UserWarning: During large dataset downloads, there could be multiple progress bar widgets that can cause performance issues for your notebook or browser. To avoid these issues, use `datasets.utils.logging.disable_progress_bar()` to turn off the progress bars.\n  warnings.warn(\n/local_disk0/.ephemeral_nfs/envs/pythonEnv-e5c0e8cd-af43-4421-8e74-d6648cb9e313/lib/python3.11/site-packages/llmfoundry/data/finetuning/tasks.py:972: UserWarning: Dropped 26 examples where the prompt was longer than 2048, the prompt or response was empty, or the response was all padding tokens.\n  warnings.warn(\n"
     ]
    },
    {
     "output_type": "display_data",
     "data": {
      "application/vnd.jupyter.widget-view+json": {
       "model_id": "abaeb207dbe940c99a8072dfd79f7181",
       "version_major": 2,
       "version_minor": 0
      },
      "text/plain": [
       "List of Token length (num_proc=4):   0%|          | 0/59284 [00:00<?, ? examples/s]"
      ]
     },
     "metadata": {},
     "output_type": "display_data"
    },
    {
     "output_type": "stream",
     "name": "stderr",
     "output_type": "stream",
     "text": [
      "/local_disk0/.ephemeral_nfs/envs/pythonEnv-e5c0e8cd-af43-4421-8e74-d6648cb9e313/lib/python3.11/site-packages/llmfoundry/data/finetuning/collator.py:367: UserWarning: Truncating sequence of length=2140 to fit max_seq_len=2048. If truncation is a problem, consider increasing max_seq_len.\n  warnings.warn(\n"
     ]
    }
   ],
   "source": [
    "n_epochs = FT_API_args.training_duration if FT_API_args.training_duration is not None else 1 \n",
    "batch_tokens = token_counts_with_collate(FT_API_args)\n",
    "n_billing_tokens_in_dataset = sum(batch_tokens['ntokens'])"
   ]
  },
  {
   "cell_type": "markdown",
   "metadata": {
    "application/vnd.databricks.v1+cell": {
     "cellMetadata": {
      "byteLimit": 2048000,
      "rowLimit": 10000
     },
     "inputWidgets": {},
     "nuid": "7249e9e6-1ea7-4fc9-8959-8a17d62a9fb4",
     "showTitle": false,
     "title": ""
    }
   },
   "source": [
    "Finetuning API will internally ingest the dataset and run tokenization with the selected tokenizer. \n",
    "The output dataset will be a collection of samples. Each sample is a collection of token ids represented as integers.  \n",
    "We generate a histogram that visualizes the distribution of frequency of token counts in samples in the dataset. \n",
    "The visualization aids in identifying patterns, outliers, and central tendencies in the token distribution."
   ]
  },
  {
   "cell_type": "code",
   "execution_count": 0,
   "metadata": {
    "application/vnd.databricks.v1+cell": {
     "cellMetadata": {
      "byteLimit": 2048000,
      "rowLimit": 10000
     },
     "inputWidgets": {},
     "nuid": "d85eaa02-ee39-4c6b-b14b-8ea1da8bf74d",
     "showTitle": false,
     "title": ""
    }
   },
   "outputs": [
    {
     "output_type": "stream",
     "name": "stdout",
     "output_type": "stream",
     "text": [
      "Dataset has ~9646381 tokens that will be used by the model during training\nAssume you'll train for 3 epochs on this dataset\nThen ~28939143 tokens will be running through the model during training\n"
     ]
    },
    {
     "output_type": "display_data",
     "data": {
      "image/png": "[encoded data removed]",
      "text/plain": [
       "<Figure size 1000x600 with 1 Axes>"
      ]
     },
     "metadata": {},
     "output_type": "display_data"
    }
   ],
   "source": [
    "print(f\"Dataset has ~{n_billing_tokens_in_dataset} tokens that will be used by the model during training\")\n",
    "print(f\"Assume you'll train for {n_epochs} epochs on this dataset\")\n",
    "print(f\"Then ~{n_epochs * n_billing_tokens_in_dataset} tokens will be running through the model during training\")\n",
    "plot_hist(pd.Series(batch_tokens['ntokens']))"
   ]
  },
  {
   "cell_type": "markdown",
   "metadata": {
    "application/vnd.databricks.v1+cell": {
     "cellMetadata": {
      "byteLimit": 2048000,
      "rowLimit": 10000
     },
     "inputWidgets": {},
     "nuid": "6699f47f-9b53-47da-95c0-b862c5826d0a",
     "showTitle": false,
     "title": ""
    }
   },
   "source": [
    "# Continued Pretrain"
   ]
  },
  {
   "cell_type": "markdown",
   "metadata": {
    "application/vnd.databricks.v1+cell": {
     "cellMetadata": {
      "byteLimit": 2048000,
      "rowLimit": 10000
     },
     "inputWidgets": {},
     "nuid": "dd37fdce-62d0-493e-bfa9-d823634b2a0d",
     "showTitle": false,
     "title": ""
    }
   },
   "source": [
    "### Continued Pretrain API Arguments Configuration\n",
    "\n",
    "Similar to Instruction Finetune, you need to specify\n",
    "\n",
    "**Fine-Tuning API Arguments (FT_API_args):**\n",
    "\n",
    "- model: Specifies the model to be used for fine-tuning. E.g., 'EleutherAI/gpt-neox-20b'\n",
    "- train_data_path: The path to the training data. We currently only support a (remote/local) path to a collection of .txt files.\n",
    "- task_type: Defines the type of task for which the training strategy will be applied. It is either 'INSTRUCTION_FINETUNE' or 'CONTINUED_PRETRAIN'.\n",
    "- training_duration: The duration of the training process, expressed in numerical terms (e.g., 3) with units of training epochs.\n",
    "- context_length: Specifies the context length of the model, set to 2048. This determines how many tokens the model considers for each training example. For Continued Pretraining, we concatenate tokens to form samples of length equal to context_length\n",
    "\n",
    "**Temporary Data Path Configuration:**\n",
    "\n",
    "- temporary_mds_output_path: Defines a filesystem path where notebook running data can be stored. You need to make sure the path should not be shared by other users on the cluster, as it costs contention. For example, you can make it distinguishable by adding your username to the path.\n",
    "\n",
    "**[Supported Models by FT API](https://docs.mosaicml.com/projects/mcli/en/latest/finetuning/finetuning.html#supported-models):**. \n",
    "\n",
    "You need to specify context length based on the model mapping below.\n",
    "```\n",
    "ft_models = {\n",
    "  'mosaicml/mpt-7b-8k': 8192, \n",
    "  'mosaicml/mpt-7b': 2048,\n",
    "  'mosaicml/mpt-30b': 8192,\n",
    "  'meta-llama/Llama-2-13b-hf': 4096,\n",
    "  'meta-llama/Llama-2-7b-hf': 4096,\n",
    "  'meta-llama/Llama-2-70b-hf': 4096,\n",
    "  'codellama/CodeLlama-7b-hf': 16384,\n",
    "  'codellama/CodeLlama-13b-hf': 16384,\n",
    "  'codellama/CodeLlama-34b-hf': 16384,\n",
    "  'mistralai/Mistral-7B-v0.1': 32768,\n",
    "}\n",
    "```"
   ]
  },
  {
   "cell_type": "code",
   "execution_count": 0,
   "metadata": {
    "application/vnd.databricks.v1+cell": {
     "cellMetadata": {
      "byteLimit": 2048000,
      "rowLimit": 10000
     },
     "inputWidgets": {},
     "nuid": "7a773173-2a7f-4605-a7ca-0ece52a905f1",
     "showTitle": false,
     "title": ""
    }
   },
   "outputs": [],
   "source": [
    "FT_API_args = Namespace(\n",
    "    model= 'mosaicml/mpt-7b',\n",
    "    train_data_path= os.path.join(home, 'ABT'), # this is the path to your collection of txt files\n",
    "    task_type='CONTINUED_PRETRAIN',\n",
    "    training_duration=3,\n",
    "    context_length=8,\n",
    ")\n",
    "temporary_mds_output_path = os.path.join(home, 'mds_data_11Jan24_5')"
   ]
  },
  {
   "cell_type": "markdown",
   "metadata": {
    "application/vnd.databricks.v1+cell": {
     "cellMetadata": {
      "byteLimit": 2048000,
      "rowLimit": 10000
     },
     "inputWidgets": {},
     "nuid": "fc2e4e8b-7700-47c4-bb21-ae4c389f39a2",
     "showTitle": false,
     "title": ""
    }
   },
   "source": [
    "Generate a synthetic dataset. Replace train_data_path with your raw data path in practice."
   ]
  },
  {
   "cell_type": "code",
   "execution_count": 0,
   "metadata": {
    "application/vnd.databricks.v1+cell": {
     "cellMetadata": {
      "byteLimit": 2048000,
      "rowLimit": 10000
     },
     "inputWidgets": {},
     "nuid": "10f08422-5091-4e64-b3f7-54928584cd60",
     "showTitle": false,
     "title": ""
    }
   },
   "outputs": [
    {
     "output_type": "stream",
     "name": "stdout",
     "output_type": "stream",
     "text": [
      "Generated 128 files in '/local_disk0/ift/ABT'.\n"
     ]
    }
   ],
   "source": [
    "def generate_synthetic_dataset(folder_path, num_files=128):\n",
    "    \"\"\"Generate a synthetic dataset of text files with random words.\"\"\"\n",
    "    def generate_random_words(num_words=50):\n",
    "        words = [\"apple\", \"banana\", \"cherry\", \"date\", \"elderberry\", \"fig\", \"grape\", \"honeydew\", \"kiwi\", \"lemon\", \"mango\", \"nectarine\", \"orange\", \"papaya\", \"quince\", \"raspberry\", \"strawberry\", \"tangerine\", \"ugli\", \"vanilla\", \"watermelon\", \"xigua\", \"yam\", \"zucchini\"]\n",
    "        return ' '.join(random.choice(words) for _ in range(num_words))\n",
    "\n",
    "    if not os.path.exists(folder_path):\n",
    "        os.makedirs(folder_path)\n",
    "    \n",
    "    for i in range(num_files):\n",
    "        file_path = os.path.join(folder_path, f\"file_{i}.txt\")\n",
    "        with open(file_path, 'w') as file:\n",
    "            file.write(generate_random_words())\n",
    "\n",
    "    print(f\"Generated {num_files} files in '{folder_path}'.\")\n",
    "\n",
    "generate_synthetic_dataset(FT_API_args.train_data_path)"
   ]
  },
  {
   "cell_type": "code",
   "execution_count": 0,
   "metadata": {
    "application/vnd.databricks.v1+cell": {
     "cellMetadata": {
      "byteLimit": 2048000,
      "rowLimit": 10000
     },
     "inputWidgets": {},
     "nuid": "34bcddfb-7d4f-4243-bd02-7ac3e0dce711",
     "showTitle": false,
     "title": ""
    }
   },
   "outputs": [],
   "source": [
    "!rm -rf {temporary_mds_output_path}"
   ]
  },
  {
   "cell_type": "markdown",
   "metadata": {
    "application/vnd.databricks.v1+cell": {
     "cellMetadata": {
      "byteLimit": 2048000,
      "rowLimit": 10000
     },
     "inputWidgets": {},
     "nuid": "c21e7d1b-db34-4e5d-b6d9-190dc75170d3",
     "showTitle": false,
     "title": ""
    }
   },
   "source": [
    "#### Ingestion, Tokenization and Materialization\n",
    "\n",
    "CPT takes a folder of txt files as input. It tokenize the text fields and materialize as a streaming dataset of MDS format. \n",
    "\n",
    "FT API uses [llmfoundry/scripts/data_prep/convert_text_to_mds.py](https://github.com/mosaicml/llm-foundry/blob/main/scripts/data_prep/convert_text_to_mds.py) to download all the txt files and convert them to MDS. \n",
    "\n",
    "In this notebook, we provide two additional approaches via Spark and Dask. \n",
    "\n",
    "**Warning** CPT datasets are normally much larger than IFT, so the tokenization and materialization can be very time consuming. "
   ]
  },
  {
   "cell_type": "code",
   "execution_count": 0,
   "metadata": {
    "application/vnd.databricks.v1+cell": {
     "cellMetadata": {
      "byteLimit": 2048000,
      "rowLimit": 10000
     },
     "inputWidgets": {},
     "nuid": "23a56b37-9c1e-4a2e-b8eb-96562ba104f0",
     "showTitle": false,
     "title": ""
    }
   },
   "outputs": [],
   "source": [
    "import os\n",
    "os.makedirs(temporary_mds_output_path, exist_ok=True)"
   ]
  },
  {
   "cell_type": "code",
   "execution_count": 0,
   "metadata": {
    "application/vnd.databricks.v1+cell": {
     "cellMetadata": {
      "byteLimit": 2048000,
      "rowLimit": 10000
     },
     "inputWidgets": {},
     "nuid": "d2f32fa2-a9b5-4ae8-a54a-0ea329ad1176",
     "showTitle": false,
     "title": ""
    }
   },
   "outputs": [],
   "source": [
    "cfg, tokenizer = create_om_cfg(FT_API_args)\n",
    "\n",
    "input_folder = FT_API_args.train_data_path\n",
    "output_folder = temporary_mds_output_path\n",
    "concat_tokens = FT_API_args.context_length\n",
    "tokenizer_name = FT_API_args.model\n",
    "\n",
    "# Run convert_text_to_mds.py and dump MDS dataset to \"save_folder\"\n",
    "args = parse_args(tokenizer_name, concat_tokens, output_folder, input_folder)\n",
    "\n",
    "n_samples = convert_text_to_mds(\n",
    "    tokenizer_name=args.tokenizer,\n",
    "    output_folder=args.output_folder,\n",
    "    input_folder=args.input_folder,\n",
    "    concat_tokens=args.concat_tokens,\n",
    "    eos_text=args.eos_text,\n",
    "    bos_text=args.bos_text,\n",
    "    no_wrap=args.no_wrap,\n",
    "    compression=args.compression,\n",
    "    processes=1,\n",
    "    reprocess=True,\n",
    "    args_str=str(args), \n",
    "    trust_remote_code=False)\n",
    "\n",
    "n_billing_tokens_in_dataset = n_samples * concat_tokens"
   ]
  },
  {
   "cell_type": "markdown",
   "metadata": {
    "application/vnd.databricks.v1+cell": {
     "cellMetadata": {
      "byteLimit": 2048000,
      "rowLimit": 10000
     },
     "inputWidgets": {},
     "nuid": "298eb990-9160-4e1b-958f-33dd2c11b54b",
     "showTitle": false,
     "title": ""
    }
   },
   "source": [
    "#### Token Estimation"
   ]
  },
  {
   "cell_type": "code",
   "execution_count": 0,
   "metadata": {
    "application/vnd.databricks.v1+cell": {
     "cellMetadata": {
      "byteLimit": 2048000,
      "rowLimit": 10000
     },
     "inputWidgets": {},
     "nuid": "5bc58cb3-0a19-4512-9584-642f0a2be4df",
     "showTitle": false,
     "title": ""
    }
   },
   "outputs": [
    {
     "output_type": "stream",
     "name": "stdout",
     "output_type": "stream",
     "text": [
      "Dataset has ~11864 tokens that will be charged for during training\nBy default, you'll train for 3 epochs on this dataset\nBy default, ~35592 tokens will be used in training\n"
     ]
    }
   ],
   "source": [
    "MAX_TOKENS_PER_EXAMPLE = FT_API_args.context_length if FT_API_args.context_length is not None else 4096\n",
    "TARGET_EPOCHS = FT_API_args.training_duration if FT_API_args.training_duration is not None else 1 \n",
    "n_epochs = TARGET_EPOCHS\n",
    "\n",
    "print(f\"Dataset has ~{n_billing_tokens_in_dataset} tokens that will be charged for during training\")\n",
    "print(f\"By default, you'll train for {n_epochs} epochs on this dataset\")\n",
    "print(f\"By default, ~{n_epochs * n_billing_tokens_in_dataset} tokens will be used in training\")"
   ]
  },
  {
   "cell_type": "code",
   "execution_count": 0,
   "metadata": {
    "application/vnd.databricks.v1+cell": {
     "cellMetadata": {
      "byteLimit": 2048000,
      "rowLimit": 10000
     },
     "inputWidgets": {},
     "nuid": "e123669c-2f77-4d66-93eb-04efd546f39f",
     "showTitle": false,
     "title": ""
    }
   },
   "outputs": [],
   "source": []
  }
 ],
 "metadata": {
  "application/vnd.databricks.v1+notebook": {
   "dashboards": [],
   "environmentMetadata": {
    "base_environment": "",
    "client": "1"
   },
   "language": "python",
   "notebookMetadata": {
    "pythonIndentUnit": 2
   },
   "notebookName": "validate_and_tokenize_data (1)",
   "widgets": {}
  },
  "kernelspec": {
   "display_name": "Python 3 (ipykernel)",
   "language": "python",
   "name": "python3"
  },
  "language_info": {
   "codemirror_mode": {
    "name": "ipython",
    "version": 3
   },
   "file_extension": ".py",
   "mimetype": "text/x-python",
   "name": "python",
   "nbconvert_exporter": "python",
   "pygments_lexer": "ipython3",
   "version": "3.10.13"
  }
 },
 "nbformat": 4,
 "nbformat_minor": 0
}
