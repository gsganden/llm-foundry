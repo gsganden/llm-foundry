{
 "cells": [
  {
   "cell_type": "markdown",
   "metadata": {
    "application/vnd.databricks.v1+cell": {
     "cellMetadata": {
      "byteLimit": 2048000,
      "rowLimit": 10000
     },
     "inputWidgets": {},
     "nuid": "f275a21b-47d4-472c-972b-e2a84a597db2",
     "showTitle": false,
     "title": ""
    }
   },
   "source": [
    "# FM FT API: Data Validation and \\$Token Estimation\n",
    "\n",
    "#### Usage Scenario:\n",
    "This notebook goes hand-in-hand with Databricks-Mosaicml's FT API. Our customers may find it useful in scenarios where there is a risk of data being malformed. It acts as a preventive measure to ensure data integrity and helps in cost assessment for the fine-tuning process.\n",
    "\n",
    "#### Script Purpose:\n",
    "- **Not for Training**: This script is not utilized during the training process.\n",
    "- **Ad-Hoc Validation**: It serves as an ad-hoc utility for users to run independently prior to starting fine-tuning.\n",
    "- **Data Verification**: Its primary function is to validate the user's data before they invoke the Fine-Tuning (FT) API.\n",
    "- **Cost Estimation**: Users can estimate the cost implications with this script.\n",
    "\n",
    "#### Note on Long-Term Solution:\n",
    "- **Future Development**: We are in the process of developing a long-term data preparation service, which will eventually replace this script.\n",
    "\n",
    "#### User Defines:\n",
    "- The inputs to this validation script is assumed to be the same or a subset of the FT API arguments, i.e., a configuration like below. \n",
    "- For the reference, FT API expects following\n",
    "```\n",
    "cfg = {\n",
    "    model: str,\n",
    "    train_data_path: str,\n",
    "    save_folder: str,\n",
    "    *,\n",
    "    task_type: Optional[str] = \"INSTRUCTION_FINETUNE\",\n",
    "    eval_data_path: Optional[str] = None,\n",
    "    eval_prompts: Optional[List[str]] = None,\n",
    "    custom_weights_path: Optional[str] = None,\n",
    "    training_duration: Optional[str] = None,\n",
    "    learning_rate: Optional[float] = None,\n",
    "    context_length: Optional[int] = None,\n",
    "    experiment_trackers: Optional[List[Dict]] = None,\n",
    "    disable_credentials_check: Optional[bool] = None,\n",
    "    timeout: Optional[float] = 10,\n",
    "    future: Literal[False] = False,\n",
    "}\n",
    "``` "
   ]
  },
  {
   "cell_type": "markdown",
   "metadata": {
    "application/vnd.databricks.v1+cell": {
     "cellMetadata": {
      "byteLimit": 2048000,
      "rowLimit": 10000
     },
     "inputWidgets": {},
     "nuid": "3d08a21c-9f5a-4ad2-af85-e016335cc53d",
     "showTitle": false,
     "title": ""
    }
   },
   "source": [
    "# Installation"
   ]
  },
  {
   "cell_type": "code",
   "execution_count": 0,
   "metadata": {
    "application/vnd.databricks.v1+cell": {
     "cellMetadata": {
      "byteLimit": 2048000,
      "rowLimit": 10000
     },
     "inputWidgets": {},
     "nuid": "6f330be7-ff76-4fa2-928f-396367b359ea",
     "showTitle": false,
     "title": ""
    }
   },
   "outputs": [
    {
     "output_type": "stream",
     "name": "stdout",
     "output_type": "stream",
     "text": [
      "WARNING: Skipping llm-foundry as it is not installed.\n\u001B[43mNote: you may need to restart the kernel using %restart_python or dbutils.library.restartPython() to use updated packages.\u001B[0m\n"
     ]
    }
   ],
   "source": [
    "%pip uninstall -y llm-foundry"
   ]
  },
  {
   "cell_type": "code",
   "execution_count": 0,
   "metadata": {
    "application/vnd.databricks.v1+cell": {
     "cellMetadata": {
      "byteLimit": 2048000,
      "rowLimit": 10000
     },
     "inputWidgets": {},
     "nuid": "6122e872-44b8-48a3-af61-4b907fc0a71f",
     "showTitle": false,
     "title": ""
    }
   },
   "outputs": [],
   "source": [
    "dbutils.library.restartPython()"
   ]
  },
  {
   "cell_type": "code",
   "execution_count": 0,
   "metadata": {
    "application/vnd.databricks.v1+cell": {
     "cellMetadata": {
      "byteLimit": 2048000,
      "rowLimit": 10000
     },
     "inputWidgets": {},
     "nuid": "34e0a248-1d33-4379-841b-6d7d123bbc8a",
     "showTitle": false,
     "title": ""
    }
   },
   "outputs": [
    {
     "output_type": "stream",
     "name": "stdout",
     "output_type": "stream",
     "text": [
      "Collecting git+https://github.com/mosaicml/llm-foundry.git@byod/data_validation\n  Cloning https://github.com/mosaicml/llm-foundry.git (to revision byod/data_validation) to /tmp/pip-req-build-5fgsub_s\n  Running command git clone --filter=blob:none --quiet https://github.com/mosaicml/llm-foundry.git /tmp/pip-req-build-5fgsub_s\n  Running command git checkout -b byod/data_validation --track origin/byod/data_validation\n  Switched to a new branch 'byod/data_validation'\n  branch 'byod/data_validation' set up to track 'origin/byod/data_validation'.\n  Resolved https://github.com/mosaicml/llm-foundry.git to commit 55ff10e1fb09573e1d8595af7fff27faddf3be7f\n  Installing build dependencies: started\n  Installing build dependencies: finished with status 'done'\n  Getting requirements to build wheel: started\n  Getting requirements to build wheel: finished with status 'done'\n  Installing backend dependencies: started\n  Installing backend dependencies: finished with status 'done'\n  Preparing metadata (pyproject.toml): started\n  Preparing metadata (pyproject.toml): finished with status 'done'\nBuilding wheels for collected packages: llm-foundry\n  Building wheel for llm-foundry (pyproject.toml): started\n  Building wheel for llm-foundry (pyproject.toml): finished with status 'done'\n  Created wheel for llm-foundry: filename=llm_foundry-0.12.0.dev0-py3-none-any.whl size=298082 sha256=6687eabcd34b5e9dcaa76cc2542d29f3a218fa86752a5b0ee0acaac3eadddbe5\n  Stored in directory: /tmp/pip-ephem-wheel-cache-oab5k0l3/wheels/79/d0/74/ead764acbf63bc4affaa6625d9a75552bc9f8b6a61da5bd4e6\nSuccessfully built llm-foundry\nInstalling collected packages: llm-foundry\nSuccessfully installed llm-foundry-0.12.0.dev0\n\u001B[43mNote: you may need to restart the kernel using %restart_python or dbutils.library.restartPython() to use updated packages.\u001B[0m\nCollecting mosaicml[gcs,libcloud,oci,wandb]<0.24,>=0.23.4\n  Downloading mosaicml-0.23.5-py3-none-any.whl (598 kB)\n     ━━━━━━━━━━━━━━━━━━━━━━━━━━━━━━━━━━━━━━ 598.4/598.4 kB 10.0 MB/s eta 0:00:00\nCollecting torch<2.3.2,>=2.1.2\n  Downloading torch-2.3.1-cp310-cp310-manylinux1_x86_64.whl (779.1 MB)\n     ━━━━━━━━━━━━━━━━━━━━━━━━━━━━━━━━━━━━━ 779.1/779.1 MB 518.3 kB/s eta 0:00:00\nRequirement already satisfied: numpy<2.1.0,>=1.21.5 in /databricks/python3/lib/python3.10/site-packages (from mosaicml[gcs,libcloud,oci,wandb]<0.24,>=0.23.4) (1.23.5)\nCollecting pillow<11,>=10.3.0\n  Downloading pillow-10.4.0-cp310-cp310-manylinux_2_28_x86_64.whl (4.5 MB)\n     ━━━━━━━━━━━━━━━━━━━━━━━━━━━━━━━━━━━━━━━━ 4.5/4.5 MB 110.3 MB/s eta 0:00:00\nCollecting torchmetrics<1.3.3,>=0.10.0\n  Downloading torchmetrics-1.3.2-py3-none-any.whl (841 kB)\n     ━━━━━━━━━━━━━━━━━━━━━━━━━━━━━━━━━━━━━━ 841.5/841.5 kB 59.9 MB/s eta 0:00:00\nCollecting importlib-metadata<7,>=5.0.0\n  Downloading importlib_metadata-6.11.0-py3-none-any.whl (23 kB)\nCollecting torch-optimizer<0.4,>=0.3.0\n  Downloading torch_optimizer-0.3.0-py3-none-any.whl (61 kB)\n     ━━━━━━━━━━━━━━━━━━━━━━━━━━━━━━━━━━━━━━━━ 61.9/61.9 kB 12.1 MB/s eta 0:00:00\nRequirement already satisfied: requests<3,>=2.26.0 in /databricks/python3/lib/python3.10/site-packages (from mosaicml[gcs,libcloud,oci,wandb]<0.24,>=0.23.4) (2.28.1)\nRequirement already satisfied: packaging<24.2,>=21.3.0 in /databricks/python3/lib/python3.10/site-packages (from mosaicml[gcs,libcloud,oci,wandb]<0.24,>=0.23.4) (23.2)\nCollecting tqdm<5,>=4.62.3\n  Downloading tqdm-4.66.5-py3-none-any.whl (78 kB)\n     ━━━━━━━━━━━━━━━━━━━━━━━━━━━━━━━━━━━━━━━━ 78.4/78.4 kB 18.9 MB/s eta 0:00:00\nCollecting pyyaml<7,>=6.0\n  Downloading PyYAML-6.0.2-cp310-cp310-manylinux_2_17_x86_64.manylinux2014_x86_64.whl (751 kB)\n     ━━━━━━━━━━━━━━━━━━━━━━━━━━━━━━━━━━━━━━ 751.2/751.2 kB 84.4 MB/s eta 0:00:00\nRequirement already satisfied: psutil<7,>=5.8.0 in /databricks/python3/lib/python3.10/site-packages (from mosaicml[gcs,libcloud,oci,wandb]<0.24,>=0.23.4) (5.9.0)\nCollecting torchvision<0.18.2,>=0.13.1\n  Downloading torchvision-0.18.1-cp310-cp310-manylinux1_x86_64.whl (7.0 MB)\n     ━━━━━━━━━━━━━━━━━━━━━━━━━━━━━━━━━━━━━━━━ 7.0/7.0 MB 105.9 MB/s eta 0:00:00\nCollecting coolname<3,>=1.1.0\n  Downloading coolname-2.2.0-py2.py3-none-any.whl (37 kB)\nCollecting mosaicml-cli<0.7,>=0.5.25\n  Downloading mosaicml_cli-0.6.41-py3-none-any.whl (272 kB)\n     ━━━━━━━━━━━━━━━━━━━━━━━━━━━━━━━━━━━━━━ 272.2/272.2 kB 42.9 MB/s eta 0:00:00\nCollecting tabulate==0.9.0\n  Downloading tabulate-0.9.0-py3-none-any.whl (35 kB)\nCollecting py-cpuinfo<10,>=8.0.0\n  Downloading py_cpuinfo-9.0.0-py3-none-any.whl (22 kB)\nCollecting apache-libcloud<4,>=3.3.1\n  Downloading apache_libcloud-3.8.0-py2.py3-none-any.whl (3.7 MB)\n     ━━━━━━━━━━━━━━━━━━━━━━━━━━━━━━━━━━━━━━━━ 3.7/3.7 MB 75.5 MB/s eta 0:00:00\nCollecting oci<3.0.0,>=2.88.2\n  Downloading oci-2.132.0-py3-none-any.whl (27.6 MB)\n     ━━━━━━━━━━━━━━━━━━━━━━━━━━━━━━━━━━━━━━━━ 27.6/27.6 MB 46.2 MB/s eta 0:00:00\nCollecting google-cloud-storage<3.0,>=2.0.0\n  Downloading google_cloud_storage-2.18.2-py2.py3-none-any.whl (130 kB)\n     ━━━━━━━━━━━━━━━━━━━━━━━━━━━━━━━━━━━━━━ 130.5/130.5 kB 24.7 MB/s eta 0:00:00\nCollecting wandb<0.18,>=0.13.2\n  Downloading wandb-0.17.7-py3-none-manylinux_2_17_x86_64.manylinux2014_x86_64.whl (9.3 MB)\n     ━━━━━━━━━━━━━━━━━━━━━━━━━━━━━━━━━━━━━━━━ 9.3/9.3 MB 99.9 MB/s eta 0:00:00\nRequirement already satisfied: google-auth<3.0dev,>=2.26.1 in /databricks/python3/lib/python3.10/site-packages (from google-cloud-storage<3.0,>=2.0.0->mosaicml[gcs,libcloud,oci,wandb]<0.24,>=0.23.4) (2.28.1)\nCollecting google-crc32c<2.0dev,>=1.0\n  Downloading google_crc32c-1.5.0-cp310-cp310-manylinux_2_17_x86_64.manylinux2014_x86_64.whl (32 kB)\nCollecting google-api-core<3.0.0dev,>=2.15.0\n  Downloading google_api_core-2.19.1-py3-none-any.whl (139 kB)\n     ━━━━━━━━━━━━━━━━━━━━━━━━━━━━━━━━━━━━━━ 139.4/139.4 kB 28.5 MB/s eta 0:00:00\nCollecting google-cloud-core<3.0dev,>=2.3.0\n  Downloading google_cloud_core-2.4.1-py2.py3-none-any.whl (29 kB)\nCollecting google-resumable-media>=2.7.2\n  Downloading google_resumable_media-2.7.2-py2.py3-none-any.whl (81 kB)\n     ━━━━━━━━━━━━━━━━━━━━━━━━━━━━━━━━━━━━━━━━ 81.3/81.3 kB 18.7 MB/s eta 0:00:00\nRequirement already satisfied: zipp>=0.5 in /usr/lib/python3/dist-packages (from importlib-metadata<7,>=5.0.0->mosaicml[gcs,libcloud,oci,wandb]<0.24,>=0.23.4) (1.0.0)\nCollecting arrow>=1.2.2\n  Downloading arrow-1.3.0-py3-none-any.whl (66 kB)\n     ━━━━━━━━━━━━━━━━━━━━━━━━━━━━━━━━━━━━━━━━ 66.4/66.4 kB 15.2 MB/s eta 0:00:00\nCollecting rich>=12.6.0\n  Downloading rich-13.7.1-py3-none-any.whl (240 kB)\n     ━━━━━━━━━━━━━━━━━━━━━━━━━━━━━━━━━━━━━━ 240.7/240.7 kB 44.0 MB/s eta 0:00:00\nRequirement already satisfied: protobuf>=3.20.0 in /databricks/python3/lib/python3.10/site-packages (from mosaicml-cli<0.7,>=0.5.25->mosaicml[gcs,libcloud,oci,wandb]<0.24,>=0.23.4) (4.25.3)\nRequirement already satisfied: urllib3>=1.23 in /databricks/python3/lib/python3.10/site-packages (from mosaicml-cli<0.7,>=0.5.25->mosaicml[gcs,libcloud,oci,wandb]<0.24,>=0.23.4) (1.26.14)\nCollecting termcolor>=1.1.0\n  Downloading termcolor-2.4.0-py3-none-any.whl (7.7 kB)\nRequirement already satisfied: prompt-toolkit>=3.0.29 in /databricks/python3/lib/python3.10/site-packages (from mosaicml-cli<0.7,>=0.5.25->mosaicml[gcs,libcloud,oci,wandb]<0.24,>=0.23.4) (3.0.36)\nCollecting validators>=0.20.0\n  Downloading validators-0.33.0-py3-none-any.whl (43 kB)\n     ━━━━━━━━━━━━━━━━━━━━━━━━━━━━━━━━━━━━━━━━ 43.3/43.3 kB 9.7 MB/s eta 0:00:00\nRequirement already satisfied: typing-extensions>=4.0.1 in /databricks/python3/lib/python3.10/site-packages (from mosaicml-cli<0.7,>=0.5.25->mosaicml[gcs,libcloud,oci,wandb]<0.24,>=0.23.4) (4.4.0)\nCollecting gql[websockets]>=3.4.0\n  Downloading gql-3.5.0-py2.py3-none-any.whl (74 kB)\n     ━━━━━━━━━━━━━━━━━━━━━━━━━━━━━━━━━━━━━━━━ 74.0/74.0 kB 17.0 MB/s eta 0:00:00\nCollecting argcomplete>=2.0.0\n  Downloading argcomplete-3.5.0-py3-none-any.whl (43 kB)\n     ━━━━━━━━━━━━━━━━━━━━━━━━━━━━━━━━━━━━━━━━ 43.5/43.5 kB 8.5 MB/s eta 0:00:00\nCollecting questionary>=1.10.0\n  Downloading questionary-2.0.1-py3-none-any.whl (34 kB)\nCollecting ruamel.yaml>=0.17.21\n  Downloading ruamel.yaml-0.18.6-py3-none-any.whl (117 kB)\n     ━━━━━━━━━━━━━━━━━━━━━━━━━━━━━━━━━━━━━━ 117.8/117.8 kB 26.9 MB/s eta 0:00:00\nCollecting backoff>=2.2.1\n  Downloading backoff-2.2.1-py3-none-any.whl (15 kB)\nCollecting circuitbreaker<3.0.0,>=1.3.1\n  Downloading circuitbreaker-2.0.0-py2.py3-none-any.whl (7.6 kB)\nRequirement already satisfied: python-dateutil<3.0.0,>=2.5.3 in /databricks/python3/lib/python3.10/site-packages (from oci<3.0.0,>=2.88.2->mosaicml[gcs,libcloud,oci,wandb]<0.24,>=0.23.4) (2.8.2)\nCollecting pyOpenSSL<25.0.0,>=17.5.0\n  Downloading pyOpenSSL-24.2.1-py3-none-any.whl (58 kB)\n     ━━━━━━━━━━━━━━━━━━━━━━━━━━━━━━━━━━━━━━━━ 58.4/58.4 kB 10.9 MB/s eta 0:00:00\nRequirement already satisfied: certifi in /databricks/python3/lib/python3.10/site-packages (from oci<3.0.0,>=2.88.2->mosaicml[gcs,libcloud,oci,wandb]<0.24,>=0.23.4) (2022.12.7)\nRequirement already satisfied: cryptography<43.0.0,>=3.2.1 in /databricks/python3/lib/python3.10/site-packages (from oci<3.0.0,>=2.88.2->mosaicml[gcs,libcloud,oci,wandb]<0.24,>=0.23.4) (39.0.1)\nRequirement already satisfied: pytz>=2016.10 in /databricks/python3/lib/python3.10/site-packages (from oci<3.0.0,>=2.88.2->mosaicml[gcs,libcloud,oci,wandb]<0.24,>=0.23.4) (2022.7)\nRequirement already satisfied: idna<4,>=2.5 in /databricks/python3/lib/python3.10/site-packages (from requests<3,>=2.26.0->mosaicml[gcs,libcloud,oci,wandb]<0.24,>=0.23.4) (3.4)\nRequirement already satisfied: charset-normalizer<3,>=2 in /databricks/python3/lib/python3.10/site-packages (from requests<3,>=2.26.0->mosaicml[gcs,libcloud,oci,wandb]<0.24,>=0.23.4) (2.0.4)\nCollecting nvidia-cuda-cupti-cu12==12.1.105\n  Downloading nvidia_cuda_cupti_cu12-12.1.105-py3-none-manylinux1_x86_64.whl (14.1 MB)\n     ━━━━━━━━━━━━━━━━━━━━━━━━━━━━━━━━━━━━━━━━ 14.1/14.1 MB 63.5 MB/s eta 0:00:00\nCollecting sympy\n  Downloading sympy-1.13.2-py3-none-any.whl (6.2 MB)\n     ━━━━━━━━━━━━━━━━━━━━━━━━━━━━━━━━━━━━━━━━ 6.2/6.2 MB 68.6 MB/s eta 0:00:00\nCollecting nvidia-cufft-cu12==11.0.2.54\n  Downloading nvidia_cufft_cu12-11.0.2.54-py3-none-manylinux1_x86_64.whl (121.6 MB)\n     ━━━━━━━━━━━━━━━━━━━━━━━━━━━━━━━━━━━━━━━ 121.6/121.6 MB 8.8 MB/s eta 0:00:00\nCollecting nvidia-curand-cu12==10.3.2.106\n  Downloading nvidia_curand_cu12-10.3.2.106-py3-none-manylinux1_x86_64.whl (56.5 MB)\n     ━━━━━━━━━━━━━━━━━━━━━━━━━━━━━━━━━━━━━━━━ 56.5/56.5 MB 27.8 MB/s eta 0:00:00\nCollecting nvidia-cuda-runtime-cu12==12.1.105\n  Downloading nvidia_cuda_runtime_cu12-12.1.105-py3-none-manylinux1_x86_64.whl (823 kB)\n     ━━━━━━━━━━━━━━━━━━━━━━━━━━━━━━━━━━━━━━ 823.6/823.6 kB 99.2 MB/s eta 0:00:00\nRequirement already satisfied: jinja2 in /databricks/python3/lib/python3.10/site-packages (from torch<2.3.2,>=2.1.2->mosaicml[gcs,libcloud,oci,wandb]<0.24,>=0.23.4) (3.1.2)\nCollecting fsspec\n  Downloading fsspec-2024.6.1-py3-none-any.whl (177 kB)\n     ━━━━━━━━━━━━━━━━━━━━━━━━━━━━━━━━━━━━━━ 177.6/177.6 kB 31.7 MB/s eta 0:00:00\nCollecting nvidia-nccl-cu12==2.20.5\n  Downloading nvidia_nccl_cu12-2.20.5-py3-none-manylinux2014_x86_64.whl (176.2 MB)\n     ━━━━━━━━━━━━━━━━━━━━━━━━━━━━━━━━━━━━━━━ 176.2/176.2 MB 4.4 MB/s eta 0:00:00\nCollecting nvidia-cusolver-cu12==11.4.5.107\n  Downloading nvidia_cusolver_cu12-11.4.5.107-py3-none-manylinux1_x86_64.whl (124.2 MB)\n     ━━━━━━━━━━━━━━━━━━━━━━━━━━━━━━━━━━━━━━━ 124.2/124.2 MB 6.4 MB/s eta 0:00:00\nCollecting nvidia-nvtx-cu12==12.1.105\n  Downloading nvidia_nvtx_cu12-12.1.105-py3-none-manylinux1_x86_64.whl (99 kB)\n     ━━━━━━━━━━━━━━━━━━━━━━━━━━━━━━━━━━━━━━━━ 99.1/99.1 kB 24.0 MB/s eta 0:00:00\nCollecting triton==2.3.1\n  Downloading triton-2.3.1-cp310-cp310-manylinux_2_17_x86_64.manylinux2014_x86_64.whl (168.1 MB)\n     ━━━━━━━━━━━━━━━━━━━━━━━━━━━━━━━━━━━━━━━ 168.1/168.1 MB 4.4 MB/s eta 0:00:00\nCollecting nvidia-cuda-nvrtc-cu12==12.1.105\n  Downloading nvidia_cuda_nvrtc_cu12-12.1.105-py3-none-manylinux1_x86_64.whl (23.7 MB)\n     ━━━━━━━━━━━━━━━━━━━━━━━━━━━━━━━━━━━━━━━━ 23.7/23.7 MB 76.0 MB/s eta 0:00:00\nCollecting nvidia-cudnn-cu12==8.9.2.26\n  Downloading nvidia_cudnn_cu12-8.9.2.26-py3-none-manylinux1_x86_64.whl (731.7 MB)\n     ━━━━━━━━━━━━━━━━━━━━━━━━━━━━━━━━━━━━━ 731.7/731.7 MB 591.4 kB/s eta 0:00:00\nCollecting nvidia-cublas-cu12==12.1.3.1\n  Downloading nvidia_cublas_cu12-12.1.3.1-py3-none-manylinux1_x86_64.whl (410.6 MB)\n     ━━━━━━━━━━━━━━━━━━━━━━━━━━━━━━━━━━━━━━━ 410.6/410.6 MB 1.7 MB/s eta 0:00:00\nCollecting nvidia-cusparse-cu12==12.1.0.106\n  Downloading nvidia_cusparse_cu12-12.1.0.106-py3-none-manylinux1_x86_64.whl (196.0 MB)\n     ━━━━━━━━━━━━━━━━━━━━━━━━━━━━━━━━━━━━━━━ 196.0/196.0 MB 4.0 MB/s eta 0:00:00\nRequirement already satisfied: filelock in /usr/local/lib/python3.10/dist-packages (from torch<2.3.2,>=2.1.2->mosaicml[gcs,libcloud,oci,wandb]<0.24,>=0.23.4) (3.14.0)\nCollecting networkx\n  Downloading networkx-3.3-py3-none-any.whl (1.7 MB)\n     ━━━━━━━━━━━━━━━━━━━━━━━━━━━━━━━━━━━━━━━━ 1.7/1.7 MB 88.0 MB/s eta 0:00:00\nCollecting typing-extensions>=4.0.1\n  Downloading typing_extensions-4.12.2-py3-none-any.whl (37 kB)\nCollecting nvidia-nvjitlink-cu12\n  Downloading nvidia_nvjitlink_cu12-12.6.20-py3-none-manylinux2014_x86_64.whl (19.7 MB)\n     ━━━━━━━━━━━━━━━━━━━━━━━━━━━━━━━━━━━━━━━━ 19.7/19.7 MB 75.3 MB/s eta 0:00:00\nCollecting pytorch-ranger>=0.1.1\n  Downloading pytorch_ranger-0.1.1-py3-none-any.whl (14 kB)\nCollecting lightning-utilities>=0.8.0\n  Downloading lightning_utilities-0.11.6-py3-none-any.whl (26 kB)\nRequirement already satisfied: click!=8.0.0,>=7.1 in /databricks/python3/lib/python3.10/site-packages (from wandb<0.18,>=0.13.2->mosaicml[gcs,libcloud,oci,wandb]<0.24,>=0.23.4) (8.0.4)\nCollecting gitpython!=3.1.29,>=1.0.0\n  Downloading GitPython-3.1.43-py3-none-any.whl (207 kB)\n     ━━━━━━━━━━━━━━━━━━━━━━━━━━━━━━━━━━━━━━ 207.3/207.3 kB 36.7 MB/s eta 0:00:00\nRequirement already satisfied: platformdirs in /databricks/python3/lib/python3.10/site-packages (from wandb<0.18,>=0.13.2->mosaicml[gcs,libcloud,oci,wandb]<0.24,>=0.23.4) (2.5.2)\nCollecting setproctitle\n  Downloading setproctitle-1.3.3-cp310-cp310-manylinux_2_5_x86_64.manylinux1_x86_64.manylinux_2_17_x86_64.manylinux2014_x86_64.whl (30 kB)\nCollecting sentry-sdk>=1.0.0\n  Downloading sentry_sdk-2.13.0-py2.py3-none-any.whl (309 kB)\n     ━━━━━━━━━━━━━━━━━━━━━━━━━━━━━━━━━━━━━━ 309.1/309.1 kB 54.9 MB/s eta 0:00:00\nRequirement already satisfied: setuptools in /databricks/python3/lib/python3.10/site-packages (from wandb<0.18,>=0.13.2->mosaicml[gcs,libcloud,oci,wandb]<0.24,>=0.23.4) (65.6.3)\nCollecting docker-pycreds>=0.4.0\n  Downloading docker_pycreds-0.4.0-py2.py3-none-any.whl (9.0 kB)\nCollecting types-python-dateutil>=2.8.10\n  Downloading types_python_dateutil-2.9.0.20240821-py3-none-any.whl (9.7 kB)\nRequirement already satisfied: cffi>=1.12 in /databricks/python3/lib/python3.10/site-packages (from cryptography<43.0.0,>=3.2.1->oci<3.0.0,>=2.88.2->mosaicml[gcs,libcloud,oci,wandb]<0.24,>=0.23.4) (1.15.1)\nRequirement already satisfied: six>=1.4.0 in /usr/lib/python3/dist-packages (from docker-pycreds>=0.4.0->wandb<0.18,>=0.13.2->mosaicml[gcs,libcloud,oci,wandb]<0.24,>=0.23.4) (1.16.0)\nCollecting gitdb<5,>=4.0.1\n  Downloading gitdb-4.0.11-py3-none-any.whl (62 kB)\n     ━━━━━━━━━━━━━━━━━━━━━━━━━━━━━━━━━━━━━━━━ 62.7/62.7 kB 13.5 MB/s eta 0:00:00\nRequirement already satisfied: googleapis-common-protos<2.0.dev0,>=1.56.2 in /databricks/python3/lib/python3.10/site-packages (from google-api-core<3.0.0dev,>=2.15.0->google-cloud-storage<3.0,>=2.0.0->mosaicml[gcs,libcloud,oci,wandb]<0.24,>=0.23.4) (1.62.0)\nCollecting proto-plus<2.0.0dev,>=1.22.3\n  Downloading proto_plus-1.24.0-py3-none-any.whl (50 kB)\n     ━━━━━━━━━━━━━━━━━━━━━━━━━━━━━━━━━━━━━━━━ 50.1/50.1 kB 10.0 MB/s eta 0:00:00\nRequirement already satisfied: pyasn1-modules>=0.2.1 in /databricks/python3/lib/python3.10/site-packages (from google-auth<3.0dev,>=2.26.1->google-cloud-storage<3.0,>=2.0.0->mosaicml[gcs,libcloud,oci,wandb]<0.24,>=0.23.4) (0.3.0)\nRequirement already satisfied: rsa<5,>=3.1.4 in /databricks/python3/lib/python3.10/site-packages (from google-auth<3.0dev,>=2.26.1->google-cloud-storage<3.0,>=2.0.0->mosaicml[gcs,libcloud,oci,wandb]<0.24,>=0.23.4) (4.9)\nRequirement already satisfied: cachetools<6.0,>=2.0.0 in /databricks/python3/lib/python3.10/site-packages (from google-auth<3.0dev,>=2.26.1->google-cloud-storage<3.0,>=2.0.0->mosaicml[gcs,libcloud,oci,wandb]<0.24,>=0.23.4) (5.3.2)\nRequirement already satisfied: anyio<5,>=3.0 in /databricks/python3/lib/python3.10/site-packages (from gql[websockets]>=3.4.0->mosaicml-cli<0.7,>=0.5.25->mosaicml[gcs,libcloud,oci,wandb]<0.24,>=0.23.4) (3.5.0)\nCollecting graphql-core<3.3,>=3.2\n  Downloading graphql_core-3.2.3-py3-none-any.whl (202 kB)\n     ━━━━━━━━━━━━━━━━━━━━━━━━━━━━━━━━━━━━━━ 202.9/202.9 kB 17.9 MB/s eta 0:00:00\nCollecting yarl<2.0,>=1.6\n  Downloading yarl-1.9.4-cp310-cp310-manylinux_2_17_x86_64.manylinux2014_x86_64.whl (301 kB)\n     ━━━━━━━━━━━━━━━━━━━━━━━━━━━━━━━━━━━━━━ 301.6/301.6 kB 52.3 MB/s eta 0:00:00\nCollecting websockets<12,>=10\n  Downloading websockets-11.0.3-cp310-cp310-manylinux_2_5_x86_64.manylinux1_x86_64.manylinux_2_17_x86_64.manylinux2014_x86_64.whl (129 kB)\n     ━━━━━━━━━━━━━━━━━━━━━━━━━━━━━━━━━━━━━━ 129.9/129.9 kB 30.8 MB/s eta 0:00:00\nRequirement already satisfied: wcwidth in /databricks/python3/lib/python3.10/site-packages (from prompt-toolkit>=3.0.29->mosaicml-cli<0.7,>=0.5.25->mosaicml[gcs,libcloud,oci,wandb]<0.24,>=0.23.4) (0.2.5)\nCollecting cryptography<43.0.0,>=3.2.1\n  Downloading cryptography-42.0.8-cp39-abi3-manylinux_2_28_x86_64.whl (3.9 MB)\n     ━━━━━━━━━━━━━━━━━━━━━━━━━━━━━━━━━━━━━━━━ 3.9/3.9 MB 105.7 MB/s eta 0:00:00\nCollecting pygments<3.0.0,>=2.13.0\n  Downloading pygments-2.18.0-py3-none-any.whl (1.2 MB)\n     ━━━━━━━━━━━━━━━━━━━━━━━━━━━━━━━━━━━━━━━━ 1.2/1.2 MB 64.4 MB/s eta 0:00:00\nCollecting markdown-it-py>=2.2.0\n  Downloading markdown_it_py-3.0.0-py3-none-any.whl (87 kB)\n     ━━━━━━━━━━━━━━━━━━━━━━━━━━━━━━━━━━━━━━━━ 87.5/87.5 kB 18.6 MB/s eta 0:00:00\nCollecting ruamel.yaml.clib>=0.2.7\n  Downloading ruamel.yaml.clib-0.2.8-cp310-cp310-manylinux_2_17_x86_64.manylinux2014_x86_64.manylinux_2_24_x86_64.whl (526 kB)\n     ━━━━━━━━━━━━━━━━━━━━━━━━━━━━━━━━━━━━━━ 526.7/526.7 kB 28.1 MB/s eta 0:00:00\nRequirement already satisfied: MarkupSafe>=2.0 in /databricks/python3/lib/python3.10/site-packages (from jinja2->torch<2.3.2,>=2.1.2->mosaicml[gcs,libcloud,oci,wandb]<0.24,>=0.23.4) (2.1.1)\nCollecting mpmath<1.4,>=1.1.0\n  Downloading mpmath-1.3.0-py3-none-any.whl (536 kB)\n     ━━━━━━━━━━━━━━━━━━━━━━━━━━━━━━━━━━━━━━━ 536.2/536.2 kB 8.8 MB/s eta 0:00:00\nRequirement already satisfied: sniffio>=1.1 in /databricks/python3/lib/python3.10/site-packages (from anyio<5,>=3.0->gql[websockets]>=3.4.0->mosaicml-cli<0.7,>=0.5.25->mosaicml[gcs,libcloud,oci,wandb]<0.24,>=0.23.4) (1.2.0)\nRequirement already satisfied: pycparser in /databricks/python3/lib/python3.10/site-packages (from cffi>=1.12->cryptography<43.0.0,>=3.2.1->oci<3.0.0,>=2.88.2->mosaicml[gcs,libcloud,oci,wandb]<0.24,>=0.23.4) (2.21)\nCollecting smmap<6,>=3.0.1\n  Downloading smmap-5.0.1-py3-none-any.whl (24 kB)\nCollecting mdurl~=0.1\n  Downloading mdurl-0.1.2-py3-none-any.whl (10.0 kB)\nRequirement already satisfied: pyasn1<0.6.0,>=0.4.6 in /databricks/python3/lib/python3.10/site-packages (from pyasn1-modules>=0.2.1->google-auth<3.0dev,>=2.26.1->google-cloud-storage<3.0,>=2.0.0->mosaicml[gcs,libcloud,oci,wandb]<0.24,>=0.23.4) (0.5.1)\nCollecting multidict>=4.0\n  Downloading multidict-6.0.5-cp310-cp310-manylinux_2_17_x86_64.manylinux2014_x86_64.whl (124 kB)\n     ━━━━━━━━━━━━━━━━━━━━━━━━━━━━━━━━━━━━━━ 124.3/124.3 kB 27.3 MB/s eta 0:00:00\nInstalling collected packages: py-cpuinfo, mpmath, coolname, circuitbreaker, websockets, validators, typing-extensions, types-python-dateutil, triton, tqdm, termcolor, tabulate, sympy, smmap, setproctitle, sentry-sdk, ruamel.yaml.clib, pyyaml, pygments, proto-plus, pillow, nvidia-nvtx-cu12, nvidia-nvjitlink-cu12, nvidia-nccl-cu12, nvidia-curand-cu12, nvidia-cufft-cu12, nvidia-cuda-runtime-cu12, nvidia-cuda-nvrtc-cu12, nvidia-cuda-cupti-cu12, nvidia-cublas-cu12, networkx, multidict, mdurl, importlib-metadata, graphql-core, google-crc32c, fsspec, docker-pycreds, backoff, argcomplete, yarl, ruamel.yaml, questionary, nvidia-cusparse-cu12, nvidia-cudnn-cu12, markdown-it-py, lightning-utilities, google-resumable-media, gitdb, cryptography, arrow, apache-libcloud, rich, pyOpenSSL, nvidia-cusolver-cu12, gql, google-api-core, gitpython, wandb, torch, oci, google-cloud-core, torchvision, torchmetrics, pytorch-ranger, mosaicml-cli, google-cloud-storage, torch-optimizer, mosaicml\n  Attempting uninstall: typing-extensions\n    Found existing installation: typing_extensions 4.4.0\n    Not uninstalling typing-extensions at /databricks/python3/lib/python3.10/site-packages, outside environment /local_disk0/.ephemeral_nfs/envs/pythonEnv-1baf428f-8695-4b74-acc5-37195553cf83\n    Can't uninstall 'typing_extensions'. No files were found to uninstall.\n  Attempting uninstall: pygments\n    Found existing installation: Pygments 2.11.2\n    Not uninstalling pygments at /databricks/python3/lib/python3.10/site-packages, outside environment /local_disk0/.ephemeral_nfs/envs/pythonEnv-1baf428f-8695-4b74-acc5-37195553cf83\n    Can't uninstall 'Pygments'. No files were found to uninstall.\n  Attempting uninstall: pillow\n    Found existing installation: Pillow 9.4.0\n    Not uninstalling pillow at /databricks/python3/lib/python3.10/site-packages, outside environment /local_disk0/.ephemeral_nfs/envs/pythonEnv-1baf428f-8695-4b74-acc5-37195553cf83\n    Can't uninstall 'Pillow'. No files were found to uninstall.\n  Attempting uninstall: importlib-metadata\n    Found existing installation: importlib-metadata 4.6.4\n    Not uninstalling importlib-metadata at /usr/lib/python3/dist-packages, outside environment /local_disk0/.ephemeral_nfs/envs/pythonEnv-1baf428f-8695-4b74-acc5-37195553cf83\n    Can't uninstall 'importlib-metadata'. No files were found to uninstall.\n  Attempting uninstall: cryptography\n    Found existing installation: cryptography 39.0.1\n    Not uninstalling cryptography at /databricks/python3/lib/python3.10/site-packages, outside environment /local_disk0/.ephemeral_nfs/envs/pythonEnv-1baf428f-8695-4b74-acc5-37195553cf83\n    Can't uninstall 'cryptography'. No files were found to uninstall.\nERROR: pip's dependency resolver does not currently take into account all the packages that are installed. This behaviour is the source of the following dependency conflicts.\nllm-foundry 0.12.0.dev0 requires accelerate<0.34,>=0.25, which is not installed.\nllm-foundry 0.12.0.dev0 requires catalogue<3,>=2, which is not installed.\nllm-foundry 0.12.0.dev0 requires datasets<2.20,>=2.19, which is not installed.\nllm-foundry 0.12.0.dev0 requires einops==0.8.0, which is not installed.\nllm-foundry 0.12.0.dev0 requires huggingface-hub<0.25,>=0.19.0, which is not installed.\nllm-foundry 0.12.0.dev0 requires mlflow<2.16,>=2.14.1, which is not installed.\nllm-foundry 0.12.0.dev0 requires mosaicml-streaming<0.9,>=0.8.0, which is not installed.\nllm-foundry 0.12.0.dev0 requires omegaconf<3,>=2.2.3, which is not installed.\nllm-foundry 0.12.0.dev0 requires onnx==1.16.2, which is not installed.\nllm-foundry 0.12.0.dev0 requires onnxruntime==1.18.1, which is not installed.\nllm-foundry 0.12.0.dev0 requires sentencepiece==0.2.0, which is not installed.\nllm-foundry 0.12.0.dev0 requires slack-sdk<4, which is not installed.\nllm-foundry 0.12.0.dev0 requires transformers<4.44,>=4.43.2, which is not installed.\nllm-foundry 0.12.0.dev0 requires typer<1, which is not installed.\nllm-foundry 0.12.0.dev0 requires beautifulsoup4<5,>=4.12.2, but you have beautifulsoup4 4.11.1 which is incompatible.\nllm-foundry 0.12.0.dev0 requires fsspec==2023.6.0, but you have fsspec 2024.6.1 which is incompatible.\nllm-foundry 0.12.0.dev0 requires tenacity<9,>=8.2.3, but you have tenacity 8.1.0 which is incompatible.\nSuccessfully installed apache-libcloud-3.8.0 argcomplete-3.5.0 arrow-1.3.0 backoff-2.2.1 circuitbreaker-2.0.0 coolname-2.2.0 cryptography-42.0.8 docker-pycreds-0.4.0 fsspec-2024.6.1 gitdb-4.0.11 gitpython-3.1.43 google-api-core-2.19.1 google-cloud-core-2.4.1 google-cloud-storage-2.18.2 google-crc32c-1.5.0 google-resumable-media-2.7.2 gql-3.5.0 graphql-core-3.2.3 importlib-metadata-6.11.0 lightning-utilities-0.11.6 markdown-it-py-3.0.0 mdurl-0.1.2 mosaicml-0.23.5 mosaicml-cli-0.6.41 mpmath-1.3.0 multidict-6.0.5 networkx-3.3 nvidia-cublas-cu12-12.1.3.1 nvidia-cuda-cupti-cu12-12.1.105 nvidia-cuda-nvrtc-cu12-12.1.105 nvidia-cuda-runtime-cu12-12.1.105 nvidia-cudnn-cu12-8.9.2.26 nvidia-cufft-cu12-11.0.2.54 nvidia-curand-cu12-10.3.2.106 nvidia-cusolver-cu12-11.4.5.107 nvidia-cusparse-cu12-12.1.0.106 nvidia-nccl-cu12-2.20.5 nvidia-nvjitlink-cu12-12.6.20 nvidia-nvtx-cu12-12.1.105 oci-2.132.0 pillow-10.4.0 proto-plus-1.24.0 py-cpuinfo-9.0.0 pyOpenSSL-24.2.1 pygments-2.18.0 pytorch-ranger-0.1.1 pyyaml-6.0.2 questionary-2.0.1 rich-13.7.1 ruamel.yaml-0.18.6 ruamel.yaml.clib-0.2.8 sentry-sdk-2.13.0 set\n\n*** WARNING: max output size exceeded, skipping output. ***\n\nicml-streaming<0.9,>=0.8.0) (2022.12.7)\nRequirement already satisfied: pyOpenSSL<25.0.0,>=17.5.0 in /local_disk0/.ephemeral_nfs/envs/pythonEnv-1baf428f-8695-4b74-acc5-37195553cf83/lib/python3.10/site-packages (from oci<3,>=2.88->mosaicml-streaming<0.9,>=0.8.0) (24.2.1)\nCollecting bcrypt>=3.2\n  Downloading bcrypt-4.2.0-cp39-abi3-manylinux_2_28_x86_64.whl (273 kB)\n     ━━━━━━━━━━━━━━━━━━━━━━━━━━━━━━━━━━━━━━ 273.8/273.8 kB 38.2 MB/s eta 0:00:00\nCollecting pynacl>=1.5\n  Downloading PyNaCl-1.5.0-cp36-abi3-manylinux_2_17_x86_64.manylinux2014_x86_64.manylinux_2_24_x86_64.whl (856 kB)\n     ━━━━━━━━━━━━━━━━━━━━━━━━━━━━━━━━━━━━━━ 856.7/856.7 kB 38.3 MB/s eta 0:00:00\nCollecting cramjam\n  Downloading cramjam-2.8.3-cp310-cp310-manylinux_2_17_x86_64.manylinux2014_x86_64.whl (2.0 MB)\n     ━━━━━━━━━━━━━━━━━━━━━━━━━━━━━━━━━━━━━━━━ 2.0/2.0 MB 48.1 MB/s eta 0:00:00\nRequirement already satisfied: nvidia-nccl-cu12==2.20.5 in /local_disk0/.ephemeral_nfs/envs/pythonEnv-1baf428f-8695-4b74-acc5-37195553cf83/lib/python3.10/site-packages (from torch<3,>=1.10->mosaicml-streaming<0.9,>=0.8.0) (2.20.5)\nRequirement already satisfied: sympy in /local_disk0/.ephemeral_nfs/envs/pythonEnv-1baf428f-8695-4b74-acc5-37195553cf83/lib/python3.10/site-packages (from torch<3,>=1.10->mosaicml-streaming<0.9,>=0.8.0) (1.13.2)\nRequirement already satisfied: nvidia-cuda-cupti-cu12==12.1.105 in /local_disk0/.ephemeral_nfs/envs/pythonEnv-1baf428f-8695-4b74-acc5-37195553cf83/lib/python3.10/site-packages (from torch<3,>=1.10->mosaicml-streaming<0.9,>=0.8.0) (12.1.105)\nRequirement already satisfied: fsspec in /local_disk0/.ephemeral_nfs/envs/pythonEnv-1baf428f-8695-4b74-acc5-37195553cf83/lib/python3.10/site-packages (from torch<3,>=1.10->mosaicml-streaming<0.9,>=0.8.0) (2024.6.1)\nRequirement already satisfied: nvidia-cuda-nvrtc-cu12==12.1.105 in /local_disk0/.ephemeral_nfs/envs/pythonEnv-1baf428f-8695-4b74-acc5-37195553cf83/lib/python3.10/site-packages (from torch<3,>=1.10->mosaicml-streaming<0.9,>=0.8.0) (12.1.105)\nRequirement already satisfied: triton==2.3.1 in /local_disk0/.ephemeral_nfs/envs/pythonEnv-1baf428f-8695-4b74-acc5-37195553cf83/lib/python3.10/site-packages (from torch<3,>=1.10->mosaicml-streaming<0.9,>=0.8.0) (2.3.1)\nRequirement already satisfied: nvidia-curand-cu12==10.3.2.106 in /local_disk0/.ephemeral_nfs/envs/pythonEnv-1baf428f-8695-4b74-acc5-37195553cf83/lib/python3.10/site-packages (from torch<3,>=1.10->mosaicml-streaming<0.9,>=0.8.0) (10.3.2.106)\nRequirement already satisfied: nvidia-cufft-cu12==11.0.2.54 in /local_disk0/.ephemeral_nfs/envs/pythonEnv-1baf428f-8695-4b74-acc5-37195553cf83/lib/python3.10/site-packages (from torch<3,>=1.10->mosaicml-streaming<0.9,>=0.8.0) (11.0.2.54)\nRequirement already satisfied: nvidia-cusolver-cu12==11.4.5.107 in /local_disk0/.ephemeral_nfs/envs/pythonEnv-1baf428f-8695-4b74-acc5-37195553cf83/lib/python3.10/site-packages (from torch<3,>=1.10->mosaicml-streaming<0.9,>=0.8.0) (11.4.5.107)\nRequirement already satisfied: nvidia-cudnn-cu12==8.9.2.26 in /local_disk0/.ephemeral_nfs/envs/pythonEnv-1baf428f-8695-4b74-acc5-37195553cf83/lib/python3.10/site-packages (from torch<3,>=1.10->mosaicml-streaming<0.9,>=0.8.0) (8.9.2.26)\nRequirement already satisfied: nvidia-cublas-cu12==12.1.3.1 in /local_disk0/.ephemeral_nfs/envs/pythonEnv-1baf428f-8695-4b74-acc5-37195553cf83/lib/python3.10/site-packages (from torch<3,>=1.10->mosaicml-streaming<0.9,>=0.8.0) (12.1.3.1)\nRequirement already satisfied: nvidia-cusparse-cu12==12.1.0.106 in /local_disk0/.ephemeral_nfs/envs/pythonEnv-1baf428f-8695-4b74-acc5-37195553cf83/lib/python3.10/site-packages (from torch<3,>=1.10->mosaicml-streaming<0.9,>=0.8.0) (12.1.0.106)\nRequirement already satisfied: nvidia-nvtx-cu12==12.1.105 in /local_disk0/.ephemeral_nfs/envs/pythonEnv-1baf428f-8695-4b74-acc5-37195553cf83/lib/python3.10/site-packages (from torch<3,>=1.10->mosaicml-streaming<0.9,>=0.8.0) (12.1.105)\nRequirement already satisfied: filelock in /usr/local/lib/python3.10/dist-packages (from torch<3,>=1.10->mosaicml-streaming<0.9,>=0.8.0) (3.14.0)\nRequirement already satisfied: networkx in /local_disk0/.ephemeral_nfs/envs/pythonEnv-1baf428f-8695-4b74-acc5-37195553cf83/lib/python3.10/site-packages (from torch<3,>=1.10->mosaicml-streaming<0.9,>=0.8.0) (3.3)\nRequirement already satisfied: jinja2 in /databricks/python3/lib/python3.10/site-packages (from torch<3,>=1.10->mosaicml-streaming<0.9,>=0.8.0) (3.1.2)\nRequirement already satisfied: nvidia-cuda-runtime-cu12==12.1.105 in /local_disk0/.ephemeral_nfs/envs/pythonEnv-1baf428f-8695-4b74-acc5-37195553cf83/lib/python3.10/site-packages (from torch<3,>=1.10->mosaicml-streaming<0.9,>=0.8.0) (12.1.105)\nRequirement already satisfied: nvidia-nvjitlink-cu12 in /local_disk0/.ephemeral_nfs/envs/pythonEnv-1baf428f-8695-4b74-acc5-37195553cf83/lib/python3.10/site-packages (from nvidia-cusolver-cu12==11.4.5.107->torch<3,>=1.10->mosaicml-streaming<0.9,>=0.8.0) (12.6.20)\nRequirement already satisfied: regex!=2019.12.17 in /local_disk0/.ephemeral_nfs/envs/pythonEnv-1baf428f-8695-4b74-acc5-37195553cf83/lib/python3.10/site-packages (from transformers<5,>=4.21.3->mosaicml-streaming<0.9,>=0.8.0) (2024.7.24)\nRequirement already satisfied: huggingface-hub<1.0,>=0.23.2 in /local_disk0/.ephemeral_nfs/envs/pythonEnv-1baf428f-8695-4b74-acc5-37195553cf83/lib/python3.10/site-packages (from transformers<5,>=4.21.3->mosaicml-streaming<0.9,>=0.8.0) (0.24.6)\nRequirement already satisfied: pyyaml>=5.1 in /local_disk0/.ephemeral_nfs/envs/pythonEnv-1baf428f-8695-4b74-acc5-37195553cf83/lib/python3.10/site-packages (from transformers<5,>=4.21.3->mosaicml-streaming<0.9,>=0.8.0) (6.0.2)\nRequirement already satisfied: tokenizers<0.20,>=0.19 in /local_disk0/.ephemeral_nfs/envs/pythonEnv-1baf428f-8695-4b74-acc5-37195553cf83/lib/python3.10/site-packages (from transformers<5,>=4.21.3->mosaicml-streaming<0.9,>=0.8.0) (0.19.1)\nRequirement already satisfied: safetensors>=0.4.1 in /local_disk0/.ephemeral_nfs/envs/pythonEnv-1baf428f-8695-4b74-acc5-37195553cf83/lib/python3.10/site-packages (from transformers<5,>=4.21.3->mosaicml-streaming<0.9,>=0.8.0) (0.4.4)\nRequirement already satisfied: six>=1.11.0 in /usr/lib/python3/dist-packages (from azure-core>=1.23.0->azure-identity>=1.13.0->mosaicml-streaming<0.9,>=0.8.0) (1.16.0)\nRequirement already satisfied: urllib3<1.27,>=1.25.4 in /databricks/python3/lib/python3.10/site-packages (from botocore<1.28.0,>=1.27.28->boto3<2,>=1.21.45->mosaicml-streaming<0.9,>=0.8.0) (1.26.14)\nRequirement already satisfied: cffi>=1.12 in /databricks/python3/lib/python3.10/site-packages (from cryptography>=2.5->azure-identity>=1.13.0->mosaicml-streaming<0.9,>=0.8.0) (1.15.1)\nRequirement already satisfied: googleapis-common-protos<2.0.dev0,>=1.56.2 in /databricks/python3/lib/python3.10/site-packages (from google-api-core!=2.0.*,!=2.1.*,!=2.2.*,!=2.3.0,<3.0.0dev,>=1.31.5->google-cloud-storage<2.11.0,>=2.9.0->mosaicml-streaming<0.9,>=0.8.0) (1.62.0)\nRequirement already satisfied: proto-plus<2.0.0dev,>=1.22.3 in /local_disk0/.ephemeral_nfs/envs/pythonEnv-1baf428f-8695-4b74-acc5-37195553cf83/lib/python3.10/site-packages (from google-api-core!=2.0.*,!=2.1.*,!=2.2.*,!=2.3.0,<3.0.0dev,>=1.31.5->google-cloud-storage<2.11.0,>=2.9.0->mosaicml-streaming<0.9,>=0.8.0) (1.24.0)\nRequirement already satisfied: protobuf!=3.20.0,!=3.20.1,!=4.21.0,!=4.21.1,!=4.21.2,!=4.21.3,!=4.21.4,!=4.21.5,<6.0.0.dev0,>=3.19.5 in /databricks/python3/lib/python3.10/site-packages (from google-api-core!=2.0.*,!=2.1.*,!=2.2.*,!=2.3.0,<3.0.0dev,>=1.31.5->google-cloud-storage<2.11.0,>=2.9.0->mosaicml-streaming<0.9,>=0.8.0) (4.25.3)\nRequirement already satisfied: cachetools<6.0,>=2.0.0 in /databricks/python3/lib/python3.10/site-packages (from google-auth<3.0dev,>=1.25.0->google-cloud-storage<2.11.0,>=2.9.0->mosaicml-streaming<0.9,>=0.8.0) (5.3.2)\nRequirement already satisfied: rsa<5,>=3.1.4 in /databricks/python3/lib/python3.10/site-packages (from google-auth<3.0dev,>=1.25.0->google-cloud-storage<2.11.0,>=2.9.0->mosaicml-streaming<0.9,>=0.8.0) (4.9)\nRequirement already satisfied: pyasn1-modules>=0.2.1 in /databricks/python3/lib/python3.10/site-packages (from google-auth<3.0dev,>=1.25.0->google-cloud-storage<2.11.0,>=2.9.0->mosaicml-streaming<0.9,>=0.8.0) (0.3.0)\nRequirement already satisfied: google-crc32c<2.0dev,>=1.0 in /local_disk0/.ephemeral_nfs/envs/pythonEnv-1baf428f-8695-4b74-acc5-37195553cf83/lib/python3.10/site-packages (from google-resumable-media>=2.3.2->google-cloud-storage<2.11.0,>=2.9.0->mosaicml-streaming<0.9,>=0.8.0) (1.5.0)\nRequirement already satisfied: PyJWT[crypto]<3,>=1.0.0 in /usr/lib/python3/dist-packages (from msal>=1.24.0->azure-identity>=1.13.0->mosaicml-streaming<0.9,>=0.8.0) (2.3.0)\nCollecting portalocker<3,>=1.4\n  Downloading portalocker-2.10.1-py3-none-any.whl (18 kB)\nRequirement already satisfied: charset-normalizer<3,>=2 in /databricks/python3/lib/python3.10/site-packages (from requests<3.0.0dev,>=2.18.0->google-cloud-storage<2.11.0,>=2.9.0->mosaicml-streaming<0.9,>=0.8.0) (2.0.4)\nRequirement already satisfied: idna<4,>=2.5 in /databricks/python3/lib/python3.10/site-packages (from requests<3.0.0dev,>=2.18.0->google-cloud-storage<2.11.0,>=2.9.0->mosaicml-streaming<0.9,>=0.8.0) (3.4)\nRequirement already satisfied: MarkupSafe>=2.0 in /databricks/python3/lib/python3.10/site-packages (from jinja2->torch<3,>=1.10->mosaicml-streaming<0.9,>=0.8.0) (2.1.1)\nRequirement already satisfied: mpmath<1.4,>=1.1.0 in /local_disk0/.ephemeral_nfs/envs/pythonEnv-1baf428f-8695-4b74-acc5-37195553cf83/lib/python3.10/site-packages (from sympy->torch<3,>=1.10->mosaicml-streaming<0.9,>=0.8.0) (1.3.0)\nRequirement already satisfied: pycparser in /databricks/python3/lib/python3.10/site-packages (from cffi>=1.12->cryptography>=2.5->azure-identity>=1.13.0->mosaicml-streaming<0.9,>=0.8.0) (2.21)\nRequirement already satisfied: pyasn1<0.6.0,>=0.4.6 in /databricks/python3/lib/python3.10/site-packages (from pyasn1-modules>=0.2.1->google-auth<3.0dev,>=1.25.0->google-cloud-storage<2.11.0,>=2.9.0->mosaicml-streaming<0.9,>=0.8.0) (0.5.1)\nInstalling collected packages: zstd, Brotli, xxhash, portalocker, isodate, cramjam, bcrypt, python-snappy, pynacl, azure-core, paramiko, azure-storage-blob, msal, azure-storage-file-datalake, msal-extensions, google-cloud-storage, azure-identity, mosaicml-streaming\n  Attempting uninstall: google-cloud-storage\n    Found existing installation: google-cloud-storage 2.18.2\n    Uninstalling google-cloud-storage-2.18.2:\n      Successfully uninstalled google-cloud-storage-2.18.2\nERROR: pip's dependency resolver does not currently take into account all the packages that are installed. This behaviour is the source of the following dependency conflicts.\nllm-foundry 0.12.0.dev0 requires accelerate<0.34,>=0.25, which is not installed.\nllm-foundry 0.12.0.dev0 requires catalogue<3,>=2, which is not installed.\nllm-foundry 0.12.0.dev0 requires datasets<2.20,>=2.19, which is not installed.\nllm-foundry 0.12.0.dev0 requires einops==0.8.0, which is not installed.\nllm-foundry 0.12.0.dev0 requires omegaconf<3,>=2.2.3, which is not installed.\nllm-foundry 0.12.0.dev0 requires onnx==1.16.2, which is not installed.\nllm-foundry 0.12.0.dev0 requires onnxruntime==1.18.1, which is not installed.\nllm-foundry 0.12.0.dev0 requires sentencepiece==0.2.0, which is not installed.\nllm-foundry 0.12.0.dev0 requires slack-sdk<4, which is not installed.\nllm-foundry 0.12.0.dev0 requires typer<1, which is not installed.\nllm-foundry 0.12.0.dev0 requires beautifulsoup4<5,>=4.12.2, but you have beautifulsoup4 4.11.1 which is incompatible.\nllm-foundry 0.12.0.dev0 requires fsspec==2023.6.0, but you have fsspec 2024.6.1 which is incompatible.\nllm-foundry 0.12.0.dev0 requires tenacity<9,>=8.2.3, but you have tenacity 8.1.0 which is incompatible.\nSuccessfully installed Brotli-1.1.0 azure-core-1.30.2 azure-identity-1.17.1 azure-storage-blob-12.22.0 azure-storage-file-datalake-12.16.0 bcrypt-4.2.0 cramjam-2.8.3 google-cloud-storage-2.10.0 isodate-0.6.1 mosaicml-streaming-0.8.1 msal-1.30.0 msal-extensions-1.2.0 paramiko-3.4.1 portalocker-2.10.1 pynacl-1.5.0 python-snappy-0.7.2 xxhash-3.5.0 zstd-1.5.5.1\n\u001B[43mNote: you may need to restart the kernel using %restart_python or dbutils.library.restartPython() to use updated packages.\u001B[0m\nCollecting datasets\n  Downloading datasets-2.21.0-py3-none-any.whl (527 kB)\n     ━━━━━━━━━━━━━━━━━━━━━━━━━━━━━━━━━━━━━━━ 527.3/527.3 kB 3.7 MB/s eta 0:00:00\nCollecting dill<0.3.9,>=0.3.0\n  Downloading dill-0.3.8-py3-none-any.whl (116 kB)\n     ━━━━━━━━━━━━━━━━━━━━━━━━━━━━━━━━━━━━━━━ 116.3/116.3 kB 8.3 MB/s eta 0:00:00\nRequirement already satisfied: filelock in /usr/local/lib/python3.10/dist-packages (from datasets) (3.14.0)\nRequirement already satisfied: pyyaml>=5.1 in /local_disk0/.ephemeral_nfs/envs/pythonEnv-1baf428f-8695-4b74-acc5-37195553cf83/lib/python3.10/site-packages (from datasets) (6.0.2)\nRequirement already satisfied: fsspec[http]<=2024.6.1,>=2023.1.0 in /local_disk0/.ephemeral_nfs/envs/pythonEnv-1baf428f-8695-4b74-acc5-37195553cf83/lib/python3.10/site-packages (from datasets) (2024.6.1)\nRequirement already satisfied: numpy>=1.17 in /databricks/python3/lib/python3.10/site-packages (from datasets) (1.23.5)\nRequirement already satisfied: tqdm>=4.66.3 in /local_disk0/.ephemeral_nfs/envs/pythonEnv-1baf428f-8695-4b74-acc5-37195553cf83/lib/python3.10/site-packages (from datasets) (4.66.5)\nCollecting aiohttp\n  Downloading aiohttp-3.10.5-cp310-cp310-manylinux_2_17_x86_64.manylinux2014_x86_64.whl (1.2 MB)\n     ━━━━━━━━━━━━━━━━━━━━━━━━━━━━━━━━━━━━━━━━ 1.2/1.2 MB 12.3 MB/s eta 0:00:00\nCollecting pyarrow>=15.0.0\n  Downloading pyarrow-17.0.0-cp310-cp310-manylinux_2_28_x86_64.whl (39.9 MB)\n     ━━━━━━━━━━━━━━━━━━━━━━━━━━━━━━━━━━━━━━━━ 39.9/39.9 MB 44.6 MB/s eta 0:00:00\nRequirement already satisfied: xxhash in /local_disk0/.ephemeral_nfs/envs/pythonEnv-1baf428f-8695-4b74-acc5-37195553cf83/lib/python3.10/site-packages (from datasets) (3.5.0)\nRequirement already satisfied: packaging in /databricks/python3/lib/python3.10/site-packages (from datasets) (23.2)\nRequirement already satisfied: pandas in /databricks/python3/lib/python3.10/site-packages (from datasets) (1.5.3)\nCollecting requests>=2.32.2\n  Downloading requests-2.32.3-py3-none-any.whl (64 kB)\n     ━━━━━━━━━━━━━━━━━━━━━━━━━━━━━━━━━━━━━━━━ 64.9/64.9 kB 14.6 MB/s eta 0:00:00\nCollecting multiprocess\n  Downloading multiprocess-0.70.16-py310-none-any.whl (134 kB)\n     ━━━━━━━━━━━━━━━━━━━━━━━━━━━━━━━━━━━━━━ 134.8/134.8 kB 31.5 MB/s eta 0:00:00\nRequirement already satisfied: huggingface-hub>=0.21.2 in /local_disk0/.ephemeral_nfs/envs/pythonEnv-1baf428f-8695-4b74-acc5-37195553cf83/lib/python3.10/site-packages (from datasets) (0.24.6)\nCollecting aiosignal>=1.1.2\n  Downloading aiosignal-1.3.1-py3-none-any.whl (7.6 kB)\nCollecting aiohappyeyeballs>=2.3.0\n  Downloading aiohappyeyeballs-2.4.0-py3-none-any.whl (12 kB)\nCollecting async-timeout<5.0,>=4.0\n  Downloading async_timeout-4.0.3-py3-none-any.whl (5.7 kB)\nRequirement already satisfied: multidict<7.0,>=4.5 in /local_disk0/.ephemeral_nfs/envs/pythonEnv-1baf428f-8695-4b74-acc5-37195553cf83/lib/python3.10/site-packages (from aiohttp->datasets) (6.0.5)\nCollecting frozenlist>=1.1.1\n  Downloading frozenlist-1.4.1-cp310-cp310-manylinux_2_5_x86_64.manylinux1_x86_64.manylinux_2_17_x86_64.manylinux2014_x86_64.whl (239 kB)\n     ━━━━━━━━━━━━━━━━━━━━━━━━━━━━━━━━━━━━━━ 239.5/239.5 kB 39.8 MB/s eta 0:00:00\nRequirement already satisfied: yarl<2.0,>=1.0 in /local_disk0/.ephemeral_nfs/envs/pythonEnv-1baf428f-8695-4b74-acc5-37195553cf83/lib/python3.10/site-packages (from aiohttp->datasets) (1.9.4)\nRequirement already satisfied: attrs>=17.3.0 in /databricks/python3/lib/python3.10/site-packages (from aiohttp->datasets) (22.1.0)\nRequirement already satisfied: typing-extensions>=3.7.4.3 in /local_disk0/.ephemeral_nfs/envs/pythonEnv-1baf428f-8695-4b74-acc5-37195553cf83/lib/python3.10/site-packages (from huggingface-hub>=0.21.2->datasets) (4.12.2)\nRequirement already satisfied: certifi>=2017.4.17 in /databricks/python3/lib/python3.10/site-packages (from requests>=2.32.2->datasets) (2022.12.7)\nRequirement already satisfied: charset-normalizer<4,>=2 in /databricks/python3/lib/python3.10/site-packages (from requests>=2.32.2->datasets) (2.0.4)\nRequirement already satisfied: urllib3<3,>=1.21.1 in /databricks/python3/lib/python3.10/site-packages (from requests>=2.32.2->datasets) (1.26.14)\nRequirement already satisfied: idna<4,>=2.5 in /databricks/python3/lib/python3.10/site-packages (from requests>=2.32.2->datasets) (3.4)\nRequirement already satisfied: pytz>=2020.1 in /databricks/python3/lib/python3.10/site-packages (from pandas->datasets) (2022.7)\nRequirement already satisfied: python-dateutil>=2.8.1 in /databricks/python3/lib/python3.10/site-packages (from pandas->datasets) (2.8.2)\nRequirement already satisfied: six>=1.5 in /usr/lib/python3/dist-packages (from python-dateutil>=2.8.1->pandas->datasets) (1.16.0)\nInstalling collected packages: requests, pyarrow, frozenlist, dill, async-timeout, aiohappyeyeballs, multiprocess, aiosignal, aiohttp, datasets\n  Attempting uninstall: requests\n    Found existing installation: requests 2.28.1\n    Not uninstalling requests at /databricks/python3/lib/python3.10/site-packages, outside environment /local_disk0/.ephemeral_nfs/envs/pythonEnv-1baf428f-8695-4b74-acc5-37195553cf83\n    Can't uninstall 'requests'. No files were found to uninstall.\n  Attempting uninstall: pyarrow\n    Found existing installation: pyarrow 8.0.0\n    Not uninstalling pyarrow at /databricks/python3/lib/python3.10/site-packages, outside environment /local_disk0/.ephemeral_nfs/envs/pythonEnv-1baf428f-8695-4b74-acc5-37195553cf83\n    Can't uninstall 'pyarrow'. No files were found to uninstall.\nERROR: pip's dependency resolver does not currently take into account all the packages that are installed. This behaviour is the source of the following dependency conflicts.\nllm-foundry 0.12.0.dev0 requires accelerate<0.34,>=0.25, which is not installed.\nllm-foundry 0.12.0.dev0 requires catalogue<3,>=2, which is not installed.\nllm-foundry 0.12.0.dev0 requires einops==0.8.0, which is not installed.\nllm-foundry 0.12.0.dev0 requires omegaconf<3,>=2.2.3, which is not installed.\nllm-foundry 0.12.0.dev0 requires onnx==1.16.2, which is not installed.\nllm-foundry 0.12.0.dev0 requires onnxruntime==1.18.1, which is not installed.\nllm-foundry 0.12.0.dev0 requires sentencepiece==0.2.0, which is not installed.\nllm-foundry 0.12.0.dev0 requires slack-sdk<4, which is not installed.\nllm-foundry 0.12.0.dev0 requires typer<1, which is not installed.\nmlflow 2.15.1 requires pyarrow<16,>=4.0.0, but you have pyarrow 17.0.0 which is incompatible.\nllm-foundry 0.12.0.dev0 requires beautifulsoup4<5,>=4.12.2, but you have beautifulsoup4 4.11.1 which is incompatible.\nllm-foundry 0.12.0.dev0 requires datasets<2.20,>=2.19, but you have datasets 2.21.0 which is incompatible.\nllm-foundry 0.12.0.dev0 requires fsspec==2023.6.0, but you have fsspec 2024.6.1 which is incompatible.\nllm-foundry 0.12.0.dev0 requires tenacity<9,>=8.2.3, but you have tenacity 8.1.0 which is incompatible.\nSuccessfully installed aiohappyeyeballs-2.4.0 aiohttp-3.10.5 aiosignal-1.3.1 async-timeout-4.0.3 datasets-2.21.0 dill-0.3.8 frozenlist-1.4.1 multiprocess-0.70.16 pyarrow-17.0.0 requests-2.32.3\n\u001B[43mNote: you may need to restart the kernel using %restart_python or dbutils.library.restartPython() to use updated packages.\u001B[0m\nCollecting omegaconf\n  Downloading omegaconf-2.3.0-py3-none-any.whl (79 kB)\n     ━━━━━━━━━━━━━━━━━━━━━━━━━━━━━━━━━━━━━━━━ 79.5/79.5 kB 3.4 MB/s eta 0:00:00\nRequirement already satisfied: PyYAML>=5.1.0 in /local_disk0/.ephemeral_nfs/envs/pythonEnv-1baf428f-8695-4b74-acc5-37195553cf83/lib/python3.10/site-packages (from omegaconf) (6.0.2)\nCollecting antlr4-python3-runtime==4.9.*\n  Downloading antlr4-python3-runtime-4.9.3.tar.gz (117 kB)\n     ━━━━━━━━━━━━━━━━━━━━━━━━━━━━━━━━━━━━━━━ 117.0/117.0 kB 5.3 MB/s eta 0:00:00\n  Preparing metadata (setup.py): started\n  Preparing metadata (setup.py): finished with status 'done'\nBuilding wheels for collected packages: antlr4-python3-runtime\n  Building wheel for antlr4-python3-runtime (setup.py): started\n  Building wheel for antlr4-python3-runtime (setup.py): finished with status 'done'\n  Created wheel for antlr4-python3-runtime: filename=antlr4_python3_runtime-4.9.3-py3-none-any.whl size=144554 sha256=0ac03e09965fb3165d8c910681993a3695aa53c7d481692e647187aca237287a\n  Stored in directory: /home/spark-1baf428f-8695-4b74-acc5-37/.cache/pip/wheels/48/6a/c2/acb58c7afdf57e4cddf5e1513f5a2d62aa8e98f82a00c76d7c\nSuccessfully built antlr4-python3-runtime\nInstalling collected packages: antlr4-python3-runtime, omegaconf\nERROR: pip's dependency resolver does not currently take into account all the packages that are installed. This behaviour is the source of the following dependency conflicts.\nllm-foundry 0.12.0.dev0 requires accelerate<0.34,>=0.25, which is not installed.\nllm-foundry 0.12.0.dev0 requires catalogue<3,>=2, which is not installed.\nllm-foundry 0.12.0.dev0 requires einops==0.8.0, which is not installed.\nllm-foundry 0.12.0.dev0 requires onnx==1.16.2, which is not installed.\nllm-foundry 0.12.0.dev0 requires onnxruntime==1.18.1, which is not installed.\nllm-foundry 0.12.0.dev0 requires sentencepiece==0.2.0, which is not installed.\nllm-foundry 0.12.0.dev0 requires slack-sdk<4, which is not installed.\nllm-foundry 0.12.0.dev0 requires typer<1, which is not installed.\nllm-foundry 0.12.0.dev0 requires beautifulsoup4<5,>=4.12.2, but you have beautifulsoup4 4.11.1 which is incompatible.\nllm-foundry 0.12.0.dev0 requires datasets<2.20,>=2.19, but you have datasets 2.21.0 which is incompatible.\nllm-foundry 0.12.0.dev0 requires fsspec==2023.6.0, but you have fsspec 2024.6.1 which is incompatible.\nllm-foundry 0.12.0.dev0 requires tenacity<9,>=8.2.3, but you have tenacity 8.1.0 which is incompatible.\nSuccessfully installed antlr4-python3-runtime-4.9.3 omegaconf-2.3.0\n\u001B[43mNote: you may need to restart the kernel using %restart_python or dbutils.library.restartPython() to use updated packages.\u001B[0m\nCollecting einops\n  Downloading einops-0.8.0-py3-none-any.whl (43 kB)\n     ━━━━━━━━━━━━━━━━━━━━━━━━━━━━━━━━━━━━━━━━ 43.2/43.2 kB 1.9 MB/s eta 0:00:00\nInstalling collected packages: einops\nERROR: pip's dependency resolver does not currently take into account all the packages that are installed. This behaviour is the source of the following dependency conflicts.\nllm-foundry 0.12.0.dev0 requires accelerate<0.34,>=0.25, which is not installed.\nllm-foundry 0.12.0.dev0 requires catalogue<3,>=2, which is not installed.\nllm-foundry 0.12.0.dev0 requires onnx==1.16.2, which is not installed.\nllm-foundry 0.12.0.dev0 requires onnxruntime==1.18.1, which is not installed.\nllm-foundry 0.12.0.dev0 requires sentencepiece==0.2.0, which is not installed.\nllm-foundry 0.12.0.dev0 requires slack-sdk<4, which is not installed.\nllm-foundry 0.12.0.dev0 requires typer<1, which is not installed.\nllm-foundry 0.12.0.dev0 requires beautifulsoup4<5,>=4.12.2, but you have beautifulsoup4 4.11.1 which is incompatible.\nllm-foundry 0.12.0.dev0 requires datasets<2.20,>=2.19, but you have datasets 2.21.0 which is incompatible.\nllm-foundry 0.12.0.dev0 requires fsspec==2023.6.0, but you have fsspec 2024.6.1 which is incompatible.\nllm-foundry 0.12.0.dev0 requires tenacity<9,>=8.2.3, but you have tenacity 8.1.0 which is incompatible.\nSuccessfully installed einops-0.8.0\n\u001B[43mNote: you may need to restart the kernel using %restart_python or dbutils.library.restartPython() to use updated packages.\u001B[0m\nCollecting sentencepiece\n  Downloading sentencepiece-0.2.0-cp310-cp310-manylinux_2_17_x86_64.manylinux2014_x86_64.whl (1.3 MB)\n     ━━━━━━━━━━━━━━━━━━━━━━━━━━━━━━━━━━━━━━━━ 1.3/1.3 MB 9.1 MB/s eta 0:00:00\nInstalling collected packages: sentencepiece\nERROR: pip's dependency resolver does not currently take into account all the packages that are installed. This behaviour is the source of the following dependency conflicts.\nllm-foundry 0.12.0.dev0 requires accelerate<0.34,>=0.25, which is not installed.\nllm-foundry 0.12.0.dev0 requires catalogue<3,>=2, which is not installed.\nllm-foundry 0.12.0.dev0 requires onnx==1.16.2, which is not installed.\nllm-foundry 0.12.0.dev0 requires onnxruntime==1.18.1, which is not installed.\nllm-foundry 0.12.0.dev0 requires slack-sdk<4, which is not installed.\nllm-foundry 0.12.0.dev0 requires typer<1, which is not installed.\nllm-foundry 0.12.0.dev0 requires beautifulsoup4<5,>=4.12.2, but you have beautifulsoup4 4.11.1 which is incompatible.\nllm-foundry 0.12.0.dev0 requires datasets<2.20,>=2.19, but you have datasets 2.21.0 which is incompatible.\nllm-foundry 0.12.0.dev0 requires fsspec==2023.6.0, but you have fsspec 2024.6.1 which is incompatible.\nllm-foundry 0.12.0.dev0 requires tenacity<9,>=8.2.3, but you have tenacity 8.1.0 which is incompatible.\nSuccessfully installed sentencepiece-0.2.0\n\u001B[43mNote: you may need to restart the kernel using %restart_python or dbutils.library.restartPython() to use updated packages.\u001B[0m\n"
     ]
    }
   ],
   "source": [
    "%pip install 'mosaicml[libcloud,wandb,oci,gcs]>=0.23.4,<0.24'\n",
    "%pip install 'mlflow>=2.14.1,<2.16'\n",
    "%pip install 'transformers>=4.43.2,<4.44'\n",
    "%pip install \"mosaicml-streaming>=0.8.0,<0.9\"\n",
    "%pip install -U datasets\n",
    "%pip install omegaconf\n",
    "%pip install einops\n",
    "%pip install sentencepiece\n",
    "%pip install --upgrade --no-deps git+https://github.com/mosaicml/llm-foundry.git@byod/data_validation"
   ]
  },
  {
   "cell_type": "code",
   "execution_count": 0,
   "metadata": {
    "application/vnd.databricks.v1+cell": {
     "cellMetadata": {
      "byteLimit": 2048000,
      "rowLimit": 10000
     },
     "inputWidgets": {},
     "nuid": "d9a3d8a4-c89a-40a6-8093-6c2afc2ae08d",
     "showTitle": false,
     "title": ""
    }
   },
   "outputs": [],
   "source": [
    "dbutils.library.restartPython()"
   ]
  },
  {
   "cell_type": "code",
   "execution_count": 0,
   "metadata": {
    "application/vnd.databricks.v1+cell": {
     "cellMetadata": {
      "byteLimit": 2048000,
      "rowLimit": 10000
     },
     "inputWidgets": {},
     "nuid": "0dcd849e-a35f-4999-acbe-6370c7a29294",
     "showTitle": false,
     "title": ""
    }
   },
   "outputs": [
    {
     "output_type": "display_data",
     "data": {
      "text/plain": [
       "\u001B[0;31m---------------------------------------------------------------------------\u001B[0m\n",
       "\u001B[0;31mModuleNotFoundError\u001B[0m                       Traceback (most recent call last)\n",
       "File \u001B[0;32m<command-2691292108300970>, line 14\u001B[0m\n",
       "\u001B[1;32m     10\u001B[0m \u001B[38;5;28;01mfrom\u001B[39;00m \u001B[38;5;21;01mtyping\u001B[39;00m \u001B[38;5;28;01mimport\u001B[39;00m cast \n",
       "\u001B[1;32m     12\u001B[0m \u001B[38;5;28;01mimport\u001B[39;00m \u001B[38;5;21;01mdatasets\u001B[39;00m \n",
       "\u001B[0;32m---> 14\u001B[0m \u001B[38;5;28;01mfrom\u001B[39;00m \u001B[38;5;21;01mllmfoundry\u001B[39;00m\u001B[38;5;21;01m.\u001B[39;00m\u001B[38;5;21;01mutils\u001B[39;00m \u001B[38;5;28;01mimport\u001B[39;00m (create_om_cfg, token_counts_with_collate, \n",
       "\u001B[1;32m     15\u001B[0m         check_HF_datasets, is_hf_dataset_path, is_uc_delta_table,\n",
       "\u001B[1;32m     16\u001B[0m         integrity_check, convert_text_to_mds, parse_args, plot_hist,\n",
       "\u001B[1;32m     17\u001B[0m )\n",
       "\u001B[1;32m     19\u001B[0m \u001B[38;5;28;01mfrom\u001B[39;00m \u001B[38;5;21;01mllmfoundry\u001B[39;00m\u001B[38;5;21;01m.\u001B[39;00m\u001B[38;5;21;01mdata\u001B[39;00m\u001B[38;5;21;01m.\u001B[39;00m\u001B[38;5;21;01mfinetuning\u001B[39;00m\u001B[38;5;21;01m.\u001B[39;00m\u001B[38;5;21;01mtasks\u001B[39;00m \u001B[38;5;28;01mimport\u001B[39;00m (_validate_chat_formatted_example,\n",
       "\u001B[1;32m     20\u001B[0m                                               _tokenize_prompt_response_formatted_example,\n",
       "\u001B[1;32m     21\u001B[0m                                               _get_example_type, ChatFormattedDict, PromptResponseDict )\n",
       "\u001B[1;32m     22\u001B[0m \u001B[38;5;28;01mimport\u001B[39;00m \u001B[38;5;21;01mtransformers\u001B[39;00m\n",
       "\n",
       "File \u001B[0;32m/local_disk0/.ephemeral_nfs/envs/pythonEnv-1baf428f-8695-4b74-acc5-37195553cf83/lib/python3.10/site-packages/llmfoundry/__init__.py:29\u001B[0m\n",
       "\u001B[1;32m     16\u001B[0m     \u001B[38;5;28;01mif\u001B[39;00m \u001B[38;5;124m'\u001B[39m\u001B[38;5;124mundefined symbol\u001B[39m\u001B[38;5;124m'\u001B[39m \u001B[38;5;129;01min\u001B[39;00m \u001B[38;5;28mstr\u001B[39m(e):\n",
       "\u001B[1;32m     17\u001B[0m         \u001B[38;5;28;01mraise\u001B[39;00m \u001B[38;5;167;01mImportError\u001B[39;00m(\n",
       "\u001B[1;32m     18\u001B[0m             \u001B[38;5;124m'\u001B[39m\u001B[38;5;124mThe flash_attn package is not installed correctly. Usually this means that your runtime version\u001B[39m\u001B[38;5;124m'\u001B[39m\n",
       "\u001B[1;32m     19\u001B[0m             \u001B[38;5;241m+\u001B[39m\n",
       "\u001B[0;32m   (...)\u001B[0m\n",
       "\u001B[1;32m     26\u001B[0m             \u001B[38;5;124m'\u001B[39m\u001B[38;5;124m in LLM Foundry setup.py and update accordingly. The latest Docker image can be found in the README.\u001B[39m\u001B[38;5;124m'\u001B[39m,\n",
       "\u001B[1;32m     27\u001B[0m         ) \u001B[38;5;28;01mfrom\u001B[39;00m \u001B[38;5;21;01me\u001B[39;00m\n",
       "\u001B[0;32m---> 29\u001B[0m \u001B[38;5;28;01mfrom\u001B[39;00m \u001B[38;5;21;01mllmfoundry\u001B[39;00m\u001B[38;5;21;01m.\u001B[39;00m\u001B[38;5;21;01mutils\u001B[39;00m\u001B[38;5;21;01m.\u001B[39;00m\u001B[38;5;21;01mlogging_utils\u001B[39;00m \u001B[38;5;28;01mimport\u001B[39;00m SpecificWarningFilter\n",
       "\u001B[1;32m     31\u001B[0m \u001B[38;5;66;03m# Filter out Hugging Face warning for not using a pinned revision of the model\u001B[39;00m\n",
       "\u001B[1;32m     32\u001B[0m logger \u001B[38;5;241m=\u001B[39m logging\u001B[38;5;241m.\u001B[39mgetLogger(\u001B[38;5;124m'\u001B[39m\u001B[38;5;124mtransformers.dynamic_module_utils\u001B[39m\u001B[38;5;124m'\u001B[39m)\n",
       "\n",
       "File \u001B[0;32m/local_disk0/.ephemeral_nfs/envs/pythonEnv-1baf428f-8695-4b74-acc5-37195553cf83/lib/python3.10/site-packages/llmfoundry/utils/__init__.py:4\u001B[0m\n",
       "\u001B[1;32m      1\u001B[0m \u001B[38;5;66;03m# Copyright 2022 MosaicML LLM Foundry authors\u001B[39;00m\n",
       "\u001B[1;32m      2\u001B[0m \u001B[38;5;66;03m# SPDX-License-Identifier: Apache-2.0\u001B[39;00m\n",
       "\u001B[0;32m----> 4\u001B[0m \u001B[38;5;28;01mfrom\u001B[39;00m \u001B[38;5;21;01mllmfoundry\u001B[39;00m\u001B[38;5;21;01m.\u001B[39;00m\u001B[38;5;21;01mregistry\u001B[39;00m \u001B[38;5;28;01mimport\u001B[39;00m config_transforms\n",
       "\u001B[1;32m      5\u001B[0m \u001B[38;5;28;01mfrom\u001B[39;00m \u001B[38;5;21;01mllmfoundry\u001B[39;00m\u001B[38;5;21;01m.\u001B[39;00m\u001B[38;5;21;01mutils\u001B[39;00m\u001B[38;5;21;01m.\u001B[39;00m\u001B[38;5;21;01mbuilders\u001B[39;00m \u001B[38;5;28;01mimport\u001B[39;00m (\n",
       "\u001B[1;32m      6\u001B[0m     add_metrics_to_eval_loaders,\n",
       "\u001B[1;32m      7\u001B[0m     build_algorithm,\n",
       "\u001B[0;32m   (...)\u001B[0m\n",
       "\u001B[1;32m     18\u001B[0m     build_tokenizer,\n",
       "\u001B[1;32m     19\u001B[0m )\n",
       "\u001B[1;32m     20\u001B[0m \u001B[38;5;28;01mfrom\u001B[39;00m \u001B[38;5;21;01mllmfoundry\u001B[39;00m\u001B[38;5;21;01m.\u001B[39;00m\u001B[38;5;21;01mutils\u001B[39;00m\u001B[38;5;21;01m.\u001B[39;00m\u001B[38;5;21;01mcheckpoint_conversion_helpers\u001B[39;00m \u001B[38;5;28;01mimport\u001B[39;00m (\n",
       "\u001B[1;32m     21\u001B[0m     convert_and_save_ft_weights,\n",
       "\u001B[1;32m     22\u001B[0m     get_hf_tokenizer_from_composer_state_dict,\n",
       "\u001B[1;32m     23\u001B[0m     load_tokenizer,\n",
       "\u001B[1;32m     24\u001B[0m )\n",
       "\n",
       "File \u001B[0;32m/local_disk0/.ephemeral_nfs/envs/pythonEnv-1baf428f-8695-4b74-acc5-37195553cf83/lib/python3.10/site-packages/llmfoundry/registry.py:17\u001B[0m\n",
       "\u001B[1;32m     14\u001B[0m \u001B[38;5;28;01mfrom\u001B[39;00m \u001B[38;5;21;01mtransformers\u001B[39;00m \u001B[38;5;28;01mimport\u001B[39;00m PreTrainedTokenizerBase\n",
       "\u001B[1;32m     16\u001B[0m \u001B[38;5;28;01mfrom\u001B[39;00m \u001B[38;5;21;01mllmfoundry\u001B[39;00m\u001B[38;5;21;01m.\u001B[39;00m\u001B[38;5;21;01minterfaces\u001B[39;00m \u001B[38;5;28;01mimport\u001B[39;00m CallbackWithConfig\n",
       "\u001B[0;32m---> 17\u001B[0m \u001B[38;5;28;01mfrom\u001B[39;00m \u001B[38;5;21;01mllmfoundry\u001B[39;00m\u001B[38;5;21;01m.\u001B[39;00m\u001B[38;5;21;01mlayers_registry\u001B[39;00m \u001B[38;5;28;01mimport\u001B[39;00m (\n",
       "\u001B[1;32m     18\u001B[0m     attention_classes,\n",
       "\u001B[1;32m     19\u001B[0m     attention_implementations,\n",
       "\u001B[1;32m     20\u001B[0m     fcs,\n",
       "\u001B[1;32m     21\u001B[0m     ffns,\n",
       "\u001B[1;32m     22\u001B[0m     ffns_with_megablocks,\n",
       "\u001B[1;32m     23\u001B[0m     ffns_with_norm,\n",
       "\u001B[1;32m     24\u001B[0m     module_init_fns,\n",
       "\u001B[1;32m     25\u001B[0m     norms,\n",
       "\u001B[1;32m     26\u001B[0m     param_init_fns,\n",
       "\u001B[1;32m     27\u001B[0m )\n",
       "\u001B[1;32m     28\u001B[0m \u001B[38;5;28;01mfrom\u001B[39;00m \u001B[38;5;21;01mllmfoundry\u001B[39;00m\u001B[38;5;21;01m.\u001B[39;00m\u001B[38;5;21;01mutils\u001B[39;00m\u001B[38;5;21;01m.\u001B[39;00m\u001B[38;5;21;01mregistry_utils\u001B[39;00m \u001B[38;5;28;01mimport\u001B[39;00m create_registry\n",
       "\u001B[1;32m     30\u001B[0m _loggers_description \u001B[38;5;241m=\u001B[39m (\n",
       "\u001B[1;32m     31\u001B[0m \u001B[38;5;250m    \u001B[39m\u001B[38;5;124;03m\"\"\"The loggers registry is used to register classes that implement the LoggerDestination interface.\u001B[39;00m\n",
       "\u001B[1;32m     32\u001B[0m \n",
       "\u001B[0;32m   (...)\u001B[0m\n",
       "\u001B[1;32m     41\u001B[0m \u001B[38;5;124;03m    \"\"\"\u001B[39;00m\n",
       "\u001B[1;32m     42\u001B[0m )\n",
       "\n",
       "File \u001B[0;32m/local_disk0/.ephemeral_nfs/envs/pythonEnv-1baf428f-8695-4b74-acc5-37195553cf83/lib/python3.10/site-packages/llmfoundry/layers_registry.py:8\u001B[0m\n",
       "\u001B[1;32m      4\u001B[0m \u001B[38;5;28;01mfrom\u001B[39;00m \u001B[38;5;21;01mtyping\u001B[39;00m \u001B[38;5;28;01mimport\u001B[39;00m Callable, Type\n",
       "\u001B[1;32m      6\u001B[0m \u001B[38;5;28;01mimport\u001B[39;00m \u001B[38;5;21;01mtorch\u001B[39;00m\n",
       "\u001B[0;32m----> 8\u001B[0m \u001B[38;5;28;01mfrom\u001B[39;00m \u001B[38;5;21;01mllmfoundry\u001B[39;00m\u001B[38;5;21;01m.\u001B[39;00m\u001B[38;5;21;01mutils\u001B[39;00m\u001B[38;5;21;01m.\u001B[39;00m\u001B[38;5;21;01mregistry_utils\u001B[39;00m \u001B[38;5;28;01mimport\u001B[39;00m create_registry\n",
       "\u001B[1;32m     10\u001B[0m _norms_description \u001B[38;5;241m=\u001B[39m (\n",
       "\u001B[1;32m     11\u001B[0m \u001B[38;5;250m    \u001B[39m\u001B[38;5;124;03m\"\"\"The norms registry is used to register classes that implement normalization layers.\u001B[39;00m\n",
       "\u001B[1;32m     12\u001B[0m \n",
       "\u001B[0;32m   (...)\u001B[0m\n",
       "\u001B[1;32m     21\u001B[0m \u001B[38;5;124;03m    \"\"\"\u001B[39;00m\n",
       "\u001B[1;32m     22\u001B[0m )\n",
       "\u001B[1;32m     23\u001B[0m norms \u001B[38;5;241m=\u001B[39m create_registry(\n",
       "\u001B[1;32m     24\u001B[0m     \u001B[38;5;124m'\u001B[39m\u001B[38;5;124mllmfoundry\u001B[39m\u001B[38;5;124m'\u001B[39m,\n",
       "\u001B[1;32m     25\u001B[0m     \u001B[38;5;124m'\u001B[39m\u001B[38;5;124mnorms\u001B[39m\u001B[38;5;124m'\u001B[39m,\n",
       "\u001B[0;32m   (...)\u001B[0m\n",
       "\u001B[1;32m     28\u001B[0m     description\u001B[38;5;241m=\u001B[39m_norms_description,\n",
       "\u001B[1;32m     29\u001B[0m )\n",
       "\n",
       "File \u001B[0;32m/local_disk0/.ephemeral_nfs/envs/pythonEnv-1baf428f-8695-4b74-acc5-37195553cf83/lib/python3.10/site-packages/llmfoundry/utils/registry_utils.py:23\u001B[0m\n",
       "\u001B[1;32m     10\u001B[0m \u001B[38;5;28;01mfrom\u001B[39;00m \u001B[38;5;21;01mtypes\u001B[39;00m \u001B[38;5;28;01mimport\u001B[39;00m ModuleType\n",
       "\u001B[1;32m     11\u001B[0m \u001B[38;5;28;01mfrom\u001B[39;00m \u001B[38;5;21;01mtyping\u001B[39;00m \u001B[38;5;28;01mimport\u001B[39;00m (\n",
       "\u001B[1;32m     12\u001B[0m     Any,\n",
       "\u001B[1;32m     13\u001B[0m     Callable,\n",
       "\u001B[0;32m   (...)\u001B[0m\n",
       "\u001B[1;32m     20\u001B[0m     Union,\n",
       "\u001B[1;32m     21\u001B[0m )\n",
       "\u001B[0;32m---> 23\u001B[0m \u001B[38;5;28;01mimport\u001B[39;00m \u001B[38;5;21;01mcatalogue\u001B[39;00m\n",
       "\u001B[1;32m     25\u001B[0m __all__ \u001B[38;5;241m=\u001B[39m [\n",
       "\u001B[1;32m     26\u001B[0m     \u001B[38;5;124m'\u001B[39m\u001B[38;5;124mTypedRegistry\u001B[39m\u001B[38;5;124m'\u001B[39m,\n",
       "\u001B[1;32m     27\u001B[0m     \u001B[38;5;124m'\u001B[39m\u001B[38;5;124mcreate_registry\u001B[39m\u001B[38;5;124m'\u001B[39m,\n",
       "\u001B[0;32m   (...)\u001B[0m\n",
       "\u001B[1;32m     30\u001B[0m     \u001B[38;5;124m'\u001B[39m\u001B[38;5;124msave_registry\u001B[39m\u001B[38;5;124m'\u001B[39m,\n",
       "\u001B[1;32m     31\u001B[0m ]\n",
       "\u001B[1;32m     33\u001B[0m T \u001B[38;5;241m=\u001B[39m TypeVar(\u001B[38;5;124m'\u001B[39m\u001B[38;5;124mT\u001B[39m\u001B[38;5;124m'\u001B[39m)\n",
       "\n",
       "\u001B[0;31mModuleNotFoundError\u001B[0m: No module named 'catalogue'"
      ]
     },
     "metadata": {
      "application/vnd.databricks.v1+output": {
       "addedWidgets": {},
       "arguments": {},
       "datasetInfos": [],
       "jupyterProps": {
        "ename": "ModuleNotFoundError",
        "evalue": "No module named 'catalogue'"
       },
       "metadata": {
        "errorSummary": "<span class='ansi-red-fg'>ModuleNotFoundError</span>: No module named 'catalogue'"
       },
       "removedWidgets": [],
       "sqlProps": null,
       "stackFrames": [
        "\u001B[0;31m---------------------------------------------------------------------------\u001B[0m",
        "\u001B[0;31mModuleNotFoundError\u001B[0m                       Traceback (most recent call last)",
        "File \u001B[0;32m<command-2691292108300970>, line 14\u001B[0m\n\u001B[1;32m     10\u001B[0m \u001B[38;5;28;01mfrom\u001B[39;00m \u001B[38;5;21;01mtyping\u001B[39;00m \u001B[38;5;28;01mimport\u001B[39;00m cast \n\u001B[1;32m     12\u001B[0m \u001B[38;5;28;01mimport\u001B[39;00m \u001B[38;5;21;01mdatasets\u001B[39;00m \n\u001B[0;32m---> 14\u001B[0m \u001B[38;5;28;01mfrom\u001B[39;00m \u001B[38;5;21;01mllmfoundry\u001B[39;00m\u001B[38;5;21;01m.\u001B[39;00m\u001B[38;5;21;01mutils\u001B[39;00m \u001B[38;5;28;01mimport\u001B[39;00m (create_om_cfg, token_counts_with_collate, \n\u001B[1;32m     15\u001B[0m         check_HF_datasets, is_hf_dataset_path, is_uc_delta_table,\n\u001B[1;32m     16\u001B[0m         integrity_check, convert_text_to_mds, parse_args, plot_hist,\n\u001B[1;32m     17\u001B[0m )\n\u001B[1;32m     19\u001B[0m \u001B[38;5;28;01mfrom\u001B[39;00m \u001B[38;5;21;01mllmfoundry\u001B[39;00m\u001B[38;5;21;01m.\u001B[39;00m\u001B[38;5;21;01mdata\u001B[39;00m\u001B[38;5;21;01m.\u001B[39;00m\u001B[38;5;21;01mfinetuning\u001B[39;00m\u001B[38;5;21;01m.\u001B[39;00m\u001B[38;5;21;01mtasks\u001B[39;00m \u001B[38;5;28;01mimport\u001B[39;00m (_validate_chat_formatted_example,\n\u001B[1;32m     20\u001B[0m                                               _tokenize_prompt_response_formatted_example,\n\u001B[1;32m     21\u001B[0m                                               _get_example_type, ChatFormattedDict, PromptResponseDict )\n\u001B[1;32m     22\u001B[0m \u001B[38;5;28;01mimport\u001B[39;00m \u001B[38;5;21;01mtransformers\u001B[39;00m\n",
        "File \u001B[0;32m/local_disk0/.ephemeral_nfs/envs/pythonEnv-1baf428f-8695-4b74-acc5-37195553cf83/lib/python3.10/site-packages/llmfoundry/__init__.py:29\u001B[0m\n\u001B[1;32m     16\u001B[0m     \u001B[38;5;28;01mif\u001B[39;00m \u001B[38;5;124m'\u001B[39m\u001B[38;5;124mundefined symbol\u001B[39m\u001B[38;5;124m'\u001B[39m \u001B[38;5;129;01min\u001B[39;00m \u001B[38;5;28mstr\u001B[39m(e):\n\u001B[1;32m     17\u001B[0m         \u001B[38;5;28;01mraise\u001B[39;00m \u001B[38;5;167;01mImportError\u001B[39;00m(\n\u001B[1;32m     18\u001B[0m             \u001B[38;5;124m'\u001B[39m\u001B[38;5;124mThe flash_attn package is not installed correctly. Usually this means that your runtime version\u001B[39m\u001B[38;5;124m'\u001B[39m\n\u001B[1;32m     19\u001B[0m             \u001B[38;5;241m+\u001B[39m\n\u001B[0;32m   (...)\u001B[0m\n\u001B[1;32m     26\u001B[0m             \u001B[38;5;124m'\u001B[39m\u001B[38;5;124m in LLM Foundry setup.py and update accordingly. The latest Docker image can be found in the README.\u001B[39m\u001B[38;5;124m'\u001B[39m,\n\u001B[1;32m     27\u001B[0m         ) \u001B[38;5;28;01mfrom\u001B[39;00m \u001B[38;5;21;01me\u001B[39;00m\n\u001B[0;32m---> 29\u001B[0m \u001B[38;5;28;01mfrom\u001B[39;00m \u001B[38;5;21;01mllmfoundry\u001B[39;00m\u001B[38;5;21;01m.\u001B[39;00m\u001B[38;5;21;01mutils\u001B[39;00m\u001B[38;5;21;01m.\u001B[39;00m\u001B[38;5;21;01mlogging_utils\u001B[39;00m \u001B[38;5;28;01mimport\u001B[39;00m SpecificWarningFilter\n\u001B[1;32m     31\u001B[0m \u001B[38;5;66;03m# Filter out Hugging Face warning for not using a pinned revision of the model\u001B[39;00m\n\u001B[1;32m     32\u001B[0m logger \u001B[38;5;241m=\u001B[39m logging\u001B[38;5;241m.\u001B[39mgetLogger(\u001B[38;5;124m'\u001B[39m\u001B[38;5;124mtransformers.dynamic_module_utils\u001B[39m\u001B[38;5;124m'\u001B[39m)\n",
        "File \u001B[0;32m/local_disk0/.ephemeral_nfs/envs/pythonEnv-1baf428f-8695-4b74-acc5-37195553cf83/lib/python3.10/site-packages/llmfoundry/utils/__init__.py:4\u001B[0m\n\u001B[1;32m      1\u001B[0m \u001B[38;5;66;03m# Copyright 2022 MosaicML LLM Foundry authors\u001B[39;00m\n\u001B[1;32m      2\u001B[0m \u001B[38;5;66;03m# SPDX-License-Identifier: Apache-2.0\u001B[39;00m\n\u001B[0;32m----> 4\u001B[0m \u001B[38;5;28;01mfrom\u001B[39;00m \u001B[38;5;21;01mllmfoundry\u001B[39;00m\u001B[38;5;21;01m.\u001B[39;00m\u001B[38;5;21;01mregistry\u001B[39;00m \u001B[38;5;28;01mimport\u001B[39;00m config_transforms\n\u001B[1;32m      5\u001B[0m \u001B[38;5;28;01mfrom\u001B[39;00m \u001B[38;5;21;01mllmfoundry\u001B[39;00m\u001B[38;5;21;01m.\u001B[39;00m\u001B[38;5;21;01mutils\u001B[39;00m\u001B[38;5;21;01m.\u001B[39;00m\u001B[38;5;21;01mbuilders\u001B[39;00m \u001B[38;5;28;01mimport\u001B[39;00m (\n\u001B[1;32m      6\u001B[0m     add_metrics_to_eval_loaders,\n\u001B[1;32m      7\u001B[0m     build_algorithm,\n\u001B[0;32m   (...)\u001B[0m\n\u001B[1;32m     18\u001B[0m     build_tokenizer,\n\u001B[1;32m     19\u001B[0m )\n\u001B[1;32m     20\u001B[0m \u001B[38;5;28;01mfrom\u001B[39;00m \u001B[38;5;21;01mllmfoundry\u001B[39;00m\u001B[38;5;21;01m.\u001B[39;00m\u001B[38;5;21;01mutils\u001B[39;00m\u001B[38;5;21;01m.\u001B[39;00m\u001B[38;5;21;01mcheckpoint_conversion_helpers\u001B[39;00m \u001B[38;5;28;01mimport\u001B[39;00m (\n\u001B[1;32m     21\u001B[0m     convert_and_save_ft_weights,\n\u001B[1;32m     22\u001B[0m     get_hf_tokenizer_from_composer_state_dict,\n\u001B[1;32m     23\u001B[0m     load_tokenizer,\n\u001B[1;32m     24\u001B[0m )\n",
        "File \u001B[0;32m/local_disk0/.ephemeral_nfs/envs/pythonEnv-1baf428f-8695-4b74-acc5-37195553cf83/lib/python3.10/site-packages/llmfoundry/registry.py:17\u001B[0m\n\u001B[1;32m     14\u001B[0m \u001B[38;5;28;01mfrom\u001B[39;00m \u001B[38;5;21;01mtransformers\u001B[39;00m \u001B[38;5;28;01mimport\u001B[39;00m PreTrainedTokenizerBase\n\u001B[1;32m     16\u001B[0m \u001B[38;5;28;01mfrom\u001B[39;00m \u001B[38;5;21;01mllmfoundry\u001B[39;00m\u001B[38;5;21;01m.\u001B[39;00m\u001B[38;5;21;01minterfaces\u001B[39;00m \u001B[38;5;28;01mimport\u001B[39;00m CallbackWithConfig\n\u001B[0;32m---> 17\u001B[0m \u001B[38;5;28;01mfrom\u001B[39;00m \u001B[38;5;21;01mllmfoundry\u001B[39;00m\u001B[38;5;21;01m.\u001B[39;00m\u001B[38;5;21;01mlayers_registry\u001B[39;00m \u001B[38;5;28;01mimport\u001B[39;00m (\n\u001B[1;32m     18\u001B[0m     attention_classes,\n\u001B[1;32m     19\u001B[0m     attention_implementations,\n\u001B[1;32m     20\u001B[0m     fcs,\n\u001B[1;32m     21\u001B[0m     ffns,\n\u001B[1;32m     22\u001B[0m     ffns_with_megablocks,\n\u001B[1;32m     23\u001B[0m     ffns_with_norm,\n\u001B[1;32m     24\u001B[0m     module_init_fns,\n\u001B[1;32m     25\u001B[0m     norms,\n\u001B[1;32m     26\u001B[0m     param_init_fns,\n\u001B[1;32m     27\u001B[0m )\n\u001B[1;32m     28\u001B[0m \u001B[38;5;28;01mfrom\u001B[39;00m \u001B[38;5;21;01mllmfoundry\u001B[39;00m\u001B[38;5;21;01m.\u001B[39;00m\u001B[38;5;21;01mutils\u001B[39;00m\u001B[38;5;21;01m.\u001B[39;00m\u001B[38;5;21;01mregistry_utils\u001B[39;00m \u001B[38;5;28;01mimport\u001B[39;00m create_registry\n\u001B[1;32m     30\u001B[0m _loggers_description \u001B[38;5;241m=\u001B[39m (\n\u001B[1;32m     31\u001B[0m \u001B[38;5;250m    \u001B[39m\u001B[38;5;124;03m\"\"\"The loggers registry is used to register classes that implement the LoggerDestination interface.\u001B[39;00m\n\u001B[1;32m     32\u001B[0m \n\u001B[0;32m   (...)\u001B[0m\n\u001B[1;32m     41\u001B[0m \u001B[38;5;124;03m    \"\"\"\u001B[39;00m\n\u001B[1;32m     42\u001B[0m )\n",
        "File \u001B[0;32m/local_disk0/.ephemeral_nfs/envs/pythonEnv-1baf428f-8695-4b74-acc5-37195553cf83/lib/python3.10/site-packages/llmfoundry/layers_registry.py:8\u001B[0m\n\u001B[1;32m      4\u001B[0m \u001B[38;5;28;01mfrom\u001B[39;00m \u001B[38;5;21;01mtyping\u001B[39;00m \u001B[38;5;28;01mimport\u001B[39;00m Callable, Type\n\u001B[1;32m      6\u001B[0m \u001B[38;5;28;01mimport\u001B[39;00m \u001B[38;5;21;01mtorch\u001B[39;00m\n\u001B[0;32m----> 8\u001B[0m \u001B[38;5;28;01mfrom\u001B[39;00m \u001B[38;5;21;01mllmfoundry\u001B[39;00m\u001B[38;5;21;01m.\u001B[39;00m\u001B[38;5;21;01mutils\u001B[39;00m\u001B[38;5;21;01m.\u001B[39;00m\u001B[38;5;21;01mregistry_utils\u001B[39;00m \u001B[38;5;28;01mimport\u001B[39;00m create_registry\n\u001B[1;32m     10\u001B[0m _norms_description \u001B[38;5;241m=\u001B[39m (\n\u001B[1;32m     11\u001B[0m \u001B[38;5;250m    \u001B[39m\u001B[38;5;124;03m\"\"\"The norms registry is used to register classes that implement normalization layers.\u001B[39;00m\n\u001B[1;32m     12\u001B[0m \n\u001B[0;32m   (...)\u001B[0m\n\u001B[1;32m     21\u001B[0m \u001B[38;5;124;03m    \"\"\"\u001B[39;00m\n\u001B[1;32m     22\u001B[0m )\n\u001B[1;32m     23\u001B[0m norms \u001B[38;5;241m=\u001B[39m create_registry(\n\u001B[1;32m     24\u001B[0m     \u001B[38;5;124m'\u001B[39m\u001B[38;5;124mllmfoundry\u001B[39m\u001B[38;5;124m'\u001B[39m,\n\u001B[1;32m     25\u001B[0m     \u001B[38;5;124m'\u001B[39m\u001B[38;5;124mnorms\u001B[39m\u001B[38;5;124m'\u001B[39m,\n\u001B[0;32m   (...)\u001B[0m\n\u001B[1;32m     28\u001B[0m     description\u001B[38;5;241m=\u001B[39m_norms_description,\n\u001B[1;32m     29\u001B[0m )\n",
        "File \u001B[0;32m/local_disk0/.ephemeral_nfs/envs/pythonEnv-1baf428f-8695-4b74-acc5-37195553cf83/lib/python3.10/site-packages/llmfoundry/utils/registry_utils.py:23\u001B[0m\n\u001B[1;32m     10\u001B[0m \u001B[38;5;28;01mfrom\u001B[39;00m \u001B[38;5;21;01mtypes\u001B[39;00m \u001B[38;5;28;01mimport\u001B[39;00m ModuleType\n\u001B[1;32m     11\u001B[0m \u001B[38;5;28;01mfrom\u001B[39;00m \u001B[38;5;21;01mtyping\u001B[39;00m \u001B[38;5;28;01mimport\u001B[39;00m (\n\u001B[1;32m     12\u001B[0m     Any,\n\u001B[1;32m     13\u001B[0m     Callable,\n\u001B[0;32m   (...)\u001B[0m\n\u001B[1;32m     20\u001B[0m     Union,\n\u001B[1;32m     21\u001B[0m )\n\u001B[0;32m---> 23\u001B[0m \u001B[38;5;28;01mimport\u001B[39;00m \u001B[38;5;21;01mcatalogue\u001B[39;00m\n\u001B[1;32m     25\u001B[0m __all__ \u001B[38;5;241m=\u001B[39m [\n\u001B[1;32m     26\u001B[0m     \u001B[38;5;124m'\u001B[39m\u001B[38;5;124mTypedRegistry\u001B[39m\u001B[38;5;124m'\u001B[39m,\n\u001B[1;32m     27\u001B[0m     \u001B[38;5;124m'\u001B[39m\u001B[38;5;124mcreate_registry\u001B[39m\u001B[38;5;124m'\u001B[39m,\n\u001B[0;32m   (...)\u001B[0m\n\u001B[1;32m     30\u001B[0m     \u001B[38;5;124m'\u001B[39m\u001B[38;5;124msave_registry\u001B[39m\u001B[38;5;124m'\u001B[39m,\n\u001B[1;32m     31\u001B[0m ]\n\u001B[1;32m     33\u001B[0m T \u001B[38;5;241m=\u001B[39m TypeVar(\u001B[38;5;124m'\u001B[39m\u001B[38;5;124mT\u001B[39m\u001B[38;5;124m'\u001B[39m)\n",
        "\u001B[0;31mModuleNotFoundError\u001B[0m: No module named 'catalogue'"
       ],
       "type": "baseError"
      }
     },
     "output_type": "display_data"
    }
   ],
   "source": [
    "import os\n",
    "import re\n",
    "import json\n",
    "import tempfile\n",
    "import random\n",
    "import numpy as np\n",
    "import pandas as pd \n",
    "from collections import defaultdict\n",
    "from argparse import ArgumentParser, Namespace\n",
    "from typing import cast \n",
    "\n",
    "import datasets \n",
    "\n",
    "from llmfoundry.utils import (create_om_cfg, token_counts_with_collate, \n",
    "        check_HF_datasets, is_hf_dataset_path, is_uc_delta_table,\n",
    "        integrity_check, convert_text_to_mds, parse_args, plot_hist,\n",
    ")\n",
    "\n",
    "from llmfoundry.data.finetuning.tasks import (_validate_chat_formatted_example,\n",
    "                                              _tokenize_prompt_response_formatted_example,\n",
    "                                              _get_example_type, ChatFormattedDict, PromptResponseDict )\n",
    "import transformers\n",
    "transformers.logging.set_verbosity_error()"
   ]
  },
  {
   "cell_type": "markdown",
   "metadata": {
    "application/vnd.databricks.v1+cell": {
     "cellMetadata": {
      "byteLimit": 2048000,
      "rowLimit": 10000
     },
     "inputWidgets": {},
     "nuid": "3a513cdd-967d-4a87-b56f-340053fa79cd",
     "showTitle": false,
     "title": ""
    }
   },
   "source": [
    "# Instruction Fine Tuning"
   ]
  },
  {
   "cell_type": "markdown",
   "metadata": {
    "application/vnd.databricks.v1+cell": {
     "cellMetadata": {
      "byteLimit": 2048000,
      "rowLimit": 10000
     },
     "inputWidgets": {},
     "nuid": "cfebdfdf-b87c-4a77-b97c-4697566a55fa",
     "showTitle": false,
     "title": ""
    }
   },
   "source": [
    "### Fine-Tuning API Arguments Configuration\n",
    "\n",
    "This section of the notebook is dedicated to setting up the parameters for the validation notebook. These parameters should be identical to what you specify in Finetuning API. \n",
    "\n",
    "**Fine-Tuning API Arguments (FT_API_args):**\n",
    "\n",
    "- model: Specifies the model to be used for fine-tuning. E.g., 'EleutherAI/gpt-neox-20b'\n",
    "- train_data_path: The path to the training data. It can be either a huggingface dataset, a path to a jsonl file or a delta table.\n",
    "- task_type: Defines the type of task for which the training strategy will be applied. It is either 'INSTRUCTION_FINETUNE' or 'CHAT_COMPLETION' or 'CONTINUED_PRETRAIN'.\n",
    "- training_duration: The duration of the training process, expressed in numerical terms (e.g., 3) with units of training epochs.\n",
    "- context_length: Specifies the context length of the model, set to 2048. This determines how many tokens the model considers for each training example.\n",
    "\n",
    "**Temporary Data Path Configuration:**\n",
    "\n",
    "- temporary_jsonl_data_path: Defines a filesystem path where temporary data related to the training process will be stored. You need to make sure the path should not be shared by other users on the cluster, as it costs contention.\n",
    "- Environment variables for Hugging Face caches (HF_DATASETS_CACHE) are set to '/tmp/', directing dataset caching to a temporary directory.\n",
    "\n",
    "**[Supported Models by FT API](https://docs.mosaicml.com/projects/mcli/en/latest/finetuning/finetuning.html#supported-models):**. \n",
    "\n",
    "You need to specify context length based on the model mapping below.\n",
    "```\n",
    "ft_models = {\n",
    "  'mosaicml/mpt-7b-8k': 8192, \n",
    "  'mosaicml/mpt-7b': 2048,\n",
    "  'mosaicml/mpt-30b': 8192,\n",
    "  'meta-llama/Llama-2-13b-hf': 4096,\n",
    "  'meta-llama/Llama-2-7b-hf': 4096,\n",
    "  'meta-llama/Llama-2-70b-hf': 4096,\n",
    "  'codellama/CodeLlama-7b-hf': 16384,\n",
    "  'codellama/CodeLlama-13b-hf': 16384,\n",
    "  'codellama/CodeLlama-34b-hf': 16384,\n",
    "  'mistralai/Mistral-7B-v0.1': 32768,\n",
    "}\n",
    "```"
   ]
  },
  {
   "cell_type": "code",
   "execution_count": 0,
   "metadata": {
    "application/vnd.databricks.v1+cell": {
     "cellMetadata": {
      "byteLimit": 2048000,
      "rowLimit": 10000
     },
     "inputWidgets": {},
     "nuid": "0d1f2e9e-db40-41fd-a6b9-bb4757db08b0",
     "showTitle": false,
     "title": ""
    }
   },
   "outputs": [
    {
     "output_type": "display_data",
     "data": {
      "text/plain": [
       "\u001B[0;31m---------------------------------------------------------------------------\u001B[0m\n",
       "\u001B[0;31mModuleNotFoundError\u001B[0m                       Traceback (most recent call last)\n",
       "File \u001B[0;32m<command-2691292108300970>, line 14\u001B[0m\n",
       "\u001B[1;32m     10\u001B[0m \u001B[38;5;28;01mfrom\u001B[39;00m \u001B[38;5;21;01mtyping\u001B[39;00m \u001B[38;5;28;01mimport\u001B[39;00m cast \n",
       "\u001B[1;32m     12\u001B[0m \u001B[38;5;28;01mimport\u001B[39;00m \u001B[38;5;21;01mdatasets\u001B[39;00m \n",
       "\u001B[0;32m---> 14\u001B[0m \u001B[38;5;28;01mfrom\u001B[39;00m \u001B[38;5;21;01mllmfoundry\u001B[39;00m\u001B[38;5;21;01m.\u001B[39;00m\u001B[38;5;21;01mutils\u001B[39;00m \u001B[38;5;28;01mimport\u001B[39;00m (create_om_cfg, token_counts_with_collate, \n",
       "\u001B[1;32m     15\u001B[0m         check_HF_datasets, is_hf_dataset_path, is_uc_delta_table,\n",
       "\u001B[1;32m     16\u001B[0m         integrity_check, convert_text_to_mds, parse_args, plot_hist,\n",
       "\u001B[1;32m     17\u001B[0m )\n",
       "\u001B[1;32m     19\u001B[0m \u001B[38;5;28;01mfrom\u001B[39;00m \u001B[38;5;21;01mllmfoundry\u001B[39;00m\u001B[38;5;21;01m.\u001B[39;00m\u001B[38;5;21;01mdata\u001B[39;00m\u001B[38;5;21;01m.\u001B[39;00m\u001B[38;5;21;01mfinetuning\u001B[39;00m\u001B[38;5;21;01m.\u001B[39;00m\u001B[38;5;21;01mtasks\u001B[39;00m \u001B[38;5;28;01mimport\u001B[39;00m (_validate_chat_formatted_example,\n",
       "\u001B[1;32m     20\u001B[0m                                               _tokenize_prompt_response_formatted_example,\n",
       "\u001B[1;32m     21\u001B[0m                                               _get_example_type, ChatFormattedDict, PromptResponseDict )\n",
       "\u001B[1;32m     22\u001B[0m \u001B[38;5;28;01mimport\u001B[39;00m \u001B[38;5;21;01mtransformers\u001B[39;00m\n",
       "\n",
       "File \u001B[0;32m/local_disk0/.ephemeral_nfs/envs/pythonEnv-1baf428f-8695-4b74-acc5-37195553cf83/lib/python3.10/site-packages/llmfoundry/__init__.py:29\u001B[0m\n",
       "\u001B[1;32m     16\u001B[0m     \u001B[38;5;28;01mif\u001B[39;00m \u001B[38;5;124m'\u001B[39m\u001B[38;5;124mundefined symbol\u001B[39m\u001B[38;5;124m'\u001B[39m \u001B[38;5;129;01min\u001B[39;00m \u001B[38;5;28mstr\u001B[39m(e):\n",
       "\u001B[1;32m     17\u001B[0m         \u001B[38;5;28;01mraise\u001B[39;00m \u001B[38;5;167;01mImportError\u001B[39;00m(\n",
       "\u001B[1;32m     18\u001B[0m             \u001B[38;5;124m'\u001B[39m\u001B[38;5;124mThe flash_attn package is not installed correctly. Usually this means that your runtime version\u001B[39m\u001B[38;5;124m'\u001B[39m\n",
       "\u001B[1;32m     19\u001B[0m             \u001B[38;5;241m+\u001B[39m\n",
       "\u001B[0;32m   (...)\u001B[0m\n",
       "\u001B[1;32m     26\u001B[0m             \u001B[38;5;124m'\u001B[39m\u001B[38;5;124m in LLM Foundry setup.py and update accordingly. The latest Docker image can be found in the README.\u001B[39m\u001B[38;5;124m'\u001B[39m,\n",
       "\u001B[1;32m     27\u001B[0m         ) \u001B[38;5;28;01mfrom\u001B[39;00m \u001B[38;5;21;01me\u001B[39;00m\n",
       "\u001B[0;32m---> 29\u001B[0m \u001B[38;5;28;01mfrom\u001B[39;00m \u001B[38;5;21;01mllmfoundry\u001B[39;00m\u001B[38;5;21;01m.\u001B[39;00m\u001B[38;5;21;01mutils\u001B[39;00m\u001B[38;5;21;01m.\u001B[39;00m\u001B[38;5;21;01mlogging_utils\u001B[39;00m \u001B[38;5;28;01mimport\u001B[39;00m SpecificWarningFilter\n",
       "\u001B[1;32m     31\u001B[0m \u001B[38;5;66;03m# Filter out Hugging Face warning for not using a pinned revision of the model\u001B[39;00m\n",
       "\u001B[1;32m     32\u001B[0m logger \u001B[38;5;241m=\u001B[39m logging\u001B[38;5;241m.\u001B[39mgetLogger(\u001B[38;5;124m'\u001B[39m\u001B[38;5;124mtransformers.dynamic_module_utils\u001B[39m\u001B[38;5;124m'\u001B[39m)\n",
       "\n",
       "File \u001B[0;32m/local_disk0/.ephemeral_nfs/envs/pythonEnv-1baf428f-8695-4b74-acc5-37195553cf83/lib/python3.10/site-packages/llmfoundry/utils/__init__.py:4\u001B[0m\n",
       "\u001B[1;32m      1\u001B[0m \u001B[38;5;66;03m# Copyright 2022 MosaicML LLM Foundry authors\u001B[39;00m\n",
       "\u001B[1;32m      2\u001B[0m \u001B[38;5;66;03m# SPDX-License-Identifier: Apache-2.0\u001B[39;00m\n",
       "\u001B[0;32m----> 4\u001B[0m \u001B[38;5;28;01mfrom\u001B[39;00m \u001B[38;5;21;01mllmfoundry\u001B[39;00m\u001B[38;5;21;01m.\u001B[39;00m\u001B[38;5;21;01mregistry\u001B[39;00m \u001B[38;5;28;01mimport\u001B[39;00m config_transforms\n",
       "\u001B[1;32m      5\u001B[0m \u001B[38;5;28;01mfrom\u001B[39;00m \u001B[38;5;21;01mllmfoundry\u001B[39;00m\u001B[38;5;21;01m.\u001B[39;00m\u001B[38;5;21;01mutils\u001B[39;00m\u001B[38;5;21;01m.\u001B[39;00m\u001B[38;5;21;01mbuilders\u001B[39;00m \u001B[38;5;28;01mimport\u001B[39;00m (\n",
       "\u001B[1;32m      6\u001B[0m     add_metrics_to_eval_loaders,\n",
       "\u001B[1;32m      7\u001B[0m     build_algorithm,\n",
       "\u001B[0;32m   (...)\u001B[0m\n",
       "\u001B[1;32m     18\u001B[0m     build_tokenizer,\n",
       "\u001B[1;32m     19\u001B[0m )\n",
       "\u001B[1;32m     20\u001B[0m \u001B[38;5;28;01mfrom\u001B[39;00m \u001B[38;5;21;01mllmfoundry\u001B[39;00m\u001B[38;5;21;01m.\u001B[39;00m\u001B[38;5;21;01mutils\u001B[39;00m\u001B[38;5;21;01m.\u001B[39;00m\u001B[38;5;21;01mcheckpoint_conversion_helpers\u001B[39;00m \u001B[38;5;28;01mimport\u001B[39;00m (\n",
       "\u001B[1;32m     21\u001B[0m     convert_and_save_ft_weights,\n",
       "\u001B[1;32m     22\u001B[0m     get_hf_tokenizer_from_composer_state_dict,\n",
       "\u001B[1;32m     23\u001B[0m     load_tokenizer,\n",
       "\u001B[1;32m     24\u001B[0m )\n",
       "\n",
       "File \u001B[0;32m/local_disk0/.ephemeral_nfs/envs/pythonEnv-1baf428f-8695-4b74-acc5-37195553cf83/lib/python3.10/site-packages/llmfoundry/registry.py:17\u001B[0m\n",
       "\u001B[1;32m     14\u001B[0m \u001B[38;5;28;01mfrom\u001B[39;00m \u001B[38;5;21;01mtransformers\u001B[39;00m \u001B[38;5;28;01mimport\u001B[39;00m PreTrainedTokenizerBase\n",
       "\u001B[1;32m     16\u001B[0m \u001B[38;5;28;01mfrom\u001B[39;00m \u001B[38;5;21;01mllmfoundry\u001B[39;00m\u001B[38;5;21;01m.\u001B[39;00m\u001B[38;5;21;01minterfaces\u001B[39;00m \u001B[38;5;28;01mimport\u001B[39;00m CallbackWithConfig\n",
       "\u001B[0;32m---> 17\u001B[0m \u001B[38;5;28;01mfrom\u001B[39;00m \u001B[38;5;21;01mllmfoundry\u001B[39;00m\u001B[38;5;21;01m.\u001B[39;00m\u001B[38;5;21;01mlayers_registry\u001B[39;00m \u001B[38;5;28;01mimport\u001B[39;00m (\n",
       "\u001B[1;32m     18\u001B[0m     attention_classes,\n",
       "\u001B[1;32m     19\u001B[0m     attention_implementations,\n",
       "\u001B[1;32m     20\u001B[0m     fcs,\n",
       "\u001B[1;32m     21\u001B[0m     ffns,\n",
       "\u001B[1;32m     22\u001B[0m     ffns_with_megablocks,\n",
       "\u001B[1;32m     23\u001B[0m     ffns_with_norm,\n",
       "\u001B[1;32m     24\u001B[0m     module_init_fns,\n",
       "\u001B[1;32m     25\u001B[0m     norms,\n",
       "\u001B[1;32m     26\u001B[0m     param_init_fns,\n",
       "\u001B[1;32m     27\u001B[0m )\n",
       "\u001B[1;32m     28\u001B[0m \u001B[38;5;28;01mfrom\u001B[39;00m \u001B[38;5;21;01mllmfoundry\u001B[39;00m\u001B[38;5;21;01m.\u001B[39;00m\u001B[38;5;21;01mutils\u001B[39;00m\u001B[38;5;21;01m.\u001B[39;00m\u001B[38;5;21;01mregistry_utils\u001B[39;00m \u001B[38;5;28;01mimport\u001B[39;00m create_registry\n",
       "\u001B[1;32m     30\u001B[0m _loggers_description \u001B[38;5;241m=\u001B[39m (\n",
       "\u001B[1;32m     31\u001B[0m \u001B[38;5;250m    \u001B[39m\u001B[38;5;124;03m\"\"\"The loggers registry is used to register classes that implement the LoggerDestination interface.\u001B[39;00m\n",
       "\u001B[1;32m     32\u001B[0m \n",
       "\u001B[0;32m   (...)\u001B[0m\n",
       "\u001B[1;32m     41\u001B[0m \u001B[38;5;124;03m    \"\"\"\u001B[39;00m\n",
       "\u001B[1;32m     42\u001B[0m )\n",
       "\n",
       "File \u001B[0;32m/local_disk0/.ephemeral_nfs/envs/pythonEnv-1baf428f-8695-4b74-acc5-37195553cf83/lib/python3.10/site-packages/llmfoundry/layers_registry.py:8\u001B[0m\n",
       "\u001B[1;32m      4\u001B[0m \u001B[38;5;28;01mfrom\u001B[39;00m \u001B[38;5;21;01mtyping\u001B[39;00m \u001B[38;5;28;01mimport\u001B[39;00m Callable, Type\n",
       "\u001B[1;32m      6\u001B[0m \u001B[38;5;28;01mimport\u001B[39;00m \u001B[38;5;21;01mtorch\u001B[39;00m\n",
       "\u001B[0;32m----> 8\u001B[0m \u001B[38;5;28;01mfrom\u001B[39;00m \u001B[38;5;21;01mllmfoundry\u001B[39;00m\u001B[38;5;21;01m.\u001B[39;00m\u001B[38;5;21;01mutils\u001B[39;00m\u001B[38;5;21;01m.\u001B[39;00m\u001B[38;5;21;01mregistry_utils\u001B[39;00m \u001B[38;5;28;01mimport\u001B[39;00m create_registry\n",
       "\u001B[1;32m     10\u001B[0m _norms_description \u001B[38;5;241m=\u001B[39m (\n",
       "\u001B[1;32m     11\u001B[0m \u001B[38;5;250m    \u001B[39m\u001B[38;5;124;03m\"\"\"The norms registry is used to register classes that implement normalization layers.\u001B[39;00m\n",
       "\u001B[1;32m     12\u001B[0m \n",
       "\u001B[0;32m   (...)\u001B[0m\n",
       "\u001B[1;32m     21\u001B[0m \u001B[38;5;124;03m    \"\"\"\u001B[39;00m\n",
       "\u001B[1;32m     22\u001B[0m )\n",
       "\u001B[1;32m     23\u001B[0m norms \u001B[38;5;241m=\u001B[39m create_registry(\n",
       "\u001B[1;32m     24\u001B[0m     \u001B[38;5;124m'\u001B[39m\u001B[38;5;124mllmfoundry\u001B[39m\u001B[38;5;124m'\u001B[39m,\n",
       "\u001B[1;32m     25\u001B[0m     \u001B[38;5;124m'\u001B[39m\u001B[38;5;124mnorms\u001B[39m\u001B[38;5;124m'\u001B[39m,\n",
       "\u001B[0;32m   (...)\u001B[0m\n",
       "\u001B[1;32m     28\u001B[0m     description\u001B[38;5;241m=\u001B[39m_norms_description,\n",
       "\u001B[1;32m     29\u001B[0m )\n",
       "\n",
       "File \u001B[0;32m/local_disk0/.ephemeral_nfs/envs/pythonEnv-1baf428f-8695-4b74-acc5-37195553cf83/lib/python3.10/site-packages/llmfoundry/utils/registry_utils.py:23\u001B[0m\n",
       "\u001B[1;32m     10\u001B[0m \u001B[38;5;28;01mfrom\u001B[39;00m \u001B[38;5;21;01mtypes\u001B[39;00m \u001B[38;5;28;01mimport\u001B[39;00m ModuleType\n",
       "\u001B[1;32m     11\u001B[0m \u001B[38;5;28;01mfrom\u001B[39;00m \u001B[38;5;21;01mtyping\u001B[39;00m \u001B[38;5;28;01mimport\u001B[39;00m (\n",
       "\u001B[1;32m     12\u001B[0m     Any,\n",
       "\u001B[1;32m     13\u001B[0m     Callable,\n",
       "\u001B[0;32m   (...)\u001B[0m\n",
       "\u001B[1;32m     20\u001B[0m     Union,\n",
       "\u001B[1;32m     21\u001B[0m )\n",
       "\u001B[0;32m---> 23\u001B[0m \u001B[38;5;28;01mimport\u001B[39;00m \u001B[38;5;21;01mcatalogue\u001B[39;00m\n",
       "\u001B[1;32m     25\u001B[0m __all__ \u001B[38;5;241m=\u001B[39m [\n",
       "\u001B[1;32m     26\u001B[0m     \u001B[38;5;124m'\u001B[39m\u001B[38;5;124mTypedRegistry\u001B[39m\u001B[38;5;124m'\u001B[39m,\n",
       "\u001B[1;32m     27\u001B[0m     \u001B[38;5;124m'\u001B[39m\u001B[38;5;124mcreate_registry\u001B[39m\u001B[38;5;124m'\u001B[39m,\n",
       "\u001B[0;32m   (...)\u001B[0m\n",
       "\u001B[1;32m     30\u001B[0m     \u001B[38;5;124m'\u001B[39m\u001B[38;5;124msave_registry\u001B[39m\u001B[38;5;124m'\u001B[39m,\n",
       "\u001B[1;32m     31\u001B[0m ]\n",
       "\u001B[1;32m     33\u001B[0m T \u001B[38;5;241m=\u001B[39m TypeVar(\u001B[38;5;124m'\u001B[39m\u001B[38;5;124mT\u001B[39m\u001B[38;5;124m'\u001B[39m)\n",
       "\n",
       "\u001B[0;31mModuleNotFoundError\u001B[0m: No module named 'catalogue'"
      ]
     },
     "metadata": {
      "application/vnd.databricks.v1+output": {
       "addedWidgets": {},
       "arguments": {},
       "datasetInfos": [],
       "jupyterProps": {
        "ename": "ModuleNotFoundError",
        "evalue": "No module named 'catalogue'"
       },
       "metadata": {
        "errorSummary": "Command skipped"
       },
       "removedWidgets": [],
       "sqlProps": null,
       "stackFrames": [
        "\u001B[0;31m---------------------------------------------------------------------------\u001B[0m",
        "\u001B[0;31mModuleNotFoundError\u001B[0m                       Traceback (most recent call last)",
        "File \u001B[0;32m<command-2691292108300970>, line 14\u001B[0m\n\u001B[1;32m     10\u001B[0m \u001B[38;5;28;01mfrom\u001B[39;00m \u001B[38;5;21;01mtyping\u001B[39;00m \u001B[38;5;28;01mimport\u001B[39;00m cast \n\u001B[1;32m     12\u001B[0m \u001B[38;5;28;01mimport\u001B[39;00m \u001B[38;5;21;01mdatasets\u001B[39;00m \n\u001B[0;32m---> 14\u001B[0m \u001B[38;5;28;01mfrom\u001B[39;00m \u001B[38;5;21;01mllmfoundry\u001B[39;00m\u001B[38;5;21;01m.\u001B[39;00m\u001B[38;5;21;01mutils\u001B[39;00m \u001B[38;5;28;01mimport\u001B[39;00m (create_om_cfg, token_counts_with_collate, \n\u001B[1;32m     15\u001B[0m         check_HF_datasets, is_hf_dataset_path, is_uc_delta_table,\n\u001B[1;32m     16\u001B[0m         integrity_check, convert_text_to_mds, parse_args, plot_hist,\n\u001B[1;32m     17\u001B[0m )\n\u001B[1;32m     19\u001B[0m \u001B[38;5;28;01mfrom\u001B[39;00m \u001B[38;5;21;01mllmfoundry\u001B[39;00m\u001B[38;5;21;01m.\u001B[39;00m\u001B[38;5;21;01mdata\u001B[39;00m\u001B[38;5;21;01m.\u001B[39;00m\u001B[38;5;21;01mfinetuning\u001B[39;00m\u001B[38;5;21;01m.\u001B[39;00m\u001B[38;5;21;01mtasks\u001B[39;00m \u001B[38;5;28;01mimport\u001B[39;00m (_validate_chat_formatted_example,\n\u001B[1;32m     20\u001B[0m                                               _tokenize_prompt_response_formatted_example,\n\u001B[1;32m     21\u001B[0m                                               _get_example_type, ChatFormattedDict, PromptResponseDict )\n\u001B[1;32m     22\u001B[0m \u001B[38;5;28;01mimport\u001B[39;00m \u001B[38;5;21;01mtransformers\u001B[39;00m\n",
        "File \u001B[0;32m/local_disk0/.ephemeral_nfs/envs/pythonEnv-1baf428f-8695-4b74-acc5-37195553cf83/lib/python3.10/site-packages/llmfoundry/__init__.py:29\u001B[0m\n\u001B[1;32m     16\u001B[0m     \u001B[38;5;28;01mif\u001B[39;00m \u001B[38;5;124m'\u001B[39m\u001B[38;5;124mundefined symbol\u001B[39m\u001B[38;5;124m'\u001B[39m \u001B[38;5;129;01min\u001B[39;00m \u001B[38;5;28mstr\u001B[39m(e):\n\u001B[1;32m     17\u001B[0m         \u001B[38;5;28;01mraise\u001B[39;00m \u001B[38;5;167;01mImportError\u001B[39;00m(\n\u001B[1;32m     18\u001B[0m             \u001B[38;5;124m'\u001B[39m\u001B[38;5;124mThe flash_attn package is not installed correctly. Usually this means that your runtime version\u001B[39m\u001B[38;5;124m'\u001B[39m\n\u001B[1;32m     19\u001B[0m             \u001B[38;5;241m+\u001B[39m\n\u001B[0;32m   (...)\u001B[0m\n\u001B[1;32m     26\u001B[0m             \u001B[38;5;124m'\u001B[39m\u001B[38;5;124m in LLM Foundry setup.py and update accordingly. The latest Docker image can be found in the README.\u001B[39m\u001B[38;5;124m'\u001B[39m,\n\u001B[1;32m     27\u001B[0m         ) \u001B[38;5;28;01mfrom\u001B[39;00m \u001B[38;5;21;01me\u001B[39;00m\n\u001B[0;32m---> 29\u001B[0m \u001B[38;5;28;01mfrom\u001B[39;00m \u001B[38;5;21;01mllmfoundry\u001B[39;00m\u001B[38;5;21;01m.\u001B[39;00m\u001B[38;5;21;01mutils\u001B[39;00m\u001B[38;5;21;01m.\u001B[39;00m\u001B[38;5;21;01mlogging_utils\u001B[39;00m \u001B[38;5;28;01mimport\u001B[39;00m SpecificWarningFilter\n\u001B[1;32m     31\u001B[0m \u001B[38;5;66;03m# Filter out Hugging Face warning for not using a pinned revision of the model\u001B[39;00m\n\u001B[1;32m     32\u001B[0m logger \u001B[38;5;241m=\u001B[39m logging\u001B[38;5;241m.\u001B[39mgetLogger(\u001B[38;5;124m'\u001B[39m\u001B[38;5;124mtransformers.dynamic_module_utils\u001B[39m\u001B[38;5;124m'\u001B[39m)\n",
        "File \u001B[0;32m/local_disk0/.ephemeral_nfs/envs/pythonEnv-1baf428f-8695-4b74-acc5-37195553cf83/lib/python3.10/site-packages/llmfoundry/utils/__init__.py:4\u001B[0m\n\u001B[1;32m      1\u001B[0m \u001B[38;5;66;03m# Copyright 2022 MosaicML LLM Foundry authors\u001B[39;00m\n\u001B[1;32m      2\u001B[0m \u001B[38;5;66;03m# SPDX-License-Identifier: Apache-2.0\u001B[39;00m\n\u001B[0;32m----> 4\u001B[0m \u001B[38;5;28;01mfrom\u001B[39;00m \u001B[38;5;21;01mllmfoundry\u001B[39;00m\u001B[38;5;21;01m.\u001B[39;00m\u001B[38;5;21;01mregistry\u001B[39;00m \u001B[38;5;28;01mimport\u001B[39;00m config_transforms\n\u001B[1;32m      5\u001B[0m \u001B[38;5;28;01mfrom\u001B[39;00m \u001B[38;5;21;01mllmfoundry\u001B[39;00m\u001B[38;5;21;01m.\u001B[39;00m\u001B[38;5;21;01mutils\u001B[39;00m\u001B[38;5;21;01m.\u001B[39;00m\u001B[38;5;21;01mbuilders\u001B[39;00m \u001B[38;5;28;01mimport\u001B[39;00m (\n\u001B[1;32m      6\u001B[0m     add_metrics_to_eval_loaders,\n\u001B[1;32m      7\u001B[0m     build_algorithm,\n\u001B[0;32m   (...)\u001B[0m\n\u001B[1;32m     18\u001B[0m     build_tokenizer,\n\u001B[1;32m     19\u001B[0m )\n\u001B[1;32m     20\u001B[0m \u001B[38;5;28;01mfrom\u001B[39;00m \u001B[38;5;21;01mllmfoundry\u001B[39;00m\u001B[38;5;21;01m.\u001B[39;00m\u001B[38;5;21;01mutils\u001B[39;00m\u001B[38;5;21;01m.\u001B[39;00m\u001B[38;5;21;01mcheckpoint_conversion_helpers\u001B[39;00m \u001B[38;5;28;01mimport\u001B[39;00m (\n\u001B[1;32m     21\u001B[0m     convert_and_save_ft_weights,\n\u001B[1;32m     22\u001B[0m     get_hf_tokenizer_from_composer_state_dict,\n\u001B[1;32m     23\u001B[0m     load_tokenizer,\n\u001B[1;32m     24\u001B[0m )\n",
        "File \u001B[0;32m/local_disk0/.ephemeral_nfs/envs/pythonEnv-1baf428f-8695-4b74-acc5-37195553cf83/lib/python3.10/site-packages/llmfoundry/registry.py:17\u001B[0m\n\u001B[1;32m     14\u001B[0m \u001B[38;5;28;01mfrom\u001B[39;00m \u001B[38;5;21;01mtransformers\u001B[39;00m \u001B[38;5;28;01mimport\u001B[39;00m PreTrainedTokenizerBase\n\u001B[1;32m     16\u001B[0m \u001B[38;5;28;01mfrom\u001B[39;00m \u001B[38;5;21;01mllmfoundry\u001B[39;00m\u001B[38;5;21;01m.\u001B[39;00m\u001B[38;5;21;01minterfaces\u001B[39;00m \u001B[38;5;28;01mimport\u001B[39;00m CallbackWithConfig\n\u001B[0;32m---> 17\u001B[0m \u001B[38;5;28;01mfrom\u001B[39;00m \u001B[38;5;21;01mllmfoundry\u001B[39;00m\u001B[38;5;21;01m.\u001B[39;00m\u001B[38;5;21;01mlayers_registry\u001B[39;00m \u001B[38;5;28;01mimport\u001B[39;00m (\n\u001B[1;32m     18\u001B[0m     attention_classes,\n\u001B[1;32m     19\u001B[0m     attention_implementations,\n\u001B[1;32m     20\u001B[0m     fcs,\n\u001B[1;32m     21\u001B[0m     ffns,\n\u001B[1;32m     22\u001B[0m     ffns_with_megablocks,\n\u001B[1;32m     23\u001B[0m     ffns_with_norm,\n\u001B[1;32m     24\u001B[0m     module_init_fns,\n\u001B[1;32m     25\u001B[0m     norms,\n\u001B[1;32m     26\u001B[0m     param_init_fns,\n\u001B[1;32m     27\u001B[0m )\n\u001B[1;32m     28\u001B[0m \u001B[38;5;28;01mfrom\u001B[39;00m \u001B[38;5;21;01mllmfoundry\u001B[39;00m\u001B[38;5;21;01m.\u001B[39;00m\u001B[38;5;21;01mutils\u001B[39;00m\u001B[38;5;21;01m.\u001B[39;00m\u001B[38;5;21;01mregistry_utils\u001B[39;00m \u001B[38;5;28;01mimport\u001B[39;00m create_registry\n\u001B[1;32m     30\u001B[0m _loggers_description \u001B[38;5;241m=\u001B[39m (\n\u001B[1;32m     31\u001B[0m \u001B[38;5;250m    \u001B[39m\u001B[38;5;124;03m\"\"\"The loggers registry is used to register classes that implement the LoggerDestination interface.\u001B[39;00m\n\u001B[1;32m     32\u001B[0m \n\u001B[0;32m   (...)\u001B[0m\n\u001B[1;32m     41\u001B[0m \u001B[38;5;124;03m    \"\"\"\u001B[39;00m\n\u001B[1;32m     42\u001B[0m )\n",
        "File \u001B[0;32m/local_disk0/.ephemeral_nfs/envs/pythonEnv-1baf428f-8695-4b74-acc5-37195553cf83/lib/python3.10/site-packages/llmfoundry/layers_registry.py:8\u001B[0m\n\u001B[1;32m      4\u001B[0m \u001B[38;5;28;01mfrom\u001B[39;00m \u001B[38;5;21;01mtyping\u001B[39;00m \u001B[38;5;28;01mimport\u001B[39;00m Callable, Type\n\u001B[1;32m      6\u001B[0m \u001B[38;5;28;01mimport\u001B[39;00m \u001B[38;5;21;01mtorch\u001B[39;00m\n\u001B[0;32m----> 8\u001B[0m \u001B[38;5;28;01mfrom\u001B[39;00m \u001B[38;5;21;01mllmfoundry\u001B[39;00m\u001B[38;5;21;01m.\u001B[39;00m\u001B[38;5;21;01mutils\u001B[39;00m\u001B[38;5;21;01m.\u001B[39;00m\u001B[38;5;21;01mregistry_utils\u001B[39;00m \u001B[38;5;28;01mimport\u001B[39;00m create_registry\n\u001B[1;32m     10\u001B[0m _norms_description \u001B[38;5;241m=\u001B[39m (\n\u001B[1;32m     11\u001B[0m \u001B[38;5;250m    \u001B[39m\u001B[38;5;124;03m\"\"\"The norms registry is used to register classes that implement normalization layers.\u001B[39;00m\n\u001B[1;32m     12\u001B[0m \n\u001B[0;32m   (...)\u001B[0m\n\u001B[1;32m     21\u001B[0m \u001B[38;5;124;03m    \"\"\"\u001B[39;00m\n\u001B[1;32m     22\u001B[0m )\n\u001B[1;32m     23\u001B[0m norms \u001B[38;5;241m=\u001B[39m create_registry(\n\u001B[1;32m     24\u001B[0m     \u001B[38;5;124m'\u001B[39m\u001B[38;5;124mllmfoundry\u001B[39m\u001B[38;5;124m'\u001B[39m,\n\u001B[1;32m     25\u001B[0m     \u001B[38;5;124m'\u001B[39m\u001B[38;5;124mnorms\u001B[39m\u001B[38;5;124m'\u001B[39m,\n\u001B[0;32m   (...)\u001B[0m\n\u001B[1;32m     28\u001B[0m     description\u001B[38;5;241m=\u001B[39m_norms_description,\n\u001B[1;32m     29\u001B[0m )\n",
        "File \u001B[0;32m/local_disk0/.ephemeral_nfs/envs/pythonEnv-1baf428f-8695-4b74-acc5-37195553cf83/lib/python3.10/site-packages/llmfoundry/utils/registry_utils.py:23\u001B[0m\n\u001B[1;32m     10\u001B[0m \u001B[38;5;28;01mfrom\u001B[39;00m \u001B[38;5;21;01mtypes\u001B[39;00m \u001B[38;5;28;01mimport\u001B[39;00m ModuleType\n\u001B[1;32m     11\u001B[0m \u001B[38;5;28;01mfrom\u001B[39;00m \u001B[38;5;21;01mtyping\u001B[39;00m \u001B[38;5;28;01mimport\u001B[39;00m (\n\u001B[1;32m     12\u001B[0m     Any,\n\u001B[1;32m     13\u001B[0m     Callable,\n\u001B[0;32m   (...)\u001B[0m\n\u001B[1;32m     20\u001B[0m     Union,\n\u001B[1;32m     21\u001B[0m )\n\u001B[0;32m---> 23\u001B[0m \u001B[38;5;28;01mimport\u001B[39;00m \u001B[38;5;21;01mcatalogue\u001B[39;00m\n\u001B[1;32m     25\u001B[0m __all__ \u001B[38;5;241m=\u001B[39m [\n\u001B[1;32m     26\u001B[0m     \u001B[38;5;124m'\u001B[39m\u001B[38;5;124mTypedRegistry\u001B[39m\u001B[38;5;124m'\u001B[39m,\n\u001B[1;32m     27\u001B[0m     \u001B[38;5;124m'\u001B[39m\u001B[38;5;124mcreate_registry\u001B[39m\u001B[38;5;124m'\u001B[39m,\n\u001B[0;32m   (...)\u001B[0m\n\u001B[1;32m     30\u001B[0m     \u001B[38;5;124m'\u001B[39m\u001B[38;5;124msave_registry\u001B[39m\u001B[38;5;124m'\u001B[39m,\n\u001B[1;32m     31\u001B[0m ]\n\u001B[1;32m     33\u001B[0m T \u001B[38;5;241m=\u001B[39m TypeVar(\u001B[38;5;124m'\u001B[39m\u001B[38;5;124mT\u001B[39m\u001B[38;5;124m'\u001B[39m)\n",
        "\u001B[0;31mModuleNotFoundError\u001B[0m: No module named 'catalogue'"
       ],
       "type": "baseError"
      }
     },
     "output_type": "display_data"
    }
   ],
   "source": [
    "# Make sure you have write access to the ``home`` directory\n",
    "home = os.path.join('/local_disk0', 'ift')\n",
    "os.makedirs(home, exist_ok=True)\n",
    "os.chdir(home)"
   ]
  },
  {
   "cell_type": "code",
   "execution_count": 0,
   "metadata": {
    "application/vnd.databricks.v1+cell": {
     "cellMetadata": {
      "byteLimit": 2048000,
      "rowLimit": 10000
     },
     "inputWidgets": {},
     "nuid": "a30e53a6-d3cb-454b-82c0-2b48ca3dbf55",
     "showTitle": false,
     "title": ""
    }
   },
   "outputs": [
    {
     "output_type": "display_data",
     "data": {
      "text/plain": [
       "\u001B[0;31m---------------------------------------------------------------------------\u001B[0m\n",
       "\u001B[0;31mModuleNotFoundError\u001B[0m                       Traceback (most recent call last)\n",
       "File \u001B[0;32m<command-2691292108300970>, line 14\u001B[0m\n",
       "\u001B[1;32m     10\u001B[0m \u001B[38;5;28;01mfrom\u001B[39;00m \u001B[38;5;21;01mtyping\u001B[39;00m \u001B[38;5;28;01mimport\u001B[39;00m cast \n",
       "\u001B[1;32m     12\u001B[0m \u001B[38;5;28;01mimport\u001B[39;00m \u001B[38;5;21;01mdatasets\u001B[39;00m \n",
       "\u001B[0;32m---> 14\u001B[0m \u001B[38;5;28;01mfrom\u001B[39;00m \u001B[38;5;21;01mllmfoundry\u001B[39;00m\u001B[38;5;21;01m.\u001B[39;00m\u001B[38;5;21;01mutils\u001B[39;00m \u001B[38;5;28;01mimport\u001B[39;00m (create_om_cfg, token_counts_with_collate, \n",
       "\u001B[1;32m     15\u001B[0m         check_HF_datasets, is_hf_dataset_path, is_uc_delta_table,\n",
       "\u001B[1;32m     16\u001B[0m         integrity_check, convert_text_to_mds, parse_args, plot_hist,\n",
       "\u001B[1;32m     17\u001B[0m )\n",
       "\u001B[1;32m     19\u001B[0m \u001B[38;5;28;01mfrom\u001B[39;00m \u001B[38;5;21;01mllmfoundry\u001B[39;00m\u001B[38;5;21;01m.\u001B[39;00m\u001B[38;5;21;01mdata\u001B[39;00m\u001B[38;5;21;01m.\u001B[39;00m\u001B[38;5;21;01mfinetuning\u001B[39;00m\u001B[38;5;21;01m.\u001B[39;00m\u001B[38;5;21;01mtasks\u001B[39;00m \u001B[38;5;28;01mimport\u001B[39;00m (_validate_chat_formatted_example,\n",
       "\u001B[1;32m     20\u001B[0m                                               _tokenize_prompt_response_formatted_example,\n",
       "\u001B[1;32m     21\u001B[0m                                               _get_example_type, ChatFormattedDict, PromptResponseDict )\n",
       "\u001B[1;32m     22\u001B[0m \u001B[38;5;28;01mimport\u001B[39;00m \u001B[38;5;21;01mtransformers\u001B[39;00m\n",
       "\n",
       "File \u001B[0;32m/local_disk0/.ephemeral_nfs/envs/pythonEnv-1baf428f-8695-4b74-acc5-37195553cf83/lib/python3.10/site-packages/llmfoundry/__init__.py:29\u001B[0m\n",
       "\u001B[1;32m     16\u001B[0m     \u001B[38;5;28;01mif\u001B[39;00m \u001B[38;5;124m'\u001B[39m\u001B[38;5;124mundefined symbol\u001B[39m\u001B[38;5;124m'\u001B[39m \u001B[38;5;129;01min\u001B[39;00m \u001B[38;5;28mstr\u001B[39m(e):\n",
       "\u001B[1;32m     17\u001B[0m         \u001B[38;5;28;01mraise\u001B[39;00m \u001B[38;5;167;01mImportError\u001B[39;00m(\n",
       "\u001B[1;32m     18\u001B[0m             \u001B[38;5;124m'\u001B[39m\u001B[38;5;124mThe flash_attn package is not installed correctly. Usually this means that your runtime version\u001B[39m\u001B[38;5;124m'\u001B[39m\n",
       "\u001B[1;32m     19\u001B[0m             \u001B[38;5;241m+\u001B[39m\n",
       "\u001B[0;32m   (...)\u001B[0m\n",
       "\u001B[1;32m     26\u001B[0m             \u001B[38;5;124m'\u001B[39m\u001B[38;5;124m in LLM Foundry setup.py and update accordingly. The latest Docker image can be found in the README.\u001B[39m\u001B[38;5;124m'\u001B[39m,\n",
       "\u001B[1;32m     27\u001B[0m         ) \u001B[38;5;28;01mfrom\u001B[39;00m \u001B[38;5;21;01me\u001B[39;00m\n",
       "\u001B[0;32m---> 29\u001B[0m \u001B[38;5;28;01mfrom\u001B[39;00m \u001B[38;5;21;01mllmfoundry\u001B[39;00m\u001B[38;5;21;01m.\u001B[39;00m\u001B[38;5;21;01mutils\u001B[39;00m\u001B[38;5;21;01m.\u001B[39;00m\u001B[38;5;21;01mlogging_utils\u001B[39;00m \u001B[38;5;28;01mimport\u001B[39;00m SpecificWarningFilter\n",
       "\u001B[1;32m     31\u001B[0m \u001B[38;5;66;03m# Filter out Hugging Face warning for not using a pinned revision of the model\u001B[39;00m\n",
       "\u001B[1;32m     32\u001B[0m logger \u001B[38;5;241m=\u001B[39m logging\u001B[38;5;241m.\u001B[39mgetLogger(\u001B[38;5;124m'\u001B[39m\u001B[38;5;124mtransformers.dynamic_module_utils\u001B[39m\u001B[38;5;124m'\u001B[39m)\n",
       "\n",
       "File \u001B[0;32m/local_disk0/.ephemeral_nfs/envs/pythonEnv-1baf428f-8695-4b74-acc5-37195553cf83/lib/python3.10/site-packages/llmfoundry/utils/__init__.py:4\u001B[0m\n",
       "\u001B[1;32m      1\u001B[0m \u001B[38;5;66;03m# Copyright 2022 MosaicML LLM Foundry authors\u001B[39;00m\n",
       "\u001B[1;32m      2\u001B[0m \u001B[38;5;66;03m# SPDX-License-Identifier: Apache-2.0\u001B[39;00m\n",
       "\u001B[0;32m----> 4\u001B[0m \u001B[38;5;28;01mfrom\u001B[39;00m \u001B[38;5;21;01mllmfoundry\u001B[39;00m\u001B[38;5;21;01m.\u001B[39;00m\u001B[38;5;21;01mregistry\u001B[39;00m \u001B[38;5;28;01mimport\u001B[39;00m config_transforms\n",
       "\u001B[1;32m      5\u001B[0m \u001B[38;5;28;01mfrom\u001B[39;00m \u001B[38;5;21;01mllmfoundry\u001B[39;00m\u001B[38;5;21;01m.\u001B[39;00m\u001B[38;5;21;01mutils\u001B[39;00m\u001B[38;5;21;01m.\u001B[39;00m\u001B[38;5;21;01mbuilders\u001B[39;00m \u001B[38;5;28;01mimport\u001B[39;00m (\n",
       "\u001B[1;32m      6\u001B[0m     add_metrics_to_eval_loaders,\n",
       "\u001B[1;32m      7\u001B[0m     build_algorithm,\n",
       "\u001B[0;32m   (...)\u001B[0m\n",
       "\u001B[1;32m     18\u001B[0m     build_tokenizer,\n",
       "\u001B[1;32m     19\u001B[0m )\n",
       "\u001B[1;32m     20\u001B[0m \u001B[38;5;28;01mfrom\u001B[39;00m \u001B[38;5;21;01mllmfoundry\u001B[39;00m\u001B[38;5;21;01m.\u001B[39;00m\u001B[38;5;21;01mutils\u001B[39;00m\u001B[38;5;21;01m.\u001B[39;00m\u001B[38;5;21;01mcheckpoint_conversion_helpers\u001B[39;00m \u001B[38;5;28;01mimport\u001B[39;00m (\n",
       "\u001B[1;32m     21\u001B[0m     convert_and_save_ft_weights,\n",
       "\u001B[1;32m     22\u001B[0m     get_hf_tokenizer_from_composer_state_dict,\n",
       "\u001B[1;32m     23\u001B[0m     load_tokenizer,\n",
       "\u001B[1;32m     24\u001B[0m )\n",
       "\n",
       "File \u001B[0;32m/local_disk0/.ephemeral_nfs/envs/pythonEnv-1baf428f-8695-4b74-acc5-37195553cf83/lib/python3.10/site-packages/llmfoundry/registry.py:17\u001B[0m\n",
       "\u001B[1;32m     14\u001B[0m \u001B[38;5;28;01mfrom\u001B[39;00m \u001B[38;5;21;01mtransformers\u001B[39;00m \u001B[38;5;28;01mimport\u001B[39;00m PreTrainedTokenizerBase\n",
       "\u001B[1;32m     16\u001B[0m \u001B[38;5;28;01mfrom\u001B[39;00m \u001B[38;5;21;01mllmfoundry\u001B[39;00m\u001B[38;5;21;01m.\u001B[39;00m\u001B[38;5;21;01minterfaces\u001B[39;00m \u001B[38;5;28;01mimport\u001B[39;00m CallbackWithConfig\n",
       "\u001B[0;32m---> 17\u001B[0m \u001B[38;5;28;01mfrom\u001B[39;00m \u001B[38;5;21;01mllmfoundry\u001B[39;00m\u001B[38;5;21;01m.\u001B[39;00m\u001B[38;5;21;01mlayers_registry\u001B[39;00m \u001B[38;5;28;01mimport\u001B[39;00m (\n",
       "\u001B[1;32m     18\u001B[0m     attention_classes,\n",
       "\u001B[1;32m     19\u001B[0m     attention_implementations,\n",
       "\u001B[1;32m     20\u001B[0m     fcs,\n",
       "\u001B[1;32m     21\u001B[0m     ffns,\n",
       "\u001B[1;32m     22\u001B[0m     ffns_with_megablocks,\n",
       "\u001B[1;32m     23\u001B[0m     ffns_with_norm,\n",
       "\u001B[1;32m     24\u001B[0m     module_init_fns,\n",
       "\u001B[1;32m     25\u001B[0m     norms,\n",
       "\u001B[1;32m     26\u001B[0m     param_init_fns,\n",
       "\u001B[1;32m     27\u001B[0m )\n",
       "\u001B[1;32m     28\u001B[0m \u001B[38;5;28;01mfrom\u001B[39;00m \u001B[38;5;21;01mllmfoundry\u001B[39;00m\u001B[38;5;21;01m.\u001B[39;00m\u001B[38;5;21;01mutils\u001B[39;00m\u001B[38;5;21;01m.\u001B[39;00m\u001B[38;5;21;01mregistry_utils\u001B[39;00m \u001B[38;5;28;01mimport\u001B[39;00m create_registry\n",
       "\u001B[1;32m     30\u001B[0m _loggers_description \u001B[38;5;241m=\u001B[39m (\n",
       "\u001B[1;32m     31\u001B[0m \u001B[38;5;250m    \u001B[39m\u001B[38;5;124;03m\"\"\"The loggers registry is used to register classes that implement the LoggerDestination interface.\u001B[39;00m\n",
       "\u001B[1;32m     32\u001B[0m \n",
       "\u001B[0;32m   (...)\u001B[0m\n",
       "\u001B[1;32m     41\u001B[0m \u001B[38;5;124;03m    \"\"\"\u001B[39;00m\n",
       "\u001B[1;32m     42\u001B[0m )\n",
       "\n",
       "File \u001B[0;32m/local_disk0/.ephemeral_nfs/envs/pythonEnv-1baf428f-8695-4b74-acc5-37195553cf83/lib/python3.10/site-packages/llmfoundry/layers_registry.py:8\u001B[0m\n",
       "\u001B[1;32m      4\u001B[0m \u001B[38;5;28;01mfrom\u001B[39;00m \u001B[38;5;21;01mtyping\u001B[39;00m \u001B[38;5;28;01mimport\u001B[39;00m Callable, Type\n",
       "\u001B[1;32m      6\u001B[0m \u001B[38;5;28;01mimport\u001B[39;00m \u001B[38;5;21;01mtorch\u001B[39;00m\n",
       "\u001B[0;32m----> 8\u001B[0m \u001B[38;5;28;01mfrom\u001B[39;00m \u001B[38;5;21;01mllmfoundry\u001B[39;00m\u001B[38;5;21;01m.\u001B[39;00m\u001B[38;5;21;01mutils\u001B[39;00m\u001B[38;5;21;01m.\u001B[39;00m\u001B[38;5;21;01mregistry_utils\u001B[39;00m \u001B[38;5;28;01mimport\u001B[39;00m create_registry\n",
       "\u001B[1;32m     10\u001B[0m _norms_description \u001B[38;5;241m=\u001B[39m (\n",
       "\u001B[1;32m     11\u001B[0m \u001B[38;5;250m    \u001B[39m\u001B[38;5;124;03m\"\"\"The norms registry is used to register classes that implement normalization layers.\u001B[39;00m\n",
       "\u001B[1;32m     12\u001B[0m \n",
       "\u001B[0;32m   (...)\u001B[0m\n",
       "\u001B[1;32m     21\u001B[0m \u001B[38;5;124;03m    \"\"\"\u001B[39;00m\n",
       "\u001B[1;32m     22\u001B[0m )\n",
       "\u001B[1;32m     23\u001B[0m norms \u001B[38;5;241m=\u001B[39m create_registry(\n",
       "\u001B[1;32m     24\u001B[0m     \u001B[38;5;124m'\u001B[39m\u001B[38;5;124mllmfoundry\u001B[39m\u001B[38;5;124m'\u001B[39m,\n",
       "\u001B[1;32m     25\u001B[0m     \u001B[38;5;124m'\u001B[39m\u001B[38;5;124mnorms\u001B[39m\u001B[38;5;124m'\u001B[39m,\n",
       "\u001B[0;32m   (...)\u001B[0m\n",
       "\u001B[1;32m     28\u001B[0m     description\u001B[38;5;241m=\u001B[39m_norms_description,\n",
       "\u001B[1;32m     29\u001B[0m )\n",
       "\n",
       "File \u001B[0;32m/local_disk0/.ephemeral_nfs/envs/pythonEnv-1baf428f-8695-4b74-acc5-37195553cf83/lib/python3.10/site-packages/llmfoundry/utils/registry_utils.py:23\u001B[0m\n",
       "\u001B[1;32m     10\u001B[0m \u001B[38;5;28;01mfrom\u001B[39;00m \u001B[38;5;21;01mtypes\u001B[39;00m \u001B[38;5;28;01mimport\u001B[39;00m ModuleType\n",
       "\u001B[1;32m     11\u001B[0m \u001B[38;5;28;01mfrom\u001B[39;00m \u001B[38;5;21;01mtyping\u001B[39;00m \u001B[38;5;28;01mimport\u001B[39;00m (\n",
       "\u001B[1;32m     12\u001B[0m     Any,\n",
       "\u001B[1;32m     13\u001B[0m     Callable,\n",
       "\u001B[0;32m   (...)\u001B[0m\n",
       "\u001B[1;32m     20\u001B[0m     Union,\n",
       "\u001B[1;32m     21\u001B[0m )\n",
       "\u001B[0;32m---> 23\u001B[0m \u001B[38;5;28;01mimport\u001B[39;00m \u001B[38;5;21;01mcatalogue\u001B[39;00m\n",
       "\u001B[1;32m     25\u001B[0m __all__ \u001B[38;5;241m=\u001B[39m [\n",
       "\u001B[1;32m     26\u001B[0m     \u001B[38;5;124m'\u001B[39m\u001B[38;5;124mTypedRegistry\u001B[39m\u001B[38;5;124m'\u001B[39m,\n",
       "\u001B[1;32m     27\u001B[0m     \u001B[38;5;124m'\u001B[39m\u001B[38;5;124mcreate_registry\u001B[39m\u001B[38;5;124m'\u001B[39m,\n",
       "\u001B[0;32m   (...)\u001B[0m\n",
       "\u001B[1;32m     30\u001B[0m     \u001B[38;5;124m'\u001B[39m\u001B[38;5;124msave_registry\u001B[39m\u001B[38;5;124m'\u001B[39m,\n",
       "\u001B[1;32m     31\u001B[0m ]\n",
       "\u001B[1;32m     33\u001B[0m T \u001B[38;5;241m=\u001B[39m TypeVar(\u001B[38;5;124m'\u001B[39m\u001B[38;5;124mT\u001B[39m\u001B[38;5;124m'\u001B[39m)\n",
       "\n",
       "\u001B[0;31mModuleNotFoundError\u001B[0m: No module named 'catalogue'"
      ]
     },
     "metadata": {
      "application/vnd.databricks.v1+output": {
       "addedWidgets": {},
       "arguments": {},
       "datasetInfos": [],
       "jupyterProps": {
        "ename": "ModuleNotFoundError",
        "evalue": "No module named 'catalogue'"
       },
       "metadata": {
        "errorSummary": "Command skipped"
       },
       "removedWidgets": [],
       "sqlProps": null,
       "stackFrames": [
        "\u001B[0;31m---------------------------------------------------------------------------\u001B[0m",
        "\u001B[0;31mModuleNotFoundError\u001B[0m                       Traceback (most recent call last)",
        "File \u001B[0;32m<command-2691292108300970>, line 14\u001B[0m\n\u001B[1;32m     10\u001B[0m \u001B[38;5;28;01mfrom\u001B[39;00m \u001B[38;5;21;01mtyping\u001B[39;00m \u001B[38;5;28;01mimport\u001B[39;00m cast \n\u001B[1;32m     12\u001B[0m \u001B[38;5;28;01mimport\u001B[39;00m \u001B[38;5;21;01mdatasets\u001B[39;00m \n\u001B[0;32m---> 14\u001B[0m \u001B[38;5;28;01mfrom\u001B[39;00m \u001B[38;5;21;01mllmfoundry\u001B[39;00m\u001B[38;5;21;01m.\u001B[39;00m\u001B[38;5;21;01mutils\u001B[39;00m \u001B[38;5;28;01mimport\u001B[39;00m (create_om_cfg, token_counts_with_collate, \n\u001B[1;32m     15\u001B[0m         check_HF_datasets, is_hf_dataset_path, is_uc_delta_table,\n\u001B[1;32m     16\u001B[0m         integrity_check, convert_text_to_mds, parse_args, plot_hist,\n\u001B[1;32m     17\u001B[0m )\n\u001B[1;32m     19\u001B[0m \u001B[38;5;28;01mfrom\u001B[39;00m \u001B[38;5;21;01mllmfoundry\u001B[39;00m\u001B[38;5;21;01m.\u001B[39;00m\u001B[38;5;21;01mdata\u001B[39;00m\u001B[38;5;21;01m.\u001B[39;00m\u001B[38;5;21;01mfinetuning\u001B[39;00m\u001B[38;5;21;01m.\u001B[39;00m\u001B[38;5;21;01mtasks\u001B[39;00m \u001B[38;5;28;01mimport\u001B[39;00m (_validate_chat_formatted_example,\n\u001B[1;32m     20\u001B[0m                                               _tokenize_prompt_response_formatted_example,\n\u001B[1;32m     21\u001B[0m                                               _get_example_type, ChatFormattedDict, PromptResponseDict )\n\u001B[1;32m     22\u001B[0m \u001B[38;5;28;01mimport\u001B[39;00m \u001B[38;5;21;01mtransformers\u001B[39;00m\n",
        "File \u001B[0;32m/local_disk0/.ephemeral_nfs/envs/pythonEnv-1baf428f-8695-4b74-acc5-37195553cf83/lib/python3.10/site-packages/llmfoundry/__init__.py:29\u001B[0m\n\u001B[1;32m     16\u001B[0m     \u001B[38;5;28;01mif\u001B[39;00m \u001B[38;5;124m'\u001B[39m\u001B[38;5;124mundefined symbol\u001B[39m\u001B[38;5;124m'\u001B[39m \u001B[38;5;129;01min\u001B[39;00m \u001B[38;5;28mstr\u001B[39m(e):\n\u001B[1;32m     17\u001B[0m         \u001B[38;5;28;01mraise\u001B[39;00m \u001B[38;5;167;01mImportError\u001B[39;00m(\n\u001B[1;32m     18\u001B[0m             \u001B[38;5;124m'\u001B[39m\u001B[38;5;124mThe flash_attn package is not installed correctly. Usually this means that your runtime version\u001B[39m\u001B[38;5;124m'\u001B[39m\n\u001B[1;32m     19\u001B[0m             \u001B[38;5;241m+\u001B[39m\n\u001B[0;32m   (...)\u001B[0m\n\u001B[1;32m     26\u001B[0m             \u001B[38;5;124m'\u001B[39m\u001B[38;5;124m in LLM Foundry setup.py and update accordingly. The latest Docker image can be found in the README.\u001B[39m\u001B[38;5;124m'\u001B[39m,\n\u001B[1;32m     27\u001B[0m         ) \u001B[38;5;28;01mfrom\u001B[39;00m \u001B[38;5;21;01me\u001B[39;00m\n\u001B[0;32m---> 29\u001B[0m \u001B[38;5;28;01mfrom\u001B[39;00m \u001B[38;5;21;01mllmfoundry\u001B[39;00m\u001B[38;5;21;01m.\u001B[39;00m\u001B[38;5;21;01mutils\u001B[39;00m\u001B[38;5;21;01m.\u001B[39;00m\u001B[38;5;21;01mlogging_utils\u001B[39;00m \u001B[38;5;28;01mimport\u001B[39;00m SpecificWarningFilter\n\u001B[1;32m     31\u001B[0m \u001B[38;5;66;03m# Filter out Hugging Face warning for not using a pinned revision of the model\u001B[39;00m\n\u001B[1;32m     32\u001B[0m logger \u001B[38;5;241m=\u001B[39m logging\u001B[38;5;241m.\u001B[39mgetLogger(\u001B[38;5;124m'\u001B[39m\u001B[38;5;124mtransformers.dynamic_module_utils\u001B[39m\u001B[38;5;124m'\u001B[39m)\n",
        "File \u001B[0;32m/local_disk0/.ephemeral_nfs/envs/pythonEnv-1baf428f-8695-4b74-acc5-37195553cf83/lib/python3.10/site-packages/llmfoundry/utils/__init__.py:4\u001B[0m\n\u001B[1;32m      1\u001B[0m \u001B[38;5;66;03m# Copyright 2022 MosaicML LLM Foundry authors\u001B[39;00m\n\u001B[1;32m      2\u001B[0m \u001B[38;5;66;03m# SPDX-License-Identifier: Apache-2.0\u001B[39;00m\n\u001B[0;32m----> 4\u001B[0m \u001B[38;5;28;01mfrom\u001B[39;00m \u001B[38;5;21;01mllmfoundry\u001B[39;00m\u001B[38;5;21;01m.\u001B[39;00m\u001B[38;5;21;01mregistry\u001B[39;00m \u001B[38;5;28;01mimport\u001B[39;00m config_transforms\n\u001B[1;32m      5\u001B[0m \u001B[38;5;28;01mfrom\u001B[39;00m \u001B[38;5;21;01mllmfoundry\u001B[39;00m\u001B[38;5;21;01m.\u001B[39;00m\u001B[38;5;21;01mutils\u001B[39;00m\u001B[38;5;21;01m.\u001B[39;00m\u001B[38;5;21;01mbuilders\u001B[39;00m \u001B[38;5;28;01mimport\u001B[39;00m (\n\u001B[1;32m      6\u001B[0m     add_metrics_to_eval_loaders,\n\u001B[1;32m      7\u001B[0m     build_algorithm,\n\u001B[0;32m   (...)\u001B[0m\n\u001B[1;32m     18\u001B[0m     build_tokenizer,\n\u001B[1;32m     19\u001B[0m )\n\u001B[1;32m     20\u001B[0m \u001B[38;5;28;01mfrom\u001B[39;00m \u001B[38;5;21;01mllmfoundry\u001B[39;00m\u001B[38;5;21;01m.\u001B[39;00m\u001B[38;5;21;01mutils\u001B[39;00m\u001B[38;5;21;01m.\u001B[39;00m\u001B[38;5;21;01mcheckpoint_conversion_helpers\u001B[39;00m \u001B[38;5;28;01mimport\u001B[39;00m (\n\u001B[1;32m     21\u001B[0m     convert_and_save_ft_weights,\n\u001B[1;32m     22\u001B[0m     get_hf_tokenizer_from_composer_state_dict,\n\u001B[1;32m     23\u001B[0m     load_tokenizer,\n\u001B[1;32m     24\u001B[0m )\n",
        "File \u001B[0;32m/local_disk0/.ephemeral_nfs/envs/pythonEnv-1baf428f-8695-4b74-acc5-37195553cf83/lib/python3.10/site-packages/llmfoundry/registry.py:17\u001B[0m\n\u001B[1;32m     14\u001B[0m \u001B[38;5;28;01mfrom\u001B[39;00m \u001B[38;5;21;01mtransformers\u001B[39;00m \u001B[38;5;28;01mimport\u001B[39;00m PreTrainedTokenizerBase\n\u001B[1;32m     16\u001B[0m \u001B[38;5;28;01mfrom\u001B[39;00m \u001B[38;5;21;01mllmfoundry\u001B[39;00m\u001B[38;5;21;01m.\u001B[39;00m\u001B[38;5;21;01minterfaces\u001B[39;00m \u001B[38;5;28;01mimport\u001B[39;00m CallbackWithConfig\n\u001B[0;32m---> 17\u001B[0m \u001B[38;5;28;01mfrom\u001B[39;00m \u001B[38;5;21;01mllmfoundry\u001B[39;00m\u001B[38;5;21;01m.\u001B[39;00m\u001B[38;5;21;01mlayers_registry\u001B[39;00m \u001B[38;5;28;01mimport\u001B[39;00m (\n\u001B[1;32m     18\u001B[0m     attention_classes,\n\u001B[1;32m     19\u001B[0m     attention_implementations,\n\u001B[1;32m     20\u001B[0m     fcs,\n\u001B[1;32m     21\u001B[0m     ffns,\n\u001B[1;32m     22\u001B[0m     ffns_with_megablocks,\n\u001B[1;32m     23\u001B[0m     ffns_with_norm,\n\u001B[1;32m     24\u001B[0m     module_init_fns,\n\u001B[1;32m     25\u001B[0m     norms,\n\u001B[1;32m     26\u001B[0m     param_init_fns,\n\u001B[1;32m     27\u001B[0m )\n\u001B[1;32m     28\u001B[0m \u001B[38;5;28;01mfrom\u001B[39;00m \u001B[38;5;21;01mllmfoundry\u001B[39;00m\u001B[38;5;21;01m.\u001B[39;00m\u001B[38;5;21;01mutils\u001B[39;00m\u001B[38;5;21;01m.\u001B[39;00m\u001B[38;5;21;01mregistry_utils\u001B[39;00m \u001B[38;5;28;01mimport\u001B[39;00m create_registry\n\u001B[1;32m     30\u001B[0m _loggers_description \u001B[38;5;241m=\u001B[39m (\n\u001B[1;32m     31\u001B[0m \u001B[38;5;250m    \u001B[39m\u001B[38;5;124;03m\"\"\"The loggers registry is used to register classes that implement the LoggerDestination interface.\u001B[39;00m\n\u001B[1;32m     32\u001B[0m \n\u001B[0;32m   (...)\u001B[0m\n\u001B[1;32m     41\u001B[0m \u001B[38;5;124;03m    \"\"\"\u001B[39;00m\n\u001B[1;32m     42\u001B[0m )\n",
        "File \u001B[0;32m/local_disk0/.ephemeral_nfs/envs/pythonEnv-1baf428f-8695-4b74-acc5-37195553cf83/lib/python3.10/site-packages/llmfoundry/layers_registry.py:8\u001B[0m\n\u001B[1;32m      4\u001B[0m \u001B[38;5;28;01mfrom\u001B[39;00m \u001B[38;5;21;01mtyping\u001B[39;00m \u001B[38;5;28;01mimport\u001B[39;00m Callable, Type\n\u001B[1;32m      6\u001B[0m \u001B[38;5;28;01mimport\u001B[39;00m \u001B[38;5;21;01mtorch\u001B[39;00m\n\u001B[0;32m----> 8\u001B[0m \u001B[38;5;28;01mfrom\u001B[39;00m \u001B[38;5;21;01mllmfoundry\u001B[39;00m\u001B[38;5;21;01m.\u001B[39;00m\u001B[38;5;21;01mutils\u001B[39;00m\u001B[38;5;21;01m.\u001B[39;00m\u001B[38;5;21;01mregistry_utils\u001B[39;00m \u001B[38;5;28;01mimport\u001B[39;00m create_registry\n\u001B[1;32m     10\u001B[0m _norms_description \u001B[38;5;241m=\u001B[39m (\n\u001B[1;32m     11\u001B[0m \u001B[38;5;250m    \u001B[39m\u001B[38;5;124;03m\"\"\"The norms registry is used to register classes that implement normalization layers.\u001B[39;00m\n\u001B[1;32m     12\u001B[0m \n\u001B[0;32m   (...)\u001B[0m\n\u001B[1;32m     21\u001B[0m \u001B[38;5;124;03m    \"\"\"\u001B[39;00m\n\u001B[1;32m     22\u001B[0m )\n\u001B[1;32m     23\u001B[0m norms \u001B[38;5;241m=\u001B[39m create_registry(\n\u001B[1;32m     24\u001B[0m     \u001B[38;5;124m'\u001B[39m\u001B[38;5;124mllmfoundry\u001B[39m\u001B[38;5;124m'\u001B[39m,\n\u001B[1;32m     25\u001B[0m     \u001B[38;5;124m'\u001B[39m\u001B[38;5;124mnorms\u001B[39m\u001B[38;5;124m'\u001B[39m,\n\u001B[0;32m   (...)\u001B[0m\n\u001B[1;32m     28\u001B[0m     description\u001B[38;5;241m=\u001B[39m_norms_description,\n\u001B[1;32m     29\u001B[0m )\n",
        "File \u001B[0;32m/local_disk0/.ephemeral_nfs/envs/pythonEnv-1baf428f-8695-4b74-acc5-37195553cf83/lib/python3.10/site-packages/llmfoundry/utils/registry_utils.py:23\u001B[0m\n\u001B[1;32m     10\u001B[0m \u001B[38;5;28;01mfrom\u001B[39;00m \u001B[38;5;21;01mtypes\u001B[39;00m \u001B[38;5;28;01mimport\u001B[39;00m ModuleType\n\u001B[1;32m     11\u001B[0m \u001B[38;5;28;01mfrom\u001B[39;00m \u001B[38;5;21;01mtyping\u001B[39;00m \u001B[38;5;28;01mimport\u001B[39;00m (\n\u001B[1;32m     12\u001B[0m     Any,\n\u001B[1;32m     13\u001B[0m     Callable,\n\u001B[0;32m   (...)\u001B[0m\n\u001B[1;32m     20\u001B[0m     Union,\n\u001B[1;32m     21\u001B[0m )\n\u001B[0;32m---> 23\u001B[0m \u001B[38;5;28;01mimport\u001B[39;00m \u001B[38;5;21;01mcatalogue\u001B[39;00m\n\u001B[1;32m     25\u001B[0m __all__ \u001B[38;5;241m=\u001B[39m [\n\u001B[1;32m     26\u001B[0m     \u001B[38;5;124m'\u001B[39m\u001B[38;5;124mTypedRegistry\u001B[39m\u001B[38;5;124m'\u001B[39m,\n\u001B[1;32m     27\u001B[0m     \u001B[38;5;124m'\u001B[39m\u001B[38;5;124mcreate_registry\u001B[39m\u001B[38;5;124m'\u001B[39m,\n\u001B[0;32m   (...)\u001B[0m\n\u001B[1;32m     30\u001B[0m     \u001B[38;5;124m'\u001B[39m\u001B[38;5;124msave_registry\u001B[39m\u001B[38;5;124m'\u001B[39m,\n\u001B[1;32m     31\u001B[0m ]\n\u001B[1;32m     33\u001B[0m T \u001B[38;5;241m=\u001B[39m TypeVar(\u001B[38;5;124m'\u001B[39m\u001B[38;5;124mT\u001B[39m\u001B[38;5;124m'\u001B[39m)\n",
        "\u001B[0;31mModuleNotFoundError\u001B[0m: No module named 'catalogue'"
       ],
       "type": "baseError"
      }
     },
     "output_type": "display_data"
    }
   ],
   "source": [
    "FT_API_args = Namespace(\n",
    "    model= 'mosaicml/mpt-7b', # Other examples: 'EleutherAI/gpt-neox-20b',\n",
    "    train_data_path= 'mosaicml/dolly_hhrlhf/train',  # Other examples: '/path/to/train.jsonl', 'catalog.schema.table', 'iamroot/chat_formatted_examples/train', \n",
    "    task_type='INSTRUCTION_FINETUNE', # 'CHAT_COMPLETION'\n",
    "    training_duration=3,\n",
    "    context_length=2048,\n",
    ")\n",
    "\n",
    "temporary_jsonl_data_path = os.path.join(home, 'ft_data_11Jan24_3/train')\n",
    "os.environ['HF_DATASETS_CACHE'] = os.path.join(home, 'hf_cache')\n",
    "os.makedirs(temporary_jsonl_data_path, exist_ok=True)\n",
    "os.makedirs(os.environ['HF_DATASETS_CACHE'], exist_ok=True)"
   ]
  },
  {
   "cell_type": "markdown",
   "metadata": {
    "application/vnd.databricks.v1+cell": {
     "cellMetadata": {
      "byteLimit": 2048000,
      "rowLimit": 10000
     },
     "inputWidgets": {},
     "nuid": "39c45005-1a77-4162-b9e4-bd8df6f5ec69",
     "showTitle": false,
     "title": ""
    }
   },
   "source": [
    "#### Data Loading\n",
    "\n",
    "The IFT data needs to stay with a format \n",
    "```\n",
    "prompt: xxx\n",
    "response or completion: yyy\n",
    "```\n",
    "\n",
    "Based on FT_API_args.train_data_path, we will select an ingestion method from one of the three options below:\n",
    "\n",
    "- Option-1. data is a JSONL file which stores in an object store supported by Composer.\n",
    "- Option-2. data is a Huggingface dataset ID. Note you need to provide a split as well. \n",
    "- Option-3. data is a delta table. "
   ]
  },
  {
   "cell_type": "code",
   "execution_count": 0,
   "metadata": {
    "application/vnd.databricks.v1+cell": {
     "cellMetadata": {
      "byteLimit": 2048000,
      "rowLimit": 10000
     },
     "inputWidgets": {},
     "nuid": "751d8e3a-156c-432c-8e6e-a1530a5a9dc5",
     "showTitle": false,
     "title": ""
    }
   },
   "outputs": [
    {
     "output_type": "display_data",
     "data": {
      "text/plain": [
       "\u001B[0;31m---------------------------------------------------------------------------\u001B[0m\n",
       "\u001B[0;31mModuleNotFoundError\u001B[0m                       Traceback (most recent call last)\n",
       "File \u001B[0;32m<command-2691292108300970>, line 14\u001B[0m\n",
       "\u001B[1;32m     10\u001B[0m \u001B[38;5;28;01mfrom\u001B[39;00m \u001B[38;5;21;01mtyping\u001B[39;00m \u001B[38;5;28;01mimport\u001B[39;00m cast \n",
       "\u001B[1;32m     12\u001B[0m \u001B[38;5;28;01mimport\u001B[39;00m \u001B[38;5;21;01mdatasets\u001B[39;00m \n",
       "\u001B[0;32m---> 14\u001B[0m \u001B[38;5;28;01mfrom\u001B[39;00m \u001B[38;5;21;01mllmfoundry\u001B[39;00m\u001B[38;5;21;01m.\u001B[39;00m\u001B[38;5;21;01mutils\u001B[39;00m \u001B[38;5;28;01mimport\u001B[39;00m (create_om_cfg, token_counts_with_collate, \n",
       "\u001B[1;32m     15\u001B[0m         check_HF_datasets, is_hf_dataset_path, is_uc_delta_table,\n",
       "\u001B[1;32m     16\u001B[0m         integrity_check, convert_text_to_mds, parse_args, plot_hist,\n",
       "\u001B[1;32m     17\u001B[0m )\n",
       "\u001B[1;32m     19\u001B[0m \u001B[38;5;28;01mfrom\u001B[39;00m \u001B[38;5;21;01mllmfoundry\u001B[39;00m\u001B[38;5;21;01m.\u001B[39;00m\u001B[38;5;21;01mdata\u001B[39;00m\u001B[38;5;21;01m.\u001B[39;00m\u001B[38;5;21;01mfinetuning\u001B[39;00m\u001B[38;5;21;01m.\u001B[39;00m\u001B[38;5;21;01mtasks\u001B[39;00m \u001B[38;5;28;01mimport\u001B[39;00m (_validate_chat_formatted_example,\n",
       "\u001B[1;32m     20\u001B[0m                                               _tokenize_prompt_response_formatted_example,\n",
       "\u001B[1;32m     21\u001B[0m                                               _get_example_type, ChatFormattedDict, PromptResponseDict )\n",
       "\u001B[1;32m     22\u001B[0m \u001B[38;5;28;01mimport\u001B[39;00m \u001B[38;5;21;01mtransformers\u001B[39;00m\n",
       "\n",
       "File \u001B[0;32m/local_disk0/.ephemeral_nfs/envs/pythonEnv-1baf428f-8695-4b74-acc5-37195553cf83/lib/python3.10/site-packages/llmfoundry/__init__.py:29\u001B[0m\n",
       "\u001B[1;32m     16\u001B[0m     \u001B[38;5;28;01mif\u001B[39;00m \u001B[38;5;124m'\u001B[39m\u001B[38;5;124mundefined symbol\u001B[39m\u001B[38;5;124m'\u001B[39m \u001B[38;5;129;01min\u001B[39;00m \u001B[38;5;28mstr\u001B[39m(e):\n",
       "\u001B[1;32m     17\u001B[0m         \u001B[38;5;28;01mraise\u001B[39;00m \u001B[38;5;167;01mImportError\u001B[39;00m(\n",
       "\u001B[1;32m     18\u001B[0m             \u001B[38;5;124m'\u001B[39m\u001B[38;5;124mThe flash_attn package is not installed correctly. Usually this means that your runtime version\u001B[39m\u001B[38;5;124m'\u001B[39m\n",
       "\u001B[1;32m     19\u001B[0m             \u001B[38;5;241m+\u001B[39m\n",
       "\u001B[0;32m   (...)\u001B[0m\n",
       "\u001B[1;32m     26\u001B[0m             \u001B[38;5;124m'\u001B[39m\u001B[38;5;124m in LLM Foundry setup.py and update accordingly. The latest Docker image can be found in the README.\u001B[39m\u001B[38;5;124m'\u001B[39m,\n",
       "\u001B[1;32m     27\u001B[0m         ) \u001B[38;5;28;01mfrom\u001B[39;00m \u001B[38;5;21;01me\u001B[39;00m\n",
       "\u001B[0;32m---> 29\u001B[0m \u001B[38;5;28;01mfrom\u001B[39;00m \u001B[38;5;21;01mllmfoundry\u001B[39;00m\u001B[38;5;21;01m.\u001B[39;00m\u001B[38;5;21;01mutils\u001B[39;00m\u001B[38;5;21;01m.\u001B[39;00m\u001B[38;5;21;01mlogging_utils\u001B[39;00m \u001B[38;5;28;01mimport\u001B[39;00m SpecificWarningFilter\n",
       "\u001B[1;32m     31\u001B[0m \u001B[38;5;66;03m# Filter out Hugging Face warning for not using a pinned revision of the model\u001B[39;00m\n",
       "\u001B[1;32m     32\u001B[0m logger \u001B[38;5;241m=\u001B[39m logging\u001B[38;5;241m.\u001B[39mgetLogger(\u001B[38;5;124m'\u001B[39m\u001B[38;5;124mtransformers.dynamic_module_utils\u001B[39m\u001B[38;5;124m'\u001B[39m)\n",
       "\n",
       "File \u001B[0;32m/local_disk0/.ephemeral_nfs/envs/pythonEnv-1baf428f-8695-4b74-acc5-37195553cf83/lib/python3.10/site-packages/llmfoundry/utils/__init__.py:4\u001B[0m\n",
       "\u001B[1;32m      1\u001B[0m \u001B[38;5;66;03m# Copyright 2022 MosaicML LLM Foundry authors\u001B[39;00m\n",
       "\u001B[1;32m      2\u001B[0m \u001B[38;5;66;03m# SPDX-License-Identifier: Apache-2.0\u001B[39;00m\n",
       "\u001B[0;32m----> 4\u001B[0m \u001B[38;5;28;01mfrom\u001B[39;00m \u001B[38;5;21;01mllmfoundry\u001B[39;00m\u001B[38;5;21;01m.\u001B[39;00m\u001B[38;5;21;01mregistry\u001B[39;00m \u001B[38;5;28;01mimport\u001B[39;00m config_transforms\n",
       "\u001B[1;32m      5\u001B[0m \u001B[38;5;28;01mfrom\u001B[39;00m \u001B[38;5;21;01mllmfoundry\u001B[39;00m\u001B[38;5;21;01m.\u001B[39;00m\u001B[38;5;21;01mutils\u001B[39;00m\u001B[38;5;21;01m.\u001B[39;00m\u001B[38;5;21;01mbuilders\u001B[39;00m \u001B[38;5;28;01mimport\u001B[39;00m (\n",
       "\u001B[1;32m      6\u001B[0m     add_metrics_to_eval_loaders,\n",
       "\u001B[1;32m      7\u001B[0m     build_algorithm,\n",
       "\u001B[0;32m   (...)\u001B[0m\n",
       "\u001B[1;32m     18\u001B[0m     build_tokenizer,\n",
       "\u001B[1;32m     19\u001B[0m )\n",
       "\u001B[1;32m     20\u001B[0m \u001B[38;5;28;01mfrom\u001B[39;00m \u001B[38;5;21;01mllmfoundry\u001B[39;00m\u001B[38;5;21;01m.\u001B[39;00m\u001B[38;5;21;01mutils\u001B[39;00m\u001B[38;5;21;01m.\u001B[39;00m\u001B[38;5;21;01mcheckpoint_conversion_helpers\u001B[39;00m \u001B[38;5;28;01mimport\u001B[39;00m (\n",
       "\u001B[1;32m     21\u001B[0m     convert_and_save_ft_weights,\n",
       "\u001B[1;32m     22\u001B[0m     get_hf_tokenizer_from_composer_state_dict,\n",
       "\u001B[1;32m     23\u001B[0m     load_tokenizer,\n",
       "\u001B[1;32m     24\u001B[0m )\n",
       "\n",
       "File \u001B[0;32m/local_disk0/.ephemeral_nfs/envs/pythonEnv-1baf428f-8695-4b74-acc5-37195553cf83/lib/python3.10/site-packages/llmfoundry/registry.py:17\u001B[0m\n",
       "\u001B[1;32m     14\u001B[0m \u001B[38;5;28;01mfrom\u001B[39;00m \u001B[38;5;21;01mtransformers\u001B[39;00m \u001B[38;5;28;01mimport\u001B[39;00m PreTrainedTokenizerBase\n",
       "\u001B[1;32m     16\u001B[0m \u001B[38;5;28;01mfrom\u001B[39;00m \u001B[38;5;21;01mllmfoundry\u001B[39;00m\u001B[38;5;21;01m.\u001B[39;00m\u001B[38;5;21;01minterfaces\u001B[39;00m \u001B[38;5;28;01mimport\u001B[39;00m CallbackWithConfig\n",
       "\u001B[0;32m---> 17\u001B[0m \u001B[38;5;28;01mfrom\u001B[39;00m \u001B[38;5;21;01mllmfoundry\u001B[39;00m\u001B[38;5;21;01m.\u001B[39;00m\u001B[38;5;21;01mlayers_registry\u001B[39;00m \u001B[38;5;28;01mimport\u001B[39;00m (\n",
       "\u001B[1;32m     18\u001B[0m     attention_classes,\n",
       "\u001B[1;32m     19\u001B[0m     attention_implementations,\n",
       "\u001B[1;32m     20\u001B[0m     fcs,\n",
       "\u001B[1;32m     21\u001B[0m     ffns,\n",
       "\u001B[1;32m     22\u001B[0m     ffns_with_megablocks,\n",
       "\u001B[1;32m     23\u001B[0m     ffns_with_norm,\n",
       "\u001B[1;32m     24\u001B[0m     module_init_fns,\n",
       "\u001B[1;32m     25\u001B[0m     norms,\n",
       "\u001B[1;32m     26\u001B[0m     param_init_fns,\n",
       "\u001B[1;32m     27\u001B[0m )\n",
       "\u001B[1;32m     28\u001B[0m \u001B[38;5;28;01mfrom\u001B[39;00m \u001B[38;5;21;01mllmfoundry\u001B[39;00m\u001B[38;5;21;01m.\u001B[39;00m\u001B[38;5;21;01mutils\u001B[39;00m\u001B[38;5;21;01m.\u001B[39;00m\u001B[38;5;21;01mregistry_utils\u001B[39;00m \u001B[38;5;28;01mimport\u001B[39;00m create_registry\n",
       "\u001B[1;32m     30\u001B[0m _loggers_description \u001B[38;5;241m=\u001B[39m (\n",
       "\u001B[1;32m     31\u001B[0m \u001B[38;5;250m    \u001B[39m\u001B[38;5;124;03m\"\"\"The loggers registry is used to register classes that implement the LoggerDestination interface.\u001B[39;00m\n",
       "\u001B[1;32m     32\u001B[0m \n",
       "\u001B[0;32m   (...)\u001B[0m\n",
       "\u001B[1;32m     41\u001B[0m \u001B[38;5;124;03m    \"\"\"\u001B[39;00m\n",
       "\u001B[1;32m     42\u001B[0m )\n",
       "\n",
       "File \u001B[0;32m/local_disk0/.ephemeral_nfs/envs/pythonEnv-1baf428f-8695-4b74-acc5-37195553cf83/lib/python3.10/site-packages/llmfoundry/layers_registry.py:8\u001B[0m\n",
       "\u001B[1;32m      4\u001B[0m \u001B[38;5;28;01mfrom\u001B[39;00m \u001B[38;5;21;01mtyping\u001B[39;00m \u001B[38;5;28;01mimport\u001B[39;00m Callable, Type\n",
       "\u001B[1;32m      6\u001B[0m \u001B[38;5;28;01mimport\u001B[39;00m \u001B[38;5;21;01mtorch\u001B[39;00m\n",
       "\u001B[0;32m----> 8\u001B[0m \u001B[38;5;28;01mfrom\u001B[39;00m \u001B[38;5;21;01mllmfoundry\u001B[39;00m\u001B[38;5;21;01m.\u001B[39;00m\u001B[38;5;21;01mutils\u001B[39;00m\u001B[38;5;21;01m.\u001B[39;00m\u001B[38;5;21;01mregistry_utils\u001B[39;00m \u001B[38;5;28;01mimport\u001B[39;00m create_registry\n",
       "\u001B[1;32m     10\u001B[0m _norms_description \u001B[38;5;241m=\u001B[39m (\n",
       "\u001B[1;32m     11\u001B[0m \u001B[38;5;250m    \u001B[39m\u001B[38;5;124;03m\"\"\"The norms registry is used to register classes that implement normalization layers.\u001B[39;00m\n",
       "\u001B[1;32m     12\u001B[0m \n",
       "\u001B[0;32m   (...)\u001B[0m\n",
       "\u001B[1;32m     21\u001B[0m \u001B[38;5;124;03m    \"\"\"\u001B[39;00m\n",
       "\u001B[1;32m     22\u001B[0m )\n",
       "\u001B[1;32m     23\u001B[0m norms \u001B[38;5;241m=\u001B[39m create_registry(\n",
       "\u001B[1;32m     24\u001B[0m     \u001B[38;5;124m'\u001B[39m\u001B[38;5;124mllmfoundry\u001B[39m\u001B[38;5;124m'\u001B[39m,\n",
       "\u001B[1;32m     25\u001B[0m     \u001B[38;5;124m'\u001B[39m\u001B[38;5;124mnorms\u001B[39m\u001B[38;5;124m'\u001B[39m,\n",
       "\u001B[0;32m   (...)\u001B[0m\n",
       "\u001B[1;32m     28\u001B[0m     description\u001B[38;5;241m=\u001B[39m_norms_description,\n",
       "\u001B[1;32m     29\u001B[0m )\n",
       "\n",
       "File \u001B[0;32m/local_disk0/.ephemeral_nfs/envs/pythonEnv-1baf428f-8695-4b74-acc5-37195553cf83/lib/python3.10/site-packages/llmfoundry/utils/registry_utils.py:23\u001B[0m\n",
       "\u001B[1;32m     10\u001B[0m \u001B[38;5;28;01mfrom\u001B[39;00m \u001B[38;5;21;01mtypes\u001B[39;00m \u001B[38;5;28;01mimport\u001B[39;00m ModuleType\n",
       "\u001B[1;32m     11\u001B[0m \u001B[38;5;28;01mfrom\u001B[39;00m \u001B[38;5;21;01mtyping\u001B[39;00m \u001B[38;5;28;01mimport\u001B[39;00m (\n",
       "\u001B[1;32m     12\u001B[0m     Any,\n",
       "\u001B[1;32m     13\u001B[0m     Callable,\n",
       "\u001B[0;32m   (...)\u001B[0m\n",
       "\u001B[1;32m     20\u001B[0m     Union,\n",
       "\u001B[1;32m     21\u001B[0m )\n",
       "\u001B[0;32m---> 23\u001B[0m \u001B[38;5;28;01mimport\u001B[39;00m \u001B[38;5;21;01mcatalogue\u001B[39;00m\n",
       "\u001B[1;32m     25\u001B[0m __all__ \u001B[38;5;241m=\u001B[39m [\n",
       "\u001B[1;32m     26\u001B[0m     \u001B[38;5;124m'\u001B[39m\u001B[38;5;124mTypedRegistry\u001B[39m\u001B[38;5;124m'\u001B[39m,\n",
       "\u001B[1;32m     27\u001B[0m     \u001B[38;5;124m'\u001B[39m\u001B[38;5;124mcreate_registry\u001B[39m\u001B[38;5;124m'\u001B[39m,\n",
       "\u001B[0;32m   (...)\u001B[0m\n",
       "\u001B[1;32m     30\u001B[0m     \u001B[38;5;124m'\u001B[39m\u001B[38;5;124msave_registry\u001B[39m\u001B[38;5;124m'\u001B[39m,\n",
       "\u001B[1;32m     31\u001B[0m ]\n",
       "\u001B[1;32m     33\u001B[0m T \u001B[38;5;241m=\u001B[39m TypeVar(\u001B[38;5;124m'\u001B[39m\u001B[38;5;124mT\u001B[39m\u001B[38;5;124m'\u001B[39m)\n",
       "\n",
       "\u001B[0;31mModuleNotFoundError\u001B[0m: No module named 'catalogue'"
      ]
     },
     "metadata": {
      "application/vnd.databricks.v1+output": {
       "addedWidgets": {},
       "arguments": {},
       "datasetInfos": [],
       "jupyterProps": {
        "ename": "ModuleNotFoundError",
        "evalue": "No module named 'catalogue'"
       },
       "metadata": {
        "errorSummary": "Command skipped"
       },
       "removedWidgets": [],
       "sqlProps": null,
       "stackFrames": [
        "\u001B[0;31m---------------------------------------------------------------------------\u001B[0m",
        "\u001B[0;31mModuleNotFoundError\u001B[0m                       Traceback (most recent call last)",
        "File \u001B[0;32m<command-2691292108300970>, line 14\u001B[0m\n\u001B[1;32m     10\u001B[0m \u001B[38;5;28;01mfrom\u001B[39;00m \u001B[38;5;21;01mtyping\u001B[39;00m \u001B[38;5;28;01mimport\u001B[39;00m cast \n\u001B[1;32m     12\u001B[0m \u001B[38;5;28;01mimport\u001B[39;00m \u001B[38;5;21;01mdatasets\u001B[39;00m \n\u001B[0;32m---> 14\u001B[0m \u001B[38;5;28;01mfrom\u001B[39;00m \u001B[38;5;21;01mllmfoundry\u001B[39;00m\u001B[38;5;21;01m.\u001B[39;00m\u001B[38;5;21;01mutils\u001B[39;00m \u001B[38;5;28;01mimport\u001B[39;00m (create_om_cfg, token_counts_with_collate, \n\u001B[1;32m     15\u001B[0m         check_HF_datasets, is_hf_dataset_path, is_uc_delta_table,\n\u001B[1;32m     16\u001B[0m         integrity_check, convert_text_to_mds, parse_args, plot_hist,\n\u001B[1;32m     17\u001B[0m )\n\u001B[1;32m     19\u001B[0m \u001B[38;5;28;01mfrom\u001B[39;00m \u001B[38;5;21;01mllmfoundry\u001B[39;00m\u001B[38;5;21;01m.\u001B[39;00m\u001B[38;5;21;01mdata\u001B[39;00m\u001B[38;5;21;01m.\u001B[39;00m\u001B[38;5;21;01mfinetuning\u001B[39;00m\u001B[38;5;21;01m.\u001B[39;00m\u001B[38;5;21;01mtasks\u001B[39;00m \u001B[38;5;28;01mimport\u001B[39;00m (_validate_chat_formatted_example,\n\u001B[1;32m     20\u001B[0m                                               _tokenize_prompt_response_formatted_example,\n\u001B[1;32m     21\u001B[0m                                               _get_example_type, ChatFormattedDict, PromptResponseDict )\n\u001B[1;32m     22\u001B[0m \u001B[38;5;28;01mimport\u001B[39;00m \u001B[38;5;21;01mtransformers\u001B[39;00m\n",
        "File \u001B[0;32m/local_disk0/.ephemeral_nfs/envs/pythonEnv-1baf428f-8695-4b74-acc5-37195553cf83/lib/python3.10/site-packages/llmfoundry/__init__.py:29\u001B[0m\n\u001B[1;32m     16\u001B[0m     \u001B[38;5;28;01mif\u001B[39;00m \u001B[38;5;124m'\u001B[39m\u001B[38;5;124mundefined symbol\u001B[39m\u001B[38;5;124m'\u001B[39m \u001B[38;5;129;01min\u001B[39;00m \u001B[38;5;28mstr\u001B[39m(e):\n\u001B[1;32m     17\u001B[0m         \u001B[38;5;28;01mraise\u001B[39;00m \u001B[38;5;167;01mImportError\u001B[39;00m(\n\u001B[1;32m     18\u001B[0m             \u001B[38;5;124m'\u001B[39m\u001B[38;5;124mThe flash_attn package is not installed correctly. Usually this means that your runtime version\u001B[39m\u001B[38;5;124m'\u001B[39m\n\u001B[1;32m     19\u001B[0m             \u001B[38;5;241m+\u001B[39m\n\u001B[0;32m   (...)\u001B[0m\n\u001B[1;32m     26\u001B[0m             \u001B[38;5;124m'\u001B[39m\u001B[38;5;124m in LLM Foundry setup.py and update accordingly. The latest Docker image can be found in the README.\u001B[39m\u001B[38;5;124m'\u001B[39m,\n\u001B[1;32m     27\u001B[0m         ) \u001B[38;5;28;01mfrom\u001B[39;00m \u001B[38;5;21;01me\u001B[39;00m\n\u001B[0;32m---> 29\u001B[0m \u001B[38;5;28;01mfrom\u001B[39;00m \u001B[38;5;21;01mllmfoundry\u001B[39;00m\u001B[38;5;21;01m.\u001B[39;00m\u001B[38;5;21;01mutils\u001B[39;00m\u001B[38;5;21;01m.\u001B[39;00m\u001B[38;5;21;01mlogging_utils\u001B[39;00m \u001B[38;5;28;01mimport\u001B[39;00m SpecificWarningFilter\n\u001B[1;32m     31\u001B[0m \u001B[38;5;66;03m# Filter out Hugging Face warning for not using a pinned revision of the model\u001B[39;00m\n\u001B[1;32m     32\u001B[0m logger \u001B[38;5;241m=\u001B[39m logging\u001B[38;5;241m.\u001B[39mgetLogger(\u001B[38;5;124m'\u001B[39m\u001B[38;5;124mtransformers.dynamic_module_utils\u001B[39m\u001B[38;5;124m'\u001B[39m)\n",
        "File \u001B[0;32m/local_disk0/.ephemeral_nfs/envs/pythonEnv-1baf428f-8695-4b74-acc5-37195553cf83/lib/python3.10/site-packages/llmfoundry/utils/__init__.py:4\u001B[0m\n\u001B[1;32m      1\u001B[0m \u001B[38;5;66;03m# Copyright 2022 MosaicML LLM Foundry authors\u001B[39;00m\n\u001B[1;32m      2\u001B[0m \u001B[38;5;66;03m# SPDX-License-Identifier: Apache-2.0\u001B[39;00m\n\u001B[0;32m----> 4\u001B[0m \u001B[38;5;28;01mfrom\u001B[39;00m \u001B[38;5;21;01mllmfoundry\u001B[39;00m\u001B[38;5;21;01m.\u001B[39;00m\u001B[38;5;21;01mregistry\u001B[39;00m \u001B[38;5;28;01mimport\u001B[39;00m config_transforms\n\u001B[1;32m      5\u001B[0m \u001B[38;5;28;01mfrom\u001B[39;00m \u001B[38;5;21;01mllmfoundry\u001B[39;00m\u001B[38;5;21;01m.\u001B[39;00m\u001B[38;5;21;01mutils\u001B[39;00m\u001B[38;5;21;01m.\u001B[39;00m\u001B[38;5;21;01mbuilders\u001B[39;00m \u001B[38;5;28;01mimport\u001B[39;00m (\n\u001B[1;32m      6\u001B[0m     add_metrics_to_eval_loaders,\n\u001B[1;32m      7\u001B[0m     build_algorithm,\n\u001B[0;32m   (...)\u001B[0m\n\u001B[1;32m     18\u001B[0m     build_tokenizer,\n\u001B[1;32m     19\u001B[0m )\n\u001B[1;32m     20\u001B[0m \u001B[38;5;28;01mfrom\u001B[39;00m \u001B[38;5;21;01mllmfoundry\u001B[39;00m\u001B[38;5;21;01m.\u001B[39;00m\u001B[38;5;21;01mutils\u001B[39;00m\u001B[38;5;21;01m.\u001B[39;00m\u001B[38;5;21;01mcheckpoint_conversion_helpers\u001B[39;00m \u001B[38;5;28;01mimport\u001B[39;00m (\n\u001B[1;32m     21\u001B[0m     convert_and_save_ft_weights,\n\u001B[1;32m     22\u001B[0m     get_hf_tokenizer_from_composer_state_dict,\n\u001B[1;32m     23\u001B[0m     load_tokenizer,\n\u001B[1;32m     24\u001B[0m )\n",
        "File \u001B[0;32m/local_disk0/.ephemeral_nfs/envs/pythonEnv-1baf428f-8695-4b74-acc5-37195553cf83/lib/python3.10/site-packages/llmfoundry/registry.py:17\u001B[0m\n\u001B[1;32m     14\u001B[0m \u001B[38;5;28;01mfrom\u001B[39;00m \u001B[38;5;21;01mtransformers\u001B[39;00m \u001B[38;5;28;01mimport\u001B[39;00m PreTrainedTokenizerBase\n\u001B[1;32m     16\u001B[0m \u001B[38;5;28;01mfrom\u001B[39;00m \u001B[38;5;21;01mllmfoundry\u001B[39;00m\u001B[38;5;21;01m.\u001B[39;00m\u001B[38;5;21;01minterfaces\u001B[39;00m \u001B[38;5;28;01mimport\u001B[39;00m CallbackWithConfig\n\u001B[0;32m---> 17\u001B[0m \u001B[38;5;28;01mfrom\u001B[39;00m \u001B[38;5;21;01mllmfoundry\u001B[39;00m\u001B[38;5;21;01m.\u001B[39;00m\u001B[38;5;21;01mlayers_registry\u001B[39;00m \u001B[38;5;28;01mimport\u001B[39;00m (\n\u001B[1;32m     18\u001B[0m     attention_classes,\n\u001B[1;32m     19\u001B[0m     attention_implementations,\n\u001B[1;32m     20\u001B[0m     fcs,\n\u001B[1;32m     21\u001B[0m     ffns,\n\u001B[1;32m     22\u001B[0m     ffns_with_megablocks,\n\u001B[1;32m     23\u001B[0m     ffns_with_norm,\n\u001B[1;32m     24\u001B[0m     module_init_fns,\n\u001B[1;32m     25\u001B[0m     norms,\n\u001B[1;32m     26\u001B[0m     param_init_fns,\n\u001B[1;32m     27\u001B[0m )\n\u001B[1;32m     28\u001B[0m \u001B[38;5;28;01mfrom\u001B[39;00m \u001B[38;5;21;01mllmfoundry\u001B[39;00m\u001B[38;5;21;01m.\u001B[39;00m\u001B[38;5;21;01mutils\u001B[39;00m\u001B[38;5;21;01m.\u001B[39;00m\u001B[38;5;21;01mregistry_utils\u001B[39;00m \u001B[38;5;28;01mimport\u001B[39;00m create_registry\n\u001B[1;32m     30\u001B[0m _loggers_description \u001B[38;5;241m=\u001B[39m (\n\u001B[1;32m     31\u001B[0m \u001B[38;5;250m    \u001B[39m\u001B[38;5;124;03m\"\"\"The loggers registry is used to register classes that implement the LoggerDestination interface.\u001B[39;00m\n\u001B[1;32m     32\u001B[0m \n\u001B[0;32m   (...)\u001B[0m\n\u001B[1;32m     41\u001B[0m \u001B[38;5;124;03m    \"\"\"\u001B[39;00m\n\u001B[1;32m     42\u001B[0m )\n",
        "File \u001B[0;32m/local_disk0/.ephemeral_nfs/envs/pythonEnv-1baf428f-8695-4b74-acc5-37195553cf83/lib/python3.10/site-packages/llmfoundry/layers_registry.py:8\u001B[0m\n\u001B[1;32m      4\u001B[0m \u001B[38;5;28;01mfrom\u001B[39;00m \u001B[38;5;21;01mtyping\u001B[39;00m \u001B[38;5;28;01mimport\u001B[39;00m Callable, Type\n\u001B[1;32m      6\u001B[0m \u001B[38;5;28;01mimport\u001B[39;00m \u001B[38;5;21;01mtorch\u001B[39;00m\n\u001B[0;32m----> 8\u001B[0m \u001B[38;5;28;01mfrom\u001B[39;00m \u001B[38;5;21;01mllmfoundry\u001B[39;00m\u001B[38;5;21;01m.\u001B[39;00m\u001B[38;5;21;01mutils\u001B[39;00m\u001B[38;5;21;01m.\u001B[39;00m\u001B[38;5;21;01mregistry_utils\u001B[39;00m \u001B[38;5;28;01mimport\u001B[39;00m create_registry\n\u001B[1;32m     10\u001B[0m _norms_description \u001B[38;5;241m=\u001B[39m (\n\u001B[1;32m     11\u001B[0m \u001B[38;5;250m    \u001B[39m\u001B[38;5;124;03m\"\"\"The norms registry is used to register classes that implement normalization layers.\u001B[39;00m\n\u001B[1;32m     12\u001B[0m \n\u001B[0;32m   (...)\u001B[0m\n\u001B[1;32m     21\u001B[0m \u001B[38;5;124;03m    \"\"\"\u001B[39;00m\n\u001B[1;32m     22\u001B[0m )\n\u001B[1;32m     23\u001B[0m norms \u001B[38;5;241m=\u001B[39m create_registry(\n\u001B[1;32m     24\u001B[0m     \u001B[38;5;124m'\u001B[39m\u001B[38;5;124mllmfoundry\u001B[39m\u001B[38;5;124m'\u001B[39m,\n\u001B[1;32m     25\u001B[0m     \u001B[38;5;124m'\u001B[39m\u001B[38;5;124mnorms\u001B[39m\u001B[38;5;124m'\u001B[39m,\n\u001B[0;32m   (...)\u001B[0m\n\u001B[1;32m     28\u001B[0m     description\u001B[38;5;241m=\u001B[39m_norms_description,\n\u001B[1;32m     29\u001B[0m )\n",
        "File \u001B[0;32m/local_disk0/.ephemeral_nfs/envs/pythonEnv-1baf428f-8695-4b74-acc5-37195553cf83/lib/python3.10/site-packages/llmfoundry/utils/registry_utils.py:23\u001B[0m\n\u001B[1;32m     10\u001B[0m \u001B[38;5;28;01mfrom\u001B[39;00m \u001B[38;5;21;01mtypes\u001B[39;00m \u001B[38;5;28;01mimport\u001B[39;00m ModuleType\n\u001B[1;32m     11\u001B[0m \u001B[38;5;28;01mfrom\u001B[39;00m \u001B[38;5;21;01mtyping\u001B[39;00m \u001B[38;5;28;01mimport\u001B[39;00m (\n\u001B[1;32m     12\u001B[0m     Any,\n\u001B[1;32m     13\u001B[0m     Callable,\n\u001B[0;32m   (...)\u001B[0m\n\u001B[1;32m     20\u001B[0m     Union,\n\u001B[1;32m     21\u001B[0m )\n\u001B[0;32m---> 23\u001B[0m \u001B[38;5;28;01mimport\u001B[39;00m \u001B[38;5;21;01mcatalogue\u001B[39;00m\n\u001B[1;32m     25\u001B[0m __all__ \u001B[38;5;241m=\u001B[39m [\n\u001B[1;32m     26\u001B[0m     \u001B[38;5;124m'\u001B[39m\u001B[38;5;124mTypedRegistry\u001B[39m\u001B[38;5;124m'\u001B[39m,\n\u001B[1;32m     27\u001B[0m     \u001B[38;5;124m'\u001B[39m\u001B[38;5;124mcreate_registry\u001B[39m\u001B[38;5;124m'\u001B[39m,\n\u001B[0;32m   (...)\u001B[0m\n\u001B[1;32m     30\u001B[0m     \u001B[38;5;124m'\u001B[39m\u001B[38;5;124msave_registry\u001B[39m\u001B[38;5;124m'\u001B[39m,\n\u001B[1;32m     31\u001B[0m ]\n\u001B[1;32m     33\u001B[0m T \u001B[38;5;241m=\u001B[39m TypeVar(\u001B[38;5;124m'\u001B[39m\u001B[38;5;124mT\u001B[39m\u001B[38;5;124m'\u001B[39m)\n",
        "\u001B[0;31mModuleNotFoundError\u001B[0m: No module named 'catalogue'"
       ],
       "type": "baseError"
      }
     },
     "output_type": "display_data"
    }
   ],
   "source": [
    "raw_dataset = None\n",
    "\n",
    "if is_hf_dataset_path(FT_API_args.train_data_path):\n",
    "    check_HF_datasets(FT_API_args.train_data_path)\n",
    "    dataset_id, split = '/'.join(FT_API_args.train_data_path.split('/')[:2]), FT_API_args.train_data_path.split('/')[-1]    \n",
    "    raw_dataset = datasets.load_dataset(dataset_id, split=split)       \n",
    "else:\n",
    "    if is_uc_delta_table(FT_API_args.train_data_path):    \n",
    "        df = spark.read.table(FT_API_args.train_data_path).toPandas()\n",
    "        df.to_json(os.path.join(temporary_jsonl_data_path, 'data.jsonl'), orient='records', lines=True)\n",
    "        raw_dataset = datasets.Dataset.from_pandas(df) \n",
    "        FT_API_args.train_data_path = temporary_jsonl_data_path\n",
    "    else: \n",
    "        # train_data_path is a jonsl file (local/remote)\n",
    "        from composer.utils import dist, get_file, parse_uri \n",
    "        data_path = FT_API_args.train_data_path \n",
    "        backend, _, _ = parse_uri(data_path)\n",
    "        if backend not in ['', None]: # It's a remote path, download before loading it\n",
    "            with tempfile.TemporaryDirectory() as tmp_dir:\n",
    "                destination = os.path.join(tmp_dir, 'data.jsonl')\n",
    "                get_file(data_path, destination)\n",
    "                df = pd.read_json(destination, orient='records', lines=True)    \n",
    "        else: \n",
    "            df = pd.read_json(data_path, orient='records', lines=True)    \n",
    "\n",
    "        raw_dataset = datasets.Dataset.from_pandas(df)\n",
    "        FT_API_args.train_data_path = os.path.dirname(data_path)\n",
    "\n",
    "if raw_dataset is None: \n",
    "    raise RuntimeError(\"Can't find a proper ingestion method\")"
   ]
  },
  {
   "cell_type": "markdown",
   "metadata": {
    "application/vnd.databricks.v1+cell": {
     "cellMetadata": {
      "byteLimit": 2048000,
      "rowLimit": 10000
     },
     "inputWidgets": {},
     "nuid": "06d46367-bd32-473a-9f16-1b34a8dd9356",
     "showTitle": false,
     "title": ""
    }
   },
   "source": [
    "#### Data Quality Checks on the Dataset"
   ]
  },
  {
   "cell_type": "markdown",
   "metadata": {
    "application/vnd.databricks.v1+cell": {
     "cellMetadata": {
      "byteLimit": 2048000,
      "rowLimit": 10000
     },
     "inputWidgets": {},
     "nuid": "1a28320a-a2a1-4f3c-a0cd-ad6045a24f64",
     "showTitle": false,
     "title": ""
    }
   },
   "source": [
    "\n",
    "This section of the notebook performs a series of checks on the initial dataset to ensure its quality and expected format. This process ensures that the dataset adheres to the expected structure and contains the necessary keys for further processing. The checks are outlined below.\n",
    "\n",
    "1. The total number of examples in the dataset is printed.\n",
    "2. The first example from the dataset is displayed. This provides a quick glimpse into the data structure and format.\n",
    "3. Data Format Validation:\n",
    "- The dataset is expected to consist of dictionary-like objects (key-value pairs). A check is performed to validate this structure.\n",
    "Each example in the dataset is examined for its compliance with the expected format.\n",
    "4. Key Presence Validation:\n",
    "- Allowed prompt and response keys, chat roles are defined in [llmfoundry](https://github.com/mosaicml/llm-foundry/blob/main/llmfoundry/data/finetuning/tasks.py): _ALLOWED_RESPONSE_KEYS and _ALLOWED_PROMPT_KEYS and _ALLOWED_ROLES.\n",
    "- For prompt response dataset, the script checks for the presence of at least one prompt key and one response key in each example.\n",
    "  - Prompt Validation: Each example is checked for the presence of keys defined in _ALLOWED_PROMPT_KEYS. If no valid prompt key is found, it is counted as a format error. \n",
    "  - Response Validation: Similarly, each example is checked for the presence of keys defined in _ALLOWED_RESPONSE_KEYS. An absence of a valid response key is also counted as a format error.\n",
    "- For chat formatted dataset, the script checks if the message content is formatted valid by calling [_validate_chat_formatted_example](https://github.com/mosaicml/llm-foundry/blob/cffd75e94e5c53b1b14c67cd17e0916fecfd0e16/llmfoundry/data/finetuning/tasks.py#L130) helper function.\n",
    "Error Reporting:\n",
    "\n",
    "If any format errors are found during the checks, they are reported.\n",
    "A summary of errors is printed, categorizing them into types like data_type (non-dictionary data), missing_prompt, and missing_response.\n",
    "If no errors are found, a congratulatory message is displayed, indicating that all checks have passed successfully."
   ]
  },
  {
   "cell_type": "code",
   "execution_count": 0,
   "metadata": {
    "application/vnd.databricks.v1+cell": {
     "cellMetadata": {
      "byteLimit": 2048000,
      "rowLimit": 10000
     },
     "inputWidgets": {},
     "nuid": "9b89b5c6-bf3a-4425-8645-4840dfeb0848",
     "showTitle": false,
     "title": ""
    }
   },
   "outputs": [
    {
     "output_type": "display_data",
     "data": {
      "text/plain": [
       "\u001B[0;31m---------------------------------------------------------------------------\u001B[0m\n",
       "\u001B[0;31mModuleNotFoundError\u001B[0m                       Traceback (most recent call last)\n",
       "File \u001B[0;32m<command-2691292108300970>, line 14\u001B[0m\n",
       "\u001B[1;32m     10\u001B[0m \u001B[38;5;28;01mfrom\u001B[39;00m \u001B[38;5;21;01mtyping\u001B[39;00m \u001B[38;5;28;01mimport\u001B[39;00m cast \n",
       "\u001B[1;32m     12\u001B[0m \u001B[38;5;28;01mimport\u001B[39;00m \u001B[38;5;21;01mdatasets\u001B[39;00m \n",
       "\u001B[0;32m---> 14\u001B[0m \u001B[38;5;28;01mfrom\u001B[39;00m \u001B[38;5;21;01mllmfoundry\u001B[39;00m\u001B[38;5;21;01m.\u001B[39;00m\u001B[38;5;21;01mutils\u001B[39;00m \u001B[38;5;28;01mimport\u001B[39;00m (create_om_cfg, token_counts_with_collate, \n",
       "\u001B[1;32m     15\u001B[0m         check_HF_datasets, is_hf_dataset_path, is_uc_delta_table,\n",
       "\u001B[1;32m     16\u001B[0m         integrity_check, convert_text_to_mds, parse_args, plot_hist,\n",
       "\u001B[1;32m     17\u001B[0m )\n",
       "\u001B[1;32m     19\u001B[0m \u001B[38;5;28;01mfrom\u001B[39;00m \u001B[38;5;21;01mllmfoundry\u001B[39;00m\u001B[38;5;21;01m.\u001B[39;00m\u001B[38;5;21;01mdata\u001B[39;00m\u001B[38;5;21;01m.\u001B[39;00m\u001B[38;5;21;01mfinetuning\u001B[39;00m\u001B[38;5;21;01m.\u001B[39;00m\u001B[38;5;21;01mtasks\u001B[39;00m \u001B[38;5;28;01mimport\u001B[39;00m (_validate_chat_formatted_example,\n",
       "\u001B[1;32m     20\u001B[0m                                               _tokenize_prompt_response_formatted_example,\n",
       "\u001B[1;32m     21\u001B[0m                                               _get_example_type, ChatFormattedDict, PromptResponseDict )\n",
       "\u001B[1;32m     22\u001B[0m \u001B[38;5;28;01mimport\u001B[39;00m \u001B[38;5;21;01mtransformers\u001B[39;00m\n",
       "\n",
       "File \u001B[0;32m/local_disk0/.ephemeral_nfs/envs/pythonEnv-1baf428f-8695-4b74-acc5-37195553cf83/lib/python3.10/site-packages/llmfoundry/__init__.py:29\u001B[0m\n",
       "\u001B[1;32m     16\u001B[0m     \u001B[38;5;28;01mif\u001B[39;00m \u001B[38;5;124m'\u001B[39m\u001B[38;5;124mundefined symbol\u001B[39m\u001B[38;5;124m'\u001B[39m \u001B[38;5;129;01min\u001B[39;00m \u001B[38;5;28mstr\u001B[39m(e):\n",
       "\u001B[1;32m     17\u001B[0m         \u001B[38;5;28;01mraise\u001B[39;00m \u001B[38;5;167;01mImportError\u001B[39;00m(\n",
       "\u001B[1;32m     18\u001B[0m             \u001B[38;5;124m'\u001B[39m\u001B[38;5;124mThe flash_attn package is not installed correctly. Usually this means that your runtime version\u001B[39m\u001B[38;5;124m'\u001B[39m\n",
       "\u001B[1;32m     19\u001B[0m             \u001B[38;5;241m+\u001B[39m\n",
       "\u001B[0;32m   (...)\u001B[0m\n",
       "\u001B[1;32m     26\u001B[0m             \u001B[38;5;124m'\u001B[39m\u001B[38;5;124m in LLM Foundry setup.py and update accordingly. The latest Docker image can be found in the README.\u001B[39m\u001B[38;5;124m'\u001B[39m,\n",
       "\u001B[1;32m     27\u001B[0m         ) \u001B[38;5;28;01mfrom\u001B[39;00m \u001B[38;5;21;01me\u001B[39;00m\n",
       "\u001B[0;32m---> 29\u001B[0m \u001B[38;5;28;01mfrom\u001B[39;00m \u001B[38;5;21;01mllmfoundry\u001B[39;00m\u001B[38;5;21;01m.\u001B[39;00m\u001B[38;5;21;01mutils\u001B[39;00m\u001B[38;5;21;01m.\u001B[39;00m\u001B[38;5;21;01mlogging_utils\u001B[39;00m \u001B[38;5;28;01mimport\u001B[39;00m SpecificWarningFilter\n",
       "\u001B[1;32m     31\u001B[0m \u001B[38;5;66;03m# Filter out Hugging Face warning for not using a pinned revision of the model\u001B[39;00m\n",
       "\u001B[1;32m     32\u001B[0m logger \u001B[38;5;241m=\u001B[39m logging\u001B[38;5;241m.\u001B[39mgetLogger(\u001B[38;5;124m'\u001B[39m\u001B[38;5;124mtransformers.dynamic_module_utils\u001B[39m\u001B[38;5;124m'\u001B[39m)\n",
       "\n",
       "File \u001B[0;32m/local_disk0/.ephemeral_nfs/envs/pythonEnv-1baf428f-8695-4b74-acc5-37195553cf83/lib/python3.10/site-packages/llmfoundry/utils/__init__.py:4\u001B[0m\n",
       "\u001B[1;32m      1\u001B[0m \u001B[38;5;66;03m# Copyright 2022 MosaicML LLM Foundry authors\u001B[39;00m\n",
       "\u001B[1;32m      2\u001B[0m \u001B[38;5;66;03m# SPDX-License-Identifier: Apache-2.0\u001B[39;00m\n",
       "\u001B[0;32m----> 4\u001B[0m \u001B[38;5;28;01mfrom\u001B[39;00m \u001B[38;5;21;01mllmfoundry\u001B[39;00m\u001B[38;5;21;01m.\u001B[39;00m\u001B[38;5;21;01mregistry\u001B[39;00m \u001B[38;5;28;01mimport\u001B[39;00m config_transforms\n",
       "\u001B[1;32m      5\u001B[0m \u001B[38;5;28;01mfrom\u001B[39;00m \u001B[38;5;21;01mllmfoundry\u001B[39;00m\u001B[38;5;21;01m.\u001B[39;00m\u001B[38;5;21;01mutils\u001B[39;00m\u001B[38;5;21;01m.\u001B[39;00m\u001B[38;5;21;01mbuilders\u001B[39;00m \u001B[38;5;28;01mimport\u001B[39;00m (\n",
       "\u001B[1;32m      6\u001B[0m     add_metrics_to_eval_loaders,\n",
       "\u001B[1;32m      7\u001B[0m     build_algorithm,\n",
       "\u001B[0;32m   (...)\u001B[0m\n",
       "\u001B[1;32m     18\u001B[0m     build_tokenizer,\n",
       "\u001B[1;32m     19\u001B[0m )\n",
       "\u001B[1;32m     20\u001B[0m \u001B[38;5;28;01mfrom\u001B[39;00m \u001B[38;5;21;01mllmfoundry\u001B[39;00m\u001B[38;5;21;01m.\u001B[39;00m\u001B[38;5;21;01mutils\u001B[39;00m\u001B[38;5;21;01m.\u001B[39;00m\u001B[38;5;21;01mcheckpoint_conversion_helpers\u001B[39;00m \u001B[38;5;28;01mimport\u001B[39;00m (\n",
       "\u001B[1;32m     21\u001B[0m     convert_and_save_ft_weights,\n",
       "\u001B[1;32m     22\u001B[0m     get_hf_tokenizer_from_composer_state_dict,\n",
       "\u001B[1;32m     23\u001B[0m     load_tokenizer,\n",
       "\u001B[1;32m     24\u001B[0m )\n",
       "\n",
       "File \u001B[0;32m/local_disk0/.ephemeral_nfs/envs/pythonEnv-1baf428f-8695-4b74-acc5-37195553cf83/lib/python3.10/site-packages/llmfoundry/registry.py:17\u001B[0m\n",
       "\u001B[1;32m     14\u001B[0m \u001B[38;5;28;01mfrom\u001B[39;00m \u001B[38;5;21;01mtransformers\u001B[39;00m \u001B[38;5;28;01mimport\u001B[39;00m PreTrainedTokenizerBase\n",
       "\u001B[1;32m     16\u001B[0m \u001B[38;5;28;01mfrom\u001B[39;00m \u001B[38;5;21;01mllmfoundry\u001B[39;00m\u001B[38;5;21;01m.\u001B[39;00m\u001B[38;5;21;01minterfaces\u001B[39;00m \u001B[38;5;28;01mimport\u001B[39;00m CallbackWithConfig\n",
       "\u001B[0;32m---> 17\u001B[0m \u001B[38;5;28;01mfrom\u001B[39;00m \u001B[38;5;21;01mllmfoundry\u001B[39;00m\u001B[38;5;21;01m.\u001B[39;00m\u001B[38;5;21;01mlayers_registry\u001B[39;00m \u001B[38;5;28;01mimport\u001B[39;00m (\n",
       "\u001B[1;32m     18\u001B[0m     attention_classes,\n",
       "\u001B[1;32m     19\u001B[0m     attention_implementations,\n",
       "\u001B[1;32m     20\u001B[0m     fcs,\n",
       "\u001B[1;32m     21\u001B[0m     ffns,\n",
       "\u001B[1;32m     22\u001B[0m     ffns_with_megablocks,\n",
       "\u001B[1;32m     23\u001B[0m     ffns_with_norm,\n",
       "\u001B[1;32m     24\u001B[0m     module_init_fns,\n",
       "\u001B[1;32m     25\u001B[0m     norms,\n",
       "\u001B[1;32m     26\u001B[0m     param_init_fns,\n",
       "\u001B[1;32m     27\u001B[0m )\n",
       "\u001B[1;32m     28\u001B[0m \u001B[38;5;28;01mfrom\u001B[39;00m \u001B[38;5;21;01mllmfoundry\u001B[39;00m\u001B[38;5;21;01m.\u001B[39;00m\u001B[38;5;21;01mutils\u001B[39;00m\u001B[38;5;21;01m.\u001B[39;00m\u001B[38;5;21;01mregistry_utils\u001B[39;00m \u001B[38;5;28;01mimport\u001B[39;00m create_registry\n",
       "\u001B[1;32m     30\u001B[0m _loggers_description \u001B[38;5;241m=\u001B[39m (\n",
       "\u001B[1;32m     31\u001B[0m \u001B[38;5;250m    \u001B[39m\u001B[38;5;124;03m\"\"\"The loggers registry is used to register classes that implement the LoggerDestination interface.\u001B[39;00m\n",
       "\u001B[1;32m     32\u001B[0m \n",
       "\u001B[0;32m   (...)\u001B[0m\n",
       "\u001B[1;32m     41\u001B[0m \u001B[38;5;124;03m    \"\"\"\u001B[39;00m\n",
       "\u001B[1;32m     42\u001B[0m )\n",
       "\n",
       "File \u001B[0;32m/local_disk0/.ephemeral_nfs/envs/pythonEnv-1baf428f-8695-4b74-acc5-37195553cf83/lib/python3.10/site-packages/llmfoundry/layers_registry.py:8\u001B[0m\n",
       "\u001B[1;32m      4\u001B[0m \u001B[38;5;28;01mfrom\u001B[39;00m \u001B[38;5;21;01mtyping\u001B[39;00m \u001B[38;5;28;01mimport\u001B[39;00m Callable, Type\n",
       "\u001B[1;32m      6\u001B[0m \u001B[38;5;28;01mimport\u001B[39;00m \u001B[38;5;21;01mtorch\u001B[39;00m\n",
       "\u001B[0;32m----> 8\u001B[0m \u001B[38;5;28;01mfrom\u001B[39;00m \u001B[38;5;21;01mllmfoundry\u001B[39;00m\u001B[38;5;21;01m.\u001B[39;00m\u001B[38;5;21;01mutils\u001B[39;00m\u001B[38;5;21;01m.\u001B[39;00m\u001B[38;5;21;01mregistry_utils\u001B[39;00m \u001B[38;5;28;01mimport\u001B[39;00m create_registry\n",
       "\u001B[1;32m     10\u001B[0m _norms_description \u001B[38;5;241m=\u001B[39m (\n",
       "\u001B[1;32m     11\u001B[0m \u001B[38;5;250m    \u001B[39m\u001B[38;5;124;03m\"\"\"The norms registry is used to register classes that implement normalization layers.\u001B[39;00m\n",
       "\u001B[1;32m     12\u001B[0m \n",
       "\u001B[0;32m   (...)\u001B[0m\n",
       "\u001B[1;32m     21\u001B[0m \u001B[38;5;124;03m    \"\"\"\u001B[39;00m\n",
       "\u001B[1;32m     22\u001B[0m )\n",
       "\u001B[1;32m     23\u001B[0m norms \u001B[38;5;241m=\u001B[39m create_registry(\n",
       "\u001B[1;32m     24\u001B[0m     \u001B[38;5;124m'\u001B[39m\u001B[38;5;124mllmfoundry\u001B[39m\u001B[38;5;124m'\u001B[39m,\n",
       "\u001B[1;32m     25\u001B[0m     \u001B[38;5;124m'\u001B[39m\u001B[38;5;124mnorms\u001B[39m\u001B[38;5;124m'\u001B[39m,\n",
       "\u001B[0;32m   (...)\u001B[0m\n",
       "\u001B[1;32m     28\u001B[0m     description\u001B[38;5;241m=\u001B[39m_norms_description,\n",
       "\u001B[1;32m     29\u001B[0m )\n",
       "\n",
       "File \u001B[0;32m/local_disk0/.ephemeral_nfs/envs/pythonEnv-1baf428f-8695-4b74-acc5-37195553cf83/lib/python3.10/site-packages/llmfoundry/utils/registry_utils.py:23\u001B[0m\n",
       "\u001B[1;32m     10\u001B[0m \u001B[38;5;28;01mfrom\u001B[39;00m \u001B[38;5;21;01mtypes\u001B[39;00m \u001B[38;5;28;01mimport\u001B[39;00m ModuleType\n",
       "\u001B[1;32m     11\u001B[0m \u001B[38;5;28;01mfrom\u001B[39;00m \u001B[38;5;21;01mtyping\u001B[39;00m \u001B[38;5;28;01mimport\u001B[39;00m (\n",
       "\u001B[1;32m     12\u001B[0m     Any,\n",
       "\u001B[1;32m     13\u001B[0m     Callable,\n",
       "\u001B[0;32m   (...)\u001B[0m\n",
       "\u001B[1;32m     20\u001B[0m     Union,\n",
       "\u001B[1;32m     21\u001B[0m )\n",
       "\u001B[0;32m---> 23\u001B[0m \u001B[38;5;28;01mimport\u001B[39;00m \u001B[38;5;21;01mcatalogue\u001B[39;00m\n",
       "\u001B[1;32m     25\u001B[0m __all__ \u001B[38;5;241m=\u001B[39m [\n",
       "\u001B[1;32m     26\u001B[0m     \u001B[38;5;124m'\u001B[39m\u001B[38;5;124mTypedRegistry\u001B[39m\u001B[38;5;124m'\u001B[39m,\n",
       "\u001B[1;32m     27\u001B[0m     \u001B[38;5;124m'\u001B[39m\u001B[38;5;124mcreate_registry\u001B[39m\u001B[38;5;124m'\u001B[39m,\n",
       "\u001B[0;32m   (...)\u001B[0m\n",
       "\u001B[1;32m     30\u001B[0m     \u001B[38;5;124m'\u001B[39m\u001B[38;5;124msave_registry\u001B[39m\u001B[38;5;124m'\u001B[39m,\n",
       "\u001B[1;32m     31\u001B[0m ]\n",
       "\u001B[1;32m     33\u001B[0m T \u001B[38;5;241m=\u001B[39m TypeVar(\u001B[38;5;124m'\u001B[39m\u001B[38;5;124mT\u001B[39m\u001B[38;5;124m'\u001B[39m)\n",
       "\n",
       "\u001B[0;31mModuleNotFoundError\u001B[0m: No module named 'catalogue'"
      ]
     },
     "metadata": {
      "application/vnd.databricks.v1+output": {
       "addedWidgets": {},
       "arguments": {},
       "datasetInfos": [],
       "jupyterProps": {
        "ename": "ModuleNotFoundError",
        "evalue": "No module named 'catalogue'"
       },
       "metadata": {
        "errorSummary": "Command skipped"
       },
       "removedWidgets": [],
       "sqlProps": null,
       "stackFrames": [
        "\u001B[0;31m---------------------------------------------------------------------------\u001B[0m",
        "\u001B[0;31mModuleNotFoundError\u001B[0m                       Traceback (most recent call last)",
        "File \u001B[0;32m<command-2691292108300970>, line 14\u001B[0m\n\u001B[1;32m     10\u001B[0m \u001B[38;5;28;01mfrom\u001B[39;00m \u001B[38;5;21;01mtyping\u001B[39;00m \u001B[38;5;28;01mimport\u001B[39;00m cast \n\u001B[1;32m     12\u001B[0m \u001B[38;5;28;01mimport\u001B[39;00m \u001B[38;5;21;01mdatasets\u001B[39;00m \n\u001B[0;32m---> 14\u001B[0m \u001B[38;5;28;01mfrom\u001B[39;00m \u001B[38;5;21;01mllmfoundry\u001B[39;00m\u001B[38;5;21;01m.\u001B[39;00m\u001B[38;5;21;01mutils\u001B[39;00m \u001B[38;5;28;01mimport\u001B[39;00m (create_om_cfg, token_counts_with_collate, \n\u001B[1;32m     15\u001B[0m         check_HF_datasets, is_hf_dataset_path, is_uc_delta_table,\n\u001B[1;32m     16\u001B[0m         integrity_check, convert_text_to_mds, parse_args, plot_hist,\n\u001B[1;32m     17\u001B[0m )\n\u001B[1;32m     19\u001B[0m \u001B[38;5;28;01mfrom\u001B[39;00m \u001B[38;5;21;01mllmfoundry\u001B[39;00m\u001B[38;5;21;01m.\u001B[39;00m\u001B[38;5;21;01mdata\u001B[39;00m\u001B[38;5;21;01m.\u001B[39;00m\u001B[38;5;21;01mfinetuning\u001B[39;00m\u001B[38;5;21;01m.\u001B[39;00m\u001B[38;5;21;01mtasks\u001B[39;00m \u001B[38;5;28;01mimport\u001B[39;00m (_validate_chat_formatted_example,\n\u001B[1;32m     20\u001B[0m                                               _tokenize_prompt_response_formatted_example,\n\u001B[1;32m     21\u001B[0m                                               _get_example_type, ChatFormattedDict, PromptResponseDict )\n\u001B[1;32m     22\u001B[0m \u001B[38;5;28;01mimport\u001B[39;00m \u001B[38;5;21;01mtransformers\u001B[39;00m\n",
        "File \u001B[0;32m/local_disk0/.ephemeral_nfs/envs/pythonEnv-1baf428f-8695-4b74-acc5-37195553cf83/lib/python3.10/site-packages/llmfoundry/__init__.py:29\u001B[0m\n\u001B[1;32m     16\u001B[0m     \u001B[38;5;28;01mif\u001B[39;00m \u001B[38;5;124m'\u001B[39m\u001B[38;5;124mundefined symbol\u001B[39m\u001B[38;5;124m'\u001B[39m \u001B[38;5;129;01min\u001B[39;00m \u001B[38;5;28mstr\u001B[39m(e):\n\u001B[1;32m     17\u001B[0m         \u001B[38;5;28;01mraise\u001B[39;00m \u001B[38;5;167;01mImportError\u001B[39;00m(\n\u001B[1;32m     18\u001B[0m             \u001B[38;5;124m'\u001B[39m\u001B[38;5;124mThe flash_attn package is not installed correctly. Usually this means that your runtime version\u001B[39m\u001B[38;5;124m'\u001B[39m\n\u001B[1;32m     19\u001B[0m             \u001B[38;5;241m+\u001B[39m\n\u001B[0;32m   (...)\u001B[0m\n\u001B[1;32m     26\u001B[0m             \u001B[38;5;124m'\u001B[39m\u001B[38;5;124m in LLM Foundry setup.py and update accordingly. The latest Docker image can be found in the README.\u001B[39m\u001B[38;5;124m'\u001B[39m,\n\u001B[1;32m     27\u001B[0m         ) \u001B[38;5;28;01mfrom\u001B[39;00m \u001B[38;5;21;01me\u001B[39;00m\n\u001B[0;32m---> 29\u001B[0m \u001B[38;5;28;01mfrom\u001B[39;00m \u001B[38;5;21;01mllmfoundry\u001B[39;00m\u001B[38;5;21;01m.\u001B[39;00m\u001B[38;5;21;01mutils\u001B[39;00m\u001B[38;5;21;01m.\u001B[39;00m\u001B[38;5;21;01mlogging_utils\u001B[39;00m \u001B[38;5;28;01mimport\u001B[39;00m SpecificWarningFilter\n\u001B[1;32m     31\u001B[0m \u001B[38;5;66;03m# Filter out Hugging Face warning for not using a pinned revision of the model\u001B[39;00m\n\u001B[1;32m     32\u001B[0m logger \u001B[38;5;241m=\u001B[39m logging\u001B[38;5;241m.\u001B[39mgetLogger(\u001B[38;5;124m'\u001B[39m\u001B[38;5;124mtransformers.dynamic_module_utils\u001B[39m\u001B[38;5;124m'\u001B[39m)\n",
        "File \u001B[0;32m/local_disk0/.ephemeral_nfs/envs/pythonEnv-1baf428f-8695-4b74-acc5-37195553cf83/lib/python3.10/site-packages/llmfoundry/utils/__init__.py:4\u001B[0m\n\u001B[1;32m      1\u001B[0m \u001B[38;5;66;03m# Copyright 2022 MosaicML LLM Foundry authors\u001B[39;00m\n\u001B[1;32m      2\u001B[0m \u001B[38;5;66;03m# SPDX-License-Identifier: Apache-2.0\u001B[39;00m\n\u001B[0;32m----> 4\u001B[0m \u001B[38;5;28;01mfrom\u001B[39;00m \u001B[38;5;21;01mllmfoundry\u001B[39;00m\u001B[38;5;21;01m.\u001B[39;00m\u001B[38;5;21;01mregistry\u001B[39;00m \u001B[38;5;28;01mimport\u001B[39;00m config_transforms\n\u001B[1;32m      5\u001B[0m \u001B[38;5;28;01mfrom\u001B[39;00m \u001B[38;5;21;01mllmfoundry\u001B[39;00m\u001B[38;5;21;01m.\u001B[39;00m\u001B[38;5;21;01mutils\u001B[39;00m\u001B[38;5;21;01m.\u001B[39;00m\u001B[38;5;21;01mbuilders\u001B[39;00m \u001B[38;5;28;01mimport\u001B[39;00m (\n\u001B[1;32m      6\u001B[0m     add_metrics_to_eval_loaders,\n\u001B[1;32m      7\u001B[0m     build_algorithm,\n\u001B[0;32m   (...)\u001B[0m\n\u001B[1;32m     18\u001B[0m     build_tokenizer,\n\u001B[1;32m     19\u001B[0m )\n\u001B[1;32m     20\u001B[0m \u001B[38;5;28;01mfrom\u001B[39;00m \u001B[38;5;21;01mllmfoundry\u001B[39;00m\u001B[38;5;21;01m.\u001B[39;00m\u001B[38;5;21;01mutils\u001B[39;00m\u001B[38;5;21;01m.\u001B[39;00m\u001B[38;5;21;01mcheckpoint_conversion_helpers\u001B[39;00m \u001B[38;5;28;01mimport\u001B[39;00m (\n\u001B[1;32m     21\u001B[0m     convert_and_save_ft_weights,\n\u001B[1;32m     22\u001B[0m     get_hf_tokenizer_from_composer_state_dict,\n\u001B[1;32m     23\u001B[0m     load_tokenizer,\n\u001B[1;32m     24\u001B[0m )\n",
        "File \u001B[0;32m/local_disk0/.ephemeral_nfs/envs/pythonEnv-1baf428f-8695-4b74-acc5-37195553cf83/lib/python3.10/site-packages/llmfoundry/registry.py:17\u001B[0m\n\u001B[1;32m     14\u001B[0m \u001B[38;5;28;01mfrom\u001B[39;00m \u001B[38;5;21;01mtransformers\u001B[39;00m \u001B[38;5;28;01mimport\u001B[39;00m PreTrainedTokenizerBase\n\u001B[1;32m     16\u001B[0m \u001B[38;5;28;01mfrom\u001B[39;00m \u001B[38;5;21;01mllmfoundry\u001B[39;00m\u001B[38;5;21;01m.\u001B[39;00m\u001B[38;5;21;01minterfaces\u001B[39;00m \u001B[38;5;28;01mimport\u001B[39;00m CallbackWithConfig\n\u001B[0;32m---> 17\u001B[0m \u001B[38;5;28;01mfrom\u001B[39;00m \u001B[38;5;21;01mllmfoundry\u001B[39;00m\u001B[38;5;21;01m.\u001B[39;00m\u001B[38;5;21;01mlayers_registry\u001B[39;00m \u001B[38;5;28;01mimport\u001B[39;00m (\n\u001B[1;32m     18\u001B[0m     attention_classes,\n\u001B[1;32m     19\u001B[0m     attention_implementations,\n\u001B[1;32m     20\u001B[0m     fcs,\n\u001B[1;32m     21\u001B[0m     ffns,\n\u001B[1;32m     22\u001B[0m     ffns_with_megablocks,\n\u001B[1;32m     23\u001B[0m     ffns_with_norm,\n\u001B[1;32m     24\u001B[0m     module_init_fns,\n\u001B[1;32m     25\u001B[0m     norms,\n\u001B[1;32m     26\u001B[0m     param_init_fns,\n\u001B[1;32m     27\u001B[0m )\n\u001B[1;32m     28\u001B[0m \u001B[38;5;28;01mfrom\u001B[39;00m \u001B[38;5;21;01mllmfoundry\u001B[39;00m\u001B[38;5;21;01m.\u001B[39;00m\u001B[38;5;21;01mutils\u001B[39;00m\u001B[38;5;21;01m.\u001B[39;00m\u001B[38;5;21;01mregistry_utils\u001B[39;00m \u001B[38;5;28;01mimport\u001B[39;00m create_registry\n\u001B[1;32m     30\u001B[0m _loggers_description \u001B[38;5;241m=\u001B[39m (\n\u001B[1;32m     31\u001B[0m \u001B[38;5;250m    \u001B[39m\u001B[38;5;124;03m\"\"\"The loggers registry is used to register classes that implement the LoggerDestination interface.\u001B[39;00m\n\u001B[1;32m     32\u001B[0m \n\u001B[0;32m   (...)\u001B[0m\n\u001B[1;32m     41\u001B[0m \u001B[38;5;124;03m    \"\"\"\u001B[39;00m\n\u001B[1;32m     42\u001B[0m )\n",
        "File \u001B[0;32m/local_disk0/.ephemeral_nfs/envs/pythonEnv-1baf428f-8695-4b74-acc5-37195553cf83/lib/python3.10/site-packages/llmfoundry/layers_registry.py:8\u001B[0m\n\u001B[1;32m      4\u001B[0m \u001B[38;5;28;01mfrom\u001B[39;00m \u001B[38;5;21;01mtyping\u001B[39;00m \u001B[38;5;28;01mimport\u001B[39;00m Callable, Type\n\u001B[1;32m      6\u001B[0m \u001B[38;5;28;01mimport\u001B[39;00m \u001B[38;5;21;01mtorch\u001B[39;00m\n\u001B[0;32m----> 8\u001B[0m \u001B[38;5;28;01mfrom\u001B[39;00m \u001B[38;5;21;01mllmfoundry\u001B[39;00m\u001B[38;5;21;01m.\u001B[39;00m\u001B[38;5;21;01mutils\u001B[39;00m\u001B[38;5;21;01m.\u001B[39;00m\u001B[38;5;21;01mregistry_utils\u001B[39;00m \u001B[38;5;28;01mimport\u001B[39;00m create_registry\n\u001B[1;32m     10\u001B[0m _norms_description \u001B[38;5;241m=\u001B[39m (\n\u001B[1;32m     11\u001B[0m \u001B[38;5;250m    \u001B[39m\u001B[38;5;124;03m\"\"\"The norms registry is used to register classes that implement normalization layers.\u001B[39;00m\n\u001B[1;32m     12\u001B[0m \n\u001B[0;32m   (...)\u001B[0m\n\u001B[1;32m     21\u001B[0m \u001B[38;5;124;03m    \"\"\"\u001B[39;00m\n\u001B[1;32m     22\u001B[0m )\n\u001B[1;32m     23\u001B[0m norms \u001B[38;5;241m=\u001B[39m create_registry(\n\u001B[1;32m     24\u001B[0m     \u001B[38;5;124m'\u001B[39m\u001B[38;5;124mllmfoundry\u001B[39m\u001B[38;5;124m'\u001B[39m,\n\u001B[1;32m     25\u001B[0m     \u001B[38;5;124m'\u001B[39m\u001B[38;5;124mnorms\u001B[39m\u001B[38;5;124m'\u001B[39m,\n\u001B[0;32m   (...)\u001B[0m\n\u001B[1;32m     28\u001B[0m     description\u001B[38;5;241m=\u001B[39m_norms_description,\n\u001B[1;32m     29\u001B[0m )\n",
        "File \u001B[0;32m/local_disk0/.ephemeral_nfs/envs/pythonEnv-1baf428f-8695-4b74-acc5-37195553cf83/lib/python3.10/site-packages/llmfoundry/utils/registry_utils.py:23\u001B[0m\n\u001B[1;32m     10\u001B[0m \u001B[38;5;28;01mfrom\u001B[39;00m \u001B[38;5;21;01mtypes\u001B[39;00m \u001B[38;5;28;01mimport\u001B[39;00m ModuleType\n\u001B[1;32m     11\u001B[0m \u001B[38;5;28;01mfrom\u001B[39;00m \u001B[38;5;21;01mtyping\u001B[39;00m \u001B[38;5;28;01mimport\u001B[39;00m (\n\u001B[1;32m     12\u001B[0m     Any,\n\u001B[1;32m     13\u001B[0m     Callable,\n\u001B[0;32m   (...)\u001B[0m\n\u001B[1;32m     20\u001B[0m     Union,\n\u001B[1;32m     21\u001B[0m )\n\u001B[0;32m---> 23\u001B[0m \u001B[38;5;28;01mimport\u001B[39;00m \u001B[38;5;21;01mcatalogue\u001B[39;00m\n\u001B[1;32m     25\u001B[0m __all__ \u001B[38;5;241m=\u001B[39m [\n\u001B[1;32m     26\u001B[0m     \u001B[38;5;124m'\u001B[39m\u001B[38;5;124mTypedRegistry\u001B[39m\u001B[38;5;124m'\u001B[39m,\n\u001B[1;32m     27\u001B[0m     \u001B[38;5;124m'\u001B[39m\u001B[38;5;124mcreate_registry\u001B[39m\u001B[38;5;124m'\u001B[39m,\n\u001B[0;32m   (...)\u001B[0m\n\u001B[1;32m     30\u001B[0m     \u001B[38;5;124m'\u001B[39m\u001B[38;5;124msave_registry\u001B[39m\u001B[38;5;124m'\u001B[39m,\n\u001B[1;32m     31\u001B[0m ]\n\u001B[1;32m     33\u001B[0m T \u001B[38;5;241m=\u001B[39m TypeVar(\u001B[38;5;124m'\u001B[39m\u001B[38;5;124mT\u001B[39m\u001B[38;5;124m'\u001B[39m)\n",
        "\u001B[0;31mModuleNotFoundError\u001B[0m: No module named 'catalogue'"
       ],
       "type": "baseError"
      }
     },
     "output_type": "display_data"
    }
   ],
   "source": [
    "# Initial dataset stats\n",
    "print(\"Num examples:\", len(raw_dataset))\n",
    "print(\"First example:\")\n",
    "for ex in raw_dataset: \n",
    "    print(ex)\n",
    "    print() \n",
    "    break \n",
    "\n",
    "format_errors = defaultdict(int)\n",
    "\n",
    "for example in raw_dataset:\n",
    "    try: \n",
    "        example_format = _get_example_type(ex)\n",
    "    except ValueError:\n",
    "        format_errors[\"unknown example type\"] += 1 \n",
    "        continue \n",
    "\n",
    "    if example_format == 'chat':\n",
    "        try: \n",
    "            chat_example = cast(ChatFormattedDict, example)\n",
    "            _validate_chat_formatted_example(chat_example)\n",
    "        except Exception as e:             \n",
    "            format_errors['chat_format_error'] += 1  \n",
    "            print(e)\n",
    "            break \n",
    "\n",
    "    elif example_format == 'prompt_response':\n",
    "        try:\n",
    "            prompt_response_example: PromptResponseDict = cast(\n",
    "                PromptResponseDict, example)\n",
    "        except Exception as e: \n",
    "            format_errors['prompt_response_format_error'] += 1  \n",
    "            print(e)\n",
    "            break \n",
    "        \n",
    "if format_errors:\n",
    "    print(\"Oops! Found errors:\")\n",
    "    for k, v in format_errors.items():\n",
    "        print(f\"{k}: {v}\")\n",
    "else:\n",
    "    print(\"Congratulations! No errors found\")    "
   ]
  },
  {
   "cell_type": "markdown",
   "metadata": {
    "application/vnd.databricks.v1+cell": {
     "cellMetadata": {
      "byteLimit": 2048000,
      "rowLimit": 10000
     },
     "inputWidgets": {},
     "nuid": "9713a0ce-80f4-4187-b10b-4223b17fe4c1",
     "showTitle": false,
     "title": ""
    }
   },
   "source": [
    "#### Token Estimation\n",
    "\n",
    "Tokenize the raw dataset and let's some statistics of the tokens and estimate the overall cost based on default trainining duration\n",
    "We will iterate over the dataloader and sum the number of tokens from each batch. "
   ]
  },
  {
   "cell_type": "code",
   "execution_count": 0,
   "metadata": {
    "application/vnd.databricks.v1+cell": {
     "cellMetadata": {
      "byteLimit": 2048000,
      "rowLimit": 10000
     },
     "inputWidgets": {},
     "nuid": "439d3bd1-0569-456f-8872-3dbafd50cbd7",
     "showTitle": false,
     "title": ""
    }
   },
   "outputs": [
    {
     "output_type": "display_data",
     "data": {
      "text/plain": [
       "\u001B[0;31m---------------------------------------------------------------------------\u001B[0m\n",
       "\u001B[0;31mModuleNotFoundError\u001B[0m                       Traceback (most recent call last)\n",
       "File \u001B[0;32m<command-2691292108300970>, line 14\u001B[0m\n",
       "\u001B[1;32m     10\u001B[0m \u001B[38;5;28;01mfrom\u001B[39;00m \u001B[38;5;21;01mtyping\u001B[39;00m \u001B[38;5;28;01mimport\u001B[39;00m cast \n",
       "\u001B[1;32m     12\u001B[0m \u001B[38;5;28;01mimport\u001B[39;00m \u001B[38;5;21;01mdatasets\u001B[39;00m \n",
       "\u001B[0;32m---> 14\u001B[0m \u001B[38;5;28;01mfrom\u001B[39;00m \u001B[38;5;21;01mllmfoundry\u001B[39;00m\u001B[38;5;21;01m.\u001B[39;00m\u001B[38;5;21;01mutils\u001B[39;00m \u001B[38;5;28;01mimport\u001B[39;00m (create_om_cfg, token_counts_with_collate, \n",
       "\u001B[1;32m     15\u001B[0m         check_HF_datasets, is_hf_dataset_path, is_uc_delta_table,\n",
       "\u001B[1;32m     16\u001B[0m         integrity_check, convert_text_to_mds, parse_args, plot_hist,\n",
       "\u001B[1;32m     17\u001B[0m )\n",
       "\u001B[1;32m     19\u001B[0m \u001B[38;5;28;01mfrom\u001B[39;00m \u001B[38;5;21;01mllmfoundry\u001B[39;00m\u001B[38;5;21;01m.\u001B[39;00m\u001B[38;5;21;01mdata\u001B[39;00m\u001B[38;5;21;01m.\u001B[39;00m\u001B[38;5;21;01mfinetuning\u001B[39;00m\u001B[38;5;21;01m.\u001B[39;00m\u001B[38;5;21;01mtasks\u001B[39;00m \u001B[38;5;28;01mimport\u001B[39;00m (_validate_chat_formatted_example,\n",
       "\u001B[1;32m     20\u001B[0m                                               _tokenize_prompt_response_formatted_example,\n",
       "\u001B[1;32m     21\u001B[0m                                               _get_example_type, ChatFormattedDict, PromptResponseDict )\n",
       "\u001B[1;32m     22\u001B[0m \u001B[38;5;28;01mimport\u001B[39;00m \u001B[38;5;21;01mtransformers\u001B[39;00m\n",
       "\n",
       "File \u001B[0;32m/local_disk0/.ephemeral_nfs/envs/pythonEnv-1baf428f-8695-4b74-acc5-37195553cf83/lib/python3.10/site-packages/llmfoundry/__init__.py:29\u001B[0m\n",
       "\u001B[1;32m     16\u001B[0m     \u001B[38;5;28;01mif\u001B[39;00m \u001B[38;5;124m'\u001B[39m\u001B[38;5;124mundefined symbol\u001B[39m\u001B[38;5;124m'\u001B[39m \u001B[38;5;129;01min\u001B[39;00m \u001B[38;5;28mstr\u001B[39m(e):\n",
       "\u001B[1;32m     17\u001B[0m         \u001B[38;5;28;01mraise\u001B[39;00m \u001B[38;5;167;01mImportError\u001B[39;00m(\n",
       "\u001B[1;32m     18\u001B[0m             \u001B[38;5;124m'\u001B[39m\u001B[38;5;124mThe flash_attn package is not installed correctly. Usually this means that your runtime version\u001B[39m\u001B[38;5;124m'\u001B[39m\n",
       "\u001B[1;32m     19\u001B[0m             \u001B[38;5;241m+\u001B[39m\n",
       "\u001B[0;32m   (...)\u001B[0m\n",
       "\u001B[1;32m     26\u001B[0m             \u001B[38;5;124m'\u001B[39m\u001B[38;5;124m in LLM Foundry setup.py and update accordingly. The latest Docker image can be found in the README.\u001B[39m\u001B[38;5;124m'\u001B[39m,\n",
       "\u001B[1;32m     27\u001B[0m         ) \u001B[38;5;28;01mfrom\u001B[39;00m \u001B[38;5;21;01me\u001B[39;00m\n",
       "\u001B[0;32m---> 29\u001B[0m \u001B[38;5;28;01mfrom\u001B[39;00m \u001B[38;5;21;01mllmfoundry\u001B[39;00m\u001B[38;5;21;01m.\u001B[39;00m\u001B[38;5;21;01mutils\u001B[39;00m\u001B[38;5;21;01m.\u001B[39;00m\u001B[38;5;21;01mlogging_utils\u001B[39;00m \u001B[38;5;28;01mimport\u001B[39;00m SpecificWarningFilter\n",
       "\u001B[1;32m     31\u001B[0m \u001B[38;5;66;03m# Filter out Hugging Face warning for not using a pinned revision of the model\u001B[39;00m\n",
       "\u001B[1;32m     32\u001B[0m logger \u001B[38;5;241m=\u001B[39m logging\u001B[38;5;241m.\u001B[39mgetLogger(\u001B[38;5;124m'\u001B[39m\u001B[38;5;124mtransformers.dynamic_module_utils\u001B[39m\u001B[38;5;124m'\u001B[39m)\n",
       "\n",
       "File \u001B[0;32m/local_disk0/.ephemeral_nfs/envs/pythonEnv-1baf428f-8695-4b74-acc5-37195553cf83/lib/python3.10/site-packages/llmfoundry/utils/__init__.py:4\u001B[0m\n",
       "\u001B[1;32m      1\u001B[0m \u001B[38;5;66;03m# Copyright 2022 MosaicML LLM Foundry authors\u001B[39;00m\n",
       "\u001B[1;32m      2\u001B[0m \u001B[38;5;66;03m# SPDX-License-Identifier: Apache-2.0\u001B[39;00m\n",
       "\u001B[0;32m----> 4\u001B[0m \u001B[38;5;28;01mfrom\u001B[39;00m \u001B[38;5;21;01mllmfoundry\u001B[39;00m\u001B[38;5;21;01m.\u001B[39;00m\u001B[38;5;21;01mregistry\u001B[39;00m \u001B[38;5;28;01mimport\u001B[39;00m config_transforms\n",
       "\u001B[1;32m      5\u001B[0m \u001B[38;5;28;01mfrom\u001B[39;00m \u001B[38;5;21;01mllmfoundry\u001B[39;00m\u001B[38;5;21;01m.\u001B[39;00m\u001B[38;5;21;01mutils\u001B[39;00m\u001B[38;5;21;01m.\u001B[39;00m\u001B[38;5;21;01mbuilders\u001B[39;00m \u001B[38;5;28;01mimport\u001B[39;00m (\n",
       "\u001B[1;32m      6\u001B[0m     add_metrics_to_eval_loaders,\n",
       "\u001B[1;32m      7\u001B[0m     build_algorithm,\n",
       "\u001B[0;32m   (...)\u001B[0m\n",
       "\u001B[1;32m     18\u001B[0m     build_tokenizer,\n",
       "\u001B[1;32m     19\u001B[0m )\n",
       "\u001B[1;32m     20\u001B[0m \u001B[38;5;28;01mfrom\u001B[39;00m \u001B[38;5;21;01mllmfoundry\u001B[39;00m\u001B[38;5;21;01m.\u001B[39;00m\u001B[38;5;21;01mutils\u001B[39;00m\u001B[38;5;21;01m.\u001B[39;00m\u001B[38;5;21;01mcheckpoint_conversion_helpers\u001B[39;00m \u001B[38;5;28;01mimport\u001B[39;00m (\n",
       "\u001B[1;32m     21\u001B[0m     convert_and_save_ft_weights,\n",
       "\u001B[1;32m     22\u001B[0m     get_hf_tokenizer_from_composer_state_dict,\n",
       "\u001B[1;32m     23\u001B[0m     load_tokenizer,\n",
       "\u001B[1;32m     24\u001B[0m )\n",
       "\n",
       "File \u001B[0;32m/local_disk0/.ephemeral_nfs/envs/pythonEnv-1baf428f-8695-4b74-acc5-37195553cf83/lib/python3.10/site-packages/llmfoundry/registry.py:17\u001B[0m\n",
       "\u001B[1;32m     14\u001B[0m \u001B[38;5;28;01mfrom\u001B[39;00m \u001B[38;5;21;01mtransformers\u001B[39;00m \u001B[38;5;28;01mimport\u001B[39;00m PreTrainedTokenizerBase\n",
       "\u001B[1;32m     16\u001B[0m \u001B[38;5;28;01mfrom\u001B[39;00m \u001B[38;5;21;01mllmfoundry\u001B[39;00m\u001B[38;5;21;01m.\u001B[39;00m\u001B[38;5;21;01minterfaces\u001B[39;00m \u001B[38;5;28;01mimport\u001B[39;00m CallbackWithConfig\n",
       "\u001B[0;32m---> 17\u001B[0m \u001B[38;5;28;01mfrom\u001B[39;00m \u001B[38;5;21;01mllmfoundry\u001B[39;00m\u001B[38;5;21;01m.\u001B[39;00m\u001B[38;5;21;01mlayers_registry\u001B[39;00m \u001B[38;5;28;01mimport\u001B[39;00m (\n",
       "\u001B[1;32m     18\u001B[0m     attention_classes,\n",
       "\u001B[1;32m     19\u001B[0m     attention_implementations,\n",
       "\u001B[1;32m     20\u001B[0m     fcs,\n",
       "\u001B[1;32m     21\u001B[0m     ffns,\n",
       "\u001B[1;32m     22\u001B[0m     ffns_with_megablocks,\n",
       "\u001B[1;32m     23\u001B[0m     ffns_with_norm,\n",
       "\u001B[1;32m     24\u001B[0m     module_init_fns,\n",
       "\u001B[1;32m     25\u001B[0m     norms,\n",
       "\u001B[1;32m     26\u001B[0m     param_init_fns,\n",
       "\u001B[1;32m     27\u001B[0m )\n",
       "\u001B[1;32m     28\u001B[0m \u001B[38;5;28;01mfrom\u001B[39;00m \u001B[38;5;21;01mllmfoundry\u001B[39;00m\u001B[38;5;21;01m.\u001B[39;00m\u001B[38;5;21;01mutils\u001B[39;00m\u001B[38;5;21;01m.\u001B[39;00m\u001B[38;5;21;01mregistry_utils\u001B[39;00m \u001B[38;5;28;01mimport\u001B[39;00m create_registry\n",
       "\u001B[1;32m     30\u001B[0m _loggers_description \u001B[38;5;241m=\u001B[39m (\n",
       "\u001B[1;32m     31\u001B[0m \u001B[38;5;250m    \u001B[39m\u001B[38;5;124;03m\"\"\"The loggers registry is used to register classes that implement the LoggerDestination interface.\u001B[39;00m\n",
       "\u001B[1;32m     32\u001B[0m \n",
       "\u001B[0;32m   (...)\u001B[0m\n",
       "\u001B[1;32m     41\u001B[0m \u001B[38;5;124;03m    \"\"\"\u001B[39;00m\n",
       "\u001B[1;32m     42\u001B[0m )\n",
       "\n",
       "File \u001B[0;32m/local_disk0/.ephemeral_nfs/envs/pythonEnv-1baf428f-8695-4b74-acc5-37195553cf83/lib/python3.10/site-packages/llmfoundry/layers_registry.py:8\u001B[0m\n",
       "\u001B[1;32m      4\u001B[0m \u001B[38;5;28;01mfrom\u001B[39;00m \u001B[38;5;21;01mtyping\u001B[39;00m \u001B[38;5;28;01mimport\u001B[39;00m Callable, Type\n",
       "\u001B[1;32m      6\u001B[0m \u001B[38;5;28;01mimport\u001B[39;00m \u001B[38;5;21;01mtorch\u001B[39;00m\n",
       "\u001B[0;32m----> 8\u001B[0m \u001B[38;5;28;01mfrom\u001B[39;00m \u001B[38;5;21;01mllmfoundry\u001B[39;00m\u001B[38;5;21;01m.\u001B[39;00m\u001B[38;5;21;01mutils\u001B[39;00m\u001B[38;5;21;01m.\u001B[39;00m\u001B[38;5;21;01mregistry_utils\u001B[39;00m \u001B[38;5;28;01mimport\u001B[39;00m create_registry\n",
       "\u001B[1;32m     10\u001B[0m _norms_description \u001B[38;5;241m=\u001B[39m (\n",
       "\u001B[1;32m     11\u001B[0m \u001B[38;5;250m    \u001B[39m\u001B[38;5;124;03m\"\"\"The norms registry is used to register classes that implement normalization layers.\u001B[39;00m\n",
       "\u001B[1;32m     12\u001B[0m \n",
       "\u001B[0;32m   (...)\u001B[0m\n",
       "\u001B[1;32m     21\u001B[0m \u001B[38;5;124;03m    \"\"\"\u001B[39;00m\n",
       "\u001B[1;32m     22\u001B[0m )\n",
       "\u001B[1;32m     23\u001B[0m norms \u001B[38;5;241m=\u001B[39m create_registry(\n",
       "\u001B[1;32m     24\u001B[0m     \u001B[38;5;124m'\u001B[39m\u001B[38;5;124mllmfoundry\u001B[39m\u001B[38;5;124m'\u001B[39m,\n",
       "\u001B[1;32m     25\u001B[0m     \u001B[38;5;124m'\u001B[39m\u001B[38;5;124mnorms\u001B[39m\u001B[38;5;124m'\u001B[39m,\n",
       "\u001B[0;32m   (...)\u001B[0m\n",
       "\u001B[1;32m     28\u001B[0m     description\u001B[38;5;241m=\u001B[39m_norms_description,\n",
       "\u001B[1;32m     29\u001B[0m )\n",
       "\n",
       "File \u001B[0;32m/local_disk0/.ephemeral_nfs/envs/pythonEnv-1baf428f-8695-4b74-acc5-37195553cf83/lib/python3.10/site-packages/llmfoundry/utils/registry_utils.py:23\u001B[0m\n",
       "\u001B[1;32m     10\u001B[0m \u001B[38;5;28;01mfrom\u001B[39;00m \u001B[38;5;21;01mtypes\u001B[39;00m \u001B[38;5;28;01mimport\u001B[39;00m ModuleType\n",
       "\u001B[1;32m     11\u001B[0m \u001B[38;5;28;01mfrom\u001B[39;00m \u001B[38;5;21;01mtyping\u001B[39;00m \u001B[38;5;28;01mimport\u001B[39;00m (\n",
       "\u001B[1;32m     12\u001B[0m     Any,\n",
       "\u001B[1;32m     13\u001B[0m     Callable,\n",
       "\u001B[0;32m   (...)\u001B[0m\n",
       "\u001B[1;32m     20\u001B[0m     Union,\n",
       "\u001B[1;32m     21\u001B[0m )\n",
       "\u001B[0;32m---> 23\u001B[0m \u001B[38;5;28;01mimport\u001B[39;00m \u001B[38;5;21;01mcatalogue\u001B[39;00m\n",
       "\u001B[1;32m     25\u001B[0m __all__ \u001B[38;5;241m=\u001B[39m [\n",
       "\u001B[1;32m     26\u001B[0m     \u001B[38;5;124m'\u001B[39m\u001B[38;5;124mTypedRegistry\u001B[39m\u001B[38;5;124m'\u001B[39m,\n",
       "\u001B[1;32m     27\u001B[0m     \u001B[38;5;124m'\u001B[39m\u001B[38;5;124mcreate_registry\u001B[39m\u001B[38;5;124m'\u001B[39m,\n",
       "\u001B[0;32m   (...)\u001B[0m\n",
       "\u001B[1;32m     30\u001B[0m     \u001B[38;5;124m'\u001B[39m\u001B[38;5;124msave_registry\u001B[39m\u001B[38;5;124m'\u001B[39m,\n",
       "\u001B[1;32m     31\u001B[0m ]\n",
       "\u001B[1;32m     33\u001B[0m T \u001B[38;5;241m=\u001B[39m TypeVar(\u001B[38;5;124m'\u001B[39m\u001B[38;5;124mT\u001B[39m\u001B[38;5;124m'\u001B[39m)\n",
       "\n",
       "\u001B[0;31mModuleNotFoundError\u001B[0m: No module named 'catalogue'"
      ]
     },
     "metadata": {
      "application/vnd.databricks.v1+output": {
       "addedWidgets": {},
       "arguments": {},
       "datasetInfos": [],
       "jupyterProps": {
        "ename": "ModuleNotFoundError",
        "evalue": "No module named 'catalogue'"
       },
       "metadata": {
        "errorSummary": "Command skipped"
       },
       "removedWidgets": [],
       "sqlProps": null,
       "stackFrames": [
        "\u001B[0;31m---------------------------------------------------------------------------\u001B[0m",
        "\u001B[0;31mModuleNotFoundError\u001B[0m                       Traceback (most recent call last)",
        "File \u001B[0;32m<command-2691292108300970>, line 14\u001B[0m\n\u001B[1;32m     10\u001B[0m \u001B[38;5;28;01mfrom\u001B[39;00m \u001B[38;5;21;01mtyping\u001B[39;00m \u001B[38;5;28;01mimport\u001B[39;00m cast \n\u001B[1;32m     12\u001B[0m \u001B[38;5;28;01mimport\u001B[39;00m \u001B[38;5;21;01mdatasets\u001B[39;00m \n\u001B[0;32m---> 14\u001B[0m \u001B[38;5;28;01mfrom\u001B[39;00m \u001B[38;5;21;01mllmfoundry\u001B[39;00m\u001B[38;5;21;01m.\u001B[39;00m\u001B[38;5;21;01mutils\u001B[39;00m \u001B[38;5;28;01mimport\u001B[39;00m (create_om_cfg, token_counts_with_collate, \n\u001B[1;32m     15\u001B[0m         check_HF_datasets, is_hf_dataset_path, is_uc_delta_table,\n\u001B[1;32m     16\u001B[0m         integrity_check, convert_text_to_mds, parse_args, plot_hist,\n\u001B[1;32m     17\u001B[0m )\n\u001B[1;32m     19\u001B[0m \u001B[38;5;28;01mfrom\u001B[39;00m \u001B[38;5;21;01mllmfoundry\u001B[39;00m\u001B[38;5;21;01m.\u001B[39;00m\u001B[38;5;21;01mdata\u001B[39;00m\u001B[38;5;21;01m.\u001B[39;00m\u001B[38;5;21;01mfinetuning\u001B[39;00m\u001B[38;5;21;01m.\u001B[39;00m\u001B[38;5;21;01mtasks\u001B[39;00m \u001B[38;5;28;01mimport\u001B[39;00m (_validate_chat_formatted_example,\n\u001B[1;32m     20\u001B[0m                                               _tokenize_prompt_response_formatted_example,\n\u001B[1;32m     21\u001B[0m                                               _get_example_type, ChatFormattedDict, PromptResponseDict )\n\u001B[1;32m     22\u001B[0m \u001B[38;5;28;01mimport\u001B[39;00m \u001B[38;5;21;01mtransformers\u001B[39;00m\n",
        "File \u001B[0;32m/local_disk0/.ephemeral_nfs/envs/pythonEnv-1baf428f-8695-4b74-acc5-37195553cf83/lib/python3.10/site-packages/llmfoundry/__init__.py:29\u001B[0m\n\u001B[1;32m     16\u001B[0m     \u001B[38;5;28;01mif\u001B[39;00m \u001B[38;5;124m'\u001B[39m\u001B[38;5;124mundefined symbol\u001B[39m\u001B[38;5;124m'\u001B[39m \u001B[38;5;129;01min\u001B[39;00m \u001B[38;5;28mstr\u001B[39m(e):\n\u001B[1;32m     17\u001B[0m         \u001B[38;5;28;01mraise\u001B[39;00m \u001B[38;5;167;01mImportError\u001B[39;00m(\n\u001B[1;32m     18\u001B[0m             \u001B[38;5;124m'\u001B[39m\u001B[38;5;124mThe flash_attn package is not installed correctly. Usually this means that your runtime version\u001B[39m\u001B[38;5;124m'\u001B[39m\n\u001B[1;32m     19\u001B[0m             \u001B[38;5;241m+\u001B[39m\n\u001B[0;32m   (...)\u001B[0m\n\u001B[1;32m     26\u001B[0m             \u001B[38;5;124m'\u001B[39m\u001B[38;5;124m in LLM Foundry setup.py and update accordingly. The latest Docker image can be found in the README.\u001B[39m\u001B[38;5;124m'\u001B[39m,\n\u001B[1;32m     27\u001B[0m         ) \u001B[38;5;28;01mfrom\u001B[39;00m \u001B[38;5;21;01me\u001B[39;00m\n\u001B[0;32m---> 29\u001B[0m \u001B[38;5;28;01mfrom\u001B[39;00m \u001B[38;5;21;01mllmfoundry\u001B[39;00m\u001B[38;5;21;01m.\u001B[39;00m\u001B[38;5;21;01mutils\u001B[39;00m\u001B[38;5;21;01m.\u001B[39;00m\u001B[38;5;21;01mlogging_utils\u001B[39;00m \u001B[38;5;28;01mimport\u001B[39;00m SpecificWarningFilter\n\u001B[1;32m     31\u001B[0m \u001B[38;5;66;03m# Filter out Hugging Face warning for not using a pinned revision of the model\u001B[39;00m\n\u001B[1;32m     32\u001B[0m logger \u001B[38;5;241m=\u001B[39m logging\u001B[38;5;241m.\u001B[39mgetLogger(\u001B[38;5;124m'\u001B[39m\u001B[38;5;124mtransformers.dynamic_module_utils\u001B[39m\u001B[38;5;124m'\u001B[39m)\n",
        "File \u001B[0;32m/local_disk0/.ephemeral_nfs/envs/pythonEnv-1baf428f-8695-4b74-acc5-37195553cf83/lib/python3.10/site-packages/llmfoundry/utils/__init__.py:4\u001B[0m\n\u001B[1;32m      1\u001B[0m \u001B[38;5;66;03m# Copyright 2022 MosaicML LLM Foundry authors\u001B[39;00m\n\u001B[1;32m      2\u001B[0m \u001B[38;5;66;03m# SPDX-License-Identifier: Apache-2.0\u001B[39;00m\n\u001B[0;32m----> 4\u001B[0m \u001B[38;5;28;01mfrom\u001B[39;00m \u001B[38;5;21;01mllmfoundry\u001B[39;00m\u001B[38;5;21;01m.\u001B[39;00m\u001B[38;5;21;01mregistry\u001B[39;00m \u001B[38;5;28;01mimport\u001B[39;00m config_transforms\n\u001B[1;32m      5\u001B[0m \u001B[38;5;28;01mfrom\u001B[39;00m \u001B[38;5;21;01mllmfoundry\u001B[39;00m\u001B[38;5;21;01m.\u001B[39;00m\u001B[38;5;21;01mutils\u001B[39;00m\u001B[38;5;21;01m.\u001B[39;00m\u001B[38;5;21;01mbuilders\u001B[39;00m \u001B[38;5;28;01mimport\u001B[39;00m (\n\u001B[1;32m      6\u001B[0m     add_metrics_to_eval_loaders,\n\u001B[1;32m      7\u001B[0m     build_algorithm,\n\u001B[0;32m   (...)\u001B[0m\n\u001B[1;32m     18\u001B[0m     build_tokenizer,\n\u001B[1;32m     19\u001B[0m )\n\u001B[1;32m     20\u001B[0m \u001B[38;5;28;01mfrom\u001B[39;00m \u001B[38;5;21;01mllmfoundry\u001B[39;00m\u001B[38;5;21;01m.\u001B[39;00m\u001B[38;5;21;01mutils\u001B[39;00m\u001B[38;5;21;01m.\u001B[39;00m\u001B[38;5;21;01mcheckpoint_conversion_helpers\u001B[39;00m \u001B[38;5;28;01mimport\u001B[39;00m (\n\u001B[1;32m     21\u001B[0m     convert_and_save_ft_weights,\n\u001B[1;32m     22\u001B[0m     get_hf_tokenizer_from_composer_state_dict,\n\u001B[1;32m     23\u001B[0m     load_tokenizer,\n\u001B[1;32m     24\u001B[0m )\n",
        "File \u001B[0;32m/local_disk0/.ephemeral_nfs/envs/pythonEnv-1baf428f-8695-4b74-acc5-37195553cf83/lib/python3.10/site-packages/llmfoundry/registry.py:17\u001B[0m\n\u001B[1;32m     14\u001B[0m \u001B[38;5;28;01mfrom\u001B[39;00m \u001B[38;5;21;01mtransformers\u001B[39;00m \u001B[38;5;28;01mimport\u001B[39;00m PreTrainedTokenizerBase\n\u001B[1;32m     16\u001B[0m \u001B[38;5;28;01mfrom\u001B[39;00m \u001B[38;5;21;01mllmfoundry\u001B[39;00m\u001B[38;5;21;01m.\u001B[39;00m\u001B[38;5;21;01minterfaces\u001B[39;00m \u001B[38;5;28;01mimport\u001B[39;00m CallbackWithConfig\n\u001B[0;32m---> 17\u001B[0m \u001B[38;5;28;01mfrom\u001B[39;00m \u001B[38;5;21;01mllmfoundry\u001B[39;00m\u001B[38;5;21;01m.\u001B[39;00m\u001B[38;5;21;01mlayers_registry\u001B[39;00m \u001B[38;5;28;01mimport\u001B[39;00m (\n\u001B[1;32m     18\u001B[0m     attention_classes,\n\u001B[1;32m     19\u001B[0m     attention_implementations,\n\u001B[1;32m     20\u001B[0m     fcs,\n\u001B[1;32m     21\u001B[0m     ffns,\n\u001B[1;32m     22\u001B[0m     ffns_with_megablocks,\n\u001B[1;32m     23\u001B[0m     ffns_with_norm,\n\u001B[1;32m     24\u001B[0m     module_init_fns,\n\u001B[1;32m     25\u001B[0m     norms,\n\u001B[1;32m     26\u001B[0m     param_init_fns,\n\u001B[1;32m     27\u001B[0m )\n\u001B[1;32m     28\u001B[0m \u001B[38;5;28;01mfrom\u001B[39;00m \u001B[38;5;21;01mllmfoundry\u001B[39;00m\u001B[38;5;21;01m.\u001B[39;00m\u001B[38;5;21;01mutils\u001B[39;00m\u001B[38;5;21;01m.\u001B[39;00m\u001B[38;5;21;01mregistry_utils\u001B[39;00m \u001B[38;5;28;01mimport\u001B[39;00m create_registry\n\u001B[1;32m     30\u001B[0m _loggers_description \u001B[38;5;241m=\u001B[39m (\n\u001B[1;32m     31\u001B[0m \u001B[38;5;250m    \u001B[39m\u001B[38;5;124;03m\"\"\"The loggers registry is used to register classes that implement the LoggerDestination interface.\u001B[39;00m\n\u001B[1;32m     32\u001B[0m \n\u001B[0;32m   (...)\u001B[0m\n\u001B[1;32m     41\u001B[0m \u001B[38;5;124;03m    \"\"\"\u001B[39;00m\n\u001B[1;32m     42\u001B[0m )\n",
        "File \u001B[0;32m/local_disk0/.ephemeral_nfs/envs/pythonEnv-1baf428f-8695-4b74-acc5-37195553cf83/lib/python3.10/site-packages/llmfoundry/layers_registry.py:8\u001B[0m\n\u001B[1;32m      4\u001B[0m \u001B[38;5;28;01mfrom\u001B[39;00m \u001B[38;5;21;01mtyping\u001B[39;00m \u001B[38;5;28;01mimport\u001B[39;00m Callable, Type\n\u001B[1;32m      6\u001B[0m \u001B[38;5;28;01mimport\u001B[39;00m \u001B[38;5;21;01mtorch\u001B[39;00m\n\u001B[0;32m----> 8\u001B[0m \u001B[38;5;28;01mfrom\u001B[39;00m \u001B[38;5;21;01mllmfoundry\u001B[39;00m\u001B[38;5;21;01m.\u001B[39;00m\u001B[38;5;21;01mutils\u001B[39;00m\u001B[38;5;21;01m.\u001B[39;00m\u001B[38;5;21;01mregistry_utils\u001B[39;00m \u001B[38;5;28;01mimport\u001B[39;00m create_registry\n\u001B[1;32m     10\u001B[0m _norms_description \u001B[38;5;241m=\u001B[39m (\n\u001B[1;32m     11\u001B[0m \u001B[38;5;250m    \u001B[39m\u001B[38;5;124;03m\"\"\"The norms registry is used to register classes that implement normalization layers.\u001B[39;00m\n\u001B[1;32m     12\u001B[0m \n\u001B[0;32m   (...)\u001B[0m\n\u001B[1;32m     21\u001B[0m \u001B[38;5;124;03m    \"\"\"\u001B[39;00m\n\u001B[1;32m     22\u001B[0m )\n\u001B[1;32m     23\u001B[0m norms \u001B[38;5;241m=\u001B[39m create_registry(\n\u001B[1;32m     24\u001B[0m     \u001B[38;5;124m'\u001B[39m\u001B[38;5;124mllmfoundry\u001B[39m\u001B[38;5;124m'\u001B[39m,\n\u001B[1;32m     25\u001B[0m     \u001B[38;5;124m'\u001B[39m\u001B[38;5;124mnorms\u001B[39m\u001B[38;5;124m'\u001B[39m,\n\u001B[0;32m   (...)\u001B[0m\n\u001B[1;32m     28\u001B[0m     description\u001B[38;5;241m=\u001B[39m_norms_description,\n\u001B[1;32m     29\u001B[0m )\n",
        "File \u001B[0;32m/local_disk0/.ephemeral_nfs/envs/pythonEnv-1baf428f-8695-4b74-acc5-37195553cf83/lib/python3.10/site-packages/llmfoundry/utils/registry_utils.py:23\u001B[0m\n\u001B[1;32m     10\u001B[0m \u001B[38;5;28;01mfrom\u001B[39;00m \u001B[38;5;21;01mtypes\u001B[39;00m \u001B[38;5;28;01mimport\u001B[39;00m ModuleType\n\u001B[1;32m     11\u001B[0m \u001B[38;5;28;01mfrom\u001B[39;00m \u001B[38;5;21;01mtyping\u001B[39;00m \u001B[38;5;28;01mimport\u001B[39;00m (\n\u001B[1;32m     12\u001B[0m     Any,\n\u001B[1;32m     13\u001B[0m     Callable,\n\u001B[0;32m   (...)\u001B[0m\n\u001B[1;32m     20\u001B[0m     Union,\n\u001B[1;32m     21\u001B[0m )\n\u001B[0;32m---> 23\u001B[0m \u001B[38;5;28;01mimport\u001B[39;00m \u001B[38;5;21;01mcatalogue\u001B[39;00m\n\u001B[1;32m     25\u001B[0m __all__ \u001B[38;5;241m=\u001B[39m [\n\u001B[1;32m     26\u001B[0m     \u001B[38;5;124m'\u001B[39m\u001B[38;5;124mTypedRegistry\u001B[39m\u001B[38;5;124m'\u001B[39m,\n\u001B[1;32m     27\u001B[0m     \u001B[38;5;124m'\u001B[39m\u001B[38;5;124mcreate_registry\u001B[39m\u001B[38;5;124m'\u001B[39m,\n\u001B[0;32m   (...)\u001B[0m\n\u001B[1;32m     30\u001B[0m     \u001B[38;5;124m'\u001B[39m\u001B[38;5;124msave_registry\u001B[39m\u001B[38;5;124m'\u001B[39m,\n\u001B[1;32m     31\u001B[0m ]\n\u001B[1;32m     33\u001B[0m T \u001B[38;5;241m=\u001B[39m TypeVar(\u001B[38;5;124m'\u001B[39m\u001B[38;5;124mT\u001B[39m\u001B[38;5;124m'\u001B[39m)\n",
        "\u001B[0;31mModuleNotFoundError\u001B[0m: No module named 'catalogue'"
       ],
       "type": "baseError"
      }
     },
     "output_type": "display_data"
    }
   ],
   "source": [
    "n_epochs = FT_API_args.training_duration if FT_API_args.training_duration is not None else 1 \n",
    "batch_tokens = token_counts_with_collate(FT_API_args)\n",
    "n_billing_tokens_in_dataset = sum(batch_tokens['ntokens'])"
   ]
  },
  {
   "cell_type": "markdown",
   "metadata": {
    "application/vnd.databricks.v1+cell": {
     "cellMetadata": {
      "byteLimit": 2048000,
      "rowLimit": 10000
     },
     "inputWidgets": {},
     "nuid": "7249e9e6-1ea7-4fc9-8959-8a17d62a9fb4",
     "showTitle": false,
     "title": ""
    }
   },
   "source": [
    "Finetuning API will internally ingest the dataset and run tokenization with the selected tokenizer. \n",
    "The output dataset will be a collection of samples. Each sample is a collection of token ids represented as integers.  \n",
    "We generate a histogram that visualizes the distribution of frequency of token counts in samples in the dataset. \n",
    "The visualization aids in identifying patterns, outliers, and central tendencies in the token distribution."
   ]
  },
  {
   "cell_type": "code",
   "execution_count": 0,
   "metadata": {
    "application/vnd.databricks.v1+cell": {
     "cellMetadata": {
      "byteLimit": 2048000,
      "rowLimit": 10000
     },
     "inputWidgets": {},
     "nuid": "d85eaa02-ee39-4c6b-b14b-8ea1da8bf74d",
     "showTitle": false,
     "title": ""
    }
   },
   "outputs": [
    {
     "output_type": "display_data",
     "data": {
      "text/plain": [
       "\u001B[0;31m---------------------------------------------------------------------------\u001B[0m\n",
       "\u001B[0;31mModuleNotFoundError\u001B[0m                       Traceback (most recent call last)\n",
       "File \u001B[0;32m<command-2691292108300970>, line 14\u001B[0m\n",
       "\u001B[1;32m     10\u001B[0m \u001B[38;5;28;01mfrom\u001B[39;00m \u001B[38;5;21;01mtyping\u001B[39;00m \u001B[38;5;28;01mimport\u001B[39;00m cast \n",
       "\u001B[1;32m     12\u001B[0m \u001B[38;5;28;01mimport\u001B[39;00m \u001B[38;5;21;01mdatasets\u001B[39;00m \n",
       "\u001B[0;32m---> 14\u001B[0m \u001B[38;5;28;01mfrom\u001B[39;00m \u001B[38;5;21;01mllmfoundry\u001B[39;00m\u001B[38;5;21;01m.\u001B[39;00m\u001B[38;5;21;01mutils\u001B[39;00m \u001B[38;5;28;01mimport\u001B[39;00m (create_om_cfg, token_counts_with_collate, \n",
       "\u001B[1;32m     15\u001B[0m         check_HF_datasets, is_hf_dataset_path, is_uc_delta_table,\n",
       "\u001B[1;32m     16\u001B[0m         integrity_check, convert_text_to_mds, parse_args, plot_hist,\n",
       "\u001B[1;32m     17\u001B[0m )\n",
       "\u001B[1;32m     19\u001B[0m \u001B[38;5;28;01mfrom\u001B[39;00m \u001B[38;5;21;01mllmfoundry\u001B[39;00m\u001B[38;5;21;01m.\u001B[39;00m\u001B[38;5;21;01mdata\u001B[39;00m\u001B[38;5;21;01m.\u001B[39;00m\u001B[38;5;21;01mfinetuning\u001B[39;00m\u001B[38;5;21;01m.\u001B[39;00m\u001B[38;5;21;01mtasks\u001B[39;00m \u001B[38;5;28;01mimport\u001B[39;00m (_validate_chat_formatted_example,\n",
       "\u001B[1;32m     20\u001B[0m                                               _tokenize_prompt_response_formatted_example,\n",
       "\u001B[1;32m     21\u001B[0m                                               _get_example_type, ChatFormattedDict, PromptResponseDict )\n",
       "\u001B[1;32m     22\u001B[0m \u001B[38;5;28;01mimport\u001B[39;00m \u001B[38;5;21;01mtransformers\u001B[39;00m\n",
       "\n",
       "File \u001B[0;32m/local_disk0/.ephemeral_nfs/envs/pythonEnv-1baf428f-8695-4b74-acc5-37195553cf83/lib/python3.10/site-packages/llmfoundry/__init__.py:29\u001B[0m\n",
       "\u001B[1;32m     16\u001B[0m     \u001B[38;5;28;01mif\u001B[39;00m \u001B[38;5;124m'\u001B[39m\u001B[38;5;124mundefined symbol\u001B[39m\u001B[38;5;124m'\u001B[39m \u001B[38;5;129;01min\u001B[39;00m \u001B[38;5;28mstr\u001B[39m(e):\n",
       "\u001B[1;32m     17\u001B[0m         \u001B[38;5;28;01mraise\u001B[39;00m \u001B[38;5;167;01mImportError\u001B[39;00m(\n",
       "\u001B[1;32m     18\u001B[0m             \u001B[38;5;124m'\u001B[39m\u001B[38;5;124mThe flash_attn package is not installed correctly. Usually this means that your runtime version\u001B[39m\u001B[38;5;124m'\u001B[39m\n",
       "\u001B[1;32m     19\u001B[0m             \u001B[38;5;241m+\u001B[39m\n",
       "\u001B[0;32m   (...)\u001B[0m\n",
       "\u001B[1;32m     26\u001B[0m             \u001B[38;5;124m'\u001B[39m\u001B[38;5;124m in LLM Foundry setup.py and update accordingly. The latest Docker image can be found in the README.\u001B[39m\u001B[38;5;124m'\u001B[39m,\n",
       "\u001B[1;32m     27\u001B[0m         ) \u001B[38;5;28;01mfrom\u001B[39;00m \u001B[38;5;21;01me\u001B[39;00m\n",
       "\u001B[0;32m---> 29\u001B[0m \u001B[38;5;28;01mfrom\u001B[39;00m \u001B[38;5;21;01mllmfoundry\u001B[39;00m\u001B[38;5;21;01m.\u001B[39;00m\u001B[38;5;21;01mutils\u001B[39;00m\u001B[38;5;21;01m.\u001B[39;00m\u001B[38;5;21;01mlogging_utils\u001B[39;00m \u001B[38;5;28;01mimport\u001B[39;00m SpecificWarningFilter\n",
       "\u001B[1;32m     31\u001B[0m \u001B[38;5;66;03m# Filter out Hugging Face warning for not using a pinned revision of the model\u001B[39;00m\n",
       "\u001B[1;32m     32\u001B[0m logger \u001B[38;5;241m=\u001B[39m logging\u001B[38;5;241m.\u001B[39mgetLogger(\u001B[38;5;124m'\u001B[39m\u001B[38;5;124mtransformers.dynamic_module_utils\u001B[39m\u001B[38;5;124m'\u001B[39m)\n",
       "\n",
       "File \u001B[0;32m/local_disk0/.ephemeral_nfs/envs/pythonEnv-1baf428f-8695-4b74-acc5-37195553cf83/lib/python3.10/site-packages/llmfoundry/utils/__init__.py:4\u001B[0m\n",
       "\u001B[1;32m      1\u001B[0m \u001B[38;5;66;03m# Copyright 2022 MosaicML LLM Foundry authors\u001B[39;00m\n",
       "\u001B[1;32m      2\u001B[0m \u001B[38;5;66;03m# SPDX-License-Identifier: Apache-2.0\u001B[39;00m\n",
       "\u001B[0;32m----> 4\u001B[0m \u001B[38;5;28;01mfrom\u001B[39;00m \u001B[38;5;21;01mllmfoundry\u001B[39;00m\u001B[38;5;21;01m.\u001B[39;00m\u001B[38;5;21;01mregistry\u001B[39;00m \u001B[38;5;28;01mimport\u001B[39;00m config_transforms\n",
       "\u001B[1;32m      5\u001B[0m \u001B[38;5;28;01mfrom\u001B[39;00m \u001B[38;5;21;01mllmfoundry\u001B[39;00m\u001B[38;5;21;01m.\u001B[39;00m\u001B[38;5;21;01mutils\u001B[39;00m\u001B[38;5;21;01m.\u001B[39;00m\u001B[38;5;21;01mbuilders\u001B[39;00m \u001B[38;5;28;01mimport\u001B[39;00m (\n",
       "\u001B[1;32m      6\u001B[0m     add_metrics_to_eval_loaders,\n",
       "\u001B[1;32m      7\u001B[0m     build_algorithm,\n",
       "\u001B[0;32m   (...)\u001B[0m\n",
       "\u001B[1;32m     18\u001B[0m     build_tokenizer,\n",
       "\u001B[1;32m     19\u001B[0m )\n",
       "\u001B[1;32m     20\u001B[0m \u001B[38;5;28;01mfrom\u001B[39;00m \u001B[38;5;21;01mllmfoundry\u001B[39;00m\u001B[38;5;21;01m.\u001B[39;00m\u001B[38;5;21;01mutils\u001B[39;00m\u001B[38;5;21;01m.\u001B[39;00m\u001B[38;5;21;01mcheckpoint_conversion_helpers\u001B[39;00m \u001B[38;5;28;01mimport\u001B[39;00m (\n",
       "\u001B[1;32m     21\u001B[0m     convert_and_save_ft_weights,\n",
       "\u001B[1;32m     22\u001B[0m     get_hf_tokenizer_from_composer_state_dict,\n",
       "\u001B[1;32m     23\u001B[0m     load_tokenizer,\n",
       "\u001B[1;32m     24\u001B[0m )\n",
       "\n",
       "File \u001B[0;32m/local_disk0/.ephemeral_nfs/envs/pythonEnv-1baf428f-8695-4b74-acc5-37195553cf83/lib/python3.10/site-packages/llmfoundry/registry.py:17\u001B[0m\n",
       "\u001B[1;32m     14\u001B[0m \u001B[38;5;28;01mfrom\u001B[39;00m \u001B[38;5;21;01mtransformers\u001B[39;00m \u001B[38;5;28;01mimport\u001B[39;00m PreTrainedTokenizerBase\n",
       "\u001B[1;32m     16\u001B[0m \u001B[38;5;28;01mfrom\u001B[39;00m \u001B[38;5;21;01mllmfoundry\u001B[39;00m\u001B[38;5;21;01m.\u001B[39;00m\u001B[38;5;21;01minterfaces\u001B[39;00m \u001B[38;5;28;01mimport\u001B[39;00m CallbackWithConfig\n",
       "\u001B[0;32m---> 17\u001B[0m \u001B[38;5;28;01mfrom\u001B[39;00m \u001B[38;5;21;01mllmfoundry\u001B[39;00m\u001B[38;5;21;01m.\u001B[39;00m\u001B[38;5;21;01mlayers_registry\u001B[39;00m \u001B[38;5;28;01mimport\u001B[39;00m (\n",
       "\u001B[1;32m     18\u001B[0m     attention_classes,\n",
       "\u001B[1;32m     19\u001B[0m     attention_implementations,\n",
       "\u001B[1;32m     20\u001B[0m     fcs,\n",
       "\u001B[1;32m     21\u001B[0m     ffns,\n",
       "\u001B[1;32m     22\u001B[0m     ffns_with_megablocks,\n",
       "\u001B[1;32m     23\u001B[0m     ffns_with_norm,\n",
       "\u001B[1;32m     24\u001B[0m     module_init_fns,\n",
       "\u001B[1;32m     25\u001B[0m     norms,\n",
       "\u001B[1;32m     26\u001B[0m     param_init_fns,\n",
       "\u001B[1;32m     27\u001B[0m )\n",
       "\u001B[1;32m     28\u001B[0m \u001B[38;5;28;01mfrom\u001B[39;00m \u001B[38;5;21;01mllmfoundry\u001B[39;00m\u001B[38;5;21;01m.\u001B[39;00m\u001B[38;5;21;01mutils\u001B[39;00m\u001B[38;5;21;01m.\u001B[39;00m\u001B[38;5;21;01mregistry_utils\u001B[39;00m \u001B[38;5;28;01mimport\u001B[39;00m create_registry\n",
       "\u001B[1;32m     30\u001B[0m _loggers_description \u001B[38;5;241m=\u001B[39m (\n",
       "\u001B[1;32m     31\u001B[0m \u001B[38;5;250m    \u001B[39m\u001B[38;5;124;03m\"\"\"The loggers registry is used to register classes that implement the LoggerDestination interface.\u001B[39;00m\n",
       "\u001B[1;32m     32\u001B[0m \n",
       "\u001B[0;32m   (...)\u001B[0m\n",
       "\u001B[1;32m     41\u001B[0m \u001B[38;5;124;03m    \"\"\"\u001B[39;00m\n",
       "\u001B[1;32m     42\u001B[0m )\n",
       "\n",
       "File \u001B[0;32m/local_disk0/.ephemeral_nfs/envs/pythonEnv-1baf428f-8695-4b74-acc5-37195553cf83/lib/python3.10/site-packages/llmfoundry/layers_registry.py:8\u001B[0m\n",
       "\u001B[1;32m      4\u001B[0m \u001B[38;5;28;01mfrom\u001B[39;00m \u001B[38;5;21;01mtyping\u001B[39;00m \u001B[38;5;28;01mimport\u001B[39;00m Callable, Type\n",
       "\u001B[1;32m      6\u001B[0m \u001B[38;5;28;01mimport\u001B[39;00m \u001B[38;5;21;01mtorch\u001B[39;00m\n",
       "\u001B[0;32m----> 8\u001B[0m \u001B[38;5;28;01mfrom\u001B[39;00m \u001B[38;5;21;01mllmfoundry\u001B[39;00m\u001B[38;5;21;01m.\u001B[39;00m\u001B[38;5;21;01mutils\u001B[39;00m\u001B[38;5;21;01m.\u001B[39;00m\u001B[38;5;21;01mregistry_utils\u001B[39;00m \u001B[38;5;28;01mimport\u001B[39;00m create_registry\n",
       "\u001B[1;32m     10\u001B[0m _norms_description \u001B[38;5;241m=\u001B[39m (\n",
       "\u001B[1;32m     11\u001B[0m \u001B[38;5;250m    \u001B[39m\u001B[38;5;124;03m\"\"\"The norms registry is used to register classes that implement normalization layers.\u001B[39;00m\n",
       "\u001B[1;32m     12\u001B[0m \n",
       "\u001B[0;32m   (...)\u001B[0m\n",
       "\u001B[1;32m     21\u001B[0m \u001B[38;5;124;03m    \"\"\"\u001B[39;00m\n",
       "\u001B[1;32m     22\u001B[0m )\n",
       "\u001B[1;32m     23\u001B[0m norms \u001B[38;5;241m=\u001B[39m create_registry(\n",
       "\u001B[1;32m     24\u001B[0m     \u001B[38;5;124m'\u001B[39m\u001B[38;5;124mllmfoundry\u001B[39m\u001B[38;5;124m'\u001B[39m,\n",
       "\u001B[1;32m     25\u001B[0m     \u001B[38;5;124m'\u001B[39m\u001B[38;5;124mnorms\u001B[39m\u001B[38;5;124m'\u001B[39m,\n",
       "\u001B[0;32m   (...)\u001B[0m\n",
       "\u001B[1;32m     28\u001B[0m     description\u001B[38;5;241m=\u001B[39m_norms_description,\n",
       "\u001B[1;32m     29\u001B[0m )\n",
       "\n",
       "File \u001B[0;32m/local_disk0/.ephemeral_nfs/envs/pythonEnv-1baf428f-8695-4b74-acc5-37195553cf83/lib/python3.10/site-packages/llmfoundry/utils/registry_utils.py:23\u001B[0m\n",
       "\u001B[1;32m     10\u001B[0m \u001B[38;5;28;01mfrom\u001B[39;00m \u001B[38;5;21;01mtypes\u001B[39;00m \u001B[38;5;28;01mimport\u001B[39;00m ModuleType\n",
       "\u001B[1;32m     11\u001B[0m \u001B[38;5;28;01mfrom\u001B[39;00m \u001B[38;5;21;01mtyping\u001B[39;00m \u001B[38;5;28;01mimport\u001B[39;00m (\n",
       "\u001B[1;32m     12\u001B[0m     Any,\n",
       "\u001B[1;32m     13\u001B[0m     Callable,\n",
       "\u001B[0;32m   (...)\u001B[0m\n",
       "\u001B[1;32m     20\u001B[0m     Union,\n",
       "\u001B[1;32m     21\u001B[0m )\n",
       "\u001B[0;32m---> 23\u001B[0m \u001B[38;5;28;01mimport\u001B[39;00m \u001B[38;5;21;01mcatalogue\u001B[39;00m\n",
       "\u001B[1;32m     25\u001B[0m __all__ \u001B[38;5;241m=\u001B[39m [\n",
       "\u001B[1;32m     26\u001B[0m     \u001B[38;5;124m'\u001B[39m\u001B[38;5;124mTypedRegistry\u001B[39m\u001B[38;5;124m'\u001B[39m,\n",
       "\u001B[1;32m     27\u001B[0m     \u001B[38;5;124m'\u001B[39m\u001B[38;5;124mcreate_registry\u001B[39m\u001B[38;5;124m'\u001B[39m,\n",
       "\u001B[0;32m   (...)\u001B[0m\n",
       "\u001B[1;32m     30\u001B[0m     \u001B[38;5;124m'\u001B[39m\u001B[38;5;124msave_registry\u001B[39m\u001B[38;5;124m'\u001B[39m,\n",
       "\u001B[1;32m     31\u001B[0m ]\n",
       "\u001B[1;32m     33\u001B[0m T \u001B[38;5;241m=\u001B[39m TypeVar(\u001B[38;5;124m'\u001B[39m\u001B[38;5;124mT\u001B[39m\u001B[38;5;124m'\u001B[39m)\n",
       "\n",
       "\u001B[0;31mModuleNotFoundError\u001B[0m: No module named 'catalogue'"
      ]
     },
     "metadata": {
      "application/vnd.databricks.v1+output": {
       "addedWidgets": {},
       "arguments": {},
       "datasetInfos": [],
       "jupyterProps": {
        "ename": "ModuleNotFoundError",
        "evalue": "No module named 'catalogue'"
       },
       "metadata": {
        "errorSummary": "Command skipped"
       },
       "removedWidgets": [],
       "sqlProps": null,
       "stackFrames": [
        "\u001B[0;31m---------------------------------------------------------------------------\u001B[0m",
        "\u001B[0;31mModuleNotFoundError\u001B[0m                       Traceback (most recent call last)",
        "File \u001B[0;32m<command-2691292108300970>, line 14\u001B[0m\n\u001B[1;32m     10\u001B[0m \u001B[38;5;28;01mfrom\u001B[39;00m \u001B[38;5;21;01mtyping\u001B[39;00m \u001B[38;5;28;01mimport\u001B[39;00m cast \n\u001B[1;32m     12\u001B[0m \u001B[38;5;28;01mimport\u001B[39;00m \u001B[38;5;21;01mdatasets\u001B[39;00m \n\u001B[0;32m---> 14\u001B[0m \u001B[38;5;28;01mfrom\u001B[39;00m \u001B[38;5;21;01mllmfoundry\u001B[39;00m\u001B[38;5;21;01m.\u001B[39;00m\u001B[38;5;21;01mutils\u001B[39;00m \u001B[38;5;28;01mimport\u001B[39;00m (create_om_cfg, token_counts_with_collate, \n\u001B[1;32m     15\u001B[0m         check_HF_datasets, is_hf_dataset_path, is_uc_delta_table,\n\u001B[1;32m     16\u001B[0m         integrity_check, convert_text_to_mds, parse_args, plot_hist,\n\u001B[1;32m     17\u001B[0m )\n\u001B[1;32m     19\u001B[0m \u001B[38;5;28;01mfrom\u001B[39;00m \u001B[38;5;21;01mllmfoundry\u001B[39;00m\u001B[38;5;21;01m.\u001B[39;00m\u001B[38;5;21;01mdata\u001B[39;00m\u001B[38;5;21;01m.\u001B[39;00m\u001B[38;5;21;01mfinetuning\u001B[39;00m\u001B[38;5;21;01m.\u001B[39;00m\u001B[38;5;21;01mtasks\u001B[39;00m \u001B[38;5;28;01mimport\u001B[39;00m (_validate_chat_formatted_example,\n\u001B[1;32m     20\u001B[0m                                               _tokenize_prompt_response_formatted_example,\n\u001B[1;32m     21\u001B[0m                                               _get_example_type, ChatFormattedDict, PromptResponseDict )\n\u001B[1;32m     22\u001B[0m \u001B[38;5;28;01mimport\u001B[39;00m \u001B[38;5;21;01mtransformers\u001B[39;00m\n",
        "File \u001B[0;32m/local_disk0/.ephemeral_nfs/envs/pythonEnv-1baf428f-8695-4b74-acc5-37195553cf83/lib/python3.10/site-packages/llmfoundry/__init__.py:29\u001B[0m\n\u001B[1;32m     16\u001B[0m     \u001B[38;5;28;01mif\u001B[39;00m \u001B[38;5;124m'\u001B[39m\u001B[38;5;124mundefined symbol\u001B[39m\u001B[38;5;124m'\u001B[39m \u001B[38;5;129;01min\u001B[39;00m \u001B[38;5;28mstr\u001B[39m(e):\n\u001B[1;32m     17\u001B[0m         \u001B[38;5;28;01mraise\u001B[39;00m \u001B[38;5;167;01mImportError\u001B[39;00m(\n\u001B[1;32m     18\u001B[0m             \u001B[38;5;124m'\u001B[39m\u001B[38;5;124mThe flash_attn package is not installed correctly. Usually this means that your runtime version\u001B[39m\u001B[38;5;124m'\u001B[39m\n\u001B[1;32m     19\u001B[0m             \u001B[38;5;241m+\u001B[39m\n\u001B[0;32m   (...)\u001B[0m\n\u001B[1;32m     26\u001B[0m             \u001B[38;5;124m'\u001B[39m\u001B[38;5;124m in LLM Foundry setup.py and update accordingly. The latest Docker image can be found in the README.\u001B[39m\u001B[38;5;124m'\u001B[39m,\n\u001B[1;32m     27\u001B[0m         ) \u001B[38;5;28;01mfrom\u001B[39;00m \u001B[38;5;21;01me\u001B[39;00m\n\u001B[0;32m---> 29\u001B[0m \u001B[38;5;28;01mfrom\u001B[39;00m \u001B[38;5;21;01mllmfoundry\u001B[39;00m\u001B[38;5;21;01m.\u001B[39;00m\u001B[38;5;21;01mutils\u001B[39;00m\u001B[38;5;21;01m.\u001B[39;00m\u001B[38;5;21;01mlogging_utils\u001B[39;00m \u001B[38;5;28;01mimport\u001B[39;00m SpecificWarningFilter\n\u001B[1;32m     31\u001B[0m \u001B[38;5;66;03m# Filter out Hugging Face warning for not using a pinned revision of the model\u001B[39;00m\n\u001B[1;32m     32\u001B[0m logger \u001B[38;5;241m=\u001B[39m logging\u001B[38;5;241m.\u001B[39mgetLogger(\u001B[38;5;124m'\u001B[39m\u001B[38;5;124mtransformers.dynamic_module_utils\u001B[39m\u001B[38;5;124m'\u001B[39m)\n",
        "File \u001B[0;32m/local_disk0/.ephemeral_nfs/envs/pythonEnv-1baf428f-8695-4b74-acc5-37195553cf83/lib/python3.10/site-packages/llmfoundry/utils/__init__.py:4\u001B[0m\n\u001B[1;32m      1\u001B[0m \u001B[38;5;66;03m# Copyright 2022 MosaicML LLM Foundry authors\u001B[39;00m\n\u001B[1;32m      2\u001B[0m \u001B[38;5;66;03m# SPDX-License-Identifier: Apache-2.0\u001B[39;00m\n\u001B[0;32m----> 4\u001B[0m \u001B[38;5;28;01mfrom\u001B[39;00m \u001B[38;5;21;01mllmfoundry\u001B[39;00m\u001B[38;5;21;01m.\u001B[39;00m\u001B[38;5;21;01mregistry\u001B[39;00m \u001B[38;5;28;01mimport\u001B[39;00m config_transforms\n\u001B[1;32m      5\u001B[0m \u001B[38;5;28;01mfrom\u001B[39;00m \u001B[38;5;21;01mllmfoundry\u001B[39;00m\u001B[38;5;21;01m.\u001B[39;00m\u001B[38;5;21;01mutils\u001B[39;00m\u001B[38;5;21;01m.\u001B[39;00m\u001B[38;5;21;01mbuilders\u001B[39;00m \u001B[38;5;28;01mimport\u001B[39;00m (\n\u001B[1;32m      6\u001B[0m     add_metrics_to_eval_loaders,\n\u001B[1;32m      7\u001B[0m     build_algorithm,\n\u001B[0;32m   (...)\u001B[0m\n\u001B[1;32m     18\u001B[0m     build_tokenizer,\n\u001B[1;32m     19\u001B[0m )\n\u001B[1;32m     20\u001B[0m \u001B[38;5;28;01mfrom\u001B[39;00m \u001B[38;5;21;01mllmfoundry\u001B[39;00m\u001B[38;5;21;01m.\u001B[39;00m\u001B[38;5;21;01mutils\u001B[39;00m\u001B[38;5;21;01m.\u001B[39;00m\u001B[38;5;21;01mcheckpoint_conversion_helpers\u001B[39;00m \u001B[38;5;28;01mimport\u001B[39;00m (\n\u001B[1;32m     21\u001B[0m     convert_and_save_ft_weights,\n\u001B[1;32m     22\u001B[0m     get_hf_tokenizer_from_composer_state_dict,\n\u001B[1;32m     23\u001B[0m     load_tokenizer,\n\u001B[1;32m     24\u001B[0m )\n",
        "File \u001B[0;32m/local_disk0/.ephemeral_nfs/envs/pythonEnv-1baf428f-8695-4b74-acc5-37195553cf83/lib/python3.10/site-packages/llmfoundry/registry.py:17\u001B[0m\n\u001B[1;32m     14\u001B[0m \u001B[38;5;28;01mfrom\u001B[39;00m \u001B[38;5;21;01mtransformers\u001B[39;00m \u001B[38;5;28;01mimport\u001B[39;00m PreTrainedTokenizerBase\n\u001B[1;32m     16\u001B[0m \u001B[38;5;28;01mfrom\u001B[39;00m \u001B[38;5;21;01mllmfoundry\u001B[39;00m\u001B[38;5;21;01m.\u001B[39;00m\u001B[38;5;21;01minterfaces\u001B[39;00m \u001B[38;5;28;01mimport\u001B[39;00m CallbackWithConfig\n\u001B[0;32m---> 17\u001B[0m \u001B[38;5;28;01mfrom\u001B[39;00m \u001B[38;5;21;01mllmfoundry\u001B[39;00m\u001B[38;5;21;01m.\u001B[39;00m\u001B[38;5;21;01mlayers_registry\u001B[39;00m \u001B[38;5;28;01mimport\u001B[39;00m (\n\u001B[1;32m     18\u001B[0m     attention_classes,\n\u001B[1;32m     19\u001B[0m     attention_implementations,\n\u001B[1;32m     20\u001B[0m     fcs,\n\u001B[1;32m     21\u001B[0m     ffns,\n\u001B[1;32m     22\u001B[0m     ffns_with_megablocks,\n\u001B[1;32m     23\u001B[0m     ffns_with_norm,\n\u001B[1;32m     24\u001B[0m     module_init_fns,\n\u001B[1;32m     25\u001B[0m     norms,\n\u001B[1;32m     26\u001B[0m     param_init_fns,\n\u001B[1;32m     27\u001B[0m )\n\u001B[1;32m     28\u001B[0m \u001B[38;5;28;01mfrom\u001B[39;00m \u001B[38;5;21;01mllmfoundry\u001B[39;00m\u001B[38;5;21;01m.\u001B[39;00m\u001B[38;5;21;01mutils\u001B[39;00m\u001B[38;5;21;01m.\u001B[39;00m\u001B[38;5;21;01mregistry_utils\u001B[39;00m \u001B[38;5;28;01mimport\u001B[39;00m create_registry\n\u001B[1;32m     30\u001B[0m _loggers_description \u001B[38;5;241m=\u001B[39m (\n\u001B[1;32m     31\u001B[0m \u001B[38;5;250m    \u001B[39m\u001B[38;5;124;03m\"\"\"The loggers registry is used to register classes that implement the LoggerDestination interface.\u001B[39;00m\n\u001B[1;32m     32\u001B[0m \n\u001B[0;32m   (...)\u001B[0m\n\u001B[1;32m     41\u001B[0m \u001B[38;5;124;03m    \"\"\"\u001B[39;00m\n\u001B[1;32m     42\u001B[0m )\n",
        "File \u001B[0;32m/local_disk0/.ephemeral_nfs/envs/pythonEnv-1baf428f-8695-4b74-acc5-37195553cf83/lib/python3.10/site-packages/llmfoundry/layers_registry.py:8\u001B[0m\n\u001B[1;32m      4\u001B[0m \u001B[38;5;28;01mfrom\u001B[39;00m \u001B[38;5;21;01mtyping\u001B[39;00m \u001B[38;5;28;01mimport\u001B[39;00m Callable, Type\n\u001B[1;32m      6\u001B[0m \u001B[38;5;28;01mimport\u001B[39;00m \u001B[38;5;21;01mtorch\u001B[39;00m\n\u001B[0;32m----> 8\u001B[0m \u001B[38;5;28;01mfrom\u001B[39;00m \u001B[38;5;21;01mllmfoundry\u001B[39;00m\u001B[38;5;21;01m.\u001B[39;00m\u001B[38;5;21;01mutils\u001B[39;00m\u001B[38;5;21;01m.\u001B[39;00m\u001B[38;5;21;01mregistry_utils\u001B[39;00m \u001B[38;5;28;01mimport\u001B[39;00m create_registry\n\u001B[1;32m     10\u001B[0m _norms_description \u001B[38;5;241m=\u001B[39m (\n\u001B[1;32m     11\u001B[0m \u001B[38;5;250m    \u001B[39m\u001B[38;5;124;03m\"\"\"The norms registry is used to register classes that implement normalization layers.\u001B[39;00m\n\u001B[1;32m     12\u001B[0m \n\u001B[0;32m   (...)\u001B[0m\n\u001B[1;32m     21\u001B[0m \u001B[38;5;124;03m    \"\"\"\u001B[39;00m\n\u001B[1;32m     22\u001B[0m )\n\u001B[1;32m     23\u001B[0m norms \u001B[38;5;241m=\u001B[39m create_registry(\n\u001B[1;32m     24\u001B[0m     \u001B[38;5;124m'\u001B[39m\u001B[38;5;124mllmfoundry\u001B[39m\u001B[38;5;124m'\u001B[39m,\n\u001B[1;32m     25\u001B[0m     \u001B[38;5;124m'\u001B[39m\u001B[38;5;124mnorms\u001B[39m\u001B[38;5;124m'\u001B[39m,\n\u001B[0;32m   (...)\u001B[0m\n\u001B[1;32m     28\u001B[0m     description\u001B[38;5;241m=\u001B[39m_norms_description,\n\u001B[1;32m     29\u001B[0m )\n",
        "File \u001B[0;32m/local_disk0/.ephemeral_nfs/envs/pythonEnv-1baf428f-8695-4b74-acc5-37195553cf83/lib/python3.10/site-packages/llmfoundry/utils/registry_utils.py:23\u001B[0m\n\u001B[1;32m     10\u001B[0m \u001B[38;5;28;01mfrom\u001B[39;00m \u001B[38;5;21;01mtypes\u001B[39;00m \u001B[38;5;28;01mimport\u001B[39;00m ModuleType\n\u001B[1;32m     11\u001B[0m \u001B[38;5;28;01mfrom\u001B[39;00m \u001B[38;5;21;01mtyping\u001B[39;00m \u001B[38;5;28;01mimport\u001B[39;00m (\n\u001B[1;32m     12\u001B[0m     Any,\n\u001B[1;32m     13\u001B[0m     Callable,\n\u001B[0;32m   (...)\u001B[0m\n\u001B[1;32m     20\u001B[0m     Union,\n\u001B[1;32m     21\u001B[0m )\n\u001B[0;32m---> 23\u001B[0m \u001B[38;5;28;01mimport\u001B[39;00m \u001B[38;5;21;01mcatalogue\u001B[39;00m\n\u001B[1;32m     25\u001B[0m __all__ \u001B[38;5;241m=\u001B[39m [\n\u001B[1;32m     26\u001B[0m     \u001B[38;5;124m'\u001B[39m\u001B[38;5;124mTypedRegistry\u001B[39m\u001B[38;5;124m'\u001B[39m,\n\u001B[1;32m     27\u001B[0m     \u001B[38;5;124m'\u001B[39m\u001B[38;5;124mcreate_registry\u001B[39m\u001B[38;5;124m'\u001B[39m,\n\u001B[0;32m   (...)\u001B[0m\n\u001B[1;32m     30\u001B[0m     \u001B[38;5;124m'\u001B[39m\u001B[38;5;124msave_registry\u001B[39m\u001B[38;5;124m'\u001B[39m,\n\u001B[1;32m     31\u001B[0m ]\n\u001B[1;32m     33\u001B[0m T \u001B[38;5;241m=\u001B[39m TypeVar(\u001B[38;5;124m'\u001B[39m\u001B[38;5;124mT\u001B[39m\u001B[38;5;124m'\u001B[39m)\n",
        "\u001B[0;31mModuleNotFoundError\u001B[0m: No module named 'catalogue'"
       ],
       "type": "baseError"
      }
     },
     "output_type": "display_data"
    }
   ],
   "source": [
    "print(f\"Dataset has ~{n_billing_tokens_in_dataset} tokens that will be used by the model during training\")\n",
    "print(f\"Assume you'll train for {n_epochs} epochs on this dataset\")\n",
    "print(f\"Then ~{n_epochs * n_billing_tokens_in_dataset} tokens will be running through the model during training\")\n",
    "plot_hist(pd.Series(batch_tokens['ntokens']))"
   ]
  },
  {
   "cell_type": "markdown",
   "metadata": {
    "application/vnd.databricks.v1+cell": {
     "cellMetadata": {
      "byteLimit": 2048000,
      "rowLimit": 10000
     },
     "inputWidgets": {},
     "nuid": "6699f47f-9b53-47da-95c0-b862c5826d0a",
     "showTitle": false,
     "title": ""
    }
   },
   "source": [
    "# Continued Pretrain"
   ]
  },
  {
   "cell_type": "markdown",
   "metadata": {
    "application/vnd.databricks.v1+cell": {
     "cellMetadata": {
      "byteLimit": 2048000,
      "rowLimit": 10000
     },
     "inputWidgets": {},
     "nuid": "dd37fdce-62d0-493e-bfa9-d823634b2a0d",
     "showTitle": false,
     "title": ""
    }
   },
   "source": [
    "### Continued Pretrain API Arguments Configuration\n",
    "\n",
    "Similar to Instruction Finetune, you need to specify\n",
    "\n",
    "**Fine-Tuning API Arguments (FT_API_args):**\n",
    "\n",
    "- model: Specifies the model to be used for fine-tuning. E.g., 'EleutherAI/gpt-neox-20b'\n",
    "- train_data_path: The path to the training data. We currently only support a (remote/local) path to a collection of .txt files.\n",
    "- task_type: Defines the type of task for which the training strategy will be applied. It is either 'INSTRUCTION_FINETUNE' or 'CONTINUED_PRETRAIN'.\n",
    "- training_duration: The duration of the training process, expressed in numerical terms (e.g., 3) with units of training epochs.\n",
    "- context_length: Specifies the context length of the model, set to 2048. This determines how many tokens the model considers for each training example. For Continued Pretraining, we concatenate tokens to form samples of length equal to context_length\n",
    "\n",
    "**Temporary Data Path Configuration:**\n",
    "\n",
    "- temporary_mds_output_path: Defines a filesystem path where notebook running data can be stored. You need to make sure the path should not be shared by other users on the cluster, as it costs contention. For example, you can make it distinguishable by adding your username to the path.\n",
    "\n",
    "**[Supported Models by FT API](https://docs.mosaicml.com/projects/mcli/en/latest/finetuning/finetuning.html#supported-models):**. \n",
    "\n",
    "You need to specify context length based on the model mapping below.\n",
    "```\n",
    "ft_models = {\n",
    "  'mosaicml/mpt-7b-8k': 8192, \n",
    "  'mosaicml/mpt-7b': 2048,\n",
    "  'mosaicml/mpt-30b': 8192,\n",
    "  'meta-llama/Llama-2-13b-hf': 4096,\n",
    "  'meta-llama/Llama-2-7b-hf': 4096,\n",
    "  'meta-llama/Llama-2-70b-hf': 4096,\n",
    "  'codellama/CodeLlama-7b-hf': 16384,\n",
    "  'codellama/CodeLlama-13b-hf': 16384,\n",
    "  'codellama/CodeLlama-34b-hf': 16384,\n",
    "  'mistralai/Mistral-7B-v0.1': 32768,\n",
    "}\n",
    "```"
   ]
  },
  {
   "cell_type": "code",
   "execution_count": 0,
   "metadata": {
    "application/vnd.databricks.v1+cell": {
     "cellMetadata": {
      "byteLimit": 2048000,
      "rowLimit": 10000
     },
     "inputWidgets": {},
     "nuid": "7a773173-2a7f-4605-a7ca-0ece52a905f1",
     "showTitle": false,
     "title": ""
    }
   },
   "outputs": [
    {
     "output_type": "display_data",
     "data": {
      "text/plain": [
       "\u001B[0;31m---------------------------------------------------------------------------\u001B[0m\n",
       "\u001B[0;31mModuleNotFoundError\u001B[0m                       Traceback (most recent call last)\n",
       "File \u001B[0;32m<command-2691292108300970>, line 14\u001B[0m\n",
       "\u001B[1;32m     10\u001B[0m \u001B[38;5;28;01mfrom\u001B[39;00m \u001B[38;5;21;01mtyping\u001B[39;00m \u001B[38;5;28;01mimport\u001B[39;00m cast \n",
       "\u001B[1;32m     12\u001B[0m \u001B[38;5;28;01mimport\u001B[39;00m \u001B[38;5;21;01mdatasets\u001B[39;00m \n",
       "\u001B[0;32m---> 14\u001B[0m \u001B[38;5;28;01mfrom\u001B[39;00m \u001B[38;5;21;01mllmfoundry\u001B[39;00m\u001B[38;5;21;01m.\u001B[39;00m\u001B[38;5;21;01mutils\u001B[39;00m \u001B[38;5;28;01mimport\u001B[39;00m (create_om_cfg, token_counts_with_collate, \n",
       "\u001B[1;32m     15\u001B[0m         check_HF_datasets, is_hf_dataset_path, is_uc_delta_table,\n",
       "\u001B[1;32m     16\u001B[0m         integrity_check, convert_text_to_mds, parse_args, plot_hist,\n",
       "\u001B[1;32m     17\u001B[0m )\n",
       "\u001B[1;32m     19\u001B[0m \u001B[38;5;28;01mfrom\u001B[39;00m \u001B[38;5;21;01mllmfoundry\u001B[39;00m\u001B[38;5;21;01m.\u001B[39;00m\u001B[38;5;21;01mdata\u001B[39;00m\u001B[38;5;21;01m.\u001B[39;00m\u001B[38;5;21;01mfinetuning\u001B[39;00m\u001B[38;5;21;01m.\u001B[39;00m\u001B[38;5;21;01mtasks\u001B[39;00m \u001B[38;5;28;01mimport\u001B[39;00m (_validate_chat_formatted_example,\n",
       "\u001B[1;32m     20\u001B[0m                                               _tokenize_prompt_response_formatted_example,\n",
       "\u001B[1;32m     21\u001B[0m                                               _get_example_type, ChatFormattedDict, PromptResponseDict )\n",
       "\u001B[1;32m     22\u001B[0m \u001B[38;5;28;01mimport\u001B[39;00m \u001B[38;5;21;01mtransformers\u001B[39;00m\n",
       "\n",
       "File \u001B[0;32m/local_disk0/.ephemeral_nfs/envs/pythonEnv-1baf428f-8695-4b74-acc5-37195553cf83/lib/python3.10/site-packages/llmfoundry/__init__.py:29\u001B[0m\n",
       "\u001B[1;32m     16\u001B[0m     \u001B[38;5;28;01mif\u001B[39;00m \u001B[38;5;124m'\u001B[39m\u001B[38;5;124mundefined symbol\u001B[39m\u001B[38;5;124m'\u001B[39m \u001B[38;5;129;01min\u001B[39;00m \u001B[38;5;28mstr\u001B[39m(e):\n",
       "\u001B[1;32m     17\u001B[0m         \u001B[38;5;28;01mraise\u001B[39;00m \u001B[38;5;167;01mImportError\u001B[39;00m(\n",
       "\u001B[1;32m     18\u001B[0m             \u001B[38;5;124m'\u001B[39m\u001B[38;5;124mThe flash_attn package is not installed correctly. Usually this means that your runtime version\u001B[39m\u001B[38;5;124m'\u001B[39m\n",
       "\u001B[1;32m     19\u001B[0m             \u001B[38;5;241m+\u001B[39m\n",
       "\u001B[0;32m   (...)\u001B[0m\n",
       "\u001B[1;32m     26\u001B[0m             \u001B[38;5;124m'\u001B[39m\u001B[38;5;124m in LLM Foundry setup.py and update accordingly. The latest Docker image can be found in the README.\u001B[39m\u001B[38;5;124m'\u001B[39m,\n",
       "\u001B[1;32m     27\u001B[0m         ) \u001B[38;5;28;01mfrom\u001B[39;00m \u001B[38;5;21;01me\u001B[39;00m\n",
       "\u001B[0;32m---> 29\u001B[0m \u001B[38;5;28;01mfrom\u001B[39;00m \u001B[38;5;21;01mllmfoundry\u001B[39;00m\u001B[38;5;21;01m.\u001B[39;00m\u001B[38;5;21;01mutils\u001B[39;00m\u001B[38;5;21;01m.\u001B[39;00m\u001B[38;5;21;01mlogging_utils\u001B[39;00m \u001B[38;5;28;01mimport\u001B[39;00m SpecificWarningFilter\n",
       "\u001B[1;32m     31\u001B[0m \u001B[38;5;66;03m# Filter out Hugging Face warning for not using a pinned revision of the model\u001B[39;00m\n",
       "\u001B[1;32m     32\u001B[0m logger \u001B[38;5;241m=\u001B[39m logging\u001B[38;5;241m.\u001B[39mgetLogger(\u001B[38;5;124m'\u001B[39m\u001B[38;5;124mtransformers.dynamic_module_utils\u001B[39m\u001B[38;5;124m'\u001B[39m)\n",
       "\n",
       "File \u001B[0;32m/local_disk0/.ephemeral_nfs/envs/pythonEnv-1baf428f-8695-4b74-acc5-37195553cf83/lib/python3.10/site-packages/llmfoundry/utils/__init__.py:4\u001B[0m\n",
       "\u001B[1;32m      1\u001B[0m \u001B[38;5;66;03m# Copyright 2022 MosaicML LLM Foundry authors\u001B[39;00m\n",
       "\u001B[1;32m      2\u001B[0m \u001B[38;5;66;03m# SPDX-License-Identifier: Apache-2.0\u001B[39;00m\n",
       "\u001B[0;32m----> 4\u001B[0m \u001B[38;5;28;01mfrom\u001B[39;00m \u001B[38;5;21;01mllmfoundry\u001B[39;00m\u001B[38;5;21;01m.\u001B[39;00m\u001B[38;5;21;01mregistry\u001B[39;00m \u001B[38;5;28;01mimport\u001B[39;00m config_transforms\n",
       "\u001B[1;32m      5\u001B[0m \u001B[38;5;28;01mfrom\u001B[39;00m \u001B[38;5;21;01mllmfoundry\u001B[39;00m\u001B[38;5;21;01m.\u001B[39;00m\u001B[38;5;21;01mutils\u001B[39;00m\u001B[38;5;21;01m.\u001B[39;00m\u001B[38;5;21;01mbuilders\u001B[39;00m \u001B[38;5;28;01mimport\u001B[39;00m (\n",
       "\u001B[1;32m      6\u001B[0m     add_metrics_to_eval_loaders,\n",
       "\u001B[1;32m      7\u001B[0m     build_algorithm,\n",
       "\u001B[0;32m   (...)\u001B[0m\n",
       "\u001B[1;32m     18\u001B[0m     build_tokenizer,\n",
       "\u001B[1;32m     19\u001B[0m )\n",
       "\u001B[1;32m     20\u001B[0m \u001B[38;5;28;01mfrom\u001B[39;00m \u001B[38;5;21;01mllmfoundry\u001B[39;00m\u001B[38;5;21;01m.\u001B[39;00m\u001B[38;5;21;01mutils\u001B[39;00m\u001B[38;5;21;01m.\u001B[39;00m\u001B[38;5;21;01mcheckpoint_conversion_helpers\u001B[39;00m \u001B[38;5;28;01mimport\u001B[39;00m (\n",
       "\u001B[1;32m     21\u001B[0m     convert_and_save_ft_weights,\n",
       "\u001B[1;32m     22\u001B[0m     get_hf_tokenizer_from_composer_state_dict,\n",
       "\u001B[1;32m     23\u001B[0m     load_tokenizer,\n",
       "\u001B[1;32m     24\u001B[0m )\n",
       "\n",
       "File \u001B[0;32m/local_disk0/.ephemeral_nfs/envs/pythonEnv-1baf428f-8695-4b74-acc5-37195553cf83/lib/python3.10/site-packages/llmfoundry/registry.py:17\u001B[0m\n",
       "\u001B[1;32m     14\u001B[0m \u001B[38;5;28;01mfrom\u001B[39;00m \u001B[38;5;21;01mtransformers\u001B[39;00m \u001B[38;5;28;01mimport\u001B[39;00m PreTrainedTokenizerBase\n",
       "\u001B[1;32m     16\u001B[0m \u001B[38;5;28;01mfrom\u001B[39;00m \u001B[38;5;21;01mllmfoundry\u001B[39;00m\u001B[38;5;21;01m.\u001B[39;00m\u001B[38;5;21;01minterfaces\u001B[39;00m \u001B[38;5;28;01mimport\u001B[39;00m CallbackWithConfig\n",
       "\u001B[0;32m---> 17\u001B[0m \u001B[38;5;28;01mfrom\u001B[39;00m \u001B[38;5;21;01mllmfoundry\u001B[39;00m\u001B[38;5;21;01m.\u001B[39;00m\u001B[38;5;21;01mlayers_registry\u001B[39;00m \u001B[38;5;28;01mimport\u001B[39;00m (\n",
       "\u001B[1;32m     18\u001B[0m     attention_classes,\n",
       "\u001B[1;32m     19\u001B[0m     attention_implementations,\n",
       "\u001B[1;32m     20\u001B[0m     fcs,\n",
       "\u001B[1;32m     21\u001B[0m     ffns,\n",
       "\u001B[1;32m     22\u001B[0m     ffns_with_megablocks,\n",
       "\u001B[1;32m     23\u001B[0m     ffns_with_norm,\n",
       "\u001B[1;32m     24\u001B[0m     module_init_fns,\n",
       "\u001B[1;32m     25\u001B[0m     norms,\n",
       "\u001B[1;32m     26\u001B[0m     param_init_fns,\n",
       "\u001B[1;32m     27\u001B[0m )\n",
       "\u001B[1;32m     28\u001B[0m \u001B[38;5;28;01mfrom\u001B[39;00m \u001B[38;5;21;01mllmfoundry\u001B[39;00m\u001B[38;5;21;01m.\u001B[39;00m\u001B[38;5;21;01mutils\u001B[39;00m\u001B[38;5;21;01m.\u001B[39;00m\u001B[38;5;21;01mregistry_utils\u001B[39;00m \u001B[38;5;28;01mimport\u001B[39;00m create_registry\n",
       "\u001B[1;32m     30\u001B[0m _loggers_description \u001B[38;5;241m=\u001B[39m (\n",
       "\u001B[1;32m     31\u001B[0m \u001B[38;5;250m    \u001B[39m\u001B[38;5;124;03m\"\"\"The loggers registry is used to register classes that implement the LoggerDestination interface.\u001B[39;00m\n",
       "\u001B[1;32m     32\u001B[0m \n",
       "\u001B[0;32m   (...)\u001B[0m\n",
       "\u001B[1;32m     41\u001B[0m \u001B[38;5;124;03m    \"\"\"\u001B[39;00m\n",
       "\u001B[1;32m     42\u001B[0m )\n",
       "\n",
       "File \u001B[0;32m/local_disk0/.ephemeral_nfs/envs/pythonEnv-1baf428f-8695-4b74-acc5-37195553cf83/lib/python3.10/site-packages/llmfoundry/layers_registry.py:8\u001B[0m\n",
       "\u001B[1;32m      4\u001B[0m \u001B[38;5;28;01mfrom\u001B[39;00m \u001B[38;5;21;01mtyping\u001B[39;00m \u001B[38;5;28;01mimport\u001B[39;00m Callable, Type\n",
       "\u001B[1;32m      6\u001B[0m \u001B[38;5;28;01mimport\u001B[39;00m \u001B[38;5;21;01mtorch\u001B[39;00m\n",
       "\u001B[0;32m----> 8\u001B[0m \u001B[38;5;28;01mfrom\u001B[39;00m \u001B[38;5;21;01mllmfoundry\u001B[39;00m\u001B[38;5;21;01m.\u001B[39;00m\u001B[38;5;21;01mutils\u001B[39;00m\u001B[38;5;21;01m.\u001B[39;00m\u001B[38;5;21;01mregistry_utils\u001B[39;00m \u001B[38;5;28;01mimport\u001B[39;00m create_registry\n",
       "\u001B[1;32m     10\u001B[0m _norms_description \u001B[38;5;241m=\u001B[39m (\n",
       "\u001B[1;32m     11\u001B[0m \u001B[38;5;250m    \u001B[39m\u001B[38;5;124;03m\"\"\"The norms registry is used to register classes that implement normalization layers.\u001B[39;00m\n",
       "\u001B[1;32m     12\u001B[0m \n",
       "\u001B[0;32m   (...)\u001B[0m\n",
       "\u001B[1;32m     21\u001B[0m \u001B[38;5;124;03m    \"\"\"\u001B[39;00m\n",
       "\u001B[1;32m     22\u001B[0m )\n",
       "\u001B[1;32m     23\u001B[0m norms \u001B[38;5;241m=\u001B[39m create_registry(\n",
       "\u001B[1;32m     24\u001B[0m     \u001B[38;5;124m'\u001B[39m\u001B[38;5;124mllmfoundry\u001B[39m\u001B[38;5;124m'\u001B[39m,\n",
       "\u001B[1;32m     25\u001B[0m     \u001B[38;5;124m'\u001B[39m\u001B[38;5;124mnorms\u001B[39m\u001B[38;5;124m'\u001B[39m,\n",
       "\u001B[0;32m   (...)\u001B[0m\n",
       "\u001B[1;32m     28\u001B[0m     description\u001B[38;5;241m=\u001B[39m_norms_description,\n",
       "\u001B[1;32m     29\u001B[0m )\n",
       "\n",
       "File \u001B[0;32m/local_disk0/.ephemeral_nfs/envs/pythonEnv-1baf428f-8695-4b74-acc5-37195553cf83/lib/python3.10/site-packages/llmfoundry/utils/registry_utils.py:23\u001B[0m\n",
       "\u001B[1;32m     10\u001B[0m \u001B[38;5;28;01mfrom\u001B[39;00m \u001B[38;5;21;01mtypes\u001B[39;00m \u001B[38;5;28;01mimport\u001B[39;00m ModuleType\n",
       "\u001B[1;32m     11\u001B[0m \u001B[38;5;28;01mfrom\u001B[39;00m \u001B[38;5;21;01mtyping\u001B[39;00m \u001B[38;5;28;01mimport\u001B[39;00m (\n",
       "\u001B[1;32m     12\u001B[0m     Any,\n",
       "\u001B[1;32m     13\u001B[0m     Callable,\n",
       "\u001B[0;32m   (...)\u001B[0m\n",
       "\u001B[1;32m     20\u001B[0m     Union,\n",
       "\u001B[1;32m     21\u001B[0m )\n",
       "\u001B[0;32m---> 23\u001B[0m \u001B[38;5;28;01mimport\u001B[39;00m \u001B[38;5;21;01mcatalogue\u001B[39;00m\n",
       "\u001B[1;32m     25\u001B[0m __all__ \u001B[38;5;241m=\u001B[39m [\n",
       "\u001B[1;32m     26\u001B[0m     \u001B[38;5;124m'\u001B[39m\u001B[38;5;124mTypedRegistry\u001B[39m\u001B[38;5;124m'\u001B[39m,\n",
       "\u001B[1;32m     27\u001B[0m     \u001B[38;5;124m'\u001B[39m\u001B[38;5;124mcreate_registry\u001B[39m\u001B[38;5;124m'\u001B[39m,\n",
       "\u001B[0;32m   (...)\u001B[0m\n",
       "\u001B[1;32m     30\u001B[0m     \u001B[38;5;124m'\u001B[39m\u001B[38;5;124msave_registry\u001B[39m\u001B[38;5;124m'\u001B[39m,\n",
       "\u001B[1;32m     31\u001B[0m ]\n",
       "\u001B[1;32m     33\u001B[0m T \u001B[38;5;241m=\u001B[39m TypeVar(\u001B[38;5;124m'\u001B[39m\u001B[38;5;124mT\u001B[39m\u001B[38;5;124m'\u001B[39m)\n",
       "\n",
       "\u001B[0;31mModuleNotFoundError\u001B[0m: No module named 'catalogue'"
      ]
     },
     "metadata": {
      "application/vnd.databricks.v1+output": {
       "addedWidgets": {},
       "arguments": {},
       "datasetInfos": [],
       "jupyterProps": {
        "ename": "ModuleNotFoundError",
        "evalue": "No module named 'catalogue'"
       },
       "metadata": {
        "errorSummary": "Command skipped"
       },
       "removedWidgets": [],
       "sqlProps": null,
       "stackFrames": [
        "\u001B[0;31m---------------------------------------------------------------------------\u001B[0m",
        "\u001B[0;31mModuleNotFoundError\u001B[0m                       Traceback (most recent call last)",
        "File \u001B[0;32m<command-2691292108300970>, line 14\u001B[0m\n\u001B[1;32m     10\u001B[0m \u001B[38;5;28;01mfrom\u001B[39;00m \u001B[38;5;21;01mtyping\u001B[39;00m \u001B[38;5;28;01mimport\u001B[39;00m cast \n\u001B[1;32m     12\u001B[0m \u001B[38;5;28;01mimport\u001B[39;00m \u001B[38;5;21;01mdatasets\u001B[39;00m \n\u001B[0;32m---> 14\u001B[0m \u001B[38;5;28;01mfrom\u001B[39;00m \u001B[38;5;21;01mllmfoundry\u001B[39;00m\u001B[38;5;21;01m.\u001B[39;00m\u001B[38;5;21;01mutils\u001B[39;00m \u001B[38;5;28;01mimport\u001B[39;00m (create_om_cfg, token_counts_with_collate, \n\u001B[1;32m     15\u001B[0m         check_HF_datasets, is_hf_dataset_path, is_uc_delta_table,\n\u001B[1;32m     16\u001B[0m         integrity_check, convert_text_to_mds, parse_args, plot_hist,\n\u001B[1;32m     17\u001B[0m )\n\u001B[1;32m     19\u001B[0m \u001B[38;5;28;01mfrom\u001B[39;00m \u001B[38;5;21;01mllmfoundry\u001B[39;00m\u001B[38;5;21;01m.\u001B[39;00m\u001B[38;5;21;01mdata\u001B[39;00m\u001B[38;5;21;01m.\u001B[39;00m\u001B[38;5;21;01mfinetuning\u001B[39;00m\u001B[38;5;21;01m.\u001B[39;00m\u001B[38;5;21;01mtasks\u001B[39;00m \u001B[38;5;28;01mimport\u001B[39;00m (_validate_chat_formatted_example,\n\u001B[1;32m     20\u001B[0m                                               _tokenize_prompt_response_formatted_example,\n\u001B[1;32m     21\u001B[0m                                               _get_example_type, ChatFormattedDict, PromptResponseDict )\n\u001B[1;32m     22\u001B[0m \u001B[38;5;28;01mimport\u001B[39;00m \u001B[38;5;21;01mtransformers\u001B[39;00m\n",
        "File \u001B[0;32m/local_disk0/.ephemeral_nfs/envs/pythonEnv-1baf428f-8695-4b74-acc5-37195553cf83/lib/python3.10/site-packages/llmfoundry/__init__.py:29\u001B[0m\n\u001B[1;32m     16\u001B[0m     \u001B[38;5;28;01mif\u001B[39;00m \u001B[38;5;124m'\u001B[39m\u001B[38;5;124mundefined symbol\u001B[39m\u001B[38;5;124m'\u001B[39m \u001B[38;5;129;01min\u001B[39;00m \u001B[38;5;28mstr\u001B[39m(e):\n\u001B[1;32m     17\u001B[0m         \u001B[38;5;28;01mraise\u001B[39;00m \u001B[38;5;167;01mImportError\u001B[39;00m(\n\u001B[1;32m     18\u001B[0m             \u001B[38;5;124m'\u001B[39m\u001B[38;5;124mThe flash_attn package is not installed correctly. Usually this means that your runtime version\u001B[39m\u001B[38;5;124m'\u001B[39m\n\u001B[1;32m     19\u001B[0m             \u001B[38;5;241m+\u001B[39m\n\u001B[0;32m   (...)\u001B[0m\n\u001B[1;32m     26\u001B[0m             \u001B[38;5;124m'\u001B[39m\u001B[38;5;124m in LLM Foundry setup.py and update accordingly. The latest Docker image can be found in the README.\u001B[39m\u001B[38;5;124m'\u001B[39m,\n\u001B[1;32m     27\u001B[0m         ) \u001B[38;5;28;01mfrom\u001B[39;00m \u001B[38;5;21;01me\u001B[39;00m\n\u001B[0;32m---> 29\u001B[0m \u001B[38;5;28;01mfrom\u001B[39;00m \u001B[38;5;21;01mllmfoundry\u001B[39;00m\u001B[38;5;21;01m.\u001B[39;00m\u001B[38;5;21;01mutils\u001B[39;00m\u001B[38;5;21;01m.\u001B[39;00m\u001B[38;5;21;01mlogging_utils\u001B[39;00m \u001B[38;5;28;01mimport\u001B[39;00m SpecificWarningFilter\n\u001B[1;32m     31\u001B[0m \u001B[38;5;66;03m# Filter out Hugging Face warning for not using a pinned revision of the model\u001B[39;00m\n\u001B[1;32m     32\u001B[0m logger \u001B[38;5;241m=\u001B[39m logging\u001B[38;5;241m.\u001B[39mgetLogger(\u001B[38;5;124m'\u001B[39m\u001B[38;5;124mtransformers.dynamic_module_utils\u001B[39m\u001B[38;5;124m'\u001B[39m)\n",
        "File \u001B[0;32m/local_disk0/.ephemeral_nfs/envs/pythonEnv-1baf428f-8695-4b74-acc5-37195553cf83/lib/python3.10/site-packages/llmfoundry/utils/__init__.py:4\u001B[0m\n\u001B[1;32m      1\u001B[0m \u001B[38;5;66;03m# Copyright 2022 MosaicML LLM Foundry authors\u001B[39;00m\n\u001B[1;32m      2\u001B[0m \u001B[38;5;66;03m# SPDX-License-Identifier: Apache-2.0\u001B[39;00m\n\u001B[0;32m----> 4\u001B[0m \u001B[38;5;28;01mfrom\u001B[39;00m \u001B[38;5;21;01mllmfoundry\u001B[39;00m\u001B[38;5;21;01m.\u001B[39;00m\u001B[38;5;21;01mregistry\u001B[39;00m \u001B[38;5;28;01mimport\u001B[39;00m config_transforms\n\u001B[1;32m      5\u001B[0m \u001B[38;5;28;01mfrom\u001B[39;00m \u001B[38;5;21;01mllmfoundry\u001B[39;00m\u001B[38;5;21;01m.\u001B[39;00m\u001B[38;5;21;01mutils\u001B[39;00m\u001B[38;5;21;01m.\u001B[39;00m\u001B[38;5;21;01mbuilders\u001B[39;00m \u001B[38;5;28;01mimport\u001B[39;00m (\n\u001B[1;32m      6\u001B[0m     add_metrics_to_eval_loaders,\n\u001B[1;32m      7\u001B[0m     build_algorithm,\n\u001B[0;32m   (...)\u001B[0m\n\u001B[1;32m     18\u001B[0m     build_tokenizer,\n\u001B[1;32m     19\u001B[0m )\n\u001B[1;32m     20\u001B[0m \u001B[38;5;28;01mfrom\u001B[39;00m \u001B[38;5;21;01mllmfoundry\u001B[39;00m\u001B[38;5;21;01m.\u001B[39;00m\u001B[38;5;21;01mutils\u001B[39;00m\u001B[38;5;21;01m.\u001B[39;00m\u001B[38;5;21;01mcheckpoint_conversion_helpers\u001B[39;00m \u001B[38;5;28;01mimport\u001B[39;00m (\n\u001B[1;32m     21\u001B[0m     convert_and_save_ft_weights,\n\u001B[1;32m     22\u001B[0m     get_hf_tokenizer_from_composer_state_dict,\n\u001B[1;32m     23\u001B[0m     load_tokenizer,\n\u001B[1;32m     24\u001B[0m )\n",
        "File \u001B[0;32m/local_disk0/.ephemeral_nfs/envs/pythonEnv-1baf428f-8695-4b74-acc5-37195553cf83/lib/python3.10/site-packages/llmfoundry/registry.py:17\u001B[0m\n\u001B[1;32m     14\u001B[0m \u001B[38;5;28;01mfrom\u001B[39;00m \u001B[38;5;21;01mtransformers\u001B[39;00m \u001B[38;5;28;01mimport\u001B[39;00m PreTrainedTokenizerBase\n\u001B[1;32m     16\u001B[0m \u001B[38;5;28;01mfrom\u001B[39;00m \u001B[38;5;21;01mllmfoundry\u001B[39;00m\u001B[38;5;21;01m.\u001B[39;00m\u001B[38;5;21;01minterfaces\u001B[39;00m \u001B[38;5;28;01mimport\u001B[39;00m CallbackWithConfig\n\u001B[0;32m---> 17\u001B[0m \u001B[38;5;28;01mfrom\u001B[39;00m \u001B[38;5;21;01mllmfoundry\u001B[39;00m\u001B[38;5;21;01m.\u001B[39;00m\u001B[38;5;21;01mlayers_registry\u001B[39;00m \u001B[38;5;28;01mimport\u001B[39;00m (\n\u001B[1;32m     18\u001B[0m     attention_classes,\n\u001B[1;32m     19\u001B[0m     attention_implementations,\n\u001B[1;32m     20\u001B[0m     fcs,\n\u001B[1;32m     21\u001B[0m     ffns,\n\u001B[1;32m     22\u001B[0m     ffns_with_megablocks,\n\u001B[1;32m     23\u001B[0m     ffns_with_norm,\n\u001B[1;32m     24\u001B[0m     module_init_fns,\n\u001B[1;32m     25\u001B[0m     norms,\n\u001B[1;32m     26\u001B[0m     param_init_fns,\n\u001B[1;32m     27\u001B[0m )\n\u001B[1;32m     28\u001B[0m \u001B[38;5;28;01mfrom\u001B[39;00m \u001B[38;5;21;01mllmfoundry\u001B[39;00m\u001B[38;5;21;01m.\u001B[39;00m\u001B[38;5;21;01mutils\u001B[39;00m\u001B[38;5;21;01m.\u001B[39;00m\u001B[38;5;21;01mregistry_utils\u001B[39;00m \u001B[38;5;28;01mimport\u001B[39;00m create_registry\n\u001B[1;32m     30\u001B[0m _loggers_description \u001B[38;5;241m=\u001B[39m (\n\u001B[1;32m     31\u001B[0m \u001B[38;5;250m    \u001B[39m\u001B[38;5;124;03m\"\"\"The loggers registry is used to register classes that implement the LoggerDestination interface.\u001B[39;00m\n\u001B[1;32m     32\u001B[0m \n\u001B[0;32m   (...)\u001B[0m\n\u001B[1;32m     41\u001B[0m \u001B[38;5;124;03m    \"\"\"\u001B[39;00m\n\u001B[1;32m     42\u001B[0m )\n",
        "File \u001B[0;32m/local_disk0/.ephemeral_nfs/envs/pythonEnv-1baf428f-8695-4b74-acc5-37195553cf83/lib/python3.10/site-packages/llmfoundry/layers_registry.py:8\u001B[0m\n\u001B[1;32m      4\u001B[0m \u001B[38;5;28;01mfrom\u001B[39;00m \u001B[38;5;21;01mtyping\u001B[39;00m \u001B[38;5;28;01mimport\u001B[39;00m Callable, Type\n\u001B[1;32m      6\u001B[0m \u001B[38;5;28;01mimport\u001B[39;00m \u001B[38;5;21;01mtorch\u001B[39;00m\n\u001B[0;32m----> 8\u001B[0m \u001B[38;5;28;01mfrom\u001B[39;00m \u001B[38;5;21;01mllmfoundry\u001B[39;00m\u001B[38;5;21;01m.\u001B[39;00m\u001B[38;5;21;01mutils\u001B[39;00m\u001B[38;5;21;01m.\u001B[39;00m\u001B[38;5;21;01mregistry_utils\u001B[39;00m \u001B[38;5;28;01mimport\u001B[39;00m create_registry\n\u001B[1;32m     10\u001B[0m _norms_description \u001B[38;5;241m=\u001B[39m (\n\u001B[1;32m     11\u001B[0m \u001B[38;5;250m    \u001B[39m\u001B[38;5;124;03m\"\"\"The norms registry is used to register classes that implement normalization layers.\u001B[39;00m\n\u001B[1;32m     12\u001B[0m \n\u001B[0;32m   (...)\u001B[0m\n\u001B[1;32m     21\u001B[0m \u001B[38;5;124;03m    \"\"\"\u001B[39;00m\n\u001B[1;32m     22\u001B[0m )\n\u001B[1;32m     23\u001B[0m norms \u001B[38;5;241m=\u001B[39m create_registry(\n\u001B[1;32m     24\u001B[0m     \u001B[38;5;124m'\u001B[39m\u001B[38;5;124mllmfoundry\u001B[39m\u001B[38;5;124m'\u001B[39m,\n\u001B[1;32m     25\u001B[0m     \u001B[38;5;124m'\u001B[39m\u001B[38;5;124mnorms\u001B[39m\u001B[38;5;124m'\u001B[39m,\n\u001B[0;32m   (...)\u001B[0m\n\u001B[1;32m     28\u001B[0m     description\u001B[38;5;241m=\u001B[39m_norms_description,\n\u001B[1;32m     29\u001B[0m )\n",
        "File \u001B[0;32m/local_disk0/.ephemeral_nfs/envs/pythonEnv-1baf428f-8695-4b74-acc5-37195553cf83/lib/python3.10/site-packages/llmfoundry/utils/registry_utils.py:23\u001B[0m\n\u001B[1;32m     10\u001B[0m \u001B[38;5;28;01mfrom\u001B[39;00m \u001B[38;5;21;01mtypes\u001B[39;00m \u001B[38;5;28;01mimport\u001B[39;00m ModuleType\n\u001B[1;32m     11\u001B[0m \u001B[38;5;28;01mfrom\u001B[39;00m \u001B[38;5;21;01mtyping\u001B[39;00m \u001B[38;5;28;01mimport\u001B[39;00m (\n\u001B[1;32m     12\u001B[0m     Any,\n\u001B[1;32m     13\u001B[0m     Callable,\n\u001B[0;32m   (...)\u001B[0m\n\u001B[1;32m     20\u001B[0m     Union,\n\u001B[1;32m     21\u001B[0m )\n\u001B[0;32m---> 23\u001B[0m \u001B[38;5;28;01mimport\u001B[39;00m \u001B[38;5;21;01mcatalogue\u001B[39;00m\n\u001B[1;32m     25\u001B[0m __all__ \u001B[38;5;241m=\u001B[39m [\n\u001B[1;32m     26\u001B[0m     \u001B[38;5;124m'\u001B[39m\u001B[38;5;124mTypedRegistry\u001B[39m\u001B[38;5;124m'\u001B[39m,\n\u001B[1;32m     27\u001B[0m     \u001B[38;5;124m'\u001B[39m\u001B[38;5;124mcreate_registry\u001B[39m\u001B[38;5;124m'\u001B[39m,\n\u001B[0;32m   (...)\u001B[0m\n\u001B[1;32m     30\u001B[0m     \u001B[38;5;124m'\u001B[39m\u001B[38;5;124msave_registry\u001B[39m\u001B[38;5;124m'\u001B[39m,\n\u001B[1;32m     31\u001B[0m ]\n\u001B[1;32m     33\u001B[0m T \u001B[38;5;241m=\u001B[39m TypeVar(\u001B[38;5;124m'\u001B[39m\u001B[38;5;124mT\u001B[39m\u001B[38;5;124m'\u001B[39m)\n",
        "\u001B[0;31mModuleNotFoundError\u001B[0m: No module named 'catalogue'"
       ],
       "type": "baseError"
      }
     },
     "output_type": "display_data"
    }
   ],
   "source": [
    "FT_API_args = Namespace(\n",
    "    model= 'mosaicml/mpt-7b',\n",
    "    train_data_path= os.path.join(home, 'ABT'), # this is the path to your collection of txt files\n",
    "    task_type='CONTINUED_PRETRAIN',\n",
    "    training_duration=3,\n",
    "    context_length=8,\n",
    ")\n",
    "temporary_mds_output_path = os.path.join(home, 'mds_data_11Jan24_5')"
   ]
  },
  {
   "cell_type": "markdown",
   "metadata": {
    "application/vnd.databricks.v1+cell": {
     "cellMetadata": {
      "byteLimit": 2048000,
      "rowLimit": 10000
     },
     "inputWidgets": {},
     "nuid": "fc2e4e8b-7700-47c4-bb21-ae4c389f39a2",
     "showTitle": false,
     "title": ""
    }
   },
   "source": [
    "Generate a synthetic dataset. Replace train_data_path with your raw data path in practice."
   ]
  },
  {
   "cell_type": "code",
   "execution_count": 0,
   "metadata": {
    "application/vnd.databricks.v1+cell": {
     "cellMetadata": {
      "byteLimit": 2048000,
      "rowLimit": 10000
     },
     "inputWidgets": {},
     "nuid": "10f08422-5091-4e64-b3f7-54928584cd60",
     "showTitle": false,
     "title": ""
    }
   },
   "outputs": [
    {
     "output_type": "display_data",
     "data": {
      "text/plain": [
       "\u001B[0;31m---------------------------------------------------------------------------\u001B[0m\n",
       "\u001B[0;31mModuleNotFoundError\u001B[0m                       Traceback (most recent call last)\n",
       "File \u001B[0;32m<command-2691292108300970>, line 14\u001B[0m\n",
       "\u001B[1;32m     10\u001B[0m \u001B[38;5;28;01mfrom\u001B[39;00m \u001B[38;5;21;01mtyping\u001B[39;00m \u001B[38;5;28;01mimport\u001B[39;00m cast \n",
       "\u001B[1;32m     12\u001B[0m \u001B[38;5;28;01mimport\u001B[39;00m \u001B[38;5;21;01mdatasets\u001B[39;00m \n",
       "\u001B[0;32m---> 14\u001B[0m \u001B[38;5;28;01mfrom\u001B[39;00m \u001B[38;5;21;01mllmfoundry\u001B[39;00m\u001B[38;5;21;01m.\u001B[39;00m\u001B[38;5;21;01mutils\u001B[39;00m \u001B[38;5;28;01mimport\u001B[39;00m (create_om_cfg, token_counts_with_collate, \n",
       "\u001B[1;32m     15\u001B[0m         check_HF_datasets, is_hf_dataset_path, is_uc_delta_table,\n",
       "\u001B[1;32m     16\u001B[0m         integrity_check, convert_text_to_mds, parse_args, plot_hist,\n",
       "\u001B[1;32m     17\u001B[0m )\n",
       "\u001B[1;32m     19\u001B[0m \u001B[38;5;28;01mfrom\u001B[39;00m \u001B[38;5;21;01mllmfoundry\u001B[39;00m\u001B[38;5;21;01m.\u001B[39;00m\u001B[38;5;21;01mdata\u001B[39;00m\u001B[38;5;21;01m.\u001B[39;00m\u001B[38;5;21;01mfinetuning\u001B[39;00m\u001B[38;5;21;01m.\u001B[39;00m\u001B[38;5;21;01mtasks\u001B[39;00m \u001B[38;5;28;01mimport\u001B[39;00m (_validate_chat_formatted_example,\n",
       "\u001B[1;32m     20\u001B[0m                                               _tokenize_prompt_response_formatted_example,\n",
       "\u001B[1;32m     21\u001B[0m                                               _get_example_type, ChatFormattedDict, PromptResponseDict )\n",
       "\u001B[1;32m     22\u001B[0m \u001B[38;5;28;01mimport\u001B[39;00m \u001B[38;5;21;01mtransformers\u001B[39;00m\n",
       "\n",
       "File \u001B[0;32m/local_disk0/.ephemeral_nfs/envs/pythonEnv-1baf428f-8695-4b74-acc5-37195553cf83/lib/python3.10/site-packages/llmfoundry/__init__.py:29\u001B[0m\n",
       "\u001B[1;32m     16\u001B[0m     \u001B[38;5;28;01mif\u001B[39;00m \u001B[38;5;124m'\u001B[39m\u001B[38;5;124mundefined symbol\u001B[39m\u001B[38;5;124m'\u001B[39m \u001B[38;5;129;01min\u001B[39;00m \u001B[38;5;28mstr\u001B[39m(e):\n",
       "\u001B[1;32m     17\u001B[0m         \u001B[38;5;28;01mraise\u001B[39;00m \u001B[38;5;167;01mImportError\u001B[39;00m(\n",
       "\u001B[1;32m     18\u001B[0m             \u001B[38;5;124m'\u001B[39m\u001B[38;5;124mThe flash_attn package is not installed correctly. Usually this means that your runtime version\u001B[39m\u001B[38;5;124m'\u001B[39m\n",
       "\u001B[1;32m     19\u001B[0m             \u001B[38;5;241m+\u001B[39m\n",
       "\u001B[0;32m   (...)\u001B[0m\n",
       "\u001B[1;32m     26\u001B[0m             \u001B[38;5;124m'\u001B[39m\u001B[38;5;124m in LLM Foundry setup.py and update accordingly. The latest Docker image can be found in the README.\u001B[39m\u001B[38;5;124m'\u001B[39m,\n",
       "\u001B[1;32m     27\u001B[0m         ) \u001B[38;5;28;01mfrom\u001B[39;00m \u001B[38;5;21;01me\u001B[39;00m\n",
       "\u001B[0;32m---> 29\u001B[0m \u001B[38;5;28;01mfrom\u001B[39;00m \u001B[38;5;21;01mllmfoundry\u001B[39;00m\u001B[38;5;21;01m.\u001B[39;00m\u001B[38;5;21;01mutils\u001B[39;00m\u001B[38;5;21;01m.\u001B[39;00m\u001B[38;5;21;01mlogging_utils\u001B[39;00m \u001B[38;5;28;01mimport\u001B[39;00m SpecificWarningFilter\n",
       "\u001B[1;32m     31\u001B[0m \u001B[38;5;66;03m# Filter out Hugging Face warning for not using a pinned revision of the model\u001B[39;00m\n",
       "\u001B[1;32m     32\u001B[0m logger \u001B[38;5;241m=\u001B[39m logging\u001B[38;5;241m.\u001B[39mgetLogger(\u001B[38;5;124m'\u001B[39m\u001B[38;5;124mtransformers.dynamic_module_utils\u001B[39m\u001B[38;5;124m'\u001B[39m)\n",
       "\n",
       "File \u001B[0;32m/local_disk0/.ephemeral_nfs/envs/pythonEnv-1baf428f-8695-4b74-acc5-37195553cf83/lib/python3.10/site-packages/llmfoundry/utils/__init__.py:4\u001B[0m\n",
       "\u001B[1;32m      1\u001B[0m \u001B[38;5;66;03m# Copyright 2022 MosaicML LLM Foundry authors\u001B[39;00m\n",
       "\u001B[1;32m      2\u001B[0m \u001B[38;5;66;03m# SPDX-License-Identifier: Apache-2.0\u001B[39;00m\n",
       "\u001B[0;32m----> 4\u001B[0m \u001B[38;5;28;01mfrom\u001B[39;00m \u001B[38;5;21;01mllmfoundry\u001B[39;00m\u001B[38;5;21;01m.\u001B[39;00m\u001B[38;5;21;01mregistry\u001B[39;00m \u001B[38;5;28;01mimport\u001B[39;00m config_transforms\n",
       "\u001B[1;32m      5\u001B[0m \u001B[38;5;28;01mfrom\u001B[39;00m \u001B[38;5;21;01mllmfoundry\u001B[39;00m\u001B[38;5;21;01m.\u001B[39;00m\u001B[38;5;21;01mutils\u001B[39;00m\u001B[38;5;21;01m.\u001B[39;00m\u001B[38;5;21;01mbuilders\u001B[39;00m \u001B[38;5;28;01mimport\u001B[39;00m (\n",
       "\u001B[1;32m      6\u001B[0m     add_metrics_to_eval_loaders,\n",
       "\u001B[1;32m      7\u001B[0m     build_algorithm,\n",
       "\u001B[0;32m   (...)\u001B[0m\n",
       "\u001B[1;32m     18\u001B[0m     build_tokenizer,\n",
       "\u001B[1;32m     19\u001B[0m )\n",
       "\u001B[1;32m     20\u001B[0m \u001B[38;5;28;01mfrom\u001B[39;00m \u001B[38;5;21;01mllmfoundry\u001B[39;00m\u001B[38;5;21;01m.\u001B[39;00m\u001B[38;5;21;01mutils\u001B[39;00m\u001B[38;5;21;01m.\u001B[39;00m\u001B[38;5;21;01mcheckpoint_conversion_helpers\u001B[39;00m \u001B[38;5;28;01mimport\u001B[39;00m (\n",
       "\u001B[1;32m     21\u001B[0m     convert_and_save_ft_weights,\n",
       "\u001B[1;32m     22\u001B[0m     get_hf_tokenizer_from_composer_state_dict,\n",
       "\u001B[1;32m     23\u001B[0m     load_tokenizer,\n",
       "\u001B[1;32m     24\u001B[0m )\n",
       "\n",
       "File \u001B[0;32m/local_disk0/.ephemeral_nfs/envs/pythonEnv-1baf428f-8695-4b74-acc5-37195553cf83/lib/python3.10/site-packages/llmfoundry/registry.py:17\u001B[0m\n",
       "\u001B[1;32m     14\u001B[0m \u001B[38;5;28;01mfrom\u001B[39;00m \u001B[38;5;21;01mtransformers\u001B[39;00m \u001B[38;5;28;01mimport\u001B[39;00m PreTrainedTokenizerBase\n",
       "\u001B[1;32m     16\u001B[0m \u001B[38;5;28;01mfrom\u001B[39;00m \u001B[38;5;21;01mllmfoundry\u001B[39;00m\u001B[38;5;21;01m.\u001B[39;00m\u001B[38;5;21;01minterfaces\u001B[39;00m \u001B[38;5;28;01mimport\u001B[39;00m CallbackWithConfig\n",
       "\u001B[0;32m---> 17\u001B[0m \u001B[38;5;28;01mfrom\u001B[39;00m \u001B[38;5;21;01mllmfoundry\u001B[39;00m\u001B[38;5;21;01m.\u001B[39;00m\u001B[38;5;21;01mlayers_registry\u001B[39;00m \u001B[38;5;28;01mimport\u001B[39;00m (\n",
       "\u001B[1;32m     18\u001B[0m     attention_classes,\n",
       "\u001B[1;32m     19\u001B[0m     attention_implementations,\n",
       "\u001B[1;32m     20\u001B[0m     fcs,\n",
       "\u001B[1;32m     21\u001B[0m     ffns,\n",
       "\u001B[1;32m     22\u001B[0m     ffns_with_megablocks,\n",
       "\u001B[1;32m     23\u001B[0m     ffns_with_norm,\n",
       "\u001B[1;32m     24\u001B[0m     module_init_fns,\n",
       "\u001B[1;32m     25\u001B[0m     norms,\n",
       "\u001B[1;32m     26\u001B[0m     param_init_fns,\n",
       "\u001B[1;32m     27\u001B[0m )\n",
       "\u001B[1;32m     28\u001B[0m \u001B[38;5;28;01mfrom\u001B[39;00m \u001B[38;5;21;01mllmfoundry\u001B[39;00m\u001B[38;5;21;01m.\u001B[39;00m\u001B[38;5;21;01mutils\u001B[39;00m\u001B[38;5;21;01m.\u001B[39;00m\u001B[38;5;21;01mregistry_utils\u001B[39;00m \u001B[38;5;28;01mimport\u001B[39;00m create_registry\n",
       "\u001B[1;32m     30\u001B[0m _loggers_description \u001B[38;5;241m=\u001B[39m (\n",
       "\u001B[1;32m     31\u001B[0m \u001B[38;5;250m    \u001B[39m\u001B[38;5;124;03m\"\"\"The loggers registry is used to register classes that implement the LoggerDestination interface.\u001B[39;00m\n",
       "\u001B[1;32m     32\u001B[0m \n",
       "\u001B[0;32m   (...)\u001B[0m\n",
       "\u001B[1;32m     41\u001B[0m \u001B[38;5;124;03m    \"\"\"\u001B[39;00m\n",
       "\u001B[1;32m     42\u001B[0m )\n",
       "\n",
       "File \u001B[0;32m/local_disk0/.ephemeral_nfs/envs/pythonEnv-1baf428f-8695-4b74-acc5-37195553cf83/lib/python3.10/site-packages/llmfoundry/layers_registry.py:8\u001B[0m\n",
       "\u001B[1;32m      4\u001B[0m \u001B[38;5;28;01mfrom\u001B[39;00m \u001B[38;5;21;01mtyping\u001B[39;00m \u001B[38;5;28;01mimport\u001B[39;00m Callable, Type\n",
       "\u001B[1;32m      6\u001B[0m \u001B[38;5;28;01mimport\u001B[39;00m \u001B[38;5;21;01mtorch\u001B[39;00m\n",
       "\u001B[0;32m----> 8\u001B[0m \u001B[38;5;28;01mfrom\u001B[39;00m \u001B[38;5;21;01mllmfoundry\u001B[39;00m\u001B[38;5;21;01m.\u001B[39;00m\u001B[38;5;21;01mutils\u001B[39;00m\u001B[38;5;21;01m.\u001B[39;00m\u001B[38;5;21;01mregistry_utils\u001B[39;00m \u001B[38;5;28;01mimport\u001B[39;00m create_registry\n",
       "\u001B[1;32m     10\u001B[0m _norms_description \u001B[38;5;241m=\u001B[39m (\n",
       "\u001B[1;32m     11\u001B[0m \u001B[38;5;250m    \u001B[39m\u001B[38;5;124;03m\"\"\"The norms registry is used to register classes that implement normalization layers.\u001B[39;00m\n",
       "\u001B[1;32m     12\u001B[0m \n",
       "\u001B[0;32m   (...)\u001B[0m\n",
       "\u001B[1;32m     21\u001B[0m \u001B[38;5;124;03m    \"\"\"\u001B[39;00m\n",
       "\u001B[1;32m     22\u001B[0m )\n",
       "\u001B[1;32m     23\u001B[0m norms \u001B[38;5;241m=\u001B[39m create_registry(\n",
       "\u001B[1;32m     24\u001B[0m     \u001B[38;5;124m'\u001B[39m\u001B[38;5;124mllmfoundry\u001B[39m\u001B[38;5;124m'\u001B[39m,\n",
       "\u001B[1;32m     25\u001B[0m     \u001B[38;5;124m'\u001B[39m\u001B[38;5;124mnorms\u001B[39m\u001B[38;5;124m'\u001B[39m,\n",
       "\u001B[0;32m   (...)\u001B[0m\n",
       "\u001B[1;32m     28\u001B[0m     description\u001B[38;5;241m=\u001B[39m_norms_description,\n",
       "\u001B[1;32m     29\u001B[0m )\n",
       "\n",
       "File \u001B[0;32m/local_disk0/.ephemeral_nfs/envs/pythonEnv-1baf428f-8695-4b74-acc5-37195553cf83/lib/python3.10/site-packages/llmfoundry/utils/registry_utils.py:23\u001B[0m\n",
       "\u001B[1;32m     10\u001B[0m \u001B[38;5;28;01mfrom\u001B[39;00m \u001B[38;5;21;01mtypes\u001B[39;00m \u001B[38;5;28;01mimport\u001B[39;00m ModuleType\n",
       "\u001B[1;32m     11\u001B[0m \u001B[38;5;28;01mfrom\u001B[39;00m \u001B[38;5;21;01mtyping\u001B[39;00m \u001B[38;5;28;01mimport\u001B[39;00m (\n",
       "\u001B[1;32m     12\u001B[0m     Any,\n",
       "\u001B[1;32m     13\u001B[0m     Callable,\n",
       "\u001B[0;32m   (...)\u001B[0m\n",
       "\u001B[1;32m     20\u001B[0m     Union,\n",
       "\u001B[1;32m     21\u001B[0m )\n",
       "\u001B[0;32m---> 23\u001B[0m \u001B[38;5;28;01mimport\u001B[39;00m \u001B[38;5;21;01mcatalogue\u001B[39;00m\n",
       "\u001B[1;32m     25\u001B[0m __all__ \u001B[38;5;241m=\u001B[39m [\n",
       "\u001B[1;32m     26\u001B[0m     \u001B[38;5;124m'\u001B[39m\u001B[38;5;124mTypedRegistry\u001B[39m\u001B[38;5;124m'\u001B[39m,\n",
       "\u001B[1;32m     27\u001B[0m     \u001B[38;5;124m'\u001B[39m\u001B[38;5;124mcreate_registry\u001B[39m\u001B[38;5;124m'\u001B[39m,\n",
       "\u001B[0;32m   (...)\u001B[0m\n",
       "\u001B[1;32m     30\u001B[0m     \u001B[38;5;124m'\u001B[39m\u001B[38;5;124msave_registry\u001B[39m\u001B[38;5;124m'\u001B[39m,\n",
       "\u001B[1;32m     31\u001B[0m ]\n",
       "\u001B[1;32m     33\u001B[0m T \u001B[38;5;241m=\u001B[39m TypeVar(\u001B[38;5;124m'\u001B[39m\u001B[38;5;124mT\u001B[39m\u001B[38;5;124m'\u001B[39m)\n",
       "\n",
       "\u001B[0;31mModuleNotFoundError\u001B[0m: No module named 'catalogue'"
      ]
     },
     "metadata": {
      "application/vnd.databricks.v1+output": {
       "addedWidgets": {},
       "arguments": {},
       "datasetInfos": [],
       "jupyterProps": {
        "ename": "ModuleNotFoundError",
        "evalue": "No module named 'catalogue'"
       },
       "metadata": {
        "errorSummary": "Command skipped"
       },
       "removedWidgets": [],
       "sqlProps": null,
       "stackFrames": [
        "\u001B[0;31m---------------------------------------------------------------------------\u001B[0m",
        "\u001B[0;31mModuleNotFoundError\u001B[0m                       Traceback (most recent call last)",
        "File \u001B[0;32m<command-2691292108300970>, line 14\u001B[0m\n\u001B[1;32m     10\u001B[0m \u001B[38;5;28;01mfrom\u001B[39;00m \u001B[38;5;21;01mtyping\u001B[39;00m \u001B[38;5;28;01mimport\u001B[39;00m cast \n\u001B[1;32m     12\u001B[0m \u001B[38;5;28;01mimport\u001B[39;00m \u001B[38;5;21;01mdatasets\u001B[39;00m \n\u001B[0;32m---> 14\u001B[0m \u001B[38;5;28;01mfrom\u001B[39;00m \u001B[38;5;21;01mllmfoundry\u001B[39;00m\u001B[38;5;21;01m.\u001B[39;00m\u001B[38;5;21;01mutils\u001B[39;00m \u001B[38;5;28;01mimport\u001B[39;00m (create_om_cfg, token_counts_with_collate, \n\u001B[1;32m     15\u001B[0m         check_HF_datasets, is_hf_dataset_path, is_uc_delta_table,\n\u001B[1;32m     16\u001B[0m         integrity_check, convert_text_to_mds, parse_args, plot_hist,\n\u001B[1;32m     17\u001B[0m )\n\u001B[1;32m     19\u001B[0m \u001B[38;5;28;01mfrom\u001B[39;00m \u001B[38;5;21;01mllmfoundry\u001B[39;00m\u001B[38;5;21;01m.\u001B[39;00m\u001B[38;5;21;01mdata\u001B[39;00m\u001B[38;5;21;01m.\u001B[39;00m\u001B[38;5;21;01mfinetuning\u001B[39;00m\u001B[38;5;21;01m.\u001B[39;00m\u001B[38;5;21;01mtasks\u001B[39;00m \u001B[38;5;28;01mimport\u001B[39;00m (_validate_chat_formatted_example,\n\u001B[1;32m     20\u001B[0m                                               _tokenize_prompt_response_formatted_example,\n\u001B[1;32m     21\u001B[0m                                               _get_example_type, ChatFormattedDict, PromptResponseDict )\n\u001B[1;32m     22\u001B[0m \u001B[38;5;28;01mimport\u001B[39;00m \u001B[38;5;21;01mtransformers\u001B[39;00m\n",
        "File \u001B[0;32m/local_disk0/.ephemeral_nfs/envs/pythonEnv-1baf428f-8695-4b74-acc5-37195553cf83/lib/python3.10/site-packages/llmfoundry/__init__.py:29\u001B[0m\n\u001B[1;32m     16\u001B[0m     \u001B[38;5;28;01mif\u001B[39;00m \u001B[38;5;124m'\u001B[39m\u001B[38;5;124mundefined symbol\u001B[39m\u001B[38;5;124m'\u001B[39m \u001B[38;5;129;01min\u001B[39;00m \u001B[38;5;28mstr\u001B[39m(e):\n\u001B[1;32m     17\u001B[0m         \u001B[38;5;28;01mraise\u001B[39;00m \u001B[38;5;167;01mImportError\u001B[39;00m(\n\u001B[1;32m     18\u001B[0m             \u001B[38;5;124m'\u001B[39m\u001B[38;5;124mThe flash_attn package is not installed correctly. Usually this means that your runtime version\u001B[39m\u001B[38;5;124m'\u001B[39m\n\u001B[1;32m     19\u001B[0m             \u001B[38;5;241m+\u001B[39m\n\u001B[0;32m   (...)\u001B[0m\n\u001B[1;32m     26\u001B[0m             \u001B[38;5;124m'\u001B[39m\u001B[38;5;124m in LLM Foundry setup.py and update accordingly. The latest Docker image can be found in the README.\u001B[39m\u001B[38;5;124m'\u001B[39m,\n\u001B[1;32m     27\u001B[0m         ) \u001B[38;5;28;01mfrom\u001B[39;00m \u001B[38;5;21;01me\u001B[39;00m\n\u001B[0;32m---> 29\u001B[0m \u001B[38;5;28;01mfrom\u001B[39;00m \u001B[38;5;21;01mllmfoundry\u001B[39;00m\u001B[38;5;21;01m.\u001B[39;00m\u001B[38;5;21;01mutils\u001B[39;00m\u001B[38;5;21;01m.\u001B[39;00m\u001B[38;5;21;01mlogging_utils\u001B[39;00m \u001B[38;5;28;01mimport\u001B[39;00m SpecificWarningFilter\n\u001B[1;32m     31\u001B[0m \u001B[38;5;66;03m# Filter out Hugging Face warning for not using a pinned revision of the model\u001B[39;00m\n\u001B[1;32m     32\u001B[0m logger \u001B[38;5;241m=\u001B[39m logging\u001B[38;5;241m.\u001B[39mgetLogger(\u001B[38;5;124m'\u001B[39m\u001B[38;5;124mtransformers.dynamic_module_utils\u001B[39m\u001B[38;5;124m'\u001B[39m)\n",
        "File \u001B[0;32m/local_disk0/.ephemeral_nfs/envs/pythonEnv-1baf428f-8695-4b74-acc5-37195553cf83/lib/python3.10/site-packages/llmfoundry/utils/__init__.py:4\u001B[0m\n\u001B[1;32m      1\u001B[0m \u001B[38;5;66;03m# Copyright 2022 MosaicML LLM Foundry authors\u001B[39;00m\n\u001B[1;32m      2\u001B[0m \u001B[38;5;66;03m# SPDX-License-Identifier: Apache-2.0\u001B[39;00m\n\u001B[0;32m----> 4\u001B[0m \u001B[38;5;28;01mfrom\u001B[39;00m \u001B[38;5;21;01mllmfoundry\u001B[39;00m\u001B[38;5;21;01m.\u001B[39;00m\u001B[38;5;21;01mregistry\u001B[39;00m \u001B[38;5;28;01mimport\u001B[39;00m config_transforms\n\u001B[1;32m      5\u001B[0m \u001B[38;5;28;01mfrom\u001B[39;00m \u001B[38;5;21;01mllmfoundry\u001B[39;00m\u001B[38;5;21;01m.\u001B[39;00m\u001B[38;5;21;01mutils\u001B[39;00m\u001B[38;5;21;01m.\u001B[39;00m\u001B[38;5;21;01mbuilders\u001B[39;00m \u001B[38;5;28;01mimport\u001B[39;00m (\n\u001B[1;32m      6\u001B[0m     add_metrics_to_eval_loaders,\n\u001B[1;32m      7\u001B[0m     build_algorithm,\n\u001B[0;32m   (...)\u001B[0m\n\u001B[1;32m     18\u001B[0m     build_tokenizer,\n\u001B[1;32m     19\u001B[0m )\n\u001B[1;32m     20\u001B[0m \u001B[38;5;28;01mfrom\u001B[39;00m \u001B[38;5;21;01mllmfoundry\u001B[39;00m\u001B[38;5;21;01m.\u001B[39;00m\u001B[38;5;21;01mutils\u001B[39;00m\u001B[38;5;21;01m.\u001B[39;00m\u001B[38;5;21;01mcheckpoint_conversion_helpers\u001B[39;00m \u001B[38;5;28;01mimport\u001B[39;00m (\n\u001B[1;32m     21\u001B[0m     convert_and_save_ft_weights,\n\u001B[1;32m     22\u001B[0m     get_hf_tokenizer_from_composer_state_dict,\n\u001B[1;32m     23\u001B[0m     load_tokenizer,\n\u001B[1;32m     24\u001B[0m )\n",
        "File \u001B[0;32m/local_disk0/.ephemeral_nfs/envs/pythonEnv-1baf428f-8695-4b74-acc5-37195553cf83/lib/python3.10/site-packages/llmfoundry/registry.py:17\u001B[0m\n\u001B[1;32m     14\u001B[0m \u001B[38;5;28;01mfrom\u001B[39;00m \u001B[38;5;21;01mtransformers\u001B[39;00m \u001B[38;5;28;01mimport\u001B[39;00m PreTrainedTokenizerBase\n\u001B[1;32m     16\u001B[0m \u001B[38;5;28;01mfrom\u001B[39;00m \u001B[38;5;21;01mllmfoundry\u001B[39;00m\u001B[38;5;21;01m.\u001B[39;00m\u001B[38;5;21;01minterfaces\u001B[39;00m \u001B[38;5;28;01mimport\u001B[39;00m CallbackWithConfig\n\u001B[0;32m---> 17\u001B[0m \u001B[38;5;28;01mfrom\u001B[39;00m \u001B[38;5;21;01mllmfoundry\u001B[39;00m\u001B[38;5;21;01m.\u001B[39;00m\u001B[38;5;21;01mlayers_registry\u001B[39;00m \u001B[38;5;28;01mimport\u001B[39;00m (\n\u001B[1;32m     18\u001B[0m     attention_classes,\n\u001B[1;32m     19\u001B[0m     attention_implementations,\n\u001B[1;32m     20\u001B[0m     fcs,\n\u001B[1;32m     21\u001B[0m     ffns,\n\u001B[1;32m     22\u001B[0m     ffns_with_megablocks,\n\u001B[1;32m     23\u001B[0m     ffns_with_norm,\n\u001B[1;32m     24\u001B[0m     module_init_fns,\n\u001B[1;32m     25\u001B[0m     norms,\n\u001B[1;32m     26\u001B[0m     param_init_fns,\n\u001B[1;32m     27\u001B[0m )\n\u001B[1;32m     28\u001B[0m \u001B[38;5;28;01mfrom\u001B[39;00m \u001B[38;5;21;01mllmfoundry\u001B[39;00m\u001B[38;5;21;01m.\u001B[39;00m\u001B[38;5;21;01mutils\u001B[39;00m\u001B[38;5;21;01m.\u001B[39;00m\u001B[38;5;21;01mregistry_utils\u001B[39;00m \u001B[38;5;28;01mimport\u001B[39;00m create_registry\n\u001B[1;32m     30\u001B[0m _loggers_description \u001B[38;5;241m=\u001B[39m (\n\u001B[1;32m     31\u001B[0m \u001B[38;5;250m    \u001B[39m\u001B[38;5;124;03m\"\"\"The loggers registry is used to register classes that implement the LoggerDestination interface.\u001B[39;00m\n\u001B[1;32m     32\u001B[0m \n\u001B[0;32m   (...)\u001B[0m\n\u001B[1;32m     41\u001B[0m \u001B[38;5;124;03m    \"\"\"\u001B[39;00m\n\u001B[1;32m     42\u001B[0m )\n",
        "File \u001B[0;32m/local_disk0/.ephemeral_nfs/envs/pythonEnv-1baf428f-8695-4b74-acc5-37195553cf83/lib/python3.10/site-packages/llmfoundry/layers_registry.py:8\u001B[0m\n\u001B[1;32m      4\u001B[0m \u001B[38;5;28;01mfrom\u001B[39;00m \u001B[38;5;21;01mtyping\u001B[39;00m \u001B[38;5;28;01mimport\u001B[39;00m Callable, Type\n\u001B[1;32m      6\u001B[0m \u001B[38;5;28;01mimport\u001B[39;00m \u001B[38;5;21;01mtorch\u001B[39;00m\n\u001B[0;32m----> 8\u001B[0m \u001B[38;5;28;01mfrom\u001B[39;00m \u001B[38;5;21;01mllmfoundry\u001B[39;00m\u001B[38;5;21;01m.\u001B[39;00m\u001B[38;5;21;01mutils\u001B[39;00m\u001B[38;5;21;01m.\u001B[39;00m\u001B[38;5;21;01mregistry_utils\u001B[39;00m \u001B[38;5;28;01mimport\u001B[39;00m create_registry\n\u001B[1;32m     10\u001B[0m _norms_description \u001B[38;5;241m=\u001B[39m (\n\u001B[1;32m     11\u001B[0m \u001B[38;5;250m    \u001B[39m\u001B[38;5;124;03m\"\"\"The norms registry is used to register classes that implement normalization layers.\u001B[39;00m\n\u001B[1;32m     12\u001B[0m \n\u001B[0;32m   (...)\u001B[0m\n\u001B[1;32m     21\u001B[0m \u001B[38;5;124;03m    \"\"\"\u001B[39;00m\n\u001B[1;32m     22\u001B[0m )\n\u001B[1;32m     23\u001B[0m norms \u001B[38;5;241m=\u001B[39m create_registry(\n\u001B[1;32m     24\u001B[0m     \u001B[38;5;124m'\u001B[39m\u001B[38;5;124mllmfoundry\u001B[39m\u001B[38;5;124m'\u001B[39m,\n\u001B[1;32m     25\u001B[0m     \u001B[38;5;124m'\u001B[39m\u001B[38;5;124mnorms\u001B[39m\u001B[38;5;124m'\u001B[39m,\n\u001B[0;32m   (...)\u001B[0m\n\u001B[1;32m     28\u001B[0m     description\u001B[38;5;241m=\u001B[39m_norms_description,\n\u001B[1;32m     29\u001B[0m )\n",
        "File \u001B[0;32m/local_disk0/.ephemeral_nfs/envs/pythonEnv-1baf428f-8695-4b74-acc5-37195553cf83/lib/python3.10/site-packages/llmfoundry/utils/registry_utils.py:23\u001B[0m\n\u001B[1;32m     10\u001B[0m \u001B[38;5;28;01mfrom\u001B[39;00m \u001B[38;5;21;01mtypes\u001B[39;00m \u001B[38;5;28;01mimport\u001B[39;00m ModuleType\n\u001B[1;32m     11\u001B[0m \u001B[38;5;28;01mfrom\u001B[39;00m \u001B[38;5;21;01mtyping\u001B[39;00m \u001B[38;5;28;01mimport\u001B[39;00m (\n\u001B[1;32m     12\u001B[0m     Any,\n\u001B[1;32m     13\u001B[0m     Callable,\n\u001B[0;32m   (...)\u001B[0m\n\u001B[1;32m     20\u001B[0m     Union,\n\u001B[1;32m     21\u001B[0m )\n\u001B[0;32m---> 23\u001B[0m \u001B[38;5;28;01mimport\u001B[39;00m \u001B[38;5;21;01mcatalogue\u001B[39;00m\n\u001B[1;32m     25\u001B[0m __all__ \u001B[38;5;241m=\u001B[39m [\n\u001B[1;32m     26\u001B[0m     \u001B[38;5;124m'\u001B[39m\u001B[38;5;124mTypedRegistry\u001B[39m\u001B[38;5;124m'\u001B[39m,\n\u001B[1;32m     27\u001B[0m     \u001B[38;5;124m'\u001B[39m\u001B[38;5;124mcreate_registry\u001B[39m\u001B[38;5;124m'\u001B[39m,\n\u001B[0;32m   (...)\u001B[0m\n\u001B[1;32m     30\u001B[0m     \u001B[38;5;124m'\u001B[39m\u001B[38;5;124msave_registry\u001B[39m\u001B[38;5;124m'\u001B[39m,\n\u001B[1;32m     31\u001B[0m ]\n\u001B[1;32m     33\u001B[0m T \u001B[38;5;241m=\u001B[39m TypeVar(\u001B[38;5;124m'\u001B[39m\u001B[38;5;124mT\u001B[39m\u001B[38;5;124m'\u001B[39m)\n",
        "\u001B[0;31mModuleNotFoundError\u001B[0m: No module named 'catalogue'"
       ],
       "type": "baseError"
      }
     },
     "output_type": "display_data"
    }
   ],
   "source": [
    "def generate_synthetic_dataset(folder_path, num_files=128):\n",
    "    \"\"\"Generate a synthetic dataset of text files with random words.\"\"\"\n",
    "    def generate_random_words(num_words=50):\n",
    "        words = [\"apple\", \"banana\", \"cherry\", \"date\", \"elderberry\", \"fig\", \"grape\", \"honeydew\", \"kiwi\", \"lemon\", \"mango\", \"nectarine\", \"orange\", \"papaya\", \"quince\", \"raspberry\", \"strawberry\", \"tangerine\", \"ugli\", \"vanilla\", \"watermelon\", \"xigua\", \"yam\", \"zucchini\"]\n",
    "        return ' '.join(random.choice(words) for _ in range(num_words))\n",
    "\n",
    "    if not os.path.exists(folder_path):\n",
    "        os.makedirs(folder_path)\n",
    "    \n",
    "    for i in range(num_files):\n",
    "        file_path = os.path.join(folder_path, f\"file_{i}.txt\")\n",
    "        with open(file_path, 'w') as file:\n",
    "            file.write(generate_random_words())\n",
    "\n",
    "    print(f\"Generated {num_files} files in '{folder_path}'.\")\n",
    "\n",
    "generate_synthetic_dataset(FT_API_args.train_data_path)"
   ]
  },
  {
   "cell_type": "code",
   "execution_count": 0,
   "metadata": {
    "application/vnd.databricks.v1+cell": {
     "cellMetadata": {
      "byteLimit": 2048000,
      "rowLimit": 10000
     },
     "inputWidgets": {},
     "nuid": "34bcddfb-7d4f-4243-bd02-7ac3e0dce711",
     "showTitle": false,
     "title": ""
    }
   },
   "outputs": [
    {
     "output_type": "display_data",
     "data": {
      "text/plain": [
       "\u001B[0;31m---------------------------------------------------------------------------\u001B[0m\n",
       "\u001B[0;31mModuleNotFoundError\u001B[0m                       Traceback (most recent call last)\n",
       "File \u001B[0;32m<command-2691292108300970>, line 14\u001B[0m\n",
       "\u001B[1;32m     10\u001B[0m \u001B[38;5;28;01mfrom\u001B[39;00m \u001B[38;5;21;01mtyping\u001B[39;00m \u001B[38;5;28;01mimport\u001B[39;00m cast \n",
       "\u001B[1;32m     12\u001B[0m \u001B[38;5;28;01mimport\u001B[39;00m \u001B[38;5;21;01mdatasets\u001B[39;00m \n",
       "\u001B[0;32m---> 14\u001B[0m \u001B[38;5;28;01mfrom\u001B[39;00m \u001B[38;5;21;01mllmfoundry\u001B[39;00m\u001B[38;5;21;01m.\u001B[39;00m\u001B[38;5;21;01mutils\u001B[39;00m \u001B[38;5;28;01mimport\u001B[39;00m (create_om_cfg, token_counts_with_collate, \n",
       "\u001B[1;32m     15\u001B[0m         check_HF_datasets, is_hf_dataset_path, is_uc_delta_table,\n",
       "\u001B[1;32m     16\u001B[0m         integrity_check, convert_text_to_mds, parse_args, plot_hist,\n",
       "\u001B[1;32m     17\u001B[0m )\n",
       "\u001B[1;32m     19\u001B[0m \u001B[38;5;28;01mfrom\u001B[39;00m \u001B[38;5;21;01mllmfoundry\u001B[39;00m\u001B[38;5;21;01m.\u001B[39;00m\u001B[38;5;21;01mdata\u001B[39;00m\u001B[38;5;21;01m.\u001B[39;00m\u001B[38;5;21;01mfinetuning\u001B[39;00m\u001B[38;5;21;01m.\u001B[39;00m\u001B[38;5;21;01mtasks\u001B[39;00m \u001B[38;5;28;01mimport\u001B[39;00m (_validate_chat_formatted_example,\n",
       "\u001B[1;32m     20\u001B[0m                                               _tokenize_prompt_response_formatted_example,\n",
       "\u001B[1;32m     21\u001B[0m                                               _get_example_type, ChatFormattedDict, PromptResponseDict )\n",
       "\u001B[1;32m     22\u001B[0m \u001B[38;5;28;01mimport\u001B[39;00m \u001B[38;5;21;01mtransformers\u001B[39;00m\n",
       "\n",
       "File \u001B[0;32m/local_disk0/.ephemeral_nfs/envs/pythonEnv-1baf428f-8695-4b74-acc5-37195553cf83/lib/python3.10/site-packages/llmfoundry/__init__.py:29\u001B[0m\n",
       "\u001B[1;32m     16\u001B[0m     \u001B[38;5;28;01mif\u001B[39;00m \u001B[38;5;124m'\u001B[39m\u001B[38;5;124mundefined symbol\u001B[39m\u001B[38;5;124m'\u001B[39m \u001B[38;5;129;01min\u001B[39;00m \u001B[38;5;28mstr\u001B[39m(e):\n",
       "\u001B[1;32m     17\u001B[0m         \u001B[38;5;28;01mraise\u001B[39;00m \u001B[38;5;167;01mImportError\u001B[39;00m(\n",
       "\u001B[1;32m     18\u001B[0m             \u001B[38;5;124m'\u001B[39m\u001B[38;5;124mThe flash_attn package is not installed correctly. Usually this means that your runtime version\u001B[39m\u001B[38;5;124m'\u001B[39m\n",
       "\u001B[1;32m     19\u001B[0m             \u001B[38;5;241m+\u001B[39m\n",
       "\u001B[0;32m   (...)\u001B[0m\n",
       "\u001B[1;32m     26\u001B[0m             \u001B[38;5;124m'\u001B[39m\u001B[38;5;124m in LLM Foundry setup.py and update accordingly. The latest Docker image can be found in the README.\u001B[39m\u001B[38;5;124m'\u001B[39m,\n",
       "\u001B[1;32m     27\u001B[0m         ) \u001B[38;5;28;01mfrom\u001B[39;00m \u001B[38;5;21;01me\u001B[39;00m\n",
       "\u001B[0;32m---> 29\u001B[0m \u001B[38;5;28;01mfrom\u001B[39;00m \u001B[38;5;21;01mllmfoundry\u001B[39;00m\u001B[38;5;21;01m.\u001B[39;00m\u001B[38;5;21;01mutils\u001B[39;00m\u001B[38;5;21;01m.\u001B[39;00m\u001B[38;5;21;01mlogging_utils\u001B[39;00m \u001B[38;5;28;01mimport\u001B[39;00m SpecificWarningFilter\n",
       "\u001B[1;32m     31\u001B[0m \u001B[38;5;66;03m# Filter out Hugging Face warning for not using a pinned revision of the model\u001B[39;00m\n",
       "\u001B[1;32m     32\u001B[0m logger \u001B[38;5;241m=\u001B[39m logging\u001B[38;5;241m.\u001B[39mgetLogger(\u001B[38;5;124m'\u001B[39m\u001B[38;5;124mtransformers.dynamic_module_utils\u001B[39m\u001B[38;5;124m'\u001B[39m)\n",
       "\n",
       "File \u001B[0;32m/local_disk0/.ephemeral_nfs/envs/pythonEnv-1baf428f-8695-4b74-acc5-37195553cf83/lib/python3.10/site-packages/llmfoundry/utils/__init__.py:4\u001B[0m\n",
       "\u001B[1;32m      1\u001B[0m \u001B[38;5;66;03m# Copyright 2022 MosaicML LLM Foundry authors\u001B[39;00m\n",
       "\u001B[1;32m      2\u001B[0m \u001B[38;5;66;03m# SPDX-License-Identifier: Apache-2.0\u001B[39;00m\n",
       "\u001B[0;32m----> 4\u001B[0m \u001B[38;5;28;01mfrom\u001B[39;00m \u001B[38;5;21;01mllmfoundry\u001B[39;00m\u001B[38;5;21;01m.\u001B[39;00m\u001B[38;5;21;01mregistry\u001B[39;00m \u001B[38;5;28;01mimport\u001B[39;00m config_transforms\n",
       "\u001B[1;32m      5\u001B[0m \u001B[38;5;28;01mfrom\u001B[39;00m \u001B[38;5;21;01mllmfoundry\u001B[39;00m\u001B[38;5;21;01m.\u001B[39;00m\u001B[38;5;21;01mutils\u001B[39;00m\u001B[38;5;21;01m.\u001B[39;00m\u001B[38;5;21;01mbuilders\u001B[39;00m \u001B[38;5;28;01mimport\u001B[39;00m (\n",
       "\u001B[1;32m      6\u001B[0m     add_metrics_to_eval_loaders,\n",
       "\u001B[1;32m      7\u001B[0m     build_algorithm,\n",
       "\u001B[0;32m   (...)\u001B[0m\n",
       "\u001B[1;32m     18\u001B[0m     build_tokenizer,\n",
       "\u001B[1;32m     19\u001B[0m )\n",
       "\u001B[1;32m     20\u001B[0m \u001B[38;5;28;01mfrom\u001B[39;00m \u001B[38;5;21;01mllmfoundry\u001B[39;00m\u001B[38;5;21;01m.\u001B[39;00m\u001B[38;5;21;01mutils\u001B[39;00m\u001B[38;5;21;01m.\u001B[39;00m\u001B[38;5;21;01mcheckpoint_conversion_helpers\u001B[39;00m \u001B[38;5;28;01mimport\u001B[39;00m (\n",
       "\u001B[1;32m     21\u001B[0m     convert_and_save_ft_weights,\n",
       "\u001B[1;32m     22\u001B[0m     get_hf_tokenizer_from_composer_state_dict,\n",
       "\u001B[1;32m     23\u001B[0m     load_tokenizer,\n",
       "\u001B[1;32m     24\u001B[0m )\n",
       "\n",
       "File \u001B[0;32m/local_disk0/.ephemeral_nfs/envs/pythonEnv-1baf428f-8695-4b74-acc5-37195553cf83/lib/python3.10/site-packages/llmfoundry/registry.py:17\u001B[0m\n",
       "\u001B[1;32m     14\u001B[0m \u001B[38;5;28;01mfrom\u001B[39;00m \u001B[38;5;21;01mtransformers\u001B[39;00m \u001B[38;5;28;01mimport\u001B[39;00m PreTrainedTokenizerBase\n",
       "\u001B[1;32m     16\u001B[0m \u001B[38;5;28;01mfrom\u001B[39;00m \u001B[38;5;21;01mllmfoundry\u001B[39;00m\u001B[38;5;21;01m.\u001B[39;00m\u001B[38;5;21;01minterfaces\u001B[39;00m \u001B[38;5;28;01mimport\u001B[39;00m CallbackWithConfig\n",
       "\u001B[0;32m---> 17\u001B[0m \u001B[38;5;28;01mfrom\u001B[39;00m \u001B[38;5;21;01mllmfoundry\u001B[39;00m\u001B[38;5;21;01m.\u001B[39;00m\u001B[38;5;21;01mlayers_registry\u001B[39;00m \u001B[38;5;28;01mimport\u001B[39;00m (\n",
       "\u001B[1;32m     18\u001B[0m     attention_classes,\n",
       "\u001B[1;32m     19\u001B[0m     attention_implementations,\n",
       "\u001B[1;32m     20\u001B[0m     fcs,\n",
       "\u001B[1;32m     21\u001B[0m     ffns,\n",
       "\u001B[1;32m     22\u001B[0m     ffns_with_megablocks,\n",
       "\u001B[1;32m     23\u001B[0m     ffns_with_norm,\n",
       "\u001B[1;32m     24\u001B[0m     module_init_fns,\n",
       "\u001B[1;32m     25\u001B[0m     norms,\n",
       "\u001B[1;32m     26\u001B[0m     param_init_fns,\n",
       "\u001B[1;32m     27\u001B[0m )\n",
       "\u001B[1;32m     28\u001B[0m \u001B[38;5;28;01mfrom\u001B[39;00m \u001B[38;5;21;01mllmfoundry\u001B[39;00m\u001B[38;5;21;01m.\u001B[39;00m\u001B[38;5;21;01mutils\u001B[39;00m\u001B[38;5;21;01m.\u001B[39;00m\u001B[38;5;21;01mregistry_utils\u001B[39;00m \u001B[38;5;28;01mimport\u001B[39;00m create_registry\n",
       "\u001B[1;32m     30\u001B[0m _loggers_description \u001B[38;5;241m=\u001B[39m (\n",
       "\u001B[1;32m     31\u001B[0m \u001B[38;5;250m    \u001B[39m\u001B[38;5;124;03m\"\"\"The loggers registry is used to register classes that implement the LoggerDestination interface.\u001B[39;00m\n",
       "\u001B[1;32m     32\u001B[0m \n",
       "\u001B[0;32m   (...)\u001B[0m\n",
       "\u001B[1;32m     41\u001B[0m \u001B[38;5;124;03m    \"\"\"\u001B[39;00m\n",
       "\u001B[1;32m     42\u001B[0m )\n",
       "\n",
       "File \u001B[0;32m/local_disk0/.ephemeral_nfs/envs/pythonEnv-1baf428f-8695-4b74-acc5-37195553cf83/lib/python3.10/site-packages/llmfoundry/layers_registry.py:8\u001B[0m\n",
       "\u001B[1;32m      4\u001B[0m \u001B[38;5;28;01mfrom\u001B[39;00m \u001B[38;5;21;01mtyping\u001B[39;00m \u001B[38;5;28;01mimport\u001B[39;00m Callable, Type\n",
       "\u001B[1;32m      6\u001B[0m \u001B[38;5;28;01mimport\u001B[39;00m \u001B[38;5;21;01mtorch\u001B[39;00m\n",
       "\u001B[0;32m----> 8\u001B[0m \u001B[38;5;28;01mfrom\u001B[39;00m \u001B[38;5;21;01mllmfoundry\u001B[39;00m\u001B[38;5;21;01m.\u001B[39;00m\u001B[38;5;21;01mutils\u001B[39;00m\u001B[38;5;21;01m.\u001B[39;00m\u001B[38;5;21;01mregistry_utils\u001B[39;00m \u001B[38;5;28;01mimport\u001B[39;00m create_registry\n",
       "\u001B[1;32m     10\u001B[0m _norms_description \u001B[38;5;241m=\u001B[39m (\n",
       "\u001B[1;32m     11\u001B[0m \u001B[38;5;250m    \u001B[39m\u001B[38;5;124;03m\"\"\"The norms registry is used to register classes that implement normalization layers.\u001B[39;00m\n",
       "\u001B[1;32m     12\u001B[0m \n",
       "\u001B[0;32m   (...)\u001B[0m\n",
       "\u001B[1;32m     21\u001B[0m \u001B[38;5;124;03m    \"\"\"\u001B[39;00m\n",
       "\u001B[1;32m     22\u001B[0m )\n",
       "\u001B[1;32m     23\u001B[0m norms \u001B[38;5;241m=\u001B[39m create_registry(\n",
       "\u001B[1;32m     24\u001B[0m     \u001B[38;5;124m'\u001B[39m\u001B[38;5;124mllmfoundry\u001B[39m\u001B[38;5;124m'\u001B[39m,\n",
       "\u001B[1;32m     25\u001B[0m     \u001B[38;5;124m'\u001B[39m\u001B[38;5;124mnorms\u001B[39m\u001B[38;5;124m'\u001B[39m,\n",
       "\u001B[0;32m   (...)\u001B[0m\n",
       "\u001B[1;32m     28\u001B[0m     description\u001B[38;5;241m=\u001B[39m_norms_description,\n",
       "\u001B[1;32m     29\u001B[0m )\n",
       "\n",
       "File \u001B[0;32m/local_disk0/.ephemeral_nfs/envs/pythonEnv-1baf428f-8695-4b74-acc5-37195553cf83/lib/python3.10/site-packages/llmfoundry/utils/registry_utils.py:23\u001B[0m\n",
       "\u001B[1;32m     10\u001B[0m \u001B[38;5;28;01mfrom\u001B[39;00m \u001B[38;5;21;01mtypes\u001B[39;00m \u001B[38;5;28;01mimport\u001B[39;00m ModuleType\n",
       "\u001B[1;32m     11\u001B[0m \u001B[38;5;28;01mfrom\u001B[39;00m \u001B[38;5;21;01mtyping\u001B[39;00m \u001B[38;5;28;01mimport\u001B[39;00m (\n",
       "\u001B[1;32m     12\u001B[0m     Any,\n",
       "\u001B[1;32m     13\u001B[0m     Callable,\n",
       "\u001B[0;32m   (...)\u001B[0m\n",
       "\u001B[1;32m     20\u001B[0m     Union,\n",
       "\u001B[1;32m     21\u001B[0m )\n",
       "\u001B[0;32m---> 23\u001B[0m \u001B[38;5;28;01mimport\u001B[39;00m \u001B[38;5;21;01mcatalogue\u001B[39;00m\n",
       "\u001B[1;32m     25\u001B[0m __all__ \u001B[38;5;241m=\u001B[39m [\n",
       "\u001B[1;32m     26\u001B[0m     \u001B[38;5;124m'\u001B[39m\u001B[38;5;124mTypedRegistry\u001B[39m\u001B[38;5;124m'\u001B[39m,\n",
       "\u001B[1;32m     27\u001B[0m     \u001B[38;5;124m'\u001B[39m\u001B[38;5;124mcreate_registry\u001B[39m\u001B[38;5;124m'\u001B[39m,\n",
       "\u001B[0;32m   (...)\u001B[0m\n",
       "\u001B[1;32m     30\u001B[0m     \u001B[38;5;124m'\u001B[39m\u001B[38;5;124msave_registry\u001B[39m\u001B[38;5;124m'\u001B[39m,\n",
       "\u001B[1;32m     31\u001B[0m ]\n",
       "\u001B[1;32m     33\u001B[0m T \u001B[38;5;241m=\u001B[39m TypeVar(\u001B[38;5;124m'\u001B[39m\u001B[38;5;124mT\u001B[39m\u001B[38;5;124m'\u001B[39m)\n",
       "\n",
       "\u001B[0;31mModuleNotFoundError\u001B[0m: No module named 'catalogue'"
      ]
     },
     "metadata": {
      "application/vnd.databricks.v1+output": {
       "addedWidgets": {},
       "arguments": {},
       "datasetInfos": [],
       "jupyterProps": {
        "ename": "ModuleNotFoundError",
        "evalue": "No module named 'catalogue'"
       },
       "metadata": {
        "errorSummary": "Command skipped"
       },
       "removedWidgets": [],
       "sqlProps": null,
       "stackFrames": [
        "\u001B[0;31m---------------------------------------------------------------------------\u001B[0m",
        "\u001B[0;31mModuleNotFoundError\u001B[0m                       Traceback (most recent call last)",
        "File \u001B[0;32m<command-2691292108300970>, line 14\u001B[0m\n\u001B[1;32m     10\u001B[0m \u001B[38;5;28;01mfrom\u001B[39;00m \u001B[38;5;21;01mtyping\u001B[39;00m \u001B[38;5;28;01mimport\u001B[39;00m cast \n\u001B[1;32m     12\u001B[0m \u001B[38;5;28;01mimport\u001B[39;00m \u001B[38;5;21;01mdatasets\u001B[39;00m \n\u001B[0;32m---> 14\u001B[0m \u001B[38;5;28;01mfrom\u001B[39;00m \u001B[38;5;21;01mllmfoundry\u001B[39;00m\u001B[38;5;21;01m.\u001B[39;00m\u001B[38;5;21;01mutils\u001B[39;00m \u001B[38;5;28;01mimport\u001B[39;00m (create_om_cfg, token_counts_with_collate, \n\u001B[1;32m     15\u001B[0m         check_HF_datasets, is_hf_dataset_path, is_uc_delta_table,\n\u001B[1;32m     16\u001B[0m         integrity_check, convert_text_to_mds, parse_args, plot_hist,\n\u001B[1;32m     17\u001B[0m )\n\u001B[1;32m     19\u001B[0m \u001B[38;5;28;01mfrom\u001B[39;00m \u001B[38;5;21;01mllmfoundry\u001B[39;00m\u001B[38;5;21;01m.\u001B[39;00m\u001B[38;5;21;01mdata\u001B[39;00m\u001B[38;5;21;01m.\u001B[39;00m\u001B[38;5;21;01mfinetuning\u001B[39;00m\u001B[38;5;21;01m.\u001B[39;00m\u001B[38;5;21;01mtasks\u001B[39;00m \u001B[38;5;28;01mimport\u001B[39;00m (_validate_chat_formatted_example,\n\u001B[1;32m     20\u001B[0m                                               _tokenize_prompt_response_formatted_example,\n\u001B[1;32m     21\u001B[0m                                               _get_example_type, ChatFormattedDict, PromptResponseDict )\n\u001B[1;32m     22\u001B[0m \u001B[38;5;28;01mimport\u001B[39;00m \u001B[38;5;21;01mtransformers\u001B[39;00m\n",
        "File \u001B[0;32m/local_disk0/.ephemeral_nfs/envs/pythonEnv-1baf428f-8695-4b74-acc5-37195553cf83/lib/python3.10/site-packages/llmfoundry/__init__.py:29\u001B[0m\n\u001B[1;32m     16\u001B[0m     \u001B[38;5;28;01mif\u001B[39;00m \u001B[38;5;124m'\u001B[39m\u001B[38;5;124mundefined symbol\u001B[39m\u001B[38;5;124m'\u001B[39m \u001B[38;5;129;01min\u001B[39;00m \u001B[38;5;28mstr\u001B[39m(e):\n\u001B[1;32m     17\u001B[0m         \u001B[38;5;28;01mraise\u001B[39;00m \u001B[38;5;167;01mImportError\u001B[39;00m(\n\u001B[1;32m     18\u001B[0m             \u001B[38;5;124m'\u001B[39m\u001B[38;5;124mThe flash_attn package is not installed correctly. Usually this means that your runtime version\u001B[39m\u001B[38;5;124m'\u001B[39m\n\u001B[1;32m     19\u001B[0m             \u001B[38;5;241m+\u001B[39m\n\u001B[0;32m   (...)\u001B[0m\n\u001B[1;32m     26\u001B[0m             \u001B[38;5;124m'\u001B[39m\u001B[38;5;124m in LLM Foundry setup.py and update accordingly. The latest Docker image can be found in the README.\u001B[39m\u001B[38;5;124m'\u001B[39m,\n\u001B[1;32m     27\u001B[0m         ) \u001B[38;5;28;01mfrom\u001B[39;00m \u001B[38;5;21;01me\u001B[39;00m\n\u001B[0;32m---> 29\u001B[0m \u001B[38;5;28;01mfrom\u001B[39;00m \u001B[38;5;21;01mllmfoundry\u001B[39;00m\u001B[38;5;21;01m.\u001B[39;00m\u001B[38;5;21;01mutils\u001B[39;00m\u001B[38;5;21;01m.\u001B[39;00m\u001B[38;5;21;01mlogging_utils\u001B[39;00m \u001B[38;5;28;01mimport\u001B[39;00m SpecificWarningFilter\n\u001B[1;32m     31\u001B[0m \u001B[38;5;66;03m# Filter out Hugging Face warning for not using a pinned revision of the model\u001B[39;00m\n\u001B[1;32m     32\u001B[0m logger \u001B[38;5;241m=\u001B[39m logging\u001B[38;5;241m.\u001B[39mgetLogger(\u001B[38;5;124m'\u001B[39m\u001B[38;5;124mtransformers.dynamic_module_utils\u001B[39m\u001B[38;5;124m'\u001B[39m)\n",
        "File \u001B[0;32m/local_disk0/.ephemeral_nfs/envs/pythonEnv-1baf428f-8695-4b74-acc5-37195553cf83/lib/python3.10/site-packages/llmfoundry/utils/__init__.py:4\u001B[0m\n\u001B[1;32m      1\u001B[0m \u001B[38;5;66;03m# Copyright 2022 MosaicML LLM Foundry authors\u001B[39;00m\n\u001B[1;32m      2\u001B[0m \u001B[38;5;66;03m# SPDX-License-Identifier: Apache-2.0\u001B[39;00m\n\u001B[0;32m----> 4\u001B[0m \u001B[38;5;28;01mfrom\u001B[39;00m \u001B[38;5;21;01mllmfoundry\u001B[39;00m\u001B[38;5;21;01m.\u001B[39;00m\u001B[38;5;21;01mregistry\u001B[39;00m \u001B[38;5;28;01mimport\u001B[39;00m config_transforms\n\u001B[1;32m      5\u001B[0m \u001B[38;5;28;01mfrom\u001B[39;00m \u001B[38;5;21;01mllmfoundry\u001B[39;00m\u001B[38;5;21;01m.\u001B[39;00m\u001B[38;5;21;01mutils\u001B[39;00m\u001B[38;5;21;01m.\u001B[39;00m\u001B[38;5;21;01mbuilders\u001B[39;00m \u001B[38;5;28;01mimport\u001B[39;00m (\n\u001B[1;32m      6\u001B[0m     add_metrics_to_eval_loaders,\n\u001B[1;32m      7\u001B[0m     build_algorithm,\n\u001B[0;32m   (...)\u001B[0m\n\u001B[1;32m     18\u001B[0m     build_tokenizer,\n\u001B[1;32m     19\u001B[0m )\n\u001B[1;32m     20\u001B[0m \u001B[38;5;28;01mfrom\u001B[39;00m \u001B[38;5;21;01mllmfoundry\u001B[39;00m\u001B[38;5;21;01m.\u001B[39;00m\u001B[38;5;21;01mutils\u001B[39;00m\u001B[38;5;21;01m.\u001B[39;00m\u001B[38;5;21;01mcheckpoint_conversion_helpers\u001B[39;00m \u001B[38;5;28;01mimport\u001B[39;00m (\n\u001B[1;32m     21\u001B[0m     convert_and_save_ft_weights,\n\u001B[1;32m     22\u001B[0m     get_hf_tokenizer_from_composer_state_dict,\n\u001B[1;32m     23\u001B[0m     load_tokenizer,\n\u001B[1;32m     24\u001B[0m )\n",
        "File \u001B[0;32m/local_disk0/.ephemeral_nfs/envs/pythonEnv-1baf428f-8695-4b74-acc5-37195553cf83/lib/python3.10/site-packages/llmfoundry/registry.py:17\u001B[0m\n\u001B[1;32m     14\u001B[0m \u001B[38;5;28;01mfrom\u001B[39;00m \u001B[38;5;21;01mtransformers\u001B[39;00m \u001B[38;5;28;01mimport\u001B[39;00m PreTrainedTokenizerBase\n\u001B[1;32m     16\u001B[0m \u001B[38;5;28;01mfrom\u001B[39;00m \u001B[38;5;21;01mllmfoundry\u001B[39;00m\u001B[38;5;21;01m.\u001B[39;00m\u001B[38;5;21;01minterfaces\u001B[39;00m \u001B[38;5;28;01mimport\u001B[39;00m CallbackWithConfig\n\u001B[0;32m---> 17\u001B[0m \u001B[38;5;28;01mfrom\u001B[39;00m \u001B[38;5;21;01mllmfoundry\u001B[39;00m\u001B[38;5;21;01m.\u001B[39;00m\u001B[38;5;21;01mlayers_registry\u001B[39;00m \u001B[38;5;28;01mimport\u001B[39;00m (\n\u001B[1;32m     18\u001B[0m     attention_classes,\n\u001B[1;32m     19\u001B[0m     attention_implementations,\n\u001B[1;32m     20\u001B[0m     fcs,\n\u001B[1;32m     21\u001B[0m     ffns,\n\u001B[1;32m     22\u001B[0m     ffns_with_megablocks,\n\u001B[1;32m     23\u001B[0m     ffns_with_norm,\n\u001B[1;32m     24\u001B[0m     module_init_fns,\n\u001B[1;32m     25\u001B[0m     norms,\n\u001B[1;32m     26\u001B[0m     param_init_fns,\n\u001B[1;32m     27\u001B[0m )\n\u001B[1;32m     28\u001B[0m \u001B[38;5;28;01mfrom\u001B[39;00m \u001B[38;5;21;01mllmfoundry\u001B[39;00m\u001B[38;5;21;01m.\u001B[39;00m\u001B[38;5;21;01mutils\u001B[39;00m\u001B[38;5;21;01m.\u001B[39;00m\u001B[38;5;21;01mregistry_utils\u001B[39;00m \u001B[38;5;28;01mimport\u001B[39;00m create_registry\n\u001B[1;32m     30\u001B[0m _loggers_description \u001B[38;5;241m=\u001B[39m (\n\u001B[1;32m     31\u001B[0m \u001B[38;5;250m    \u001B[39m\u001B[38;5;124;03m\"\"\"The loggers registry is used to register classes that implement the LoggerDestination interface.\u001B[39;00m\n\u001B[1;32m     32\u001B[0m \n\u001B[0;32m   (...)\u001B[0m\n\u001B[1;32m     41\u001B[0m \u001B[38;5;124;03m    \"\"\"\u001B[39;00m\n\u001B[1;32m     42\u001B[0m )\n",
        "File \u001B[0;32m/local_disk0/.ephemeral_nfs/envs/pythonEnv-1baf428f-8695-4b74-acc5-37195553cf83/lib/python3.10/site-packages/llmfoundry/layers_registry.py:8\u001B[0m\n\u001B[1;32m      4\u001B[0m \u001B[38;5;28;01mfrom\u001B[39;00m \u001B[38;5;21;01mtyping\u001B[39;00m \u001B[38;5;28;01mimport\u001B[39;00m Callable, Type\n\u001B[1;32m      6\u001B[0m \u001B[38;5;28;01mimport\u001B[39;00m \u001B[38;5;21;01mtorch\u001B[39;00m\n\u001B[0;32m----> 8\u001B[0m \u001B[38;5;28;01mfrom\u001B[39;00m \u001B[38;5;21;01mllmfoundry\u001B[39;00m\u001B[38;5;21;01m.\u001B[39;00m\u001B[38;5;21;01mutils\u001B[39;00m\u001B[38;5;21;01m.\u001B[39;00m\u001B[38;5;21;01mregistry_utils\u001B[39;00m \u001B[38;5;28;01mimport\u001B[39;00m create_registry\n\u001B[1;32m     10\u001B[0m _norms_description \u001B[38;5;241m=\u001B[39m (\n\u001B[1;32m     11\u001B[0m \u001B[38;5;250m    \u001B[39m\u001B[38;5;124;03m\"\"\"The norms registry is used to register classes that implement normalization layers.\u001B[39;00m\n\u001B[1;32m     12\u001B[0m \n\u001B[0;32m   (...)\u001B[0m\n\u001B[1;32m     21\u001B[0m \u001B[38;5;124;03m    \"\"\"\u001B[39;00m\n\u001B[1;32m     22\u001B[0m )\n\u001B[1;32m     23\u001B[0m norms \u001B[38;5;241m=\u001B[39m create_registry(\n\u001B[1;32m     24\u001B[0m     \u001B[38;5;124m'\u001B[39m\u001B[38;5;124mllmfoundry\u001B[39m\u001B[38;5;124m'\u001B[39m,\n\u001B[1;32m     25\u001B[0m     \u001B[38;5;124m'\u001B[39m\u001B[38;5;124mnorms\u001B[39m\u001B[38;5;124m'\u001B[39m,\n\u001B[0;32m   (...)\u001B[0m\n\u001B[1;32m     28\u001B[0m     description\u001B[38;5;241m=\u001B[39m_norms_description,\n\u001B[1;32m     29\u001B[0m )\n",
        "File \u001B[0;32m/local_disk0/.ephemeral_nfs/envs/pythonEnv-1baf428f-8695-4b74-acc5-37195553cf83/lib/python3.10/site-packages/llmfoundry/utils/registry_utils.py:23\u001B[0m\n\u001B[1;32m     10\u001B[0m \u001B[38;5;28;01mfrom\u001B[39;00m \u001B[38;5;21;01mtypes\u001B[39;00m \u001B[38;5;28;01mimport\u001B[39;00m ModuleType\n\u001B[1;32m     11\u001B[0m \u001B[38;5;28;01mfrom\u001B[39;00m \u001B[38;5;21;01mtyping\u001B[39;00m \u001B[38;5;28;01mimport\u001B[39;00m (\n\u001B[1;32m     12\u001B[0m     Any,\n\u001B[1;32m     13\u001B[0m     Callable,\n\u001B[0;32m   (...)\u001B[0m\n\u001B[1;32m     20\u001B[0m     Union,\n\u001B[1;32m     21\u001B[0m )\n\u001B[0;32m---> 23\u001B[0m \u001B[38;5;28;01mimport\u001B[39;00m \u001B[38;5;21;01mcatalogue\u001B[39;00m\n\u001B[1;32m     25\u001B[0m __all__ \u001B[38;5;241m=\u001B[39m [\n\u001B[1;32m     26\u001B[0m     \u001B[38;5;124m'\u001B[39m\u001B[38;5;124mTypedRegistry\u001B[39m\u001B[38;5;124m'\u001B[39m,\n\u001B[1;32m     27\u001B[0m     \u001B[38;5;124m'\u001B[39m\u001B[38;5;124mcreate_registry\u001B[39m\u001B[38;5;124m'\u001B[39m,\n\u001B[0;32m   (...)\u001B[0m\n\u001B[1;32m     30\u001B[0m     \u001B[38;5;124m'\u001B[39m\u001B[38;5;124msave_registry\u001B[39m\u001B[38;5;124m'\u001B[39m,\n\u001B[1;32m     31\u001B[0m ]\n\u001B[1;32m     33\u001B[0m T \u001B[38;5;241m=\u001B[39m TypeVar(\u001B[38;5;124m'\u001B[39m\u001B[38;5;124mT\u001B[39m\u001B[38;5;124m'\u001B[39m)\n",
        "\u001B[0;31mModuleNotFoundError\u001B[0m: No module named 'catalogue'"
       ],
       "type": "baseError"
      }
     },
     "output_type": "display_data"
    }
   ],
   "source": [
    "!rm -rf {temporary_mds_output_path}"
   ]
  },
  {
   "cell_type": "markdown",
   "metadata": {
    "application/vnd.databricks.v1+cell": {
     "cellMetadata": {
      "byteLimit": 2048000,
      "rowLimit": 10000
     },
     "inputWidgets": {},
     "nuid": "c21e7d1b-db34-4e5d-b6d9-190dc75170d3",
     "showTitle": false,
     "title": ""
    }
   },
   "source": [
    "#### Ingestion, Tokenization and Materialization\n",
    "\n",
    "CPT takes a folder of txt files as input. It tokenize the text fields and materialize as a streaming dataset of MDS format. \n",
    "\n",
    "FT API uses [llmfoundry/scripts/data_prep/convert_text_to_mds.py](https://github.com/mosaicml/llm-foundry/blob/main/scripts/data_prep/convert_text_to_mds.py) to download all the txt files and convert them to MDS. \n",
    "\n",
    "In this notebook, we provide two additional approaches via Spark and Dask. \n",
    "\n",
    "**Warning** CPT datasets are normally much larger than IFT, so the tokenization and materialization can be very time consuming. "
   ]
  },
  {
   "cell_type": "code",
   "execution_count": 0,
   "metadata": {
    "application/vnd.databricks.v1+cell": {
     "cellMetadata": {
      "byteLimit": 2048000,
      "rowLimit": 10000
     },
     "inputWidgets": {},
     "nuid": "23a56b37-9c1e-4a2e-b8eb-96562ba104f0",
     "showTitle": false,
     "title": ""
    }
   },
   "outputs": [
    {
     "output_type": "display_data",
     "data": {
      "text/plain": [
       "\u001B[0;31m---------------------------------------------------------------------------\u001B[0m\n",
       "\u001B[0;31mModuleNotFoundError\u001B[0m                       Traceback (most recent call last)\n",
       "File \u001B[0;32m<command-2691292108300970>, line 14\u001B[0m\n",
       "\u001B[1;32m     10\u001B[0m \u001B[38;5;28;01mfrom\u001B[39;00m \u001B[38;5;21;01mtyping\u001B[39;00m \u001B[38;5;28;01mimport\u001B[39;00m cast \n",
       "\u001B[1;32m     12\u001B[0m \u001B[38;5;28;01mimport\u001B[39;00m \u001B[38;5;21;01mdatasets\u001B[39;00m \n",
       "\u001B[0;32m---> 14\u001B[0m \u001B[38;5;28;01mfrom\u001B[39;00m \u001B[38;5;21;01mllmfoundry\u001B[39;00m\u001B[38;5;21;01m.\u001B[39;00m\u001B[38;5;21;01mutils\u001B[39;00m \u001B[38;5;28;01mimport\u001B[39;00m (create_om_cfg, token_counts_with_collate, \n",
       "\u001B[1;32m     15\u001B[0m         check_HF_datasets, is_hf_dataset_path, is_uc_delta_table,\n",
       "\u001B[1;32m     16\u001B[0m         integrity_check, convert_text_to_mds, parse_args, plot_hist,\n",
       "\u001B[1;32m     17\u001B[0m )\n",
       "\u001B[1;32m     19\u001B[0m \u001B[38;5;28;01mfrom\u001B[39;00m \u001B[38;5;21;01mllmfoundry\u001B[39;00m\u001B[38;5;21;01m.\u001B[39;00m\u001B[38;5;21;01mdata\u001B[39;00m\u001B[38;5;21;01m.\u001B[39;00m\u001B[38;5;21;01mfinetuning\u001B[39;00m\u001B[38;5;21;01m.\u001B[39;00m\u001B[38;5;21;01mtasks\u001B[39;00m \u001B[38;5;28;01mimport\u001B[39;00m (_validate_chat_formatted_example,\n",
       "\u001B[1;32m     20\u001B[0m                                               _tokenize_prompt_response_formatted_example,\n",
       "\u001B[1;32m     21\u001B[0m                                               _get_example_type, ChatFormattedDict, PromptResponseDict )\n",
       "\u001B[1;32m     22\u001B[0m \u001B[38;5;28;01mimport\u001B[39;00m \u001B[38;5;21;01mtransformers\u001B[39;00m\n",
       "\n",
       "File \u001B[0;32m/local_disk0/.ephemeral_nfs/envs/pythonEnv-1baf428f-8695-4b74-acc5-37195553cf83/lib/python3.10/site-packages/llmfoundry/__init__.py:29\u001B[0m\n",
       "\u001B[1;32m     16\u001B[0m     \u001B[38;5;28;01mif\u001B[39;00m \u001B[38;5;124m'\u001B[39m\u001B[38;5;124mundefined symbol\u001B[39m\u001B[38;5;124m'\u001B[39m \u001B[38;5;129;01min\u001B[39;00m \u001B[38;5;28mstr\u001B[39m(e):\n",
       "\u001B[1;32m     17\u001B[0m         \u001B[38;5;28;01mraise\u001B[39;00m \u001B[38;5;167;01mImportError\u001B[39;00m(\n",
       "\u001B[1;32m     18\u001B[0m             \u001B[38;5;124m'\u001B[39m\u001B[38;5;124mThe flash_attn package is not installed correctly. Usually this means that your runtime version\u001B[39m\u001B[38;5;124m'\u001B[39m\n",
       "\u001B[1;32m     19\u001B[0m             \u001B[38;5;241m+\u001B[39m\n",
       "\u001B[0;32m   (...)\u001B[0m\n",
       "\u001B[1;32m     26\u001B[0m             \u001B[38;5;124m'\u001B[39m\u001B[38;5;124m in LLM Foundry setup.py and update accordingly. The latest Docker image can be found in the README.\u001B[39m\u001B[38;5;124m'\u001B[39m,\n",
       "\u001B[1;32m     27\u001B[0m         ) \u001B[38;5;28;01mfrom\u001B[39;00m \u001B[38;5;21;01me\u001B[39;00m\n",
       "\u001B[0;32m---> 29\u001B[0m \u001B[38;5;28;01mfrom\u001B[39;00m \u001B[38;5;21;01mllmfoundry\u001B[39;00m\u001B[38;5;21;01m.\u001B[39;00m\u001B[38;5;21;01mutils\u001B[39;00m\u001B[38;5;21;01m.\u001B[39;00m\u001B[38;5;21;01mlogging_utils\u001B[39;00m \u001B[38;5;28;01mimport\u001B[39;00m SpecificWarningFilter\n",
       "\u001B[1;32m     31\u001B[0m \u001B[38;5;66;03m# Filter out Hugging Face warning for not using a pinned revision of the model\u001B[39;00m\n",
       "\u001B[1;32m     32\u001B[0m logger \u001B[38;5;241m=\u001B[39m logging\u001B[38;5;241m.\u001B[39mgetLogger(\u001B[38;5;124m'\u001B[39m\u001B[38;5;124mtransformers.dynamic_module_utils\u001B[39m\u001B[38;5;124m'\u001B[39m)\n",
       "\n",
       "File \u001B[0;32m/local_disk0/.ephemeral_nfs/envs/pythonEnv-1baf428f-8695-4b74-acc5-37195553cf83/lib/python3.10/site-packages/llmfoundry/utils/__init__.py:4\u001B[0m\n",
       "\u001B[1;32m      1\u001B[0m \u001B[38;5;66;03m# Copyright 2022 MosaicML LLM Foundry authors\u001B[39;00m\n",
       "\u001B[1;32m      2\u001B[0m \u001B[38;5;66;03m# SPDX-License-Identifier: Apache-2.0\u001B[39;00m\n",
       "\u001B[0;32m----> 4\u001B[0m \u001B[38;5;28;01mfrom\u001B[39;00m \u001B[38;5;21;01mllmfoundry\u001B[39;00m\u001B[38;5;21;01m.\u001B[39;00m\u001B[38;5;21;01mregistry\u001B[39;00m \u001B[38;5;28;01mimport\u001B[39;00m config_transforms\n",
       "\u001B[1;32m      5\u001B[0m \u001B[38;5;28;01mfrom\u001B[39;00m \u001B[38;5;21;01mllmfoundry\u001B[39;00m\u001B[38;5;21;01m.\u001B[39;00m\u001B[38;5;21;01mutils\u001B[39;00m\u001B[38;5;21;01m.\u001B[39;00m\u001B[38;5;21;01mbuilders\u001B[39;00m \u001B[38;5;28;01mimport\u001B[39;00m (\n",
       "\u001B[1;32m      6\u001B[0m     add_metrics_to_eval_loaders,\n",
       "\u001B[1;32m      7\u001B[0m     build_algorithm,\n",
       "\u001B[0;32m   (...)\u001B[0m\n",
       "\u001B[1;32m     18\u001B[0m     build_tokenizer,\n",
       "\u001B[1;32m     19\u001B[0m )\n",
       "\u001B[1;32m     20\u001B[0m \u001B[38;5;28;01mfrom\u001B[39;00m \u001B[38;5;21;01mllmfoundry\u001B[39;00m\u001B[38;5;21;01m.\u001B[39;00m\u001B[38;5;21;01mutils\u001B[39;00m\u001B[38;5;21;01m.\u001B[39;00m\u001B[38;5;21;01mcheckpoint_conversion_helpers\u001B[39;00m \u001B[38;5;28;01mimport\u001B[39;00m (\n",
       "\u001B[1;32m     21\u001B[0m     convert_and_save_ft_weights,\n",
       "\u001B[1;32m     22\u001B[0m     get_hf_tokenizer_from_composer_state_dict,\n",
       "\u001B[1;32m     23\u001B[0m     load_tokenizer,\n",
       "\u001B[1;32m     24\u001B[0m )\n",
       "\n",
       "File \u001B[0;32m/local_disk0/.ephemeral_nfs/envs/pythonEnv-1baf428f-8695-4b74-acc5-37195553cf83/lib/python3.10/site-packages/llmfoundry/registry.py:17\u001B[0m\n",
       "\u001B[1;32m     14\u001B[0m \u001B[38;5;28;01mfrom\u001B[39;00m \u001B[38;5;21;01mtransformers\u001B[39;00m \u001B[38;5;28;01mimport\u001B[39;00m PreTrainedTokenizerBase\n",
       "\u001B[1;32m     16\u001B[0m \u001B[38;5;28;01mfrom\u001B[39;00m \u001B[38;5;21;01mllmfoundry\u001B[39;00m\u001B[38;5;21;01m.\u001B[39;00m\u001B[38;5;21;01minterfaces\u001B[39;00m \u001B[38;5;28;01mimport\u001B[39;00m CallbackWithConfig\n",
       "\u001B[0;32m---> 17\u001B[0m \u001B[38;5;28;01mfrom\u001B[39;00m \u001B[38;5;21;01mllmfoundry\u001B[39;00m\u001B[38;5;21;01m.\u001B[39;00m\u001B[38;5;21;01mlayers_registry\u001B[39;00m \u001B[38;5;28;01mimport\u001B[39;00m (\n",
       "\u001B[1;32m     18\u001B[0m     attention_classes,\n",
       "\u001B[1;32m     19\u001B[0m     attention_implementations,\n",
       "\u001B[1;32m     20\u001B[0m     fcs,\n",
       "\u001B[1;32m     21\u001B[0m     ffns,\n",
       "\u001B[1;32m     22\u001B[0m     ffns_with_megablocks,\n",
       "\u001B[1;32m     23\u001B[0m     ffns_with_norm,\n",
       "\u001B[1;32m     24\u001B[0m     module_init_fns,\n",
       "\u001B[1;32m     25\u001B[0m     norms,\n",
       "\u001B[1;32m     26\u001B[0m     param_init_fns,\n",
       "\u001B[1;32m     27\u001B[0m )\n",
       "\u001B[1;32m     28\u001B[0m \u001B[38;5;28;01mfrom\u001B[39;00m \u001B[38;5;21;01mllmfoundry\u001B[39;00m\u001B[38;5;21;01m.\u001B[39;00m\u001B[38;5;21;01mutils\u001B[39;00m\u001B[38;5;21;01m.\u001B[39;00m\u001B[38;5;21;01mregistry_utils\u001B[39;00m \u001B[38;5;28;01mimport\u001B[39;00m create_registry\n",
       "\u001B[1;32m     30\u001B[0m _loggers_description \u001B[38;5;241m=\u001B[39m (\n",
       "\u001B[1;32m     31\u001B[0m \u001B[38;5;250m    \u001B[39m\u001B[38;5;124;03m\"\"\"The loggers registry is used to register classes that implement the LoggerDestination interface.\u001B[39;00m\n",
       "\u001B[1;32m     32\u001B[0m \n",
       "\u001B[0;32m   (...)\u001B[0m\n",
       "\u001B[1;32m     41\u001B[0m \u001B[38;5;124;03m    \"\"\"\u001B[39;00m\n",
       "\u001B[1;32m     42\u001B[0m )\n",
       "\n",
       "File \u001B[0;32m/local_disk0/.ephemeral_nfs/envs/pythonEnv-1baf428f-8695-4b74-acc5-37195553cf83/lib/python3.10/site-packages/llmfoundry/layers_registry.py:8\u001B[0m\n",
       "\u001B[1;32m      4\u001B[0m \u001B[38;5;28;01mfrom\u001B[39;00m \u001B[38;5;21;01mtyping\u001B[39;00m \u001B[38;5;28;01mimport\u001B[39;00m Callable, Type\n",
       "\u001B[1;32m      6\u001B[0m \u001B[38;5;28;01mimport\u001B[39;00m \u001B[38;5;21;01mtorch\u001B[39;00m\n",
       "\u001B[0;32m----> 8\u001B[0m \u001B[38;5;28;01mfrom\u001B[39;00m \u001B[38;5;21;01mllmfoundry\u001B[39;00m\u001B[38;5;21;01m.\u001B[39;00m\u001B[38;5;21;01mutils\u001B[39;00m\u001B[38;5;21;01m.\u001B[39;00m\u001B[38;5;21;01mregistry_utils\u001B[39;00m \u001B[38;5;28;01mimport\u001B[39;00m create_registry\n",
       "\u001B[1;32m     10\u001B[0m _norms_description \u001B[38;5;241m=\u001B[39m (\n",
       "\u001B[1;32m     11\u001B[0m \u001B[38;5;250m    \u001B[39m\u001B[38;5;124;03m\"\"\"The norms registry is used to register classes that implement normalization layers.\u001B[39;00m\n",
       "\u001B[1;32m     12\u001B[0m \n",
       "\u001B[0;32m   (...)\u001B[0m\n",
       "\u001B[1;32m     21\u001B[0m \u001B[38;5;124;03m    \"\"\"\u001B[39;00m\n",
       "\u001B[1;32m     22\u001B[0m )\n",
       "\u001B[1;32m     23\u001B[0m norms \u001B[38;5;241m=\u001B[39m create_registry(\n",
       "\u001B[1;32m     24\u001B[0m     \u001B[38;5;124m'\u001B[39m\u001B[38;5;124mllmfoundry\u001B[39m\u001B[38;5;124m'\u001B[39m,\n",
       "\u001B[1;32m     25\u001B[0m     \u001B[38;5;124m'\u001B[39m\u001B[38;5;124mnorms\u001B[39m\u001B[38;5;124m'\u001B[39m,\n",
       "\u001B[0;32m   (...)\u001B[0m\n",
       "\u001B[1;32m     28\u001B[0m     description\u001B[38;5;241m=\u001B[39m_norms_description,\n",
       "\u001B[1;32m     29\u001B[0m )\n",
       "\n",
       "File \u001B[0;32m/local_disk0/.ephemeral_nfs/envs/pythonEnv-1baf428f-8695-4b74-acc5-37195553cf83/lib/python3.10/site-packages/llmfoundry/utils/registry_utils.py:23\u001B[0m\n",
       "\u001B[1;32m     10\u001B[0m \u001B[38;5;28;01mfrom\u001B[39;00m \u001B[38;5;21;01mtypes\u001B[39;00m \u001B[38;5;28;01mimport\u001B[39;00m ModuleType\n",
       "\u001B[1;32m     11\u001B[0m \u001B[38;5;28;01mfrom\u001B[39;00m \u001B[38;5;21;01mtyping\u001B[39;00m \u001B[38;5;28;01mimport\u001B[39;00m (\n",
       "\u001B[1;32m     12\u001B[0m     Any,\n",
       "\u001B[1;32m     13\u001B[0m     Callable,\n",
       "\u001B[0;32m   (...)\u001B[0m\n",
       "\u001B[1;32m     20\u001B[0m     Union,\n",
       "\u001B[1;32m     21\u001B[0m )\n",
       "\u001B[0;32m---> 23\u001B[0m \u001B[38;5;28;01mimport\u001B[39;00m \u001B[38;5;21;01mcatalogue\u001B[39;00m\n",
       "\u001B[1;32m     25\u001B[0m __all__ \u001B[38;5;241m=\u001B[39m [\n",
       "\u001B[1;32m     26\u001B[0m     \u001B[38;5;124m'\u001B[39m\u001B[38;5;124mTypedRegistry\u001B[39m\u001B[38;5;124m'\u001B[39m,\n",
       "\u001B[1;32m     27\u001B[0m     \u001B[38;5;124m'\u001B[39m\u001B[38;5;124mcreate_registry\u001B[39m\u001B[38;5;124m'\u001B[39m,\n",
       "\u001B[0;32m   (...)\u001B[0m\n",
       "\u001B[1;32m     30\u001B[0m     \u001B[38;5;124m'\u001B[39m\u001B[38;5;124msave_registry\u001B[39m\u001B[38;5;124m'\u001B[39m,\n",
       "\u001B[1;32m     31\u001B[0m ]\n",
       "\u001B[1;32m     33\u001B[0m T \u001B[38;5;241m=\u001B[39m TypeVar(\u001B[38;5;124m'\u001B[39m\u001B[38;5;124mT\u001B[39m\u001B[38;5;124m'\u001B[39m)\n",
       "\n",
       "\u001B[0;31mModuleNotFoundError\u001B[0m: No module named 'catalogue'"
      ]
     },
     "metadata": {
      "application/vnd.databricks.v1+output": {
       "addedWidgets": {},
       "arguments": {},
       "datasetInfos": [],
       "jupyterProps": {
        "ename": "ModuleNotFoundError",
        "evalue": "No module named 'catalogue'"
       },
       "metadata": {
        "errorSummary": "Command skipped"
       },
       "removedWidgets": [],
       "sqlProps": null,
       "stackFrames": [
        "\u001B[0;31m---------------------------------------------------------------------------\u001B[0m",
        "\u001B[0;31mModuleNotFoundError\u001B[0m                       Traceback (most recent call last)",
        "File \u001B[0;32m<command-2691292108300970>, line 14\u001B[0m\n\u001B[1;32m     10\u001B[0m \u001B[38;5;28;01mfrom\u001B[39;00m \u001B[38;5;21;01mtyping\u001B[39;00m \u001B[38;5;28;01mimport\u001B[39;00m cast \n\u001B[1;32m     12\u001B[0m \u001B[38;5;28;01mimport\u001B[39;00m \u001B[38;5;21;01mdatasets\u001B[39;00m \n\u001B[0;32m---> 14\u001B[0m \u001B[38;5;28;01mfrom\u001B[39;00m \u001B[38;5;21;01mllmfoundry\u001B[39;00m\u001B[38;5;21;01m.\u001B[39;00m\u001B[38;5;21;01mutils\u001B[39;00m \u001B[38;5;28;01mimport\u001B[39;00m (create_om_cfg, token_counts_with_collate, \n\u001B[1;32m     15\u001B[0m         check_HF_datasets, is_hf_dataset_path, is_uc_delta_table,\n\u001B[1;32m     16\u001B[0m         integrity_check, convert_text_to_mds, parse_args, plot_hist,\n\u001B[1;32m     17\u001B[0m )\n\u001B[1;32m     19\u001B[0m \u001B[38;5;28;01mfrom\u001B[39;00m \u001B[38;5;21;01mllmfoundry\u001B[39;00m\u001B[38;5;21;01m.\u001B[39;00m\u001B[38;5;21;01mdata\u001B[39;00m\u001B[38;5;21;01m.\u001B[39;00m\u001B[38;5;21;01mfinetuning\u001B[39;00m\u001B[38;5;21;01m.\u001B[39;00m\u001B[38;5;21;01mtasks\u001B[39;00m \u001B[38;5;28;01mimport\u001B[39;00m (_validate_chat_formatted_example,\n\u001B[1;32m     20\u001B[0m                                               _tokenize_prompt_response_formatted_example,\n\u001B[1;32m     21\u001B[0m                                               _get_example_type, ChatFormattedDict, PromptResponseDict )\n\u001B[1;32m     22\u001B[0m \u001B[38;5;28;01mimport\u001B[39;00m \u001B[38;5;21;01mtransformers\u001B[39;00m\n",
        "File \u001B[0;32m/local_disk0/.ephemeral_nfs/envs/pythonEnv-1baf428f-8695-4b74-acc5-37195553cf83/lib/python3.10/site-packages/llmfoundry/__init__.py:29\u001B[0m\n\u001B[1;32m     16\u001B[0m     \u001B[38;5;28;01mif\u001B[39;00m \u001B[38;5;124m'\u001B[39m\u001B[38;5;124mundefined symbol\u001B[39m\u001B[38;5;124m'\u001B[39m \u001B[38;5;129;01min\u001B[39;00m \u001B[38;5;28mstr\u001B[39m(e):\n\u001B[1;32m     17\u001B[0m         \u001B[38;5;28;01mraise\u001B[39;00m \u001B[38;5;167;01mImportError\u001B[39;00m(\n\u001B[1;32m     18\u001B[0m             \u001B[38;5;124m'\u001B[39m\u001B[38;5;124mThe flash_attn package is not installed correctly. Usually this means that your runtime version\u001B[39m\u001B[38;5;124m'\u001B[39m\n\u001B[1;32m     19\u001B[0m             \u001B[38;5;241m+\u001B[39m\n\u001B[0;32m   (...)\u001B[0m\n\u001B[1;32m     26\u001B[0m             \u001B[38;5;124m'\u001B[39m\u001B[38;5;124m in LLM Foundry setup.py and update accordingly. The latest Docker image can be found in the README.\u001B[39m\u001B[38;5;124m'\u001B[39m,\n\u001B[1;32m     27\u001B[0m         ) \u001B[38;5;28;01mfrom\u001B[39;00m \u001B[38;5;21;01me\u001B[39;00m\n\u001B[0;32m---> 29\u001B[0m \u001B[38;5;28;01mfrom\u001B[39;00m \u001B[38;5;21;01mllmfoundry\u001B[39;00m\u001B[38;5;21;01m.\u001B[39;00m\u001B[38;5;21;01mutils\u001B[39;00m\u001B[38;5;21;01m.\u001B[39;00m\u001B[38;5;21;01mlogging_utils\u001B[39;00m \u001B[38;5;28;01mimport\u001B[39;00m SpecificWarningFilter\n\u001B[1;32m     31\u001B[0m \u001B[38;5;66;03m# Filter out Hugging Face warning for not using a pinned revision of the model\u001B[39;00m\n\u001B[1;32m     32\u001B[0m logger \u001B[38;5;241m=\u001B[39m logging\u001B[38;5;241m.\u001B[39mgetLogger(\u001B[38;5;124m'\u001B[39m\u001B[38;5;124mtransformers.dynamic_module_utils\u001B[39m\u001B[38;5;124m'\u001B[39m)\n",
        "File \u001B[0;32m/local_disk0/.ephemeral_nfs/envs/pythonEnv-1baf428f-8695-4b74-acc5-37195553cf83/lib/python3.10/site-packages/llmfoundry/utils/__init__.py:4\u001B[0m\n\u001B[1;32m      1\u001B[0m \u001B[38;5;66;03m# Copyright 2022 MosaicML LLM Foundry authors\u001B[39;00m\n\u001B[1;32m      2\u001B[0m \u001B[38;5;66;03m# SPDX-License-Identifier: Apache-2.0\u001B[39;00m\n\u001B[0;32m----> 4\u001B[0m \u001B[38;5;28;01mfrom\u001B[39;00m \u001B[38;5;21;01mllmfoundry\u001B[39;00m\u001B[38;5;21;01m.\u001B[39;00m\u001B[38;5;21;01mregistry\u001B[39;00m \u001B[38;5;28;01mimport\u001B[39;00m config_transforms\n\u001B[1;32m      5\u001B[0m \u001B[38;5;28;01mfrom\u001B[39;00m \u001B[38;5;21;01mllmfoundry\u001B[39;00m\u001B[38;5;21;01m.\u001B[39;00m\u001B[38;5;21;01mutils\u001B[39;00m\u001B[38;5;21;01m.\u001B[39;00m\u001B[38;5;21;01mbuilders\u001B[39;00m \u001B[38;5;28;01mimport\u001B[39;00m (\n\u001B[1;32m      6\u001B[0m     add_metrics_to_eval_loaders,\n\u001B[1;32m      7\u001B[0m     build_algorithm,\n\u001B[0;32m   (...)\u001B[0m\n\u001B[1;32m     18\u001B[0m     build_tokenizer,\n\u001B[1;32m     19\u001B[0m )\n\u001B[1;32m     20\u001B[0m \u001B[38;5;28;01mfrom\u001B[39;00m \u001B[38;5;21;01mllmfoundry\u001B[39;00m\u001B[38;5;21;01m.\u001B[39;00m\u001B[38;5;21;01mutils\u001B[39;00m\u001B[38;5;21;01m.\u001B[39;00m\u001B[38;5;21;01mcheckpoint_conversion_helpers\u001B[39;00m \u001B[38;5;28;01mimport\u001B[39;00m (\n\u001B[1;32m     21\u001B[0m     convert_and_save_ft_weights,\n\u001B[1;32m     22\u001B[0m     get_hf_tokenizer_from_composer_state_dict,\n\u001B[1;32m     23\u001B[0m     load_tokenizer,\n\u001B[1;32m     24\u001B[0m )\n",
        "File \u001B[0;32m/local_disk0/.ephemeral_nfs/envs/pythonEnv-1baf428f-8695-4b74-acc5-37195553cf83/lib/python3.10/site-packages/llmfoundry/registry.py:17\u001B[0m\n\u001B[1;32m     14\u001B[0m \u001B[38;5;28;01mfrom\u001B[39;00m \u001B[38;5;21;01mtransformers\u001B[39;00m \u001B[38;5;28;01mimport\u001B[39;00m PreTrainedTokenizerBase\n\u001B[1;32m     16\u001B[0m \u001B[38;5;28;01mfrom\u001B[39;00m \u001B[38;5;21;01mllmfoundry\u001B[39;00m\u001B[38;5;21;01m.\u001B[39;00m\u001B[38;5;21;01minterfaces\u001B[39;00m \u001B[38;5;28;01mimport\u001B[39;00m CallbackWithConfig\n\u001B[0;32m---> 17\u001B[0m \u001B[38;5;28;01mfrom\u001B[39;00m \u001B[38;5;21;01mllmfoundry\u001B[39;00m\u001B[38;5;21;01m.\u001B[39;00m\u001B[38;5;21;01mlayers_registry\u001B[39;00m \u001B[38;5;28;01mimport\u001B[39;00m (\n\u001B[1;32m     18\u001B[0m     attention_classes,\n\u001B[1;32m     19\u001B[0m     attention_implementations,\n\u001B[1;32m     20\u001B[0m     fcs,\n\u001B[1;32m     21\u001B[0m     ffns,\n\u001B[1;32m     22\u001B[0m     ffns_with_megablocks,\n\u001B[1;32m     23\u001B[0m     ffns_with_norm,\n\u001B[1;32m     24\u001B[0m     module_init_fns,\n\u001B[1;32m     25\u001B[0m     norms,\n\u001B[1;32m     26\u001B[0m     param_init_fns,\n\u001B[1;32m     27\u001B[0m )\n\u001B[1;32m     28\u001B[0m \u001B[38;5;28;01mfrom\u001B[39;00m \u001B[38;5;21;01mllmfoundry\u001B[39;00m\u001B[38;5;21;01m.\u001B[39;00m\u001B[38;5;21;01mutils\u001B[39;00m\u001B[38;5;21;01m.\u001B[39;00m\u001B[38;5;21;01mregistry_utils\u001B[39;00m \u001B[38;5;28;01mimport\u001B[39;00m create_registry\n\u001B[1;32m     30\u001B[0m _loggers_description \u001B[38;5;241m=\u001B[39m (\n\u001B[1;32m     31\u001B[0m \u001B[38;5;250m    \u001B[39m\u001B[38;5;124;03m\"\"\"The loggers registry is used to register classes that implement the LoggerDestination interface.\u001B[39;00m\n\u001B[1;32m     32\u001B[0m \n\u001B[0;32m   (...)\u001B[0m\n\u001B[1;32m     41\u001B[0m \u001B[38;5;124;03m    \"\"\"\u001B[39;00m\n\u001B[1;32m     42\u001B[0m )\n",
        "File \u001B[0;32m/local_disk0/.ephemeral_nfs/envs/pythonEnv-1baf428f-8695-4b74-acc5-37195553cf83/lib/python3.10/site-packages/llmfoundry/layers_registry.py:8\u001B[0m\n\u001B[1;32m      4\u001B[0m \u001B[38;5;28;01mfrom\u001B[39;00m \u001B[38;5;21;01mtyping\u001B[39;00m \u001B[38;5;28;01mimport\u001B[39;00m Callable, Type\n\u001B[1;32m      6\u001B[0m \u001B[38;5;28;01mimport\u001B[39;00m \u001B[38;5;21;01mtorch\u001B[39;00m\n\u001B[0;32m----> 8\u001B[0m \u001B[38;5;28;01mfrom\u001B[39;00m \u001B[38;5;21;01mllmfoundry\u001B[39;00m\u001B[38;5;21;01m.\u001B[39;00m\u001B[38;5;21;01mutils\u001B[39;00m\u001B[38;5;21;01m.\u001B[39;00m\u001B[38;5;21;01mregistry_utils\u001B[39;00m \u001B[38;5;28;01mimport\u001B[39;00m create_registry\n\u001B[1;32m     10\u001B[0m _norms_description \u001B[38;5;241m=\u001B[39m (\n\u001B[1;32m     11\u001B[0m \u001B[38;5;250m    \u001B[39m\u001B[38;5;124;03m\"\"\"The norms registry is used to register classes that implement normalization layers.\u001B[39;00m\n\u001B[1;32m     12\u001B[0m \n\u001B[0;32m   (...)\u001B[0m\n\u001B[1;32m     21\u001B[0m \u001B[38;5;124;03m    \"\"\"\u001B[39;00m\n\u001B[1;32m     22\u001B[0m )\n\u001B[1;32m     23\u001B[0m norms \u001B[38;5;241m=\u001B[39m create_registry(\n\u001B[1;32m     24\u001B[0m     \u001B[38;5;124m'\u001B[39m\u001B[38;5;124mllmfoundry\u001B[39m\u001B[38;5;124m'\u001B[39m,\n\u001B[1;32m     25\u001B[0m     \u001B[38;5;124m'\u001B[39m\u001B[38;5;124mnorms\u001B[39m\u001B[38;5;124m'\u001B[39m,\n\u001B[0;32m   (...)\u001B[0m\n\u001B[1;32m     28\u001B[0m     description\u001B[38;5;241m=\u001B[39m_norms_description,\n\u001B[1;32m     29\u001B[0m )\n",
        "File \u001B[0;32m/local_disk0/.ephemeral_nfs/envs/pythonEnv-1baf428f-8695-4b74-acc5-37195553cf83/lib/python3.10/site-packages/llmfoundry/utils/registry_utils.py:23\u001B[0m\n\u001B[1;32m     10\u001B[0m \u001B[38;5;28;01mfrom\u001B[39;00m \u001B[38;5;21;01mtypes\u001B[39;00m \u001B[38;5;28;01mimport\u001B[39;00m ModuleType\n\u001B[1;32m     11\u001B[0m \u001B[38;5;28;01mfrom\u001B[39;00m \u001B[38;5;21;01mtyping\u001B[39;00m \u001B[38;5;28;01mimport\u001B[39;00m (\n\u001B[1;32m     12\u001B[0m     Any,\n\u001B[1;32m     13\u001B[0m     Callable,\n\u001B[0;32m   (...)\u001B[0m\n\u001B[1;32m     20\u001B[0m     Union,\n\u001B[1;32m     21\u001B[0m )\n\u001B[0;32m---> 23\u001B[0m \u001B[38;5;28;01mimport\u001B[39;00m \u001B[38;5;21;01mcatalogue\u001B[39;00m\n\u001B[1;32m     25\u001B[0m __all__ \u001B[38;5;241m=\u001B[39m [\n\u001B[1;32m     26\u001B[0m     \u001B[38;5;124m'\u001B[39m\u001B[38;5;124mTypedRegistry\u001B[39m\u001B[38;5;124m'\u001B[39m,\n\u001B[1;32m     27\u001B[0m     \u001B[38;5;124m'\u001B[39m\u001B[38;5;124mcreate_registry\u001B[39m\u001B[38;5;124m'\u001B[39m,\n\u001B[0;32m   (...)\u001B[0m\n\u001B[1;32m     30\u001B[0m     \u001B[38;5;124m'\u001B[39m\u001B[38;5;124msave_registry\u001B[39m\u001B[38;5;124m'\u001B[39m,\n\u001B[1;32m     31\u001B[0m ]\n\u001B[1;32m     33\u001B[0m T \u001B[38;5;241m=\u001B[39m TypeVar(\u001B[38;5;124m'\u001B[39m\u001B[38;5;124mT\u001B[39m\u001B[38;5;124m'\u001B[39m)\n",
        "\u001B[0;31mModuleNotFoundError\u001B[0m: No module named 'catalogue'"
       ],
       "type": "baseError"
      }
     },
     "output_type": "display_data"
    }
   ],
   "source": [
    "import os\n",
    "os.makedirs(temporary_mds_output_path, exist_ok=True)"
   ]
  },
  {
   "cell_type": "code",
   "execution_count": 0,
   "metadata": {
    "application/vnd.databricks.v1+cell": {
     "cellMetadata": {
      "byteLimit": 2048000,
      "rowLimit": 10000
     },
     "inputWidgets": {},
     "nuid": "d2f32fa2-a9b5-4ae8-a54a-0ea329ad1176",
     "showTitle": false,
     "title": ""
    }
   },
   "outputs": [
    {
     "output_type": "display_data",
     "data": {
      "text/plain": [
       "\u001B[0;31m---------------------------------------------------------------------------\u001B[0m\n",
       "\u001B[0;31mModuleNotFoundError\u001B[0m                       Traceback (most recent call last)\n",
       "File \u001B[0;32m<command-2691292108300970>, line 14\u001B[0m\n",
       "\u001B[1;32m     10\u001B[0m \u001B[38;5;28;01mfrom\u001B[39;00m \u001B[38;5;21;01mtyping\u001B[39;00m \u001B[38;5;28;01mimport\u001B[39;00m cast \n",
       "\u001B[1;32m     12\u001B[0m \u001B[38;5;28;01mimport\u001B[39;00m \u001B[38;5;21;01mdatasets\u001B[39;00m \n",
       "\u001B[0;32m---> 14\u001B[0m \u001B[38;5;28;01mfrom\u001B[39;00m \u001B[38;5;21;01mllmfoundry\u001B[39;00m\u001B[38;5;21;01m.\u001B[39;00m\u001B[38;5;21;01mutils\u001B[39;00m \u001B[38;5;28;01mimport\u001B[39;00m (create_om_cfg, token_counts_with_collate, \n",
       "\u001B[1;32m     15\u001B[0m         check_HF_datasets, is_hf_dataset_path, is_uc_delta_table,\n",
       "\u001B[1;32m     16\u001B[0m         integrity_check, convert_text_to_mds, parse_args, plot_hist,\n",
       "\u001B[1;32m     17\u001B[0m )\n",
       "\u001B[1;32m     19\u001B[0m \u001B[38;5;28;01mfrom\u001B[39;00m \u001B[38;5;21;01mllmfoundry\u001B[39;00m\u001B[38;5;21;01m.\u001B[39;00m\u001B[38;5;21;01mdata\u001B[39;00m\u001B[38;5;21;01m.\u001B[39;00m\u001B[38;5;21;01mfinetuning\u001B[39;00m\u001B[38;5;21;01m.\u001B[39;00m\u001B[38;5;21;01mtasks\u001B[39;00m \u001B[38;5;28;01mimport\u001B[39;00m (_validate_chat_formatted_example,\n",
       "\u001B[1;32m     20\u001B[0m                                               _tokenize_prompt_response_formatted_example,\n",
       "\u001B[1;32m     21\u001B[0m                                               _get_example_type, ChatFormattedDict, PromptResponseDict )\n",
       "\u001B[1;32m     22\u001B[0m \u001B[38;5;28;01mimport\u001B[39;00m \u001B[38;5;21;01mtransformers\u001B[39;00m\n",
       "\n",
       "File \u001B[0;32m/local_disk0/.ephemeral_nfs/envs/pythonEnv-1baf428f-8695-4b74-acc5-37195553cf83/lib/python3.10/site-packages/llmfoundry/__init__.py:29\u001B[0m\n",
       "\u001B[1;32m     16\u001B[0m     \u001B[38;5;28;01mif\u001B[39;00m \u001B[38;5;124m'\u001B[39m\u001B[38;5;124mundefined symbol\u001B[39m\u001B[38;5;124m'\u001B[39m \u001B[38;5;129;01min\u001B[39;00m \u001B[38;5;28mstr\u001B[39m(e):\n",
       "\u001B[1;32m     17\u001B[0m         \u001B[38;5;28;01mraise\u001B[39;00m \u001B[38;5;167;01mImportError\u001B[39;00m(\n",
       "\u001B[1;32m     18\u001B[0m             \u001B[38;5;124m'\u001B[39m\u001B[38;5;124mThe flash_attn package is not installed correctly. Usually this means that your runtime version\u001B[39m\u001B[38;5;124m'\u001B[39m\n",
       "\u001B[1;32m     19\u001B[0m             \u001B[38;5;241m+\u001B[39m\n",
       "\u001B[0;32m   (...)\u001B[0m\n",
       "\u001B[1;32m     26\u001B[0m             \u001B[38;5;124m'\u001B[39m\u001B[38;5;124m in LLM Foundry setup.py and update accordingly. The latest Docker image can be found in the README.\u001B[39m\u001B[38;5;124m'\u001B[39m,\n",
       "\u001B[1;32m     27\u001B[0m         ) \u001B[38;5;28;01mfrom\u001B[39;00m \u001B[38;5;21;01me\u001B[39;00m\n",
       "\u001B[0;32m---> 29\u001B[0m \u001B[38;5;28;01mfrom\u001B[39;00m \u001B[38;5;21;01mllmfoundry\u001B[39;00m\u001B[38;5;21;01m.\u001B[39;00m\u001B[38;5;21;01mutils\u001B[39;00m\u001B[38;5;21;01m.\u001B[39;00m\u001B[38;5;21;01mlogging_utils\u001B[39;00m \u001B[38;5;28;01mimport\u001B[39;00m SpecificWarningFilter\n",
       "\u001B[1;32m     31\u001B[0m \u001B[38;5;66;03m# Filter out Hugging Face warning for not using a pinned revision of the model\u001B[39;00m\n",
       "\u001B[1;32m     32\u001B[0m logger \u001B[38;5;241m=\u001B[39m logging\u001B[38;5;241m.\u001B[39mgetLogger(\u001B[38;5;124m'\u001B[39m\u001B[38;5;124mtransformers.dynamic_module_utils\u001B[39m\u001B[38;5;124m'\u001B[39m)\n",
       "\n",
       "File \u001B[0;32m/local_disk0/.ephemeral_nfs/envs/pythonEnv-1baf428f-8695-4b74-acc5-37195553cf83/lib/python3.10/site-packages/llmfoundry/utils/__init__.py:4\u001B[0m\n",
       "\u001B[1;32m      1\u001B[0m \u001B[38;5;66;03m# Copyright 2022 MosaicML LLM Foundry authors\u001B[39;00m\n",
       "\u001B[1;32m      2\u001B[0m \u001B[38;5;66;03m# SPDX-License-Identifier: Apache-2.0\u001B[39;00m\n",
       "\u001B[0;32m----> 4\u001B[0m \u001B[38;5;28;01mfrom\u001B[39;00m \u001B[38;5;21;01mllmfoundry\u001B[39;00m\u001B[38;5;21;01m.\u001B[39;00m\u001B[38;5;21;01mregistry\u001B[39;00m \u001B[38;5;28;01mimport\u001B[39;00m config_transforms\n",
       "\u001B[1;32m      5\u001B[0m \u001B[38;5;28;01mfrom\u001B[39;00m \u001B[38;5;21;01mllmfoundry\u001B[39;00m\u001B[38;5;21;01m.\u001B[39;00m\u001B[38;5;21;01mutils\u001B[39;00m\u001B[38;5;21;01m.\u001B[39;00m\u001B[38;5;21;01mbuilders\u001B[39;00m \u001B[38;5;28;01mimport\u001B[39;00m (\n",
       "\u001B[1;32m      6\u001B[0m     add_metrics_to_eval_loaders,\n",
       "\u001B[1;32m      7\u001B[0m     build_algorithm,\n",
       "\u001B[0;32m   (...)\u001B[0m\n",
       "\u001B[1;32m     18\u001B[0m     build_tokenizer,\n",
       "\u001B[1;32m     19\u001B[0m )\n",
       "\u001B[1;32m     20\u001B[0m \u001B[38;5;28;01mfrom\u001B[39;00m \u001B[38;5;21;01mllmfoundry\u001B[39;00m\u001B[38;5;21;01m.\u001B[39;00m\u001B[38;5;21;01mutils\u001B[39;00m\u001B[38;5;21;01m.\u001B[39;00m\u001B[38;5;21;01mcheckpoint_conversion_helpers\u001B[39;00m \u001B[38;5;28;01mimport\u001B[39;00m (\n",
       "\u001B[1;32m     21\u001B[0m     convert_and_save_ft_weights,\n",
       "\u001B[1;32m     22\u001B[0m     get_hf_tokenizer_from_composer_state_dict,\n",
       "\u001B[1;32m     23\u001B[0m     load_tokenizer,\n",
       "\u001B[1;32m     24\u001B[0m )\n",
       "\n",
       "File \u001B[0;32m/local_disk0/.ephemeral_nfs/envs/pythonEnv-1baf428f-8695-4b74-acc5-37195553cf83/lib/python3.10/site-packages/llmfoundry/registry.py:17\u001B[0m\n",
       "\u001B[1;32m     14\u001B[0m \u001B[38;5;28;01mfrom\u001B[39;00m \u001B[38;5;21;01mtransformers\u001B[39;00m \u001B[38;5;28;01mimport\u001B[39;00m PreTrainedTokenizerBase\n",
       "\u001B[1;32m     16\u001B[0m \u001B[38;5;28;01mfrom\u001B[39;00m \u001B[38;5;21;01mllmfoundry\u001B[39;00m\u001B[38;5;21;01m.\u001B[39;00m\u001B[38;5;21;01minterfaces\u001B[39;00m \u001B[38;5;28;01mimport\u001B[39;00m CallbackWithConfig\n",
       "\u001B[0;32m---> 17\u001B[0m \u001B[38;5;28;01mfrom\u001B[39;00m \u001B[38;5;21;01mllmfoundry\u001B[39;00m\u001B[38;5;21;01m.\u001B[39;00m\u001B[38;5;21;01mlayers_registry\u001B[39;00m \u001B[38;5;28;01mimport\u001B[39;00m (\n",
       "\u001B[1;32m     18\u001B[0m     attention_classes,\n",
       "\u001B[1;32m     19\u001B[0m     attention_implementations,\n",
       "\u001B[1;32m     20\u001B[0m     fcs,\n",
       "\u001B[1;32m     21\u001B[0m     ffns,\n",
       "\u001B[1;32m     22\u001B[0m     ffns_with_megablocks,\n",
       "\u001B[1;32m     23\u001B[0m     ffns_with_norm,\n",
       "\u001B[1;32m     24\u001B[0m     module_init_fns,\n",
       "\u001B[1;32m     25\u001B[0m     norms,\n",
       "\u001B[1;32m     26\u001B[0m     param_init_fns,\n",
       "\u001B[1;32m     27\u001B[0m )\n",
       "\u001B[1;32m     28\u001B[0m \u001B[38;5;28;01mfrom\u001B[39;00m \u001B[38;5;21;01mllmfoundry\u001B[39;00m\u001B[38;5;21;01m.\u001B[39;00m\u001B[38;5;21;01mutils\u001B[39;00m\u001B[38;5;21;01m.\u001B[39;00m\u001B[38;5;21;01mregistry_utils\u001B[39;00m \u001B[38;5;28;01mimport\u001B[39;00m create_registry\n",
       "\u001B[1;32m     30\u001B[0m _loggers_description \u001B[38;5;241m=\u001B[39m (\n",
       "\u001B[1;32m     31\u001B[0m \u001B[38;5;250m    \u001B[39m\u001B[38;5;124;03m\"\"\"The loggers registry is used to register classes that implement the LoggerDestination interface.\u001B[39;00m\n",
       "\u001B[1;32m     32\u001B[0m \n",
       "\u001B[0;32m   (...)\u001B[0m\n",
       "\u001B[1;32m     41\u001B[0m \u001B[38;5;124;03m    \"\"\"\u001B[39;00m\n",
       "\u001B[1;32m     42\u001B[0m )\n",
       "\n",
       "File \u001B[0;32m/local_disk0/.ephemeral_nfs/envs/pythonEnv-1baf428f-8695-4b74-acc5-37195553cf83/lib/python3.10/site-packages/llmfoundry/layers_registry.py:8\u001B[0m\n",
       "\u001B[1;32m      4\u001B[0m \u001B[38;5;28;01mfrom\u001B[39;00m \u001B[38;5;21;01mtyping\u001B[39;00m \u001B[38;5;28;01mimport\u001B[39;00m Callable, Type\n",
       "\u001B[1;32m      6\u001B[0m \u001B[38;5;28;01mimport\u001B[39;00m \u001B[38;5;21;01mtorch\u001B[39;00m\n",
       "\u001B[0;32m----> 8\u001B[0m \u001B[38;5;28;01mfrom\u001B[39;00m \u001B[38;5;21;01mllmfoundry\u001B[39;00m\u001B[38;5;21;01m.\u001B[39;00m\u001B[38;5;21;01mutils\u001B[39;00m\u001B[38;5;21;01m.\u001B[39;00m\u001B[38;5;21;01mregistry_utils\u001B[39;00m \u001B[38;5;28;01mimport\u001B[39;00m create_registry\n",
       "\u001B[1;32m     10\u001B[0m _norms_description \u001B[38;5;241m=\u001B[39m (\n",
       "\u001B[1;32m     11\u001B[0m \u001B[38;5;250m    \u001B[39m\u001B[38;5;124;03m\"\"\"The norms registry is used to register classes that implement normalization layers.\u001B[39;00m\n",
       "\u001B[1;32m     12\u001B[0m \n",
       "\u001B[0;32m   (...)\u001B[0m\n",
       "\u001B[1;32m     21\u001B[0m \u001B[38;5;124;03m    \"\"\"\u001B[39;00m\n",
       "\u001B[1;32m     22\u001B[0m )\n",
       "\u001B[1;32m     23\u001B[0m norms \u001B[38;5;241m=\u001B[39m create_registry(\n",
       "\u001B[1;32m     24\u001B[0m     \u001B[38;5;124m'\u001B[39m\u001B[38;5;124mllmfoundry\u001B[39m\u001B[38;5;124m'\u001B[39m,\n",
       "\u001B[1;32m     25\u001B[0m     \u001B[38;5;124m'\u001B[39m\u001B[38;5;124mnorms\u001B[39m\u001B[38;5;124m'\u001B[39m,\n",
       "\u001B[0;32m   (...)\u001B[0m\n",
       "\u001B[1;32m     28\u001B[0m     description\u001B[38;5;241m=\u001B[39m_norms_description,\n",
       "\u001B[1;32m     29\u001B[0m )\n",
       "\n",
       "File \u001B[0;32m/local_disk0/.ephemeral_nfs/envs/pythonEnv-1baf428f-8695-4b74-acc5-37195553cf83/lib/python3.10/site-packages/llmfoundry/utils/registry_utils.py:23\u001B[0m\n",
       "\u001B[1;32m     10\u001B[0m \u001B[38;5;28;01mfrom\u001B[39;00m \u001B[38;5;21;01mtypes\u001B[39;00m \u001B[38;5;28;01mimport\u001B[39;00m ModuleType\n",
       "\u001B[1;32m     11\u001B[0m \u001B[38;5;28;01mfrom\u001B[39;00m \u001B[38;5;21;01mtyping\u001B[39;00m \u001B[38;5;28;01mimport\u001B[39;00m (\n",
       "\u001B[1;32m     12\u001B[0m     Any,\n",
       "\u001B[1;32m     13\u001B[0m     Callable,\n",
       "\u001B[0;32m   (...)\u001B[0m\n",
       "\u001B[1;32m     20\u001B[0m     Union,\n",
       "\u001B[1;32m     21\u001B[0m )\n",
       "\u001B[0;32m---> 23\u001B[0m \u001B[38;5;28;01mimport\u001B[39;00m \u001B[38;5;21;01mcatalogue\u001B[39;00m\n",
       "\u001B[1;32m     25\u001B[0m __all__ \u001B[38;5;241m=\u001B[39m [\n",
       "\u001B[1;32m     26\u001B[0m     \u001B[38;5;124m'\u001B[39m\u001B[38;5;124mTypedRegistry\u001B[39m\u001B[38;5;124m'\u001B[39m,\n",
       "\u001B[1;32m     27\u001B[0m     \u001B[38;5;124m'\u001B[39m\u001B[38;5;124mcreate_registry\u001B[39m\u001B[38;5;124m'\u001B[39m,\n",
       "\u001B[0;32m   (...)\u001B[0m\n",
       "\u001B[1;32m     30\u001B[0m     \u001B[38;5;124m'\u001B[39m\u001B[38;5;124msave_registry\u001B[39m\u001B[38;5;124m'\u001B[39m,\n",
       "\u001B[1;32m     31\u001B[0m ]\n",
       "\u001B[1;32m     33\u001B[0m T \u001B[38;5;241m=\u001B[39m TypeVar(\u001B[38;5;124m'\u001B[39m\u001B[38;5;124mT\u001B[39m\u001B[38;5;124m'\u001B[39m)\n",
       "\n",
       "\u001B[0;31mModuleNotFoundError\u001B[0m: No module named 'catalogue'"
      ]
     },
     "metadata": {
      "application/vnd.databricks.v1+output": {
       "addedWidgets": {},
       "arguments": {},
       "datasetInfos": [],
       "jupyterProps": {
        "ename": "ModuleNotFoundError",
        "evalue": "No module named 'catalogue'"
       },
       "metadata": {
        "errorSummary": "Command skipped"
       },
       "removedWidgets": [],
       "sqlProps": null,
       "stackFrames": [
        "\u001B[0;31m---------------------------------------------------------------------------\u001B[0m",
        "\u001B[0;31mModuleNotFoundError\u001B[0m                       Traceback (most recent call last)",
        "File \u001B[0;32m<command-2691292108300970>, line 14\u001B[0m\n\u001B[1;32m     10\u001B[0m \u001B[38;5;28;01mfrom\u001B[39;00m \u001B[38;5;21;01mtyping\u001B[39;00m \u001B[38;5;28;01mimport\u001B[39;00m cast \n\u001B[1;32m     12\u001B[0m \u001B[38;5;28;01mimport\u001B[39;00m \u001B[38;5;21;01mdatasets\u001B[39;00m \n\u001B[0;32m---> 14\u001B[0m \u001B[38;5;28;01mfrom\u001B[39;00m \u001B[38;5;21;01mllmfoundry\u001B[39;00m\u001B[38;5;21;01m.\u001B[39;00m\u001B[38;5;21;01mutils\u001B[39;00m \u001B[38;5;28;01mimport\u001B[39;00m (create_om_cfg, token_counts_with_collate, \n\u001B[1;32m     15\u001B[0m         check_HF_datasets, is_hf_dataset_path, is_uc_delta_table,\n\u001B[1;32m     16\u001B[0m         integrity_check, convert_text_to_mds, parse_args, plot_hist,\n\u001B[1;32m     17\u001B[0m )\n\u001B[1;32m     19\u001B[0m \u001B[38;5;28;01mfrom\u001B[39;00m \u001B[38;5;21;01mllmfoundry\u001B[39;00m\u001B[38;5;21;01m.\u001B[39;00m\u001B[38;5;21;01mdata\u001B[39;00m\u001B[38;5;21;01m.\u001B[39;00m\u001B[38;5;21;01mfinetuning\u001B[39;00m\u001B[38;5;21;01m.\u001B[39;00m\u001B[38;5;21;01mtasks\u001B[39;00m \u001B[38;5;28;01mimport\u001B[39;00m (_validate_chat_formatted_example,\n\u001B[1;32m     20\u001B[0m                                               _tokenize_prompt_response_formatted_example,\n\u001B[1;32m     21\u001B[0m                                               _get_example_type, ChatFormattedDict, PromptResponseDict )\n\u001B[1;32m     22\u001B[0m \u001B[38;5;28;01mimport\u001B[39;00m \u001B[38;5;21;01mtransformers\u001B[39;00m\n",
        "File \u001B[0;32m/local_disk0/.ephemeral_nfs/envs/pythonEnv-1baf428f-8695-4b74-acc5-37195553cf83/lib/python3.10/site-packages/llmfoundry/__init__.py:29\u001B[0m\n\u001B[1;32m     16\u001B[0m     \u001B[38;5;28;01mif\u001B[39;00m \u001B[38;5;124m'\u001B[39m\u001B[38;5;124mundefined symbol\u001B[39m\u001B[38;5;124m'\u001B[39m \u001B[38;5;129;01min\u001B[39;00m \u001B[38;5;28mstr\u001B[39m(e):\n\u001B[1;32m     17\u001B[0m         \u001B[38;5;28;01mraise\u001B[39;00m \u001B[38;5;167;01mImportError\u001B[39;00m(\n\u001B[1;32m     18\u001B[0m             \u001B[38;5;124m'\u001B[39m\u001B[38;5;124mThe flash_attn package is not installed correctly. Usually this means that your runtime version\u001B[39m\u001B[38;5;124m'\u001B[39m\n\u001B[1;32m     19\u001B[0m             \u001B[38;5;241m+\u001B[39m\n\u001B[0;32m   (...)\u001B[0m\n\u001B[1;32m     26\u001B[0m             \u001B[38;5;124m'\u001B[39m\u001B[38;5;124m in LLM Foundry setup.py and update accordingly. The latest Docker image can be found in the README.\u001B[39m\u001B[38;5;124m'\u001B[39m,\n\u001B[1;32m     27\u001B[0m         ) \u001B[38;5;28;01mfrom\u001B[39;00m \u001B[38;5;21;01me\u001B[39;00m\n\u001B[0;32m---> 29\u001B[0m \u001B[38;5;28;01mfrom\u001B[39;00m \u001B[38;5;21;01mllmfoundry\u001B[39;00m\u001B[38;5;21;01m.\u001B[39;00m\u001B[38;5;21;01mutils\u001B[39;00m\u001B[38;5;21;01m.\u001B[39;00m\u001B[38;5;21;01mlogging_utils\u001B[39;00m \u001B[38;5;28;01mimport\u001B[39;00m SpecificWarningFilter\n\u001B[1;32m     31\u001B[0m \u001B[38;5;66;03m# Filter out Hugging Face warning for not using a pinned revision of the model\u001B[39;00m\n\u001B[1;32m     32\u001B[0m logger \u001B[38;5;241m=\u001B[39m logging\u001B[38;5;241m.\u001B[39mgetLogger(\u001B[38;5;124m'\u001B[39m\u001B[38;5;124mtransformers.dynamic_module_utils\u001B[39m\u001B[38;5;124m'\u001B[39m)\n",
        "File \u001B[0;32m/local_disk0/.ephemeral_nfs/envs/pythonEnv-1baf428f-8695-4b74-acc5-37195553cf83/lib/python3.10/site-packages/llmfoundry/utils/__init__.py:4\u001B[0m\n\u001B[1;32m      1\u001B[0m \u001B[38;5;66;03m# Copyright 2022 MosaicML LLM Foundry authors\u001B[39;00m\n\u001B[1;32m      2\u001B[0m \u001B[38;5;66;03m# SPDX-License-Identifier: Apache-2.0\u001B[39;00m\n\u001B[0;32m----> 4\u001B[0m \u001B[38;5;28;01mfrom\u001B[39;00m \u001B[38;5;21;01mllmfoundry\u001B[39;00m\u001B[38;5;21;01m.\u001B[39;00m\u001B[38;5;21;01mregistry\u001B[39;00m \u001B[38;5;28;01mimport\u001B[39;00m config_transforms\n\u001B[1;32m      5\u001B[0m \u001B[38;5;28;01mfrom\u001B[39;00m \u001B[38;5;21;01mllmfoundry\u001B[39;00m\u001B[38;5;21;01m.\u001B[39;00m\u001B[38;5;21;01mutils\u001B[39;00m\u001B[38;5;21;01m.\u001B[39;00m\u001B[38;5;21;01mbuilders\u001B[39;00m \u001B[38;5;28;01mimport\u001B[39;00m (\n\u001B[1;32m      6\u001B[0m     add_metrics_to_eval_loaders,\n\u001B[1;32m      7\u001B[0m     build_algorithm,\n\u001B[0;32m   (...)\u001B[0m\n\u001B[1;32m     18\u001B[0m     build_tokenizer,\n\u001B[1;32m     19\u001B[0m )\n\u001B[1;32m     20\u001B[0m \u001B[38;5;28;01mfrom\u001B[39;00m \u001B[38;5;21;01mllmfoundry\u001B[39;00m\u001B[38;5;21;01m.\u001B[39;00m\u001B[38;5;21;01mutils\u001B[39;00m\u001B[38;5;21;01m.\u001B[39;00m\u001B[38;5;21;01mcheckpoint_conversion_helpers\u001B[39;00m \u001B[38;5;28;01mimport\u001B[39;00m (\n\u001B[1;32m     21\u001B[0m     convert_and_save_ft_weights,\n\u001B[1;32m     22\u001B[0m     get_hf_tokenizer_from_composer_state_dict,\n\u001B[1;32m     23\u001B[0m     load_tokenizer,\n\u001B[1;32m     24\u001B[0m )\n",
        "File \u001B[0;32m/local_disk0/.ephemeral_nfs/envs/pythonEnv-1baf428f-8695-4b74-acc5-37195553cf83/lib/python3.10/site-packages/llmfoundry/registry.py:17\u001B[0m\n\u001B[1;32m     14\u001B[0m \u001B[38;5;28;01mfrom\u001B[39;00m \u001B[38;5;21;01mtransformers\u001B[39;00m \u001B[38;5;28;01mimport\u001B[39;00m PreTrainedTokenizerBase\n\u001B[1;32m     16\u001B[0m \u001B[38;5;28;01mfrom\u001B[39;00m \u001B[38;5;21;01mllmfoundry\u001B[39;00m\u001B[38;5;21;01m.\u001B[39;00m\u001B[38;5;21;01minterfaces\u001B[39;00m \u001B[38;5;28;01mimport\u001B[39;00m CallbackWithConfig\n\u001B[0;32m---> 17\u001B[0m \u001B[38;5;28;01mfrom\u001B[39;00m \u001B[38;5;21;01mllmfoundry\u001B[39;00m\u001B[38;5;21;01m.\u001B[39;00m\u001B[38;5;21;01mlayers_registry\u001B[39;00m \u001B[38;5;28;01mimport\u001B[39;00m (\n\u001B[1;32m     18\u001B[0m     attention_classes,\n\u001B[1;32m     19\u001B[0m     attention_implementations,\n\u001B[1;32m     20\u001B[0m     fcs,\n\u001B[1;32m     21\u001B[0m     ffns,\n\u001B[1;32m     22\u001B[0m     ffns_with_megablocks,\n\u001B[1;32m     23\u001B[0m     ffns_with_norm,\n\u001B[1;32m     24\u001B[0m     module_init_fns,\n\u001B[1;32m     25\u001B[0m     norms,\n\u001B[1;32m     26\u001B[0m     param_init_fns,\n\u001B[1;32m     27\u001B[0m )\n\u001B[1;32m     28\u001B[0m \u001B[38;5;28;01mfrom\u001B[39;00m \u001B[38;5;21;01mllmfoundry\u001B[39;00m\u001B[38;5;21;01m.\u001B[39;00m\u001B[38;5;21;01mutils\u001B[39;00m\u001B[38;5;21;01m.\u001B[39;00m\u001B[38;5;21;01mregistry_utils\u001B[39;00m \u001B[38;5;28;01mimport\u001B[39;00m create_registry\n\u001B[1;32m     30\u001B[0m _loggers_description \u001B[38;5;241m=\u001B[39m (\n\u001B[1;32m     31\u001B[0m \u001B[38;5;250m    \u001B[39m\u001B[38;5;124;03m\"\"\"The loggers registry is used to register classes that implement the LoggerDestination interface.\u001B[39;00m\n\u001B[1;32m     32\u001B[0m \n\u001B[0;32m   (...)\u001B[0m\n\u001B[1;32m     41\u001B[0m \u001B[38;5;124;03m    \"\"\"\u001B[39;00m\n\u001B[1;32m     42\u001B[0m )\n",
        "File \u001B[0;32m/local_disk0/.ephemeral_nfs/envs/pythonEnv-1baf428f-8695-4b74-acc5-37195553cf83/lib/python3.10/site-packages/llmfoundry/layers_registry.py:8\u001B[0m\n\u001B[1;32m      4\u001B[0m \u001B[38;5;28;01mfrom\u001B[39;00m \u001B[38;5;21;01mtyping\u001B[39;00m \u001B[38;5;28;01mimport\u001B[39;00m Callable, Type\n\u001B[1;32m      6\u001B[0m \u001B[38;5;28;01mimport\u001B[39;00m \u001B[38;5;21;01mtorch\u001B[39;00m\n\u001B[0;32m----> 8\u001B[0m \u001B[38;5;28;01mfrom\u001B[39;00m \u001B[38;5;21;01mllmfoundry\u001B[39;00m\u001B[38;5;21;01m.\u001B[39;00m\u001B[38;5;21;01mutils\u001B[39;00m\u001B[38;5;21;01m.\u001B[39;00m\u001B[38;5;21;01mregistry_utils\u001B[39;00m \u001B[38;5;28;01mimport\u001B[39;00m create_registry\n\u001B[1;32m     10\u001B[0m _norms_description \u001B[38;5;241m=\u001B[39m (\n\u001B[1;32m     11\u001B[0m \u001B[38;5;250m    \u001B[39m\u001B[38;5;124;03m\"\"\"The norms registry is used to register classes that implement normalization layers.\u001B[39;00m\n\u001B[1;32m     12\u001B[0m \n\u001B[0;32m   (...)\u001B[0m\n\u001B[1;32m     21\u001B[0m \u001B[38;5;124;03m    \"\"\"\u001B[39;00m\n\u001B[1;32m     22\u001B[0m )\n\u001B[1;32m     23\u001B[0m norms \u001B[38;5;241m=\u001B[39m create_registry(\n\u001B[1;32m     24\u001B[0m     \u001B[38;5;124m'\u001B[39m\u001B[38;5;124mllmfoundry\u001B[39m\u001B[38;5;124m'\u001B[39m,\n\u001B[1;32m     25\u001B[0m     \u001B[38;5;124m'\u001B[39m\u001B[38;5;124mnorms\u001B[39m\u001B[38;5;124m'\u001B[39m,\n\u001B[0;32m   (...)\u001B[0m\n\u001B[1;32m     28\u001B[0m     description\u001B[38;5;241m=\u001B[39m_norms_description,\n\u001B[1;32m     29\u001B[0m )\n",
        "File \u001B[0;32m/local_disk0/.ephemeral_nfs/envs/pythonEnv-1baf428f-8695-4b74-acc5-37195553cf83/lib/python3.10/site-packages/llmfoundry/utils/registry_utils.py:23\u001B[0m\n\u001B[1;32m     10\u001B[0m \u001B[38;5;28;01mfrom\u001B[39;00m \u001B[38;5;21;01mtypes\u001B[39;00m \u001B[38;5;28;01mimport\u001B[39;00m ModuleType\n\u001B[1;32m     11\u001B[0m \u001B[38;5;28;01mfrom\u001B[39;00m \u001B[38;5;21;01mtyping\u001B[39;00m \u001B[38;5;28;01mimport\u001B[39;00m (\n\u001B[1;32m     12\u001B[0m     Any,\n\u001B[1;32m     13\u001B[0m     Callable,\n\u001B[0;32m   (...)\u001B[0m\n\u001B[1;32m     20\u001B[0m     Union,\n\u001B[1;32m     21\u001B[0m )\n\u001B[0;32m---> 23\u001B[0m \u001B[38;5;28;01mimport\u001B[39;00m \u001B[38;5;21;01mcatalogue\u001B[39;00m\n\u001B[1;32m     25\u001B[0m __all__ \u001B[38;5;241m=\u001B[39m [\n\u001B[1;32m     26\u001B[0m     \u001B[38;5;124m'\u001B[39m\u001B[38;5;124mTypedRegistry\u001B[39m\u001B[38;5;124m'\u001B[39m,\n\u001B[1;32m     27\u001B[0m     \u001B[38;5;124m'\u001B[39m\u001B[38;5;124mcreate_registry\u001B[39m\u001B[38;5;124m'\u001B[39m,\n\u001B[0;32m   (...)\u001B[0m\n\u001B[1;32m     30\u001B[0m     \u001B[38;5;124m'\u001B[39m\u001B[38;5;124msave_registry\u001B[39m\u001B[38;5;124m'\u001B[39m,\n\u001B[1;32m     31\u001B[0m ]\n\u001B[1;32m     33\u001B[0m T \u001B[38;5;241m=\u001B[39m TypeVar(\u001B[38;5;124m'\u001B[39m\u001B[38;5;124mT\u001B[39m\u001B[38;5;124m'\u001B[39m)\n",
        "\u001B[0;31mModuleNotFoundError\u001B[0m: No module named 'catalogue'"
       ],
       "type": "baseError"
      }
     },
     "output_type": "display_data"
    }
   ],
   "source": [
    "cfg, tokenizer = create_om_cfg(FT_API_args)\n",
    "\n",
    "input_folder = FT_API_args.train_data_path\n",
    "output_folder = temporary_mds_output_path\n",
    "concat_tokens = FT_API_args.context_length\n",
    "tokenizer_name = FT_API_args.model\n",
    "\n",
    "# Run convert_text_to_mds.py and dump MDS dataset to \"save_folder\"\n",
    "args = parse_args(tokenizer_name, concat_tokens, output_folder, input_folder)\n",
    "\n",
    "n_samples = convert_text_to_mds(\n",
    "    tokenizer_name=args.tokenizer,\n",
    "    output_folder=args.output_folder,\n",
    "    input_folder=args.input_folder,\n",
    "    concat_tokens=args.concat_tokens,\n",
    "    eos_text=args.eos_text,\n",
    "    bos_text=args.bos_text,\n",
    "    no_wrap=args.no_wrap,\n",
    "    compression=args.compression,\n",
    "    processes=1,\n",
    "    reprocess=True,\n",
    "    args_str=str(args), \n",
    "    trust_remote_code=False)\n",
    "\n",
    "n_billing_tokens_in_dataset = n_samples * concat_tokens"
   ]
  },
  {
   "cell_type": "markdown",
   "metadata": {
    "application/vnd.databricks.v1+cell": {
     "cellMetadata": {
      "byteLimit": 2048000,
      "rowLimit": 10000
     },
     "inputWidgets": {},
     "nuid": "298eb990-9160-4e1b-958f-33dd2c11b54b",
     "showTitle": false,
     "title": ""
    }
   },
   "source": [
    "#### Token Estimation"
   ]
  },
  {
   "cell_type": "code",
   "execution_count": 0,
   "metadata": {
    "application/vnd.databricks.v1+cell": {
     "cellMetadata": {
      "byteLimit": 2048000,
      "rowLimit": 10000
     },
     "inputWidgets": {},
     "nuid": "5bc58cb3-0a19-4512-9584-642f0a2be4df",
     "showTitle": false,
     "title": ""
    }
   },
   "outputs": [
    {
     "output_type": "display_data",
     "data": {
      "text/plain": [
       "\u001B[0;31m---------------------------------------------------------------------------\u001B[0m\n",
       "\u001B[0;31mModuleNotFoundError\u001B[0m                       Traceback (most recent call last)\n",
       "File \u001B[0;32m<command-2691292108300970>, line 14\u001B[0m\n",
       "\u001B[1;32m     10\u001B[0m \u001B[38;5;28;01mfrom\u001B[39;00m \u001B[38;5;21;01mtyping\u001B[39;00m \u001B[38;5;28;01mimport\u001B[39;00m cast \n",
       "\u001B[1;32m     12\u001B[0m \u001B[38;5;28;01mimport\u001B[39;00m \u001B[38;5;21;01mdatasets\u001B[39;00m \n",
       "\u001B[0;32m---> 14\u001B[0m \u001B[38;5;28;01mfrom\u001B[39;00m \u001B[38;5;21;01mllmfoundry\u001B[39;00m\u001B[38;5;21;01m.\u001B[39;00m\u001B[38;5;21;01mutils\u001B[39;00m \u001B[38;5;28;01mimport\u001B[39;00m (create_om_cfg, token_counts_with_collate, \n",
       "\u001B[1;32m     15\u001B[0m         check_HF_datasets, is_hf_dataset_path, is_uc_delta_table,\n",
       "\u001B[1;32m     16\u001B[0m         integrity_check, convert_text_to_mds, parse_args, plot_hist,\n",
       "\u001B[1;32m     17\u001B[0m )\n",
       "\u001B[1;32m     19\u001B[0m \u001B[38;5;28;01mfrom\u001B[39;00m \u001B[38;5;21;01mllmfoundry\u001B[39;00m\u001B[38;5;21;01m.\u001B[39;00m\u001B[38;5;21;01mdata\u001B[39;00m\u001B[38;5;21;01m.\u001B[39;00m\u001B[38;5;21;01mfinetuning\u001B[39;00m\u001B[38;5;21;01m.\u001B[39;00m\u001B[38;5;21;01mtasks\u001B[39;00m \u001B[38;5;28;01mimport\u001B[39;00m (_validate_chat_formatted_example,\n",
       "\u001B[1;32m     20\u001B[0m                                               _tokenize_prompt_response_formatted_example,\n",
       "\u001B[1;32m     21\u001B[0m                                               _get_example_type, ChatFormattedDict, PromptResponseDict )\n",
       "\u001B[1;32m     22\u001B[0m \u001B[38;5;28;01mimport\u001B[39;00m \u001B[38;5;21;01mtransformers\u001B[39;00m\n",
       "\n",
       "File \u001B[0;32m/local_disk0/.ephemeral_nfs/envs/pythonEnv-1baf428f-8695-4b74-acc5-37195553cf83/lib/python3.10/site-packages/llmfoundry/__init__.py:29\u001B[0m\n",
       "\u001B[1;32m     16\u001B[0m     \u001B[38;5;28;01mif\u001B[39;00m \u001B[38;5;124m'\u001B[39m\u001B[38;5;124mundefined symbol\u001B[39m\u001B[38;5;124m'\u001B[39m \u001B[38;5;129;01min\u001B[39;00m \u001B[38;5;28mstr\u001B[39m(e):\n",
       "\u001B[1;32m     17\u001B[0m         \u001B[38;5;28;01mraise\u001B[39;00m \u001B[38;5;167;01mImportError\u001B[39;00m(\n",
       "\u001B[1;32m     18\u001B[0m             \u001B[38;5;124m'\u001B[39m\u001B[38;5;124mThe flash_attn package is not installed correctly. Usually this means that your runtime version\u001B[39m\u001B[38;5;124m'\u001B[39m\n",
       "\u001B[1;32m     19\u001B[0m             \u001B[38;5;241m+\u001B[39m\n",
       "\u001B[0;32m   (...)\u001B[0m\n",
       "\u001B[1;32m     26\u001B[0m             \u001B[38;5;124m'\u001B[39m\u001B[38;5;124m in LLM Foundry setup.py and update accordingly. The latest Docker image can be found in the README.\u001B[39m\u001B[38;5;124m'\u001B[39m,\n",
       "\u001B[1;32m     27\u001B[0m         ) \u001B[38;5;28;01mfrom\u001B[39;00m \u001B[38;5;21;01me\u001B[39;00m\n",
       "\u001B[0;32m---> 29\u001B[0m \u001B[38;5;28;01mfrom\u001B[39;00m \u001B[38;5;21;01mllmfoundry\u001B[39;00m\u001B[38;5;21;01m.\u001B[39;00m\u001B[38;5;21;01mutils\u001B[39;00m\u001B[38;5;21;01m.\u001B[39;00m\u001B[38;5;21;01mlogging_utils\u001B[39;00m \u001B[38;5;28;01mimport\u001B[39;00m SpecificWarningFilter\n",
       "\u001B[1;32m     31\u001B[0m \u001B[38;5;66;03m# Filter out Hugging Face warning for not using a pinned revision of the model\u001B[39;00m\n",
       "\u001B[1;32m     32\u001B[0m logger \u001B[38;5;241m=\u001B[39m logging\u001B[38;5;241m.\u001B[39mgetLogger(\u001B[38;5;124m'\u001B[39m\u001B[38;5;124mtransformers.dynamic_module_utils\u001B[39m\u001B[38;5;124m'\u001B[39m)\n",
       "\n",
       "File \u001B[0;32m/local_disk0/.ephemeral_nfs/envs/pythonEnv-1baf428f-8695-4b74-acc5-37195553cf83/lib/python3.10/site-packages/llmfoundry/utils/__init__.py:4\u001B[0m\n",
       "\u001B[1;32m      1\u001B[0m \u001B[38;5;66;03m# Copyright 2022 MosaicML LLM Foundry authors\u001B[39;00m\n",
       "\u001B[1;32m      2\u001B[0m \u001B[38;5;66;03m# SPDX-License-Identifier: Apache-2.0\u001B[39;00m\n",
       "\u001B[0;32m----> 4\u001B[0m \u001B[38;5;28;01mfrom\u001B[39;00m \u001B[38;5;21;01mllmfoundry\u001B[39;00m\u001B[38;5;21;01m.\u001B[39;00m\u001B[38;5;21;01mregistry\u001B[39;00m \u001B[38;5;28;01mimport\u001B[39;00m config_transforms\n",
       "\u001B[1;32m      5\u001B[0m \u001B[38;5;28;01mfrom\u001B[39;00m \u001B[38;5;21;01mllmfoundry\u001B[39;00m\u001B[38;5;21;01m.\u001B[39;00m\u001B[38;5;21;01mutils\u001B[39;00m\u001B[38;5;21;01m.\u001B[39;00m\u001B[38;5;21;01mbuilders\u001B[39;00m \u001B[38;5;28;01mimport\u001B[39;00m (\n",
       "\u001B[1;32m      6\u001B[0m     add_metrics_to_eval_loaders,\n",
       "\u001B[1;32m      7\u001B[0m     build_algorithm,\n",
       "\u001B[0;32m   (...)\u001B[0m\n",
       "\u001B[1;32m     18\u001B[0m     build_tokenizer,\n",
       "\u001B[1;32m     19\u001B[0m )\n",
       "\u001B[1;32m     20\u001B[0m \u001B[38;5;28;01mfrom\u001B[39;00m \u001B[38;5;21;01mllmfoundry\u001B[39;00m\u001B[38;5;21;01m.\u001B[39;00m\u001B[38;5;21;01mutils\u001B[39;00m\u001B[38;5;21;01m.\u001B[39;00m\u001B[38;5;21;01mcheckpoint_conversion_helpers\u001B[39;00m \u001B[38;5;28;01mimport\u001B[39;00m (\n",
       "\u001B[1;32m     21\u001B[0m     convert_and_save_ft_weights,\n",
       "\u001B[1;32m     22\u001B[0m     get_hf_tokenizer_from_composer_state_dict,\n",
       "\u001B[1;32m     23\u001B[0m     load_tokenizer,\n",
       "\u001B[1;32m     24\u001B[0m )\n",
       "\n",
       "File \u001B[0;32m/local_disk0/.ephemeral_nfs/envs/pythonEnv-1baf428f-8695-4b74-acc5-37195553cf83/lib/python3.10/site-packages/llmfoundry/registry.py:17\u001B[0m\n",
       "\u001B[1;32m     14\u001B[0m \u001B[38;5;28;01mfrom\u001B[39;00m \u001B[38;5;21;01mtransformers\u001B[39;00m \u001B[38;5;28;01mimport\u001B[39;00m PreTrainedTokenizerBase\n",
       "\u001B[1;32m     16\u001B[0m \u001B[38;5;28;01mfrom\u001B[39;00m \u001B[38;5;21;01mllmfoundry\u001B[39;00m\u001B[38;5;21;01m.\u001B[39;00m\u001B[38;5;21;01minterfaces\u001B[39;00m \u001B[38;5;28;01mimport\u001B[39;00m CallbackWithConfig\n",
       "\u001B[0;32m---> 17\u001B[0m \u001B[38;5;28;01mfrom\u001B[39;00m \u001B[38;5;21;01mllmfoundry\u001B[39;00m\u001B[38;5;21;01m.\u001B[39;00m\u001B[38;5;21;01mlayers_registry\u001B[39;00m \u001B[38;5;28;01mimport\u001B[39;00m (\n",
       "\u001B[1;32m     18\u001B[0m     attention_classes,\n",
       "\u001B[1;32m     19\u001B[0m     attention_implementations,\n",
       "\u001B[1;32m     20\u001B[0m     fcs,\n",
       "\u001B[1;32m     21\u001B[0m     ffns,\n",
       "\u001B[1;32m     22\u001B[0m     ffns_with_megablocks,\n",
       "\u001B[1;32m     23\u001B[0m     ffns_with_norm,\n",
       "\u001B[1;32m     24\u001B[0m     module_init_fns,\n",
       "\u001B[1;32m     25\u001B[0m     norms,\n",
       "\u001B[1;32m     26\u001B[0m     param_init_fns,\n",
       "\u001B[1;32m     27\u001B[0m )\n",
       "\u001B[1;32m     28\u001B[0m \u001B[38;5;28;01mfrom\u001B[39;00m \u001B[38;5;21;01mllmfoundry\u001B[39;00m\u001B[38;5;21;01m.\u001B[39;00m\u001B[38;5;21;01mutils\u001B[39;00m\u001B[38;5;21;01m.\u001B[39;00m\u001B[38;5;21;01mregistry_utils\u001B[39;00m \u001B[38;5;28;01mimport\u001B[39;00m create_registry\n",
       "\u001B[1;32m     30\u001B[0m _loggers_description \u001B[38;5;241m=\u001B[39m (\n",
       "\u001B[1;32m     31\u001B[0m \u001B[38;5;250m    \u001B[39m\u001B[38;5;124;03m\"\"\"The loggers registry is used to register classes that implement the LoggerDestination interface.\u001B[39;00m\n",
       "\u001B[1;32m     32\u001B[0m \n",
       "\u001B[0;32m   (...)\u001B[0m\n",
       "\u001B[1;32m     41\u001B[0m \u001B[38;5;124;03m    \"\"\"\u001B[39;00m\n",
       "\u001B[1;32m     42\u001B[0m )\n",
       "\n",
       "File \u001B[0;32m/local_disk0/.ephemeral_nfs/envs/pythonEnv-1baf428f-8695-4b74-acc5-37195553cf83/lib/python3.10/site-packages/llmfoundry/layers_registry.py:8\u001B[0m\n",
       "\u001B[1;32m      4\u001B[0m \u001B[38;5;28;01mfrom\u001B[39;00m \u001B[38;5;21;01mtyping\u001B[39;00m \u001B[38;5;28;01mimport\u001B[39;00m Callable, Type\n",
       "\u001B[1;32m      6\u001B[0m \u001B[38;5;28;01mimport\u001B[39;00m \u001B[38;5;21;01mtorch\u001B[39;00m\n",
       "\u001B[0;32m----> 8\u001B[0m \u001B[38;5;28;01mfrom\u001B[39;00m \u001B[38;5;21;01mllmfoundry\u001B[39;00m\u001B[38;5;21;01m.\u001B[39;00m\u001B[38;5;21;01mutils\u001B[39;00m\u001B[38;5;21;01m.\u001B[39;00m\u001B[38;5;21;01mregistry_utils\u001B[39;00m \u001B[38;5;28;01mimport\u001B[39;00m create_registry\n",
       "\u001B[1;32m     10\u001B[0m _norms_description \u001B[38;5;241m=\u001B[39m (\n",
       "\u001B[1;32m     11\u001B[0m \u001B[38;5;250m    \u001B[39m\u001B[38;5;124;03m\"\"\"The norms registry is used to register classes that implement normalization layers.\u001B[39;00m\n",
       "\u001B[1;32m     12\u001B[0m \n",
       "\u001B[0;32m   (...)\u001B[0m\n",
       "\u001B[1;32m     21\u001B[0m \u001B[38;5;124;03m    \"\"\"\u001B[39;00m\n",
       "\u001B[1;32m     22\u001B[0m )\n",
       "\u001B[1;32m     23\u001B[0m norms \u001B[38;5;241m=\u001B[39m create_registry(\n",
       "\u001B[1;32m     24\u001B[0m     \u001B[38;5;124m'\u001B[39m\u001B[38;5;124mllmfoundry\u001B[39m\u001B[38;5;124m'\u001B[39m,\n",
       "\u001B[1;32m     25\u001B[0m     \u001B[38;5;124m'\u001B[39m\u001B[38;5;124mnorms\u001B[39m\u001B[38;5;124m'\u001B[39m,\n",
       "\u001B[0;32m   (...)\u001B[0m\n",
       "\u001B[1;32m     28\u001B[0m     description\u001B[38;5;241m=\u001B[39m_norms_description,\n",
       "\u001B[1;32m     29\u001B[0m )\n",
       "\n",
       "File \u001B[0;32m/local_disk0/.ephemeral_nfs/envs/pythonEnv-1baf428f-8695-4b74-acc5-37195553cf83/lib/python3.10/site-packages/llmfoundry/utils/registry_utils.py:23\u001B[0m\n",
       "\u001B[1;32m     10\u001B[0m \u001B[38;5;28;01mfrom\u001B[39;00m \u001B[38;5;21;01mtypes\u001B[39;00m \u001B[38;5;28;01mimport\u001B[39;00m ModuleType\n",
       "\u001B[1;32m     11\u001B[0m \u001B[38;5;28;01mfrom\u001B[39;00m \u001B[38;5;21;01mtyping\u001B[39;00m \u001B[38;5;28;01mimport\u001B[39;00m (\n",
       "\u001B[1;32m     12\u001B[0m     Any,\n",
       "\u001B[1;32m     13\u001B[0m     Callable,\n",
       "\u001B[0;32m   (...)\u001B[0m\n",
       "\u001B[1;32m     20\u001B[0m     Union,\n",
       "\u001B[1;32m     21\u001B[0m )\n",
       "\u001B[0;32m---> 23\u001B[0m \u001B[38;5;28;01mimport\u001B[39;00m \u001B[38;5;21;01mcatalogue\u001B[39;00m\n",
       "\u001B[1;32m     25\u001B[0m __all__ \u001B[38;5;241m=\u001B[39m [\n",
       "\u001B[1;32m     26\u001B[0m     \u001B[38;5;124m'\u001B[39m\u001B[38;5;124mTypedRegistry\u001B[39m\u001B[38;5;124m'\u001B[39m,\n",
       "\u001B[1;32m     27\u001B[0m     \u001B[38;5;124m'\u001B[39m\u001B[38;5;124mcreate_registry\u001B[39m\u001B[38;5;124m'\u001B[39m,\n",
       "\u001B[0;32m   (...)\u001B[0m\n",
       "\u001B[1;32m     30\u001B[0m     \u001B[38;5;124m'\u001B[39m\u001B[38;5;124msave_registry\u001B[39m\u001B[38;5;124m'\u001B[39m,\n",
       "\u001B[1;32m     31\u001B[0m ]\n",
       "\u001B[1;32m     33\u001B[0m T \u001B[38;5;241m=\u001B[39m TypeVar(\u001B[38;5;124m'\u001B[39m\u001B[38;5;124mT\u001B[39m\u001B[38;5;124m'\u001B[39m)\n",
       "\n",
       "\u001B[0;31mModuleNotFoundError\u001B[0m: No module named 'catalogue'"
      ]
     },
     "metadata": {
      "application/vnd.databricks.v1+output": {
       "addedWidgets": {},
       "arguments": {},
       "datasetInfos": [],
       "jupyterProps": {
        "ename": "ModuleNotFoundError",
        "evalue": "No module named 'catalogue'"
       },
       "metadata": {
        "errorSummary": "Command skipped"
       },
       "removedWidgets": [],
       "sqlProps": null,
       "stackFrames": [
        "\u001B[0;31m---------------------------------------------------------------------------\u001B[0m",
        "\u001B[0;31mModuleNotFoundError\u001B[0m                       Traceback (most recent call last)",
        "File \u001B[0;32m<command-2691292108300970>, line 14\u001B[0m\n\u001B[1;32m     10\u001B[0m \u001B[38;5;28;01mfrom\u001B[39;00m \u001B[38;5;21;01mtyping\u001B[39;00m \u001B[38;5;28;01mimport\u001B[39;00m cast \n\u001B[1;32m     12\u001B[0m \u001B[38;5;28;01mimport\u001B[39;00m \u001B[38;5;21;01mdatasets\u001B[39;00m \n\u001B[0;32m---> 14\u001B[0m \u001B[38;5;28;01mfrom\u001B[39;00m \u001B[38;5;21;01mllmfoundry\u001B[39;00m\u001B[38;5;21;01m.\u001B[39;00m\u001B[38;5;21;01mutils\u001B[39;00m \u001B[38;5;28;01mimport\u001B[39;00m (create_om_cfg, token_counts_with_collate, \n\u001B[1;32m     15\u001B[0m         check_HF_datasets, is_hf_dataset_path, is_uc_delta_table,\n\u001B[1;32m     16\u001B[0m         integrity_check, convert_text_to_mds, parse_args, plot_hist,\n\u001B[1;32m     17\u001B[0m )\n\u001B[1;32m     19\u001B[0m \u001B[38;5;28;01mfrom\u001B[39;00m \u001B[38;5;21;01mllmfoundry\u001B[39;00m\u001B[38;5;21;01m.\u001B[39;00m\u001B[38;5;21;01mdata\u001B[39;00m\u001B[38;5;21;01m.\u001B[39;00m\u001B[38;5;21;01mfinetuning\u001B[39;00m\u001B[38;5;21;01m.\u001B[39;00m\u001B[38;5;21;01mtasks\u001B[39;00m \u001B[38;5;28;01mimport\u001B[39;00m (_validate_chat_formatted_example,\n\u001B[1;32m     20\u001B[0m                                               _tokenize_prompt_response_formatted_example,\n\u001B[1;32m     21\u001B[0m                                               _get_example_type, ChatFormattedDict, PromptResponseDict )\n\u001B[1;32m     22\u001B[0m \u001B[38;5;28;01mimport\u001B[39;00m \u001B[38;5;21;01mtransformers\u001B[39;00m\n",
        "File \u001B[0;32m/local_disk0/.ephemeral_nfs/envs/pythonEnv-1baf428f-8695-4b74-acc5-37195553cf83/lib/python3.10/site-packages/llmfoundry/__init__.py:29\u001B[0m\n\u001B[1;32m     16\u001B[0m     \u001B[38;5;28;01mif\u001B[39;00m \u001B[38;5;124m'\u001B[39m\u001B[38;5;124mundefined symbol\u001B[39m\u001B[38;5;124m'\u001B[39m \u001B[38;5;129;01min\u001B[39;00m \u001B[38;5;28mstr\u001B[39m(e):\n\u001B[1;32m     17\u001B[0m         \u001B[38;5;28;01mraise\u001B[39;00m \u001B[38;5;167;01mImportError\u001B[39;00m(\n\u001B[1;32m     18\u001B[0m             \u001B[38;5;124m'\u001B[39m\u001B[38;5;124mThe flash_attn package is not installed correctly. Usually this means that your runtime version\u001B[39m\u001B[38;5;124m'\u001B[39m\n\u001B[1;32m     19\u001B[0m             \u001B[38;5;241m+\u001B[39m\n\u001B[0;32m   (...)\u001B[0m\n\u001B[1;32m     26\u001B[0m             \u001B[38;5;124m'\u001B[39m\u001B[38;5;124m in LLM Foundry setup.py and update accordingly. The latest Docker image can be found in the README.\u001B[39m\u001B[38;5;124m'\u001B[39m,\n\u001B[1;32m     27\u001B[0m         ) \u001B[38;5;28;01mfrom\u001B[39;00m \u001B[38;5;21;01me\u001B[39;00m\n\u001B[0;32m---> 29\u001B[0m \u001B[38;5;28;01mfrom\u001B[39;00m \u001B[38;5;21;01mllmfoundry\u001B[39;00m\u001B[38;5;21;01m.\u001B[39;00m\u001B[38;5;21;01mutils\u001B[39;00m\u001B[38;5;21;01m.\u001B[39;00m\u001B[38;5;21;01mlogging_utils\u001B[39;00m \u001B[38;5;28;01mimport\u001B[39;00m SpecificWarningFilter\n\u001B[1;32m     31\u001B[0m \u001B[38;5;66;03m# Filter out Hugging Face warning for not using a pinned revision of the model\u001B[39;00m\n\u001B[1;32m     32\u001B[0m logger \u001B[38;5;241m=\u001B[39m logging\u001B[38;5;241m.\u001B[39mgetLogger(\u001B[38;5;124m'\u001B[39m\u001B[38;5;124mtransformers.dynamic_module_utils\u001B[39m\u001B[38;5;124m'\u001B[39m)\n",
        "File \u001B[0;32m/local_disk0/.ephemeral_nfs/envs/pythonEnv-1baf428f-8695-4b74-acc5-37195553cf83/lib/python3.10/site-packages/llmfoundry/utils/__init__.py:4\u001B[0m\n\u001B[1;32m      1\u001B[0m \u001B[38;5;66;03m# Copyright 2022 MosaicML LLM Foundry authors\u001B[39;00m\n\u001B[1;32m      2\u001B[0m \u001B[38;5;66;03m# SPDX-License-Identifier: Apache-2.0\u001B[39;00m\n\u001B[0;32m----> 4\u001B[0m \u001B[38;5;28;01mfrom\u001B[39;00m \u001B[38;5;21;01mllmfoundry\u001B[39;00m\u001B[38;5;21;01m.\u001B[39;00m\u001B[38;5;21;01mregistry\u001B[39;00m \u001B[38;5;28;01mimport\u001B[39;00m config_transforms\n\u001B[1;32m      5\u001B[0m \u001B[38;5;28;01mfrom\u001B[39;00m \u001B[38;5;21;01mllmfoundry\u001B[39;00m\u001B[38;5;21;01m.\u001B[39;00m\u001B[38;5;21;01mutils\u001B[39;00m\u001B[38;5;21;01m.\u001B[39;00m\u001B[38;5;21;01mbuilders\u001B[39;00m \u001B[38;5;28;01mimport\u001B[39;00m (\n\u001B[1;32m      6\u001B[0m     add_metrics_to_eval_loaders,\n\u001B[1;32m      7\u001B[0m     build_algorithm,\n\u001B[0;32m   (...)\u001B[0m\n\u001B[1;32m     18\u001B[0m     build_tokenizer,\n\u001B[1;32m     19\u001B[0m )\n\u001B[1;32m     20\u001B[0m \u001B[38;5;28;01mfrom\u001B[39;00m \u001B[38;5;21;01mllmfoundry\u001B[39;00m\u001B[38;5;21;01m.\u001B[39;00m\u001B[38;5;21;01mutils\u001B[39;00m\u001B[38;5;21;01m.\u001B[39;00m\u001B[38;5;21;01mcheckpoint_conversion_helpers\u001B[39;00m \u001B[38;5;28;01mimport\u001B[39;00m (\n\u001B[1;32m     21\u001B[0m     convert_and_save_ft_weights,\n\u001B[1;32m     22\u001B[0m     get_hf_tokenizer_from_composer_state_dict,\n\u001B[1;32m     23\u001B[0m     load_tokenizer,\n\u001B[1;32m     24\u001B[0m )\n",
        "File \u001B[0;32m/local_disk0/.ephemeral_nfs/envs/pythonEnv-1baf428f-8695-4b74-acc5-37195553cf83/lib/python3.10/site-packages/llmfoundry/registry.py:17\u001B[0m\n\u001B[1;32m     14\u001B[0m \u001B[38;5;28;01mfrom\u001B[39;00m \u001B[38;5;21;01mtransformers\u001B[39;00m \u001B[38;5;28;01mimport\u001B[39;00m PreTrainedTokenizerBase\n\u001B[1;32m     16\u001B[0m \u001B[38;5;28;01mfrom\u001B[39;00m \u001B[38;5;21;01mllmfoundry\u001B[39;00m\u001B[38;5;21;01m.\u001B[39;00m\u001B[38;5;21;01minterfaces\u001B[39;00m \u001B[38;5;28;01mimport\u001B[39;00m CallbackWithConfig\n\u001B[0;32m---> 17\u001B[0m \u001B[38;5;28;01mfrom\u001B[39;00m \u001B[38;5;21;01mllmfoundry\u001B[39;00m\u001B[38;5;21;01m.\u001B[39;00m\u001B[38;5;21;01mlayers_registry\u001B[39;00m \u001B[38;5;28;01mimport\u001B[39;00m (\n\u001B[1;32m     18\u001B[0m     attention_classes,\n\u001B[1;32m     19\u001B[0m     attention_implementations,\n\u001B[1;32m     20\u001B[0m     fcs,\n\u001B[1;32m     21\u001B[0m     ffns,\n\u001B[1;32m     22\u001B[0m     ffns_with_megablocks,\n\u001B[1;32m     23\u001B[0m     ffns_with_norm,\n\u001B[1;32m     24\u001B[0m     module_init_fns,\n\u001B[1;32m     25\u001B[0m     norms,\n\u001B[1;32m     26\u001B[0m     param_init_fns,\n\u001B[1;32m     27\u001B[0m )\n\u001B[1;32m     28\u001B[0m \u001B[38;5;28;01mfrom\u001B[39;00m \u001B[38;5;21;01mllmfoundry\u001B[39;00m\u001B[38;5;21;01m.\u001B[39;00m\u001B[38;5;21;01mutils\u001B[39;00m\u001B[38;5;21;01m.\u001B[39;00m\u001B[38;5;21;01mregistry_utils\u001B[39;00m \u001B[38;5;28;01mimport\u001B[39;00m create_registry\n\u001B[1;32m     30\u001B[0m _loggers_description \u001B[38;5;241m=\u001B[39m (\n\u001B[1;32m     31\u001B[0m \u001B[38;5;250m    \u001B[39m\u001B[38;5;124;03m\"\"\"The loggers registry is used to register classes that implement the LoggerDestination interface.\u001B[39;00m\n\u001B[1;32m     32\u001B[0m \n\u001B[0;32m   (...)\u001B[0m\n\u001B[1;32m     41\u001B[0m \u001B[38;5;124;03m    \"\"\"\u001B[39;00m\n\u001B[1;32m     42\u001B[0m )\n",
        "File \u001B[0;32m/local_disk0/.ephemeral_nfs/envs/pythonEnv-1baf428f-8695-4b74-acc5-37195553cf83/lib/python3.10/site-packages/llmfoundry/layers_registry.py:8\u001B[0m\n\u001B[1;32m      4\u001B[0m \u001B[38;5;28;01mfrom\u001B[39;00m \u001B[38;5;21;01mtyping\u001B[39;00m \u001B[38;5;28;01mimport\u001B[39;00m Callable, Type\n\u001B[1;32m      6\u001B[0m \u001B[38;5;28;01mimport\u001B[39;00m \u001B[38;5;21;01mtorch\u001B[39;00m\n\u001B[0;32m----> 8\u001B[0m \u001B[38;5;28;01mfrom\u001B[39;00m \u001B[38;5;21;01mllmfoundry\u001B[39;00m\u001B[38;5;21;01m.\u001B[39;00m\u001B[38;5;21;01mutils\u001B[39;00m\u001B[38;5;21;01m.\u001B[39;00m\u001B[38;5;21;01mregistry_utils\u001B[39;00m \u001B[38;5;28;01mimport\u001B[39;00m create_registry\n\u001B[1;32m     10\u001B[0m _norms_description \u001B[38;5;241m=\u001B[39m (\n\u001B[1;32m     11\u001B[0m \u001B[38;5;250m    \u001B[39m\u001B[38;5;124;03m\"\"\"The norms registry is used to register classes that implement normalization layers.\u001B[39;00m\n\u001B[1;32m     12\u001B[0m \n\u001B[0;32m   (...)\u001B[0m\n\u001B[1;32m     21\u001B[0m \u001B[38;5;124;03m    \"\"\"\u001B[39;00m\n\u001B[1;32m     22\u001B[0m )\n\u001B[1;32m     23\u001B[0m norms \u001B[38;5;241m=\u001B[39m create_registry(\n\u001B[1;32m     24\u001B[0m     \u001B[38;5;124m'\u001B[39m\u001B[38;5;124mllmfoundry\u001B[39m\u001B[38;5;124m'\u001B[39m,\n\u001B[1;32m     25\u001B[0m     \u001B[38;5;124m'\u001B[39m\u001B[38;5;124mnorms\u001B[39m\u001B[38;5;124m'\u001B[39m,\n\u001B[0;32m   (...)\u001B[0m\n\u001B[1;32m     28\u001B[0m     description\u001B[38;5;241m=\u001B[39m_norms_description,\n\u001B[1;32m     29\u001B[0m )\n",
        "File \u001B[0;32m/local_disk0/.ephemeral_nfs/envs/pythonEnv-1baf428f-8695-4b74-acc5-37195553cf83/lib/python3.10/site-packages/llmfoundry/utils/registry_utils.py:23\u001B[0m\n\u001B[1;32m     10\u001B[0m \u001B[38;5;28;01mfrom\u001B[39;00m \u001B[38;5;21;01mtypes\u001B[39;00m \u001B[38;5;28;01mimport\u001B[39;00m ModuleType\n\u001B[1;32m     11\u001B[0m \u001B[38;5;28;01mfrom\u001B[39;00m \u001B[38;5;21;01mtyping\u001B[39;00m \u001B[38;5;28;01mimport\u001B[39;00m (\n\u001B[1;32m     12\u001B[0m     Any,\n\u001B[1;32m     13\u001B[0m     Callable,\n\u001B[0;32m   (...)\u001B[0m\n\u001B[1;32m     20\u001B[0m     Union,\n\u001B[1;32m     21\u001B[0m )\n\u001B[0;32m---> 23\u001B[0m \u001B[38;5;28;01mimport\u001B[39;00m \u001B[38;5;21;01mcatalogue\u001B[39;00m\n\u001B[1;32m     25\u001B[0m __all__ \u001B[38;5;241m=\u001B[39m [\n\u001B[1;32m     26\u001B[0m     \u001B[38;5;124m'\u001B[39m\u001B[38;5;124mTypedRegistry\u001B[39m\u001B[38;5;124m'\u001B[39m,\n\u001B[1;32m     27\u001B[0m     \u001B[38;5;124m'\u001B[39m\u001B[38;5;124mcreate_registry\u001B[39m\u001B[38;5;124m'\u001B[39m,\n\u001B[0;32m   (...)\u001B[0m\n\u001B[1;32m     30\u001B[0m     \u001B[38;5;124m'\u001B[39m\u001B[38;5;124msave_registry\u001B[39m\u001B[38;5;124m'\u001B[39m,\n\u001B[1;32m     31\u001B[0m ]\n\u001B[1;32m     33\u001B[0m T \u001B[38;5;241m=\u001B[39m TypeVar(\u001B[38;5;124m'\u001B[39m\u001B[38;5;124mT\u001B[39m\u001B[38;5;124m'\u001B[39m)\n",
        "\u001B[0;31mModuleNotFoundError\u001B[0m: No module named 'catalogue'"
       ],
       "type": "baseError"
      }
     },
     "output_type": "display_data"
    }
   ],
   "source": [
    "MAX_TOKENS_PER_EXAMPLE = FT_API_args.context_length if FT_API_args.context_length is not None else 4096\n",
    "TARGET_EPOCHS = FT_API_args.training_duration if FT_API_args.training_duration is not None else 1 \n",
    "n_epochs = TARGET_EPOCHS\n",
    "\n",
    "print(f\"Dataset has ~{n_billing_tokens_in_dataset} tokens that will be charged for during training\")\n",
    "print(f\"By default, you'll train for {n_epochs} epochs on this dataset\")\n",
    "print(f\"By default, ~{n_epochs * n_billing_tokens_in_dataset} tokens will be used in training\")"
   ]
  },
  {
   "cell_type": "code",
   "execution_count": 0,
   "metadata": {
    "application/vnd.databricks.v1+cell": {
     "cellMetadata": {
      "byteLimit": 2048000,
      "rowLimit": 10000
     },
     "inputWidgets": {},
     "nuid": "e123669c-2f77-4d66-93eb-04efd546f39f",
     "showTitle": false,
     "title": ""
    }
   },
   "outputs": [],
   "source": []
  }
 ],
 "metadata": {
  "application/vnd.databricks.v1+notebook": {
   "dashboards": [],
   "environmentMetadata": {
    "base_environment": "",
    "client": "1"
   },
   "language": "python",
   "notebookMetadata": {
    "pythonIndentUnit": 2
   },
   "notebookName": "validate_and_tokenize_data (2)",
   "widgets": {}
  },
  "kernelspec": {
   "display_name": "Python 3 (ipykernel)",
   "language": "python",
   "name": "python3"
  },
  "language_info": {
   "codemirror_mode": {
    "name": "ipython",
    "version": 3
   },
   "file_extension": ".py",
   "mimetype": "text/x-python",
   "name": "python",
   "nbconvert_exporter": "python",
   "pygments_lexer": "ipython3",
   "version": "3.10.13"
  }
 },
 "nbformat": 4,
 "nbformat_minor": 0
}
